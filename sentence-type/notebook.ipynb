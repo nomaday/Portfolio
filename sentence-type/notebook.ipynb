{
 "cells": [
  {
   "attachments": {},
   "cell_type": "markdown",
   "id": "323f5038",
   "metadata": {
    "papermill": {
     "duration": 0.025045,
     "end_time": "2022-12-18T06:23:24.527245",
     "exception": false,
     "start_time": "2022-12-18T06:23:24.502200",
     "status": "completed"
    },
    "tags": []
   },
   "source": [
    "### t0-1_kobigbird-bert-base_bs_32_epoch_5_folds_10_lr_5e-05\n",
    "- Kaggle notebook 사용"
   ]
  },
  {
   "cell_type": "code",
   "execution_count": 2,
   "id": "25c1b52f",
   "metadata": {
    "execution": {
     "iopub.execute_input": "2022-12-18T06:23:24.706415Z",
     "iopub.status.busy": "2022-12-18T06:23:24.704753Z",
     "iopub.status.idle": "2022-12-18T06:23:25.844410Z",
     "shell.execute_reply": "2022-12-18T06:23:25.843260Z"
    },
    "id": "DLyJJ9forr81",
    "outputId": "3f6a6909-d1bb-4b70-f56a-fa2cc77fd03c",
    "papermill": {
     "duration": 1.16824,
     "end_time": "2022-12-18T06:23:25.846887",
     "exception": false,
     "start_time": "2022-12-18T06:23:24.678647",
     "status": "completed"
    },
    "tags": []
   },
   "outputs": [
    {
     "name": "stdout",
     "output_type": "stream",
     "text": [
      "Sun Dec 18 06:23:25 2022       \r\n",
      "+-----------------------------------------------------------------------------+\r\n",
      "| NVIDIA-SMI 470.82.01    Driver Version: 470.82.01    CUDA Version: 11.4     |\r\n",
      "|-------------------------------+----------------------+----------------------+\r\n",
      "| GPU  Name        Persistence-M| Bus-Id        Disp.A | Volatile Uncorr. ECC |\r\n",
      "| Fan  Temp  Perf  Pwr:Usage/Cap|         Memory-Usage | GPU-Util  Compute M. |\r\n",
      "|                               |                      |               MIG M. |\r\n",
      "|===============================+======================+======================|\r\n",
      "|   0  Tesla T4            Off  | 00000000:00:04.0 Off |                    0 |\r\n",
      "| N/A   50C    P8    10W /  70W |      0MiB / 15109MiB |      0%      Default |\r\n",
      "|                               |                      |                  N/A |\r\n",
      "+-------------------------------+----------------------+----------------------+\r\n",
      "|   1  Tesla T4            Off  | 00000000:00:05.0 Off |                    0 |\r\n",
      "| N/A   46C    P8     9W /  70W |      0MiB / 15109MiB |      0%      Default |\r\n",
      "|                               |                      |                  N/A |\r\n",
      "+-------------------------------+----------------------+----------------------+\r\n",
      "                                                                               \r\n",
      "+-----------------------------------------------------------------------------+\r\n",
      "| Processes:                                                                  |\r\n",
      "|  GPU   GI   CI        PID   Type   Process name                  GPU Memory |\r\n",
      "|        ID   ID                                                   Usage      |\r\n",
      "|=============================================================================|\r\n",
      "|  No running processes found                                                 |\r\n",
      "+-----------------------------------------------------------------------------+\r\n"
     ]
    }
   ],
   "source": [
    "!nvidia-smi"
   ]
  },
  {
   "cell_type": "markdown",
   "id": "951311b6",
   "metadata": {
    "id": "bZuuDJYgF08s",
    "papermill": {
     "duration": 0.022468,
     "end_time": "2022-12-18T06:23:25.892737",
     "exception": false,
     "start_time": "2022-12-18T06:23:25.870269",
     "status": "completed"
    },
    "tags": []
   },
   "source": [
    "## Import"
   ]
  },
  {
   "cell_type": "code",
   "execution_count": 3,
   "id": "746616cc",
   "metadata": {
    "execution": {
     "iopub.execute_input": "2022-12-18T06:23:25.941500Z",
     "iopub.status.busy": "2022-12-18T06:23:25.939968Z",
     "iopub.status.idle": "2022-12-18T06:23:48.344459Z",
     "shell.execute_reply": "2022-12-18T06:23:48.343146Z"
    },
    "id": "y0-q9ddqY7a4",
    "outputId": "a27d7bb2-3877-4249-cdc1-c12eaab4cb9c",
    "papermill": {
     "duration": 22.431156,
     "end_time": "2022-12-18T06:23:48.346946",
     "exception": false,
     "start_time": "2022-12-18T06:23:25.915790",
     "status": "completed"
    },
    "tags": []
   },
   "outputs": [],
   "source": [
    "# !pip install -qqq colorama\n",
    "# !pip install -qqq torchmetrics\n",
    "# !pip install -qqq iterative-stratification"
   ]
  },
  {
   "cell_type": "code",
   "execution_count": 4,
   "id": "31adbf7c",
   "metadata": {
    "execution": {
     "iopub.execute_input": "2022-12-18T06:23:48.394936Z",
     "iopub.status.busy": "2022-12-18T06:23:48.394577Z",
     "iopub.status.idle": "2022-12-18T06:23:48.399292Z",
     "shell.execute_reply": "2022-12-18T06:23:48.398235Z"
    },
    "id": "RRew5PmLIxHR",
    "outputId": "e7881848-05f1-45ee-a794-15dc27bc6b37",
    "papermill": {
     "duration": 0.030619,
     "end_time": "2022-12-18T06:23:48.401218",
     "exception": false,
     "start_time": "2022-12-18T06:23:48.370599",
     "status": "completed"
    },
    "tags": []
   },
   "outputs": [],
   "source": [
    "## Transformer 설치\n",
    "# only in Colab\n",
    "# !pip install -qqq --no-cache-dir transformers sentencepiece"
   ]
  },
  {
   "cell_type": "code",
   "execution_count": 5,
   "id": "6e6ad9d8",
   "metadata": {
    "execution": {
     "iopub.execute_input": "2022-12-18T06:23:48.450104Z",
     "iopub.status.busy": "2022-12-18T06:23:48.449249Z",
     "iopub.status.idle": "2022-12-18T06:23:56.366529Z",
     "shell.execute_reply": "2022-12-18T06:23:56.365170Z"
    },
    "id": "grgmj1EsZbim",
    "papermill": {
     "duration": 7.94461,
     "end_time": "2022-12-18T06:23:56.369530",
     "exception": false,
     "start_time": "2022-12-18T06:23:48.424920",
     "status": "completed"
    },
    "tags": []
   },
   "outputs": [],
   "source": [
    "import re\n",
    "import os\n",
    "import gc\n",
    "import time\n",
    "import random\n",
    "import string\n",
    "\n",
    "import copy\n",
    "from copy import deepcopy\n",
    "\n",
    "import torchmetrics\n",
    "\n",
    "from torchmetrics.classification import MulticlassAccuracy\n",
    "from torchmetrics.classification import MulticlassF1Score\n",
    "\n",
    "from torchmetrics.classification import BinaryF1Score\n",
    "from torchmetrics.classification import BinaryAccuracy\n",
    "\n",
    "import numpy as np\n",
    "import pandas as pd\n",
    "\n",
    "import matplotlib.pyplot as plt\n",
    "import seaborn as sns\n",
    "\n",
    "# Utils\n",
    "from tqdm import tqdm\n",
    "\n",
    "# For colored terminal text\n",
    "from colorama import Fore, Back, Style\n",
    "b_ = Fore.BLUE\n",
    "y_ = Fore.YELLOW\n",
    "sr_ = Style.RESET_ALL\n",
    "\n",
    "# Suppress warnings\n",
    "import warnings\n",
    "warnings.filterwarnings(\"ignore\")\n",
    "\n",
    "# For descriptive error messages\n",
    "os.environ['CUDA_LAUNCH_BLOCKING'] = \"1\""
   ]
  },
  {
   "cell_type": "markdown",
   "id": "61909845",
   "metadata": {
    "id": "Mi6LYICj2YNw",
    "papermill": {
     "duration": 0.025469,
     "end_time": "2022-12-18T06:23:56.418658",
     "exception": false,
     "start_time": "2022-12-18T06:23:56.393189",
     "status": "completed"
    },
    "tags": []
   },
   "source": [
    "## Config"
   ]
  },
  {
   "cell_type": "code",
   "execution_count": 6,
   "id": "f692ed67",
   "metadata": {
    "execution": {
     "iopub.execute_input": "2022-12-18T06:23:56.475173Z",
     "iopub.status.busy": "2022-12-18T06:23:56.474247Z",
     "iopub.status.idle": "2022-12-18T06:24:04.458170Z",
     "shell.execute_reply": "2022-12-18T06:24:04.457053Z"
    },
    "id": "HckcZs_CYvA5",
    "papermill": {
     "duration": 8.01469,
     "end_time": "2022-12-18T06:24:04.460784",
     "exception": false,
     "start_time": "2022-12-18T06:23:56.446094",
     "status": "completed"
    },
    "tags": []
   },
   "outputs": [],
   "source": [
    "## Pytorch Import\n",
    "import torch \n",
    "import torch.nn as nn\n",
    "\n",
    "from torch.optim import lr_scheduler\n",
    "from torch.utils.data import Dataset, DataLoader\n",
    "\n",
    "## Transforemr Import\n",
    "from transformers import AutoTokenizer, AutoModel, AdamW, AutoConfig, DataCollatorWithPadding"
   ]
  },
  {
   "cell_type": "code",
   "execution_count": 7,
   "id": "160ab5fc",
   "metadata": {
    "execution": {
     "iopub.execute_input": "2022-12-18T06:24:04.510106Z",
     "iopub.status.busy": "2022-12-18T06:24:04.509435Z",
     "iopub.status.idle": "2022-12-18T06:24:04.631521Z",
     "shell.execute_reply": "2022-12-18T06:24:04.630550Z"
    },
    "id": "ZcgNaNdWGg9U",
    "papermill": {
     "duration": 0.149284,
     "end_time": "2022-12-18T06:24:04.634258",
     "exception": false,
     "start_time": "2022-12-18T06:24:04.484974",
     "status": "completed"
    },
    "tags": []
   },
   "outputs": [],
   "source": [
    "config ={\n",
    "    'testnum' : 't0-1',\n",
    "    #'dsinfo' : 'org_train',\n",
    "    'model': 'monologg/kobigbird-bert-base', #\"microsoft/deberta-v3-base\",\n",
    "    'learning_rate': 5e-5, \n",
    "    'seed': 2022,\n",
    "    'n_folds' : 10,\n",
    "    'n_epochs': 5,\n",
    "    \"train_batch_size\": 32, #16, \n",
    "    \"valid_batch_size\": 32, #16, \n",
    "    \"max_length\": 128,\n",
    "    \"scheduler\": 'CosineAnnealingLR', #'CosineAnnealingWarmRestarts', #'CosineAnnealingLR',\n",
    "    \"min_lr\": 1e-6,\n",
    "    \"T_max\": 500,\n",
    "    \"weight_decay\": 1e-6,\n",
    "    \"n_accumulate\": 1,\n",
    "    'target_cols': ['type', 'pn', 'time', 'sure'],\n",
    "    \"device\": torch.device(\"cuda:0\" if torch.cuda.is_available() else \"cpu\"),\n",
    "}"
   ]
  },
  {
   "cell_type": "markdown",
   "id": "6c390c86",
   "metadata": {
    "papermill": {
     "duration": 0.023995,
     "end_time": "2022-12-18T06:24:04.683040",
     "exception": false,
     "start_time": "2022-12-18T06:24:04.659045",
     "status": "completed"
    },
    "tags": []
   },
   "source": [
    "## 저장 폴더 생성"
   ]
  },
  {
   "cell_type": "code",
   "execution_count": 8,
   "id": "8fe24631",
   "metadata": {
    "execution": {
     "iopub.execute_input": "2022-12-18T06:24:04.732091Z",
     "iopub.status.busy": "2022-12-18T06:24:04.731449Z",
     "iopub.status.idle": "2022-12-18T06:24:04.740473Z",
     "shell.execute_reply": "2022-12-18T06:24:04.739320Z"
    },
    "papermill": {
     "duration": 0.0363,
     "end_time": "2022-12-18T06:24:04.743397",
     "exception": false,
     "start_time": "2022-12-18T06:24:04.707097",
     "status": "completed"
    },
    "tags": []
   },
   "outputs": [
    {
     "name": "stdout",
     "output_type": "stream",
     "text": [
      "./results/20221218_152404_t0-1\n"
     ]
    }
   ],
   "source": [
    "from datetime import datetime, timezone, timedelta\n",
    "# 시간 고유값 \n",
    "PROJECT_DIR = './'\n",
    "\n",
    "os.chdir(PROJECT_DIR)\n",
    "kst = timezone(timedelta(hours=9))        \n",
    "train_serial = datetime.now(tz=kst).strftime(\"%Y%m%d_%H%M%S\")\n",
    "\n",
    "\n",
    "# 기록 경로\n",
    "RECORDER_DIR = os.path.join(PROJECT_DIR, 'results', train_serial + '_' + config['testnum'])\n",
    "# 현재 시간 기준 폴더 생성\n",
    "os.makedirs(RECORDER_DIR, exist_ok=True)  \n",
    "\n",
    "print(RECORDER_DIR)"
   ]
  },
  {
   "cell_type": "code",
   "execution_count": 9,
   "id": "f751aaff",
   "metadata": {
    "execution": {
     "iopub.execute_input": "2022-12-18T06:24:04.791303Z",
     "iopub.status.busy": "2022-12-18T06:24:04.790987Z",
     "iopub.status.idle": "2022-12-18T06:24:04.797600Z",
     "shell.execute_reply": "2022-12-18T06:24:04.796693Z"
    },
    "papermill": {
     "duration": 0.033364,
     "end_time": "2022-12-18T06:24:04.799866",
     "exception": false,
     "start_time": "2022-12-18T06:24:04.766502",
     "status": "completed"
    },
    "tags": []
   },
   "outputs": [
    {
     "data": {
      "text/plain": [
       "('./results/20221218_152404_t0-1/', './results/20221218_152404_t0-1/')"
      ]
     },
     "execution_count": 9,
     "metadata": {},
     "output_type": "execute_result"
    }
   ],
   "source": [
    "data_path = '/kaggle/input/dacon-sentence-classification/'\n",
    "\n",
    "model_save =  RECORDER_DIR +'/'\n",
    "sub_path = RECORDER_DIR +'/'\n",
    "\n",
    "model_save, sub_path"
   ]
  },
  {
   "attachments": {},
   "cell_type": "markdown",
   "id": "60014bdc",
   "metadata": {
    "id": "kaqRgnHX2RDO",
    "papermill": {
     "duration": 0.023597,
     "end_time": "2022-12-18T06:24:04.846683",
     "exception": false,
     "start_time": "2022-12-18T06:24:04.823086",
     "status": "completed"
    },
    "tags": []
   },
   "source": [
    "## Set Seed"
   ]
  },
  {
   "cell_type": "code",
   "execution_count": 10,
   "id": "db089eab",
   "metadata": {
    "execution": {
     "iopub.execute_input": "2022-12-18T06:24:04.894809Z",
     "iopub.status.busy": "2022-12-18T06:24:04.893880Z",
     "iopub.status.idle": "2022-12-18T06:24:04.904536Z",
     "shell.execute_reply": "2022-12-18T06:24:04.903674Z"
    },
    "id": "P_LzgY3V2Qh1",
    "papermill": {
     "duration": 0.036935,
     "end_time": "2022-12-18T06:24:04.906595",
     "exception": false,
     "start_time": "2022-12-18T06:24:04.869660",
     "status": "completed"
    },
    "tags": []
   },
   "outputs": [],
   "source": [
    "def set_seed(seed=42):\n",
    "    '''Sets the seed of the entire notebook so results are the same every time we run.\n",
    "    This is for REPRODUCIBILITY.'''\n",
    "    np.random.seed(seed)\n",
    "    torch.manual_seed(seed)\n",
    "    torch.cuda.manual_seed(seed)\n",
    "    # When running on the CuDNN backend, two further options must be set\n",
    "    torch.backends.cudnn.deterministic = True\n",
    "    torch.backends.cudnn.benchmark = False\n",
    "    # Set a fixed value for the hash seed\n",
    "    os.environ['PYTHONHASHSEED'] = str(seed)\n",
    "    \n",
    "set_seed(config['seed'])"
   ]
  },
  {
   "cell_type": "markdown",
   "id": "cce4df5f",
   "metadata": {
    "id": "efbe5W3qZGEv",
    "papermill": {
     "duration": 0.023464,
     "end_time": "2022-12-18T06:24:04.953073",
     "exception": false,
     "start_time": "2022-12-18T06:24:04.929609",
     "status": "completed"
    },
    "tags": []
   },
   "source": [
    "## Data"
   ]
  },
  {
   "cell_type": "code",
   "execution_count": 11,
   "id": "6906cbf8",
   "metadata": {
    "execution": {
     "iopub.execute_input": "2022-12-18T06:24:05.001243Z",
     "iopub.status.busy": "2022-12-18T06:24:05.000415Z",
     "iopub.status.idle": "2022-12-18T06:24:05.214046Z",
     "shell.execute_reply": "2022-12-18T06:24:05.213035Z"
    },
    "id": "p5gpC1XZQm_u",
    "papermill": {
     "duration": 0.240193,
     "end_time": "2022-12-18T06:24:05.216478",
     "exception": false,
     "start_time": "2022-12-18T06:24:04.976285",
     "status": "completed"
    },
    "tags": []
   },
   "outputs": [],
   "source": [
    "train = pd.read_csv(data_path + \"train.csv\")\n",
    "test = pd.read_csv(data_path + \"test.csv\")\n",
    "ss = pd.read_csv(data_path + \"sample_submission.csv\")"
   ]
  },
  {
   "cell_type": "code",
   "execution_count": 12,
   "id": "29850104",
   "metadata": {
    "execution": {
     "iopub.execute_input": "2022-12-18T06:24:05.269039Z",
     "iopub.status.busy": "2022-12-18T06:24:05.268055Z",
     "iopub.status.idle": "2022-12-18T06:24:05.292975Z",
     "shell.execute_reply": "2022-12-18T06:24:05.291073Z"
    },
    "id": "Bh7XhoM2Zaoi",
    "outputId": "4b45aca5-d868-4dfd-edc5-e08be27e7c36",
    "papermill": {
     "duration": 0.054,
     "end_time": "2022-12-18T06:24:05.295987",
     "exception": false,
     "start_time": "2022-12-18T06:24:05.241987",
     "status": "completed"
    },
    "tags": []
   },
   "outputs": [
    {
     "name": "stdout",
     "output_type": "stream",
     "text": [
      "Train Shape:  (16541, 7) Test Shape:  (7090, 2)\n"
     ]
    },
    {
     "data": {
      "text/html": [
       "<div>\n",
       "<style scoped>\n",
       "    .dataframe tbody tr th:only-of-type {\n",
       "        vertical-align: middle;\n",
       "    }\n",
       "\n",
       "    .dataframe tbody tr th {\n",
       "        vertical-align: top;\n",
       "    }\n",
       "\n",
       "    .dataframe thead th {\n",
       "        text-align: right;\n",
       "    }\n",
       "</style>\n",
       "<table border=\"1\" class=\"dataframe\">\n",
       "  <thead>\n",
       "    <tr style=\"text-align: right;\">\n",
       "      <th></th>\n",
       "      <th>ID</th>\n",
       "      <th>문장</th>\n",
       "      <th>유형</th>\n",
       "      <th>극성</th>\n",
       "      <th>시제</th>\n",
       "      <th>확실성</th>\n",
       "      <th>label</th>\n",
       "    </tr>\n",
       "  </thead>\n",
       "  <tbody>\n",
       "    <tr>\n",
       "      <th>0</th>\n",
       "      <td>TRAIN_00000</td>\n",
       "      <td>0.75%포인트 금리 인상은 1994년 이후 28년 만에 처음이다.</td>\n",
       "      <td>사실형</td>\n",
       "      <td>긍정</td>\n",
       "      <td>현재</td>\n",
       "      <td>확실</td>\n",
       "      <td>사실형-긍정-현재-확실</td>\n",
       "    </tr>\n",
       "    <tr>\n",
       "      <th>1</th>\n",
       "      <td>TRAIN_00001</td>\n",
       "      <td>이어 ＂앞으로 전문가들과 함께 4주 단위로 상황을 재평가할 예정＂이라며 ＂그 이전이...</td>\n",
       "      <td>사실형</td>\n",
       "      <td>긍정</td>\n",
       "      <td>과거</td>\n",
       "      <td>확실</td>\n",
       "      <td>사실형-긍정-과거-확실</td>\n",
       "    </tr>\n",
       "    <tr>\n",
       "      <th>2</th>\n",
       "      <td>TRAIN_00002</td>\n",
       "      <td>정부가 고유가 대응을 위해 7월부터 연말까지 유류세 인하 폭을 30%에서 37%까지...</td>\n",
       "      <td>사실형</td>\n",
       "      <td>긍정</td>\n",
       "      <td>미래</td>\n",
       "      <td>확실</td>\n",
       "      <td>사실형-긍정-미래-확실</td>\n",
       "    </tr>\n",
       "    <tr>\n",
       "      <th>3</th>\n",
       "      <td>TRAIN_00003</td>\n",
       "      <td>서울시는 올해 3월 즉시 견인 유예시간 60분을 제공하겠다고 밝혔지만, 하루 만에 ...</td>\n",
       "      <td>사실형</td>\n",
       "      <td>긍정</td>\n",
       "      <td>과거</td>\n",
       "      <td>확실</td>\n",
       "      <td>사실형-긍정-과거-확실</td>\n",
       "    </tr>\n",
       "    <tr>\n",
       "      <th>4</th>\n",
       "      <td>TRAIN_00004</td>\n",
       "      <td>익사한 자는 사다리에 태워 거꾸로 놓고 소금으로 코를 막아 가득 채운다.</td>\n",
       "      <td>사실형</td>\n",
       "      <td>긍정</td>\n",
       "      <td>현재</td>\n",
       "      <td>확실</td>\n",
       "      <td>사실형-긍정-현재-확실</td>\n",
       "    </tr>\n",
       "  </tbody>\n",
       "</table>\n",
       "</div>"
      ],
      "text/plain": [
       "            ID                                                 문장   유형  극성  \\\n",
       "0  TRAIN_00000              0.75%포인트 금리 인상은 1994년 이후 28년 만에 처음이다.  사실형  긍정   \n",
       "1  TRAIN_00001  이어 ＂앞으로 전문가들과 함께 4주 단위로 상황을 재평가할 예정＂이라며 ＂그 이전이...  사실형  긍정   \n",
       "2  TRAIN_00002  정부가 고유가 대응을 위해 7월부터 연말까지 유류세 인하 폭을 30%에서 37%까지...  사실형  긍정   \n",
       "3  TRAIN_00003  서울시는 올해 3월 즉시 견인 유예시간 60분을 제공하겠다고 밝혔지만, 하루 만에 ...  사실형  긍정   \n",
       "4  TRAIN_00004           익사한 자는 사다리에 태워 거꾸로 놓고 소금으로 코를 막아 가득 채운다.  사실형  긍정   \n",
       "\n",
       "   시제 확실성         label  \n",
       "0  현재  확실  사실형-긍정-현재-확실  \n",
       "1  과거  확실  사실형-긍정-과거-확실  \n",
       "2  미래  확실  사실형-긍정-미래-확실  \n",
       "3  과거  확실  사실형-긍정-과거-확실  \n",
       "4  현재  확실  사실형-긍정-현재-확실  "
      ]
     },
     "execution_count": 12,
     "metadata": {},
     "output_type": "execute_result"
    }
   ],
   "source": [
    "print(\"Train Shape: \", train.shape, \"Test Shape: \", test.shape)\n",
    "train.head()"
   ]
  },
  {
   "cell_type": "code",
   "execution_count": 13,
   "id": "61c8bd5f",
   "metadata": {
    "execution": {
     "iopub.execute_input": "2022-12-18T06:24:05.349968Z",
     "iopub.status.busy": "2022-12-18T06:24:05.349240Z",
     "iopub.status.idle": "2022-12-18T06:24:05.362574Z",
     "shell.execute_reply": "2022-12-18T06:24:05.361511Z"
    },
    "id": "6CNhI_nLA4Zy",
    "outputId": "3e192303-3ee5-4c29-a380-85bbb6331fac",
    "papermill": {
     "duration": 0.03991,
     "end_time": "2022-12-18T06:24:05.364679",
     "exception": false,
     "start_time": "2022-12-18T06:24:05.324769",
     "status": "completed"
    },
    "tags": []
   },
   "outputs": [
    {
     "data": {
      "text/plain": [
       "array(['0.75%포인트 금리 인상은 1994년 이후 28년 만에 처음이다.',\n",
       "       '이어 ＂앞으로 전문가들과 함께 4주 단위로 상황을 재평가할 예정＂이라며 ＂그 이전이라도 방역 지표가 기준을 충족하면 확진자 격리의무 조정 여부를 검토할 것＂이라고 전했다.',\n",
       "       '정부가 고유가 대응을 위해 7월부터 연말까지 유류세 인하 폭을 30%에서 37%까지 확대한다.'],\n",
       "      dtype=object)"
      ]
     },
     "execution_count": 13,
     "metadata": {},
     "output_type": "execute_result"
    }
   ],
   "source": [
    "train.문장.values[:3]"
   ]
  },
  {
   "cell_type": "markdown",
   "id": "643af782",
   "metadata": {
    "papermill": {
     "duration": 0.024064,
     "end_time": "2022-12-18T06:24:05.413071",
     "exception": false,
     "start_time": "2022-12-18T06:24:05.389007",
     "status": "completed"
    },
    "tags": []
   },
   "source": [
    "## Column Rename"
   ]
  },
  {
   "cell_type": "code",
   "execution_count": 14,
   "id": "af28dee4",
   "metadata": {
    "execution": {
     "iopub.execute_input": "2022-12-18T06:24:05.464524Z",
     "iopub.status.busy": "2022-12-18T06:24:05.463027Z",
     "iopub.status.idle": "2022-12-18T06:24:05.479963Z",
     "shell.execute_reply": "2022-12-18T06:24:05.479078Z"
    },
    "papermill": {
     "duration": 0.044633,
     "end_time": "2022-12-18T06:24:05.482300",
     "exception": false,
     "start_time": "2022-12-18T06:24:05.437667",
     "status": "completed"
    },
    "tags": []
   },
   "outputs": [
    {
     "data": {
      "text/html": [
       "<div>\n",
       "<style scoped>\n",
       "    .dataframe tbody tr th:only-of-type {\n",
       "        vertical-align: middle;\n",
       "    }\n",
       "\n",
       "    .dataframe tbody tr th {\n",
       "        vertical-align: top;\n",
       "    }\n",
       "\n",
       "    .dataframe thead th {\n",
       "        text-align: right;\n",
       "    }\n",
       "</style>\n",
       "<table border=\"1\" class=\"dataframe\">\n",
       "  <thead>\n",
       "    <tr style=\"text-align: right;\">\n",
       "      <th></th>\n",
       "      <th>ID</th>\n",
       "      <th>new_sentence</th>\n",
       "      <th>유형</th>\n",
       "      <th>극성</th>\n",
       "      <th>시제</th>\n",
       "      <th>확실성</th>\n",
       "      <th>label</th>\n",
       "    </tr>\n",
       "  </thead>\n",
       "  <tbody>\n",
       "    <tr>\n",
       "      <th>0</th>\n",
       "      <td>TRAIN_00000</td>\n",
       "      <td>0.75%포인트 금리 인상은 1994년 이후 28년 만에 처음이다.</td>\n",
       "      <td>사실형</td>\n",
       "      <td>긍정</td>\n",
       "      <td>현재</td>\n",
       "      <td>확실</td>\n",
       "      <td>사실형-긍정-현재-확실</td>\n",
       "    </tr>\n",
       "    <tr>\n",
       "      <th>1</th>\n",
       "      <td>TRAIN_00001</td>\n",
       "      <td>이어 ＂앞으로 전문가들과 함께 4주 단위로 상황을 재평가할 예정＂이라며 ＂그 이전이...</td>\n",
       "      <td>사실형</td>\n",
       "      <td>긍정</td>\n",
       "      <td>과거</td>\n",
       "      <td>확실</td>\n",
       "      <td>사실형-긍정-과거-확실</td>\n",
       "    </tr>\n",
       "    <tr>\n",
       "      <th>2</th>\n",
       "      <td>TRAIN_00002</td>\n",
       "      <td>정부가 고유가 대응을 위해 7월부터 연말까지 유류세 인하 폭을 30%에서 37%까지...</td>\n",
       "      <td>사실형</td>\n",
       "      <td>긍정</td>\n",
       "      <td>미래</td>\n",
       "      <td>확실</td>\n",
       "      <td>사실형-긍정-미래-확실</td>\n",
       "    </tr>\n",
       "    <tr>\n",
       "      <th>3</th>\n",
       "      <td>TRAIN_00003</td>\n",
       "      <td>서울시는 올해 3월 즉시 견인 유예시간 60분을 제공하겠다고 밝혔지만, 하루 만에 ...</td>\n",
       "      <td>사실형</td>\n",
       "      <td>긍정</td>\n",
       "      <td>과거</td>\n",
       "      <td>확실</td>\n",
       "      <td>사실형-긍정-과거-확실</td>\n",
       "    </tr>\n",
       "    <tr>\n",
       "      <th>4</th>\n",
       "      <td>TRAIN_00004</td>\n",
       "      <td>익사한 자는 사다리에 태워 거꾸로 놓고 소금으로 코를 막아 가득 채운다.</td>\n",
       "      <td>사실형</td>\n",
       "      <td>긍정</td>\n",
       "      <td>현재</td>\n",
       "      <td>확실</td>\n",
       "      <td>사실형-긍정-현재-확실</td>\n",
       "    </tr>\n",
       "  </tbody>\n",
       "</table>\n",
       "</div>"
      ],
      "text/plain": [
       "            ID                                       new_sentence   유형  극성  \\\n",
       "0  TRAIN_00000              0.75%포인트 금리 인상은 1994년 이후 28년 만에 처음이다.  사실형  긍정   \n",
       "1  TRAIN_00001  이어 ＂앞으로 전문가들과 함께 4주 단위로 상황을 재평가할 예정＂이라며 ＂그 이전이...  사실형  긍정   \n",
       "2  TRAIN_00002  정부가 고유가 대응을 위해 7월부터 연말까지 유류세 인하 폭을 30%에서 37%까지...  사실형  긍정   \n",
       "3  TRAIN_00003  서울시는 올해 3월 즉시 견인 유예시간 60분을 제공하겠다고 밝혔지만, 하루 만에 ...  사실형  긍정   \n",
       "4  TRAIN_00004           익사한 자는 사다리에 태워 거꾸로 놓고 소금으로 코를 막아 가득 채운다.  사실형  긍정   \n",
       "\n",
       "   시제 확실성         label  \n",
       "0  현재  확실  사실형-긍정-현재-확실  \n",
       "1  과거  확실  사실형-긍정-과거-확실  \n",
       "2  미래  확실  사실형-긍정-미래-확실  \n",
       "3  과거  확실  사실형-긍정-과거-확실  \n",
       "4  현재  확실  사실형-긍정-현재-확실  "
      ]
     },
     "execution_count": 14,
     "metadata": {},
     "output_type": "execute_result"
    }
   ],
   "source": [
    "# train\n",
    "train.rename(columns={'문장':'new_sentence'}, inplace = True)\n",
    "train.head()"
   ]
  },
  {
   "cell_type": "code",
   "execution_count": 15,
   "id": "c2664086",
   "metadata": {
    "execution": {
     "iopub.execute_input": "2022-12-18T06:24:05.531360Z",
     "iopub.status.busy": "2022-12-18T06:24:05.531077Z",
     "iopub.status.idle": "2022-12-18T06:24:05.543208Z",
     "shell.execute_reply": "2022-12-18T06:24:05.542136Z"
    },
    "papermill": {
     "duration": 0.040061,
     "end_time": "2022-12-18T06:24:05.546369",
     "exception": false,
     "start_time": "2022-12-18T06:24:05.506308",
     "status": "completed"
    },
    "tags": []
   },
   "outputs": [
    {
     "data": {
      "text/html": [
       "<div>\n",
       "<style scoped>\n",
       "    .dataframe tbody tr th:only-of-type {\n",
       "        vertical-align: middle;\n",
       "    }\n",
       "\n",
       "    .dataframe tbody tr th {\n",
       "        vertical-align: top;\n",
       "    }\n",
       "\n",
       "    .dataframe thead th {\n",
       "        text-align: right;\n",
       "    }\n",
       "</style>\n",
       "<table border=\"1\" class=\"dataframe\">\n",
       "  <thead>\n",
       "    <tr style=\"text-align: right;\">\n",
       "      <th></th>\n",
       "      <th>ID</th>\n",
       "      <th>new_sentence</th>\n",
       "    </tr>\n",
       "  </thead>\n",
       "  <tbody>\n",
       "    <tr>\n",
       "      <th>0</th>\n",
       "      <td>TEST_0000</td>\n",
       "      <td>장욱진의 ＇가족＇은 허물 없는 가족애를, 처음 공개되는 정약용의 ＇정효자전＇과 ＇정...</td>\n",
       "    </tr>\n",
       "    <tr>\n",
       "      <th>1</th>\n",
       "      <td>TEST_0001</td>\n",
       "      <td>조지 W 부시, 버락 오바마 전 대통령도 전쟁 위험 때문에 버린 카드다.</td>\n",
       "    </tr>\n",
       "    <tr>\n",
       "      <th>2</th>\n",
       "      <td>TEST_0002</td>\n",
       "      <td>지난해 1분기 128억원이었던 영업이익이 올해 1분기 505억원으로 급증했다.</td>\n",
       "    </tr>\n",
       "    <tr>\n",
       "      <th>3</th>\n",
       "      <td>TEST_0003</td>\n",
       "      <td>수상 작가와 맺으려던 계약서 내용 가운데 일부가 ＇독소 조항＇으로 해석돼 수정을 요...</td>\n",
       "    </tr>\n",
       "    <tr>\n",
       "      <th>4</th>\n",
       "      <td>TEST_0004</td>\n",
       "      <td>결국 최근 KDB산업은행은 대규모 손실 위기에 닥친 에어부산에 140억원 금융지원을...</td>\n",
       "    </tr>\n",
       "  </tbody>\n",
       "</table>\n",
       "</div>"
      ],
      "text/plain": [
       "          ID                                       new_sentence\n",
       "0  TEST_0000  장욱진의 ＇가족＇은 허물 없는 가족애를, 처음 공개되는 정약용의 ＇정효자전＇과 ＇정...\n",
       "1  TEST_0001           조지 W 부시, 버락 오바마 전 대통령도 전쟁 위험 때문에 버린 카드다.\n",
       "2  TEST_0002        지난해 1분기 128억원이었던 영업이익이 올해 1분기 505억원으로 급증했다.\n",
       "3  TEST_0003  수상 작가와 맺으려던 계약서 내용 가운데 일부가 ＇독소 조항＇으로 해석돼 수정을 요...\n",
       "4  TEST_0004  결국 최근 KDB산업은행은 대규모 손실 위기에 닥친 에어부산에 140억원 금융지원을..."
      ]
     },
     "execution_count": 15,
     "metadata": {},
     "output_type": "execute_result"
    }
   ],
   "source": [
    "# test\n",
    "test.rename(columns={'문장':'new_sentence'}, inplace = True)\n",
    "test.head()"
   ]
  },
  {
   "cell_type": "code",
   "execution_count": 16,
   "id": "6079ee20",
   "metadata": {
    "execution": {
     "iopub.execute_input": "2022-12-18T06:24:05.596847Z",
     "iopub.status.busy": "2022-12-18T06:24:05.596485Z",
     "iopub.status.idle": "2022-12-18T06:24:05.604995Z",
     "shell.execute_reply": "2022-12-18T06:24:05.604175Z"
    },
    "id": "-GvZdY0XdUND",
    "outputId": "5f9bdf0a-fbeb-4fba-ba01-d8b143f82b85",
    "papermill": {
     "duration": 0.036299,
     "end_time": "2022-12-18T06:24:05.606985",
     "exception": false,
     "start_time": "2022-12-18T06:24:05.570686",
     "status": "completed"
    },
    "tags": []
   },
   "outputs": [
    {
     "data": {
      "text/plain": [
       "array(['0.75%포인트 금리 인상은 1994년 이후 28년 만에 처음이다.',\n",
       "       '이어 ＂앞으로 전문가들과 함께 4주 단위로 상황을 재평가할 예정＂이라며 ＂그 이전이라도 방역 지표가 기준을 충족하면 확진자 격리의무 조정 여부를 검토할 것＂이라고 전했다.',\n",
       "       '정부가 고유가 대응을 위해 7월부터 연말까지 유류세 인하 폭을 30%에서 37%까지 확대한다.'],\n",
       "      dtype=object)"
      ]
     },
     "execution_count": 16,
     "metadata": {},
     "output_type": "execute_result"
    }
   ],
   "source": [
    "train.new_sentence.values[:3]"
   ]
  },
  {
   "cell_type": "code",
   "execution_count": 17,
   "id": "d77c8f9b",
   "metadata": {
    "execution": {
     "iopub.execute_input": "2022-12-18T06:24:05.659502Z",
     "iopub.status.busy": "2022-12-18T06:24:05.659224Z",
     "iopub.status.idle": "2022-12-18T06:24:05.665137Z",
     "shell.execute_reply": "2022-12-18T06:24:05.664182Z"
    },
    "id": "URHjlbJhaZEa",
    "outputId": "1873ee26-beee-4ba0-e994-46b4733d92a8",
    "papermill": {
     "duration": 0.033909,
     "end_time": "2022-12-18T06:24:05.667104",
     "exception": false,
     "start_time": "2022-12-18T06:24:05.633195",
     "status": "completed"
    },
    "tags": []
   },
   "outputs": [
    {
     "data": {
      "text/plain": [
       "Index(['ID', 'new_sentence', '유형', '극성', '시제', '확실성', 'label'], dtype='object')"
      ]
     },
     "execution_count": 17,
     "metadata": {},
     "output_type": "execute_result"
    }
   ],
   "source": [
    "train.columns"
   ]
  },
  {
   "cell_type": "code",
   "execution_count": 18,
   "id": "d6b84d7e",
   "metadata": {
    "execution": {
     "iopub.execute_input": "2022-12-18T06:24:05.718590Z",
     "iopub.status.busy": "2022-12-18T06:24:05.717977Z",
     "iopub.status.idle": "2022-12-18T06:24:05.742692Z",
     "shell.execute_reply": "2022-12-18T06:24:05.741503Z"
    },
    "id": "FuZdoa2ewTRh",
    "outputId": "a6676dea-7d6a-4633-f477-143cea76c62f",
    "papermill": {
     "duration": 0.053487,
     "end_time": "2022-12-18T06:24:05.746050",
     "exception": false,
     "start_time": "2022-12-18T06:24:05.692563",
     "status": "completed"
    },
    "tags": []
   },
   "outputs": [
    {
     "name": "stdout",
     "output_type": "stream",
     "text": [
      "<class 'pandas.core.frame.DataFrame'>\n",
      "RangeIndex: 16541 entries, 0 to 16540\n",
      "Data columns (total 7 columns):\n",
      " #   Column        Non-Null Count  Dtype \n",
      "---  ------        --------------  ----- \n",
      " 0   ID            16541 non-null  object\n",
      " 1   new_sentence  16541 non-null  object\n",
      " 2   유형            16541 non-null  object\n",
      " 3   극성            16541 non-null  object\n",
      " 4   시제            16541 non-null  object\n",
      " 5   확실성           16541 non-null  object\n",
      " 6   label         16541 non-null  object\n",
      "dtypes: object(7)\n",
      "memory usage: 904.7+ KB\n"
     ]
    }
   ],
   "source": [
    "train.info() # 결측치는 없어보인다."
   ]
  },
  {
   "cell_type": "markdown",
   "id": "c1f3763a",
   "metadata": {
    "id": "gPBOUf_-8Bt6",
    "papermill": {
     "duration": 0.024085,
     "end_time": "2022-12-18T06:24:05.796726",
     "exception": false,
     "start_time": "2022-12-18T06:24:05.772641",
     "status": "completed"
    },
    "tags": []
   },
   "source": [
    "## Target Categorical Encoding "
   ]
  },
  {
   "cell_type": "code",
   "execution_count": 19,
   "id": "4260d7e0",
   "metadata": {
    "execution": {
     "iopub.execute_input": "2022-12-18T06:24:05.848111Z",
     "iopub.status.busy": "2022-12-18T06:24:05.847826Z",
     "iopub.status.idle": "2022-12-18T06:24:05.862050Z",
     "shell.execute_reply": "2022-12-18T06:24:05.861209Z"
    },
    "id": "FGNMr2OA7nnX",
    "outputId": "cb90a84e-628a-4290-9c5a-a6c6f174d190",
    "papermill": {
     "duration": 0.042836,
     "end_time": "2022-12-18T06:24:05.864181",
     "exception": false,
     "start_time": "2022-12-18T06:24:05.821345",
     "status": "completed"
    },
    "tags": []
   },
   "outputs": [
    {
     "data": {
      "text/html": [
       "<div>\n",
       "<style scoped>\n",
       "    .dataframe tbody tr th:only-of-type {\n",
       "        vertical-align: middle;\n",
       "    }\n",
       "\n",
       "    .dataframe tbody tr th {\n",
       "        vertical-align: top;\n",
       "    }\n",
       "\n",
       "    .dataframe thead th {\n",
       "        text-align: right;\n",
       "    }\n",
       "</style>\n",
       "<table border=\"1\" class=\"dataframe\">\n",
       "  <thead>\n",
       "    <tr style=\"text-align: right;\">\n",
       "      <th></th>\n",
       "      <th>ID</th>\n",
       "      <th>new_sentence</th>\n",
       "      <th>유형</th>\n",
       "      <th>극성</th>\n",
       "      <th>시제</th>\n",
       "      <th>확실성</th>\n",
       "      <th>label</th>\n",
       "    </tr>\n",
       "  </thead>\n",
       "  <tbody>\n",
       "    <tr>\n",
       "      <th>0</th>\n",
       "      <td>TRAIN_00000</td>\n",
       "      <td>0.75%포인트 금리 인상은 1994년 이후 28년 만에 처음이다.</td>\n",
       "      <td>사실형</td>\n",
       "      <td>긍정</td>\n",
       "      <td>현재</td>\n",
       "      <td>확실</td>\n",
       "      <td>사실형-긍정-현재-확실</td>\n",
       "    </tr>\n",
       "    <tr>\n",
       "      <th>1</th>\n",
       "      <td>TRAIN_00001</td>\n",
       "      <td>이어 ＂앞으로 전문가들과 함께 4주 단위로 상황을 재평가할 예정＂이라며 ＂그 이전이...</td>\n",
       "      <td>사실형</td>\n",
       "      <td>긍정</td>\n",
       "      <td>과거</td>\n",
       "      <td>확실</td>\n",
       "      <td>사실형-긍정-과거-확실</td>\n",
       "    </tr>\n",
       "    <tr>\n",
       "      <th>2</th>\n",
       "      <td>TRAIN_00002</td>\n",
       "      <td>정부가 고유가 대응을 위해 7월부터 연말까지 유류세 인하 폭을 30%에서 37%까지...</td>\n",
       "      <td>사실형</td>\n",
       "      <td>긍정</td>\n",
       "      <td>미래</td>\n",
       "      <td>확실</td>\n",
       "      <td>사실형-긍정-미래-확실</td>\n",
       "    </tr>\n",
       "    <tr>\n",
       "      <th>3</th>\n",
       "      <td>TRAIN_00003</td>\n",
       "      <td>서울시는 올해 3월 즉시 견인 유예시간 60분을 제공하겠다고 밝혔지만, 하루 만에 ...</td>\n",
       "      <td>사실형</td>\n",
       "      <td>긍정</td>\n",
       "      <td>과거</td>\n",
       "      <td>확실</td>\n",
       "      <td>사실형-긍정-과거-확실</td>\n",
       "    </tr>\n",
       "    <tr>\n",
       "      <th>4</th>\n",
       "      <td>TRAIN_00004</td>\n",
       "      <td>익사한 자는 사다리에 태워 거꾸로 놓고 소금으로 코를 막아 가득 채운다.</td>\n",
       "      <td>사실형</td>\n",
       "      <td>긍정</td>\n",
       "      <td>현재</td>\n",
       "      <td>확실</td>\n",
       "      <td>사실형-긍정-현재-확실</td>\n",
       "    </tr>\n",
       "  </tbody>\n",
       "</table>\n",
       "</div>"
      ],
      "text/plain": [
       "            ID                                       new_sentence   유형  극성  \\\n",
       "0  TRAIN_00000              0.75%포인트 금리 인상은 1994년 이후 28년 만에 처음이다.  사실형  긍정   \n",
       "1  TRAIN_00001  이어 ＂앞으로 전문가들과 함께 4주 단위로 상황을 재평가할 예정＂이라며 ＂그 이전이...  사실형  긍정   \n",
       "2  TRAIN_00002  정부가 고유가 대응을 위해 7월부터 연말까지 유류세 인하 폭을 30%에서 37%까지...  사실형  긍정   \n",
       "3  TRAIN_00003  서울시는 올해 3월 즉시 견인 유예시간 60분을 제공하겠다고 밝혔지만, 하루 만에 ...  사실형  긍정   \n",
       "4  TRAIN_00004           익사한 자는 사다리에 태워 거꾸로 놓고 소금으로 코를 막아 가득 채운다.  사실형  긍정   \n",
       "\n",
       "   시제 확실성         label  \n",
       "0  현재  확실  사실형-긍정-현재-확실  \n",
       "1  과거  확실  사실형-긍정-과거-확실  \n",
       "2  미래  확실  사실형-긍정-미래-확실  \n",
       "3  과거  확실  사실형-긍정-과거-확실  \n",
       "4  현재  확실  사실형-긍정-현재-확실  "
      ]
     },
     "execution_count": 19,
     "metadata": {},
     "output_type": "execute_result"
    }
   ],
   "source": [
    "train.head()"
   ]
  },
  {
   "cell_type": "code",
   "execution_count": 20,
   "id": "5ef8d725",
   "metadata": {
    "execution": {
     "iopub.execute_input": "2022-12-18T06:24:05.914770Z",
     "iopub.status.busy": "2022-12-18T06:24:05.913962Z",
     "iopub.status.idle": "2022-12-18T06:24:05.920567Z",
     "shell.execute_reply": "2022-12-18T06:24:05.919585Z"
    },
    "id": "bvBJ8M65Aez9",
    "outputId": "5ff5bf80-29f5-4579-d5e3-7ccc65d238fc",
    "papermill": {
     "duration": 0.034045,
     "end_time": "2022-12-18T06:24:05.922541",
     "exception": false,
     "start_time": "2022-12-18T06:24:05.888496",
     "status": "completed"
    },
    "tags": []
   },
   "outputs": [
    {
     "data": {
      "text/plain": [
       "Index(['유형', '극성', '시제', '확실성'], dtype='object')"
      ]
     },
     "execution_count": 20,
     "metadata": {},
     "output_type": "execute_result"
    }
   ],
   "source": [
    "train.columns[2:-1]"
   ]
  },
  {
   "cell_type": "code",
   "execution_count": 21,
   "id": "b17144d2",
   "metadata": {
    "execution": {
     "iopub.execute_input": "2022-12-18T06:24:05.975035Z",
     "iopub.status.busy": "2022-12-18T06:24:05.974265Z",
     "iopub.status.idle": "2022-12-18T06:24:05.984172Z",
     "shell.execute_reply": "2022-12-18T06:24:05.982611Z"
    },
    "id": "r6o_kH_2AFGu",
    "outputId": "c7f66da7-16f9-4222-bc29-4dc383de713e",
    "papermill": {
     "duration": 0.038914,
     "end_time": "2022-12-18T06:24:05.986860",
     "exception": false,
     "start_time": "2022-12-18T06:24:05.947946",
     "status": "completed"
    },
    "tags": []
   },
   "outputs": [
    {
     "name": "stdout",
     "output_type": "stream",
     "text": [
      "유형:  ['사실형' '추론형' '예측형' '대화형']\n",
      "극성:  ['긍정' '부정' '미정']\n",
      "시제:  ['현재' '과거' '미래']\n"
     ]
    }
   ],
   "source": [
    "for target in train.columns[2:-2]:\n",
    "    print(f\"{target}: \", f\"{train[target].unique()}\")"
   ]
  },
  {
   "cell_type": "markdown",
   "id": "d73a9cd0",
   "metadata": {
    "id": "q_Cvsnd0fMLZ",
    "papermill": {
     "duration": 0.025512,
     "end_time": "2022-12-18T06:24:06.038424",
     "exception": false,
     "start_time": "2022-12-18T06:24:06.012912",
     "status": "completed"
    },
    "tags": []
   },
   "source": [
    "### 유형 -> type"
   ]
  },
  {
   "cell_type": "code",
   "execution_count": 22,
   "id": "22156a47",
   "metadata": {
    "execution": {
     "iopub.execute_input": "2022-12-18T06:24:06.090819Z",
     "iopub.status.busy": "2022-12-18T06:24:06.089954Z",
     "iopub.status.idle": "2022-12-18T06:24:06.099645Z",
     "shell.execute_reply": "2022-12-18T06:24:06.098100Z"
    },
    "id": "oWh7APslJc7I",
    "outputId": "d7d4940b-b76f-48ec-b824-7b0136b0b601",
    "papermill": {
     "duration": 0.038601,
     "end_time": "2022-12-18T06:24:06.102142",
     "exception": false,
     "start_time": "2022-12-18T06:24:06.063541",
     "status": "completed"
    },
    "tags": []
   },
   "outputs": [
    {
     "name": "stdout",
     "output_type": "stream",
     "text": [
      "유형\n"
     ]
    },
    {
     "data": {
      "text/plain": [
       "{'사실형': 0, '추론형': 1, '예측형': 2, '대화형': 3}"
      ]
     },
     "execution_count": 22,
     "metadata": {},
     "output_type": "execute_result"
    }
   ],
   "source": [
    "# 유형 라벨 인코딩\n",
    "print(\"유형\")\n",
    "target1_encode = {v: k for k, v in enumerate(train[\"유형\"].unique())}\n",
    "target1_encode"
   ]
  },
  {
   "cell_type": "code",
   "execution_count": 23,
   "id": "6875f827",
   "metadata": {
    "execution": {
     "iopub.execute_input": "2022-12-18T06:24:06.155602Z",
     "iopub.status.busy": "2022-12-18T06:24:06.154163Z",
     "iopub.status.idle": "2022-12-18T06:24:06.161099Z",
     "shell.execute_reply": "2022-12-18T06:24:06.160125Z"
    },
    "id": "yFbSPHip9jOF",
    "outputId": "1a9673bd-9fbb-41a4-dc61-e688a362b5ac",
    "papermill": {
     "duration": 0.035443,
     "end_time": "2022-12-18T06:24:06.163190",
     "exception": false,
     "start_time": "2022-12-18T06:24:06.127747",
     "status": "completed"
    },
    "tags": []
   },
   "outputs": [
    {
     "data": {
      "text/plain": [
       "{0: '사실형', 1: '추론형', 2: '예측형', 3: '대화형'}"
      ]
     },
     "execution_count": 23,
     "metadata": {},
     "output_type": "execute_result"
    }
   ],
   "source": [
    "target1_inverse = {v: k for k, v in target1_encode.items()}\n",
    "target1_inverse"
   ]
  },
  {
   "cell_type": "code",
   "execution_count": 24,
   "id": "ded9e5dd",
   "metadata": {
    "execution": {
     "iopub.execute_input": "2022-12-18T06:24:06.216444Z",
     "iopub.status.busy": "2022-12-18T06:24:06.214954Z",
     "iopub.status.idle": "2022-12-18T06:24:06.235180Z",
     "shell.execute_reply": "2022-12-18T06:24:06.234120Z"
    },
    "id": "SJtKVnX-9jLg",
    "outputId": "cdb9bf15-3b5e-419b-dbb0-8ec160bec30f",
    "papermill": {
     "duration": 0.048555,
     "end_time": "2022-12-18T06:24:06.237168",
     "exception": false,
     "start_time": "2022-12-18T06:24:06.188613",
     "status": "completed"
    },
    "tags": []
   },
   "outputs": [
    {
     "data": {
      "text/html": [
       "<div>\n",
       "<style scoped>\n",
       "    .dataframe tbody tr th:only-of-type {\n",
       "        vertical-align: middle;\n",
       "    }\n",
       "\n",
       "    .dataframe tbody tr th {\n",
       "        vertical-align: top;\n",
       "    }\n",
       "\n",
       "    .dataframe thead th {\n",
       "        text-align: right;\n",
       "    }\n",
       "</style>\n",
       "<table border=\"1\" class=\"dataframe\">\n",
       "  <thead>\n",
       "    <tr style=\"text-align: right;\">\n",
       "      <th></th>\n",
       "      <th>ID</th>\n",
       "      <th>new_sentence</th>\n",
       "      <th>유형</th>\n",
       "      <th>극성</th>\n",
       "      <th>시제</th>\n",
       "      <th>확실성</th>\n",
       "      <th>label</th>\n",
       "      <th>type</th>\n",
       "    </tr>\n",
       "  </thead>\n",
       "  <tbody>\n",
       "    <tr>\n",
       "      <th>0</th>\n",
       "      <td>TRAIN_00000</td>\n",
       "      <td>0.75%포인트 금리 인상은 1994년 이후 28년 만에 처음이다.</td>\n",
       "      <td>사실형</td>\n",
       "      <td>긍정</td>\n",
       "      <td>현재</td>\n",
       "      <td>확실</td>\n",
       "      <td>사실형-긍정-현재-확실</td>\n",
       "      <td>0</td>\n",
       "    </tr>\n",
       "    <tr>\n",
       "      <th>1</th>\n",
       "      <td>TRAIN_00001</td>\n",
       "      <td>이어 ＂앞으로 전문가들과 함께 4주 단위로 상황을 재평가할 예정＂이라며 ＂그 이전이...</td>\n",
       "      <td>사실형</td>\n",
       "      <td>긍정</td>\n",
       "      <td>과거</td>\n",
       "      <td>확실</td>\n",
       "      <td>사실형-긍정-과거-확실</td>\n",
       "      <td>0</td>\n",
       "    </tr>\n",
       "    <tr>\n",
       "      <th>2</th>\n",
       "      <td>TRAIN_00002</td>\n",
       "      <td>정부가 고유가 대응을 위해 7월부터 연말까지 유류세 인하 폭을 30%에서 37%까지...</td>\n",
       "      <td>사실형</td>\n",
       "      <td>긍정</td>\n",
       "      <td>미래</td>\n",
       "      <td>확실</td>\n",
       "      <td>사실형-긍정-미래-확실</td>\n",
       "      <td>0</td>\n",
       "    </tr>\n",
       "    <tr>\n",
       "      <th>3</th>\n",
       "      <td>TRAIN_00003</td>\n",
       "      <td>서울시는 올해 3월 즉시 견인 유예시간 60분을 제공하겠다고 밝혔지만, 하루 만에 ...</td>\n",
       "      <td>사실형</td>\n",
       "      <td>긍정</td>\n",
       "      <td>과거</td>\n",
       "      <td>확실</td>\n",
       "      <td>사실형-긍정-과거-확실</td>\n",
       "      <td>0</td>\n",
       "    </tr>\n",
       "    <tr>\n",
       "      <th>4</th>\n",
       "      <td>TRAIN_00004</td>\n",
       "      <td>익사한 자는 사다리에 태워 거꾸로 놓고 소금으로 코를 막아 가득 채운다.</td>\n",
       "      <td>사실형</td>\n",
       "      <td>긍정</td>\n",
       "      <td>현재</td>\n",
       "      <td>확실</td>\n",
       "      <td>사실형-긍정-현재-확실</td>\n",
       "      <td>0</td>\n",
       "    </tr>\n",
       "  </tbody>\n",
       "</table>\n",
       "</div>"
      ],
      "text/plain": [
       "            ID                                       new_sentence   유형  극성  \\\n",
       "0  TRAIN_00000              0.75%포인트 금리 인상은 1994년 이후 28년 만에 처음이다.  사실형  긍정   \n",
       "1  TRAIN_00001  이어 ＂앞으로 전문가들과 함께 4주 단위로 상황을 재평가할 예정＂이라며 ＂그 이전이...  사실형  긍정   \n",
       "2  TRAIN_00002  정부가 고유가 대응을 위해 7월부터 연말까지 유류세 인하 폭을 30%에서 37%까지...  사실형  긍정   \n",
       "3  TRAIN_00003  서울시는 올해 3월 즉시 견인 유예시간 60분을 제공하겠다고 밝혔지만, 하루 만에 ...  사실형  긍정   \n",
       "4  TRAIN_00004           익사한 자는 사다리에 태워 거꾸로 놓고 소금으로 코를 막아 가득 채운다.  사실형  긍정   \n",
       "\n",
       "   시제 확실성         label  type  \n",
       "0  현재  확실  사실형-긍정-현재-확실     0  \n",
       "1  과거  확실  사실형-긍정-과거-확실     0  \n",
       "2  미래  확실  사실형-긍정-미래-확실     0  \n",
       "3  과거  확실  사실형-긍정-과거-확실     0  \n",
       "4  현재  확실  사실형-긍정-현재-확실     0  "
      ]
     },
     "execution_count": 24,
     "metadata": {},
     "output_type": "execute_result"
    }
   ],
   "source": [
    "train['type'] = train[\"유형\"].apply(lambda x: target1_encode[x])\n",
    "train.head()"
   ]
  },
  {
   "cell_type": "code",
   "execution_count": 25,
   "id": "a9e332d2",
   "metadata": {
    "execution": {
     "iopub.execute_input": "2022-12-18T06:24:06.290881Z",
     "iopub.status.busy": "2022-12-18T06:24:06.290111Z",
     "iopub.status.idle": "2022-12-18T06:24:06.298438Z",
     "shell.execute_reply": "2022-12-18T06:24:06.297462Z"
    },
    "id": "vuvu4ZhJLN4R",
    "outputId": "29706242-2182-4363-fdfc-713c10d542cc",
    "papermill": {
     "duration": 0.037343,
     "end_time": "2022-12-18T06:24:06.300468",
     "exception": false,
     "start_time": "2022-12-18T06:24:06.263125",
     "status": "completed"
    },
    "tags": []
   },
   "outputs": [
    {
     "data": {
      "text/plain": [
       "사실형    13558\n",
       "추론형     2151\n",
       "대화형      575\n",
       "예측형      257\n",
       "Name: 유형, dtype: int64"
      ]
     },
     "execution_count": 25,
     "metadata": {},
     "output_type": "execute_result"
    }
   ],
   "source": [
    "train[\"유형\"].value_counts()"
   ]
  },
  {
   "cell_type": "code",
   "execution_count": 26,
   "id": "4f3d79b1",
   "metadata": {
    "execution": {
     "iopub.execute_input": "2022-12-18T06:24:06.354225Z",
     "iopub.status.busy": "2022-12-18T06:24:06.353696Z",
     "iopub.status.idle": "2022-12-18T06:24:06.361043Z",
     "shell.execute_reply": "2022-12-18T06:24:06.360200Z"
    },
    "id": "j_FsrsKqe-Lb",
    "outputId": "0faf788a-dcb1-400f-db86-b4ff45487fa3",
    "papermill": {
     "duration": 0.036614,
     "end_time": "2022-12-18T06:24:06.363109",
     "exception": false,
     "start_time": "2022-12-18T06:24:06.326495",
     "status": "completed"
    },
    "tags": []
   },
   "outputs": [
    {
     "data": {
      "text/plain": [
       "0    13558\n",
       "1     2151\n",
       "3      575\n",
       "2      257\n",
       "Name: type, dtype: int64"
      ]
     },
     "execution_count": 26,
     "metadata": {},
     "output_type": "execute_result"
    }
   ],
   "source": [
    "train[\"type\"].value_counts()"
   ]
  },
  {
   "cell_type": "markdown",
   "id": "53e45ed8",
   "metadata": {
    "id": "r8pdqwU7fPN8",
    "papermill": {
     "duration": 0.026104,
     "end_time": "2022-12-18T06:24:06.416056",
     "exception": false,
     "start_time": "2022-12-18T06:24:06.389952",
     "status": "completed"
    },
    "tags": []
   },
   "source": [
    "### 극성 -> pn"
   ]
  },
  {
   "cell_type": "code",
   "execution_count": 27,
   "id": "0fcbbb21",
   "metadata": {
    "execution": {
     "iopub.execute_input": "2022-12-18T06:24:06.470910Z",
     "iopub.status.busy": "2022-12-18T06:24:06.470326Z",
     "iopub.status.idle": "2022-12-18T06:24:06.480120Z",
     "shell.execute_reply": "2022-12-18T06:24:06.478415Z"
    },
    "id": "j8SZ0FAVfDdP",
    "outputId": "21fe9e4d-14b8-4716-e66b-df47d3ac499f",
    "papermill": {
     "duration": 0.041043,
     "end_time": "2022-12-18T06:24:06.483463",
     "exception": false,
     "start_time": "2022-12-18T06:24:06.442420",
     "status": "completed"
    },
    "tags": []
   },
   "outputs": [
    {
     "name": "stdout",
     "output_type": "stream",
     "text": [
      "극성\n"
     ]
    },
    {
     "data": {
      "text/plain": [
       "{'긍정': 0, '부정': 1, '미정': 2}"
      ]
     },
     "execution_count": 27,
     "metadata": {},
     "output_type": "execute_result"
    }
   ],
   "source": [
    "# 유형 라벨 인코딩\n",
    "print(\"극성\")\n",
    "target2_encode = {v: k for k, v in enumerate(train[\"극성\"].unique())}\n",
    "target2_encode"
   ]
  },
  {
   "cell_type": "code",
   "execution_count": 28,
   "id": "4545c190",
   "metadata": {
    "execution": {
     "iopub.execute_input": "2022-12-18T06:24:06.538316Z",
     "iopub.status.busy": "2022-12-18T06:24:06.538022Z",
     "iopub.status.idle": "2022-12-18T06:24:06.543979Z",
     "shell.execute_reply": "2022-12-18T06:24:06.543059Z"
    },
    "id": "25O0VHVDfDa1",
    "outputId": "cedaa028-c5f0-4c34-c55c-b8ab7f3e8153",
    "papermill": {
     "duration": 0.035298,
     "end_time": "2022-12-18T06:24:06.545908",
     "exception": false,
     "start_time": "2022-12-18T06:24:06.510610",
     "status": "completed"
    },
    "tags": []
   },
   "outputs": [
    {
     "data": {
      "text/plain": [
       "{0: '긍정', 1: '부정', 2: '미정'}"
      ]
     },
     "execution_count": 28,
     "metadata": {},
     "output_type": "execute_result"
    }
   ],
   "source": [
    "target2_inverse = {v: k for k, v in target2_encode.items()}\n",
    "target2_inverse"
   ]
  },
  {
   "cell_type": "code",
   "execution_count": 29,
   "id": "a36d1f75",
   "metadata": {
    "execution": {
     "iopub.execute_input": "2022-12-18T06:24:06.599946Z",
     "iopub.status.busy": "2022-12-18T06:24:06.599595Z",
     "iopub.status.idle": "2022-12-18T06:24:06.622384Z",
     "shell.execute_reply": "2022-12-18T06:24:06.621373Z"
    },
    "id": "Ajq4eKCofDYN",
    "outputId": "05bd0c3b-8f3c-4896-f167-0d4ac5445973",
    "papermill": {
     "duration": 0.052477,
     "end_time": "2022-12-18T06:24:06.624464",
     "exception": false,
     "start_time": "2022-12-18T06:24:06.571987",
     "status": "completed"
    },
    "tags": []
   },
   "outputs": [
    {
     "data": {
      "text/html": [
       "<div>\n",
       "<style scoped>\n",
       "    .dataframe tbody tr th:only-of-type {\n",
       "        vertical-align: middle;\n",
       "    }\n",
       "\n",
       "    .dataframe tbody tr th {\n",
       "        vertical-align: top;\n",
       "    }\n",
       "\n",
       "    .dataframe thead th {\n",
       "        text-align: right;\n",
       "    }\n",
       "</style>\n",
       "<table border=\"1\" class=\"dataframe\">\n",
       "  <thead>\n",
       "    <tr style=\"text-align: right;\">\n",
       "      <th></th>\n",
       "      <th>ID</th>\n",
       "      <th>new_sentence</th>\n",
       "      <th>유형</th>\n",
       "      <th>극성</th>\n",
       "      <th>시제</th>\n",
       "      <th>확실성</th>\n",
       "      <th>label</th>\n",
       "      <th>type</th>\n",
       "      <th>pn</th>\n",
       "    </tr>\n",
       "  </thead>\n",
       "  <tbody>\n",
       "    <tr>\n",
       "      <th>0</th>\n",
       "      <td>TRAIN_00000</td>\n",
       "      <td>0.75%포인트 금리 인상은 1994년 이후 28년 만에 처음이다.</td>\n",
       "      <td>사실형</td>\n",
       "      <td>긍정</td>\n",
       "      <td>현재</td>\n",
       "      <td>확실</td>\n",
       "      <td>사실형-긍정-현재-확실</td>\n",
       "      <td>0</td>\n",
       "      <td>0</td>\n",
       "    </tr>\n",
       "    <tr>\n",
       "      <th>1</th>\n",
       "      <td>TRAIN_00001</td>\n",
       "      <td>이어 ＂앞으로 전문가들과 함께 4주 단위로 상황을 재평가할 예정＂이라며 ＂그 이전이...</td>\n",
       "      <td>사실형</td>\n",
       "      <td>긍정</td>\n",
       "      <td>과거</td>\n",
       "      <td>확실</td>\n",
       "      <td>사실형-긍정-과거-확실</td>\n",
       "      <td>0</td>\n",
       "      <td>0</td>\n",
       "    </tr>\n",
       "    <tr>\n",
       "      <th>2</th>\n",
       "      <td>TRAIN_00002</td>\n",
       "      <td>정부가 고유가 대응을 위해 7월부터 연말까지 유류세 인하 폭을 30%에서 37%까지...</td>\n",
       "      <td>사실형</td>\n",
       "      <td>긍정</td>\n",
       "      <td>미래</td>\n",
       "      <td>확실</td>\n",
       "      <td>사실형-긍정-미래-확실</td>\n",
       "      <td>0</td>\n",
       "      <td>0</td>\n",
       "    </tr>\n",
       "    <tr>\n",
       "      <th>3</th>\n",
       "      <td>TRAIN_00003</td>\n",
       "      <td>서울시는 올해 3월 즉시 견인 유예시간 60분을 제공하겠다고 밝혔지만, 하루 만에 ...</td>\n",
       "      <td>사실형</td>\n",
       "      <td>긍정</td>\n",
       "      <td>과거</td>\n",
       "      <td>확실</td>\n",
       "      <td>사실형-긍정-과거-확실</td>\n",
       "      <td>0</td>\n",
       "      <td>0</td>\n",
       "    </tr>\n",
       "    <tr>\n",
       "      <th>4</th>\n",
       "      <td>TRAIN_00004</td>\n",
       "      <td>익사한 자는 사다리에 태워 거꾸로 놓고 소금으로 코를 막아 가득 채운다.</td>\n",
       "      <td>사실형</td>\n",
       "      <td>긍정</td>\n",
       "      <td>현재</td>\n",
       "      <td>확실</td>\n",
       "      <td>사실형-긍정-현재-확실</td>\n",
       "      <td>0</td>\n",
       "      <td>0</td>\n",
       "    </tr>\n",
       "  </tbody>\n",
       "</table>\n",
       "</div>"
      ],
      "text/plain": [
       "            ID                                       new_sentence   유형  극성  \\\n",
       "0  TRAIN_00000              0.75%포인트 금리 인상은 1994년 이후 28년 만에 처음이다.  사실형  긍정   \n",
       "1  TRAIN_00001  이어 ＂앞으로 전문가들과 함께 4주 단위로 상황을 재평가할 예정＂이라며 ＂그 이전이...  사실형  긍정   \n",
       "2  TRAIN_00002  정부가 고유가 대응을 위해 7월부터 연말까지 유류세 인하 폭을 30%에서 37%까지...  사실형  긍정   \n",
       "3  TRAIN_00003  서울시는 올해 3월 즉시 견인 유예시간 60분을 제공하겠다고 밝혔지만, 하루 만에 ...  사실형  긍정   \n",
       "4  TRAIN_00004           익사한 자는 사다리에 태워 거꾸로 놓고 소금으로 코를 막아 가득 채운다.  사실형  긍정   \n",
       "\n",
       "   시제 확실성         label  type  pn  \n",
       "0  현재  확실  사실형-긍정-현재-확실     0   0  \n",
       "1  과거  확실  사실형-긍정-과거-확실     0   0  \n",
       "2  미래  확실  사실형-긍정-미래-확실     0   0  \n",
       "3  과거  확실  사실형-긍정-과거-확실     0   0  \n",
       "4  현재  확실  사실형-긍정-현재-확실     0   0  "
      ]
     },
     "execution_count": 29,
     "metadata": {},
     "output_type": "execute_result"
    }
   ],
   "source": [
    "train['pn'] = train[\"극성\"].apply(lambda x: target2_encode[x])\n",
    "train.head()"
   ]
  },
  {
   "cell_type": "code",
   "execution_count": 30,
   "id": "6d98fd9f",
   "metadata": {
    "execution": {
     "iopub.execute_input": "2022-12-18T06:24:06.688286Z",
     "iopub.status.busy": "2022-12-18T06:24:06.686432Z",
     "iopub.status.idle": "2022-12-18T06:24:06.696143Z",
     "shell.execute_reply": "2022-12-18T06:24:06.695012Z"
    },
    "id": "X9534fpAfJH8",
    "outputId": "b901f676-bc48-4b35-b013-d8beb9df5781",
    "papermill": {
     "duration": 0.043841,
     "end_time": "2022-12-18T06:24:06.698454",
     "exception": false,
     "start_time": "2022-12-18T06:24:06.654613",
     "status": "completed"
    },
    "tags": []
   },
   "outputs": [
    {
     "data": {
      "text/plain": [
       "긍정    15793\n",
       "부정      565\n",
       "미정      183\n",
       "Name: 극성, dtype: int64"
      ]
     },
     "execution_count": 30,
     "metadata": {},
     "output_type": "execute_result"
    }
   ],
   "source": [
    "train[\"극성\"].value_counts()"
   ]
  },
  {
   "cell_type": "code",
   "execution_count": 31,
   "id": "0fc33ff1",
   "metadata": {
    "execution": {
     "iopub.execute_input": "2022-12-18T06:24:06.761049Z",
     "iopub.status.busy": "2022-12-18T06:24:06.760727Z",
     "iopub.status.idle": "2022-12-18T06:24:06.769401Z",
     "shell.execute_reply": "2022-12-18T06:24:06.768213Z"
    },
    "id": "Ggb6D3n-fJFy",
    "outputId": "5ab0d080-0269-45a5-9262-34a8b4fae269",
    "papermill": {
     "duration": 0.042451,
     "end_time": "2022-12-18T06:24:06.771617",
     "exception": false,
     "start_time": "2022-12-18T06:24:06.729166",
     "status": "completed"
    },
    "tags": []
   },
   "outputs": [
    {
     "data": {
      "text/plain": [
       "0    15793\n",
       "1      565\n",
       "2      183\n",
       "Name: pn, dtype: int64"
      ]
     },
     "execution_count": 31,
     "metadata": {},
     "output_type": "execute_result"
    }
   ],
   "source": [
    "train[\"pn\"].value_counts()"
   ]
  },
  {
   "cell_type": "markdown",
   "id": "348b453d",
   "metadata": {
    "id": "u-CH1tbgfn4t",
    "papermill": {
     "duration": 0.02929,
     "end_time": "2022-12-18T06:24:06.830692",
     "exception": false,
     "start_time": "2022-12-18T06:24:06.801402",
     "status": "completed"
    },
    "tags": []
   },
   "source": [
    "### 시제 -> time"
   ]
  },
  {
   "cell_type": "code",
   "execution_count": 32,
   "id": "27c2fb9c",
   "metadata": {
    "execution": {
     "iopub.execute_input": "2022-12-18T06:24:06.887576Z",
     "iopub.status.busy": "2022-12-18T06:24:06.886790Z",
     "iopub.status.idle": "2022-12-18T06:24:06.896969Z",
     "shell.execute_reply": "2022-12-18T06:24:06.895311Z"
    },
    "id": "xu5891Scfn4t",
    "outputId": "c1268f64-a2d6-4f0a-c81a-e627c5976c67",
    "papermill": {
     "duration": 0.040461,
     "end_time": "2022-12-18T06:24:06.899714",
     "exception": false,
     "start_time": "2022-12-18T06:24:06.859253",
     "status": "completed"
    },
    "tags": []
   },
   "outputs": [
    {
     "name": "stdout",
     "output_type": "stream",
     "text": [
      "시제\n"
     ]
    },
    {
     "data": {
      "text/plain": [
       "{'현재': 0, '과거': 1, '미래': 2}"
      ]
     },
     "execution_count": 32,
     "metadata": {},
     "output_type": "execute_result"
    }
   ],
   "source": [
    "# 유형 라벨 인코딩\n",
    "print(\"시제\")\n",
    "target3_encode = {v: k for k, v in enumerate(train[\"시제\"].unique())}\n",
    "target3_encode"
   ]
  },
  {
   "cell_type": "code",
   "execution_count": 33,
   "id": "c06264c9",
   "metadata": {
    "execution": {
     "iopub.execute_input": "2022-12-18T06:24:06.955821Z",
     "iopub.status.busy": "2022-12-18T06:24:06.954322Z",
     "iopub.status.idle": "2022-12-18T06:24:06.961216Z",
     "shell.execute_reply": "2022-12-18T06:24:06.960228Z"
    },
    "id": "iIRweXFLfn4t",
    "outputId": "e4c634c4-4a32-4655-f84a-82970f496da4",
    "papermill": {
     "duration": 0.036693,
     "end_time": "2022-12-18T06:24:06.963361",
     "exception": false,
     "start_time": "2022-12-18T06:24:06.926668",
     "status": "completed"
    },
    "tags": []
   },
   "outputs": [
    {
     "data": {
      "text/plain": [
       "{0: '현재', 1: '과거', 2: '미래'}"
      ]
     },
     "execution_count": 33,
     "metadata": {},
     "output_type": "execute_result"
    }
   ],
   "source": [
    "target3_inverse = {v: k for k, v in target3_encode.items()}\n",
    "target3_inverse"
   ]
  },
  {
   "cell_type": "code",
   "execution_count": 34,
   "id": "5c75c801",
   "metadata": {
    "execution": {
     "iopub.execute_input": "2022-12-18T06:24:07.019508Z",
     "iopub.status.busy": "2022-12-18T06:24:07.018706Z",
     "iopub.status.idle": "2022-12-18T06:24:07.038531Z",
     "shell.execute_reply": "2022-12-18T06:24:07.037481Z"
    },
    "id": "mZv-Zidmfn4t",
    "outputId": "16856a14-b1af-4a83-89a9-c7b4a6a6b1ba",
    "papermill": {
     "duration": 0.050462,
     "end_time": "2022-12-18T06:24:07.040755",
     "exception": false,
     "start_time": "2022-12-18T06:24:06.990293",
     "status": "completed"
    },
    "tags": []
   },
   "outputs": [
    {
     "data": {
      "text/html": [
       "<div>\n",
       "<style scoped>\n",
       "    .dataframe tbody tr th:only-of-type {\n",
       "        vertical-align: middle;\n",
       "    }\n",
       "\n",
       "    .dataframe tbody tr th {\n",
       "        vertical-align: top;\n",
       "    }\n",
       "\n",
       "    .dataframe thead th {\n",
       "        text-align: right;\n",
       "    }\n",
       "</style>\n",
       "<table border=\"1\" class=\"dataframe\">\n",
       "  <thead>\n",
       "    <tr style=\"text-align: right;\">\n",
       "      <th></th>\n",
       "      <th>ID</th>\n",
       "      <th>new_sentence</th>\n",
       "      <th>유형</th>\n",
       "      <th>극성</th>\n",
       "      <th>시제</th>\n",
       "      <th>확실성</th>\n",
       "      <th>label</th>\n",
       "      <th>type</th>\n",
       "      <th>pn</th>\n",
       "      <th>time</th>\n",
       "    </tr>\n",
       "  </thead>\n",
       "  <tbody>\n",
       "    <tr>\n",
       "      <th>0</th>\n",
       "      <td>TRAIN_00000</td>\n",
       "      <td>0.75%포인트 금리 인상은 1994년 이후 28년 만에 처음이다.</td>\n",
       "      <td>사실형</td>\n",
       "      <td>긍정</td>\n",
       "      <td>현재</td>\n",
       "      <td>확실</td>\n",
       "      <td>사실형-긍정-현재-확실</td>\n",
       "      <td>0</td>\n",
       "      <td>0</td>\n",
       "      <td>0</td>\n",
       "    </tr>\n",
       "    <tr>\n",
       "      <th>1</th>\n",
       "      <td>TRAIN_00001</td>\n",
       "      <td>이어 ＂앞으로 전문가들과 함께 4주 단위로 상황을 재평가할 예정＂이라며 ＂그 이전이...</td>\n",
       "      <td>사실형</td>\n",
       "      <td>긍정</td>\n",
       "      <td>과거</td>\n",
       "      <td>확실</td>\n",
       "      <td>사실형-긍정-과거-확실</td>\n",
       "      <td>0</td>\n",
       "      <td>0</td>\n",
       "      <td>1</td>\n",
       "    </tr>\n",
       "    <tr>\n",
       "      <th>2</th>\n",
       "      <td>TRAIN_00002</td>\n",
       "      <td>정부가 고유가 대응을 위해 7월부터 연말까지 유류세 인하 폭을 30%에서 37%까지...</td>\n",
       "      <td>사실형</td>\n",
       "      <td>긍정</td>\n",
       "      <td>미래</td>\n",
       "      <td>확실</td>\n",
       "      <td>사실형-긍정-미래-확실</td>\n",
       "      <td>0</td>\n",
       "      <td>0</td>\n",
       "      <td>2</td>\n",
       "    </tr>\n",
       "    <tr>\n",
       "      <th>3</th>\n",
       "      <td>TRAIN_00003</td>\n",
       "      <td>서울시는 올해 3월 즉시 견인 유예시간 60분을 제공하겠다고 밝혔지만, 하루 만에 ...</td>\n",
       "      <td>사실형</td>\n",
       "      <td>긍정</td>\n",
       "      <td>과거</td>\n",
       "      <td>확실</td>\n",
       "      <td>사실형-긍정-과거-확실</td>\n",
       "      <td>0</td>\n",
       "      <td>0</td>\n",
       "      <td>1</td>\n",
       "    </tr>\n",
       "    <tr>\n",
       "      <th>4</th>\n",
       "      <td>TRAIN_00004</td>\n",
       "      <td>익사한 자는 사다리에 태워 거꾸로 놓고 소금으로 코를 막아 가득 채운다.</td>\n",
       "      <td>사실형</td>\n",
       "      <td>긍정</td>\n",
       "      <td>현재</td>\n",
       "      <td>확실</td>\n",
       "      <td>사실형-긍정-현재-확실</td>\n",
       "      <td>0</td>\n",
       "      <td>0</td>\n",
       "      <td>0</td>\n",
       "    </tr>\n",
       "  </tbody>\n",
       "</table>\n",
       "</div>"
      ],
      "text/plain": [
       "            ID                                       new_sentence   유형  극성  \\\n",
       "0  TRAIN_00000              0.75%포인트 금리 인상은 1994년 이후 28년 만에 처음이다.  사실형  긍정   \n",
       "1  TRAIN_00001  이어 ＂앞으로 전문가들과 함께 4주 단위로 상황을 재평가할 예정＂이라며 ＂그 이전이...  사실형  긍정   \n",
       "2  TRAIN_00002  정부가 고유가 대응을 위해 7월부터 연말까지 유류세 인하 폭을 30%에서 37%까지...  사실형  긍정   \n",
       "3  TRAIN_00003  서울시는 올해 3월 즉시 견인 유예시간 60분을 제공하겠다고 밝혔지만, 하루 만에 ...  사실형  긍정   \n",
       "4  TRAIN_00004           익사한 자는 사다리에 태워 거꾸로 놓고 소금으로 코를 막아 가득 채운다.  사실형  긍정   \n",
       "\n",
       "   시제 확실성         label  type  pn  time  \n",
       "0  현재  확실  사실형-긍정-현재-확실     0   0     0  \n",
       "1  과거  확실  사실형-긍정-과거-확실     0   0     1  \n",
       "2  미래  확실  사실형-긍정-미래-확실     0   0     2  \n",
       "3  과거  확실  사실형-긍정-과거-확실     0   0     1  \n",
       "4  현재  확실  사실형-긍정-현재-확실     0   0     0  "
      ]
     },
     "execution_count": 34,
     "metadata": {},
     "output_type": "execute_result"
    }
   ],
   "source": [
    "train['time'] = train[\"시제\"].apply(lambda x: target3_encode[x])\n",
    "train.head()"
   ]
  },
  {
   "cell_type": "code",
   "execution_count": 35,
   "id": "c832fe94",
   "metadata": {
    "execution": {
     "iopub.execute_input": "2022-12-18T06:24:07.096110Z",
     "iopub.status.busy": "2022-12-18T06:24:07.095837Z",
     "iopub.status.idle": "2022-12-18T06:24:07.103228Z",
     "shell.execute_reply": "2022-12-18T06:24:07.102298Z"
    },
    "id": "TjWj2-V-fn4u",
    "outputId": "923f3c3f-522e-4bb5-c21b-34e66d4f148c",
    "papermill": {
     "duration": 0.037497,
     "end_time": "2022-12-18T06:24:07.105329",
     "exception": false,
     "start_time": "2022-12-18T06:24:07.067832",
     "status": "completed"
    },
    "tags": []
   },
   "outputs": [
    {
     "data": {
      "text/plain": [
       "과거    8032\n",
       "현재    6866\n",
       "미래    1643\n",
       "Name: 시제, dtype: int64"
      ]
     },
     "execution_count": 35,
     "metadata": {},
     "output_type": "execute_result"
    }
   ],
   "source": [
    "train[\"시제\"].value_counts()"
   ]
  },
  {
   "cell_type": "code",
   "execution_count": 36,
   "id": "64ab472e",
   "metadata": {
    "execution": {
     "iopub.execute_input": "2022-12-18T06:24:07.161968Z",
     "iopub.status.busy": "2022-12-18T06:24:07.161254Z",
     "iopub.status.idle": "2022-12-18T06:24:07.169315Z",
     "shell.execute_reply": "2022-12-18T06:24:07.168340Z"
    },
    "id": "YAUkgl2Rfn4u",
    "outputId": "c7c73fcf-a539-4243-8fcc-d18a49c99f80",
    "papermill": {
     "duration": 0.038592,
     "end_time": "2022-12-18T06:24:07.171247",
     "exception": false,
     "start_time": "2022-12-18T06:24:07.132655",
     "status": "completed"
    },
    "tags": []
   },
   "outputs": [
    {
     "data": {
      "text/plain": [
       "1    8032\n",
       "0    6866\n",
       "2    1643\n",
       "Name: time, dtype: int64"
      ]
     },
     "execution_count": 36,
     "metadata": {},
     "output_type": "execute_result"
    }
   ],
   "source": [
    "train[\"time\"].value_counts()"
   ]
  },
  {
   "cell_type": "markdown",
   "id": "dfc6f641",
   "metadata": {
    "id": "Xy16rfD3gCAS",
    "papermill": {
     "duration": 0.027274,
     "end_time": "2022-12-18T06:24:07.226644",
     "exception": false,
     "start_time": "2022-12-18T06:24:07.199370",
     "status": "completed"
    },
    "tags": []
   },
   "source": [
    "### 확실성 -> sure"
   ]
  },
  {
   "cell_type": "code",
   "execution_count": 37,
   "id": "c787d0e1",
   "metadata": {
    "execution": {
     "iopub.execute_input": "2022-12-18T06:24:07.286360Z",
     "iopub.status.busy": "2022-12-18T06:24:07.285489Z",
     "iopub.status.idle": "2022-12-18T06:24:07.308871Z",
     "shell.execute_reply": "2022-12-18T06:24:07.307247Z"
    },
    "id": "was2DIP8gCAT",
    "outputId": "d951f08f-9850-4ad4-c604-0839fa4581d6",
    "papermill": {
     "duration": 0.056094,
     "end_time": "2022-12-18T06:24:07.311511",
     "exception": false,
     "start_time": "2022-12-18T06:24:07.255417",
     "status": "completed"
    },
    "tags": []
   },
   "outputs": [
    {
     "name": "stdout",
     "output_type": "stream",
     "text": [
      "확실성\n"
     ]
    },
    {
     "data": {
      "text/html": [
       "<div>\n",
       "<style scoped>\n",
       "    .dataframe tbody tr th:only-of-type {\n",
       "        vertical-align: middle;\n",
       "    }\n",
       "\n",
       "    .dataframe tbody tr th {\n",
       "        vertical-align: top;\n",
       "    }\n",
       "\n",
       "    .dataframe thead th {\n",
       "        text-align: right;\n",
       "    }\n",
       "</style>\n",
       "<table border=\"1\" class=\"dataframe\">\n",
       "  <thead>\n",
       "    <tr style=\"text-align: right;\">\n",
       "      <th></th>\n",
       "      <th>ID</th>\n",
       "      <th>new_sentence</th>\n",
       "      <th>유형</th>\n",
       "      <th>극성</th>\n",
       "      <th>시제</th>\n",
       "      <th>확실성</th>\n",
       "      <th>label</th>\n",
       "      <th>type</th>\n",
       "      <th>pn</th>\n",
       "      <th>time</th>\n",
       "      <th>sure</th>\n",
       "    </tr>\n",
       "  </thead>\n",
       "  <tbody>\n",
       "    <tr>\n",
       "      <th>0</th>\n",
       "      <td>TRAIN_00000</td>\n",
       "      <td>0.75%포인트 금리 인상은 1994년 이후 28년 만에 처음이다.</td>\n",
       "      <td>사실형</td>\n",
       "      <td>긍정</td>\n",
       "      <td>현재</td>\n",
       "      <td>확실</td>\n",
       "      <td>사실형-긍정-현재-확실</td>\n",
       "      <td>0</td>\n",
       "      <td>0</td>\n",
       "      <td>0</td>\n",
       "      <td>1</td>\n",
       "    </tr>\n",
       "    <tr>\n",
       "      <th>1</th>\n",
       "      <td>TRAIN_00001</td>\n",
       "      <td>이어 ＂앞으로 전문가들과 함께 4주 단위로 상황을 재평가할 예정＂이라며 ＂그 이전이...</td>\n",
       "      <td>사실형</td>\n",
       "      <td>긍정</td>\n",
       "      <td>과거</td>\n",
       "      <td>확실</td>\n",
       "      <td>사실형-긍정-과거-확실</td>\n",
       "      <td>0</td>\n",
       "      <td>0</td>\n",
       "      <td>1</td>\n",
       "      <td>1</td>\n",
       "    </tr>\n",
       "    <tr>\n",
       "      <th>2</th>\n",
       "      <td>TRAIN_00002</td>\n",
       "      <td>정부가 고유가 대응을 위해 7월부터 연말까지 유류세 인하 폭을 30%에서 37%까지...</td>\n",
       "      <td>사실형</td>\n",
       "      <td>긍정</td>\n",
       "      <td>미래</td>\n",
       "      <td>확실</td>\n",
       "      <td>사실형-긍정-미래-확실</td>\n",
       "      <td>0</td>\n",
       "      <td>0</td>\n",
       "      <td>2</td>\n",
       "      <td>1</td>\n",
       "    </tr>\n",
       "    <tr>\n",
       "      <th>3</th>\n",
       "      <td>TRAIN_00003</td>\n",
       "      <td>서울시는 올해 3월 즉시 견인 유예시간 60분을 제공하겠다고 밝혔지만, 하루 만에 ...</td>\n",
       "      <td>사실형</td>\n",
       "      <td>긍정</td>\n",
       "      <td>과거</td>\n",
       "      <td>확실</td>\n",
       "      <td>사실형-긍정-과거-확실</td>\n",
       "      <td>0</td>\n",
       "      <td>0</td>\n",
       "      <td>1</td>\n",
       "      <td>1</td>\n",
       "    </tr>\n",
       "    <tr>\n",
       "      <th>4</th>\n",
       "      <td>TRAIN_00004</td>\n",
       "      <td>익사한 자는 사다리에 태워 거꾸로 놓고 소금으로 코를 막아 가득 채운다.</td>\n",
       "      <td>사실형</td>\n",
       "      <td>긍정</td>\n",
       "      <td>현재</td>\n",
       "      <td>확실</td>\n",
       "      <td>사실형-긍정-현재-확실</td>\n",
       "      <td>0</td>\n",
       "      <td>0</td>\n",
       "      <td>0</td>\n",
       "      <td>1</td>\n",
       "    </tr>\n",
       "  </tbody>\n",
       "</table>\n",
       "</div>"
      ],
      "text/plain": [
       "            ID                                       new_sentence   유형  극성  \\\n",
       "0  TRAIN_00000              0.75%포인트 금리 인상은 1994년 이후 28년 만에 처음이다.  사실형  긍정   \n",
       "1  TRAIN_00001  이어 ＂앞으로 전문가들과 함께 4주 단위로 상황을 재평가할 예정＂이라며 ＂그 이전이...  사실형  긍정   \n",
       "2  TRAIN_00002  정부가 고유가 대응을 위해 7월부터 연말까지 유류세 인하 폭을 30%에서 37%까지...  사실형  긍정   \n",
       "3  TRAIN_00003  서울시는 올해 3월 즉시 견인 유예시간 60분을 제공하겠다고 밝혔지만, 하루 만에 ...  사실형  긍정   \n",
       "4  TRAIN_00004           익사한 자는 사다리에 태워 거꾸로 놓고 소금으로 코를 막아 가득 채운다.  사실형  긍정   \n",
       "\n",
       "   시제 확실성         label  type  pn  time  sure  \n",
       "0  현재  확실  사실형-긍정-현재-확실     0   0     0     1  \n",
       "1  과거  확실  사실형-긍정-과거-확실     0   0     1     1  \n",
       "2  미래  확실  사실형-긍정-미래-확실     0   0     2     1  \n",
       "3  과거  확실  사실형-긍정-과거-확실     0   0     1     1  \n",
       "4  현재  확실  사실형-긍정-현재-확실     0   0     0     1  "
      ]
     },
     "execution_count": 37,
     "metadata": {},
     "output_type": "execute_result"
    }
   ],
   "source": [
    "# 유형 라벨 인코딩\n",
    "print(\"확실성\")\n",
    "train['sure'] = train[\"확실성\"].apply(lambda x: 1 if x == '확실' else 0)\n",
    "train.head()"
   ]
  },
  {
   "cell_type": "code",
   "execution_count": 38,
   "id": "4e5c6e1e",
   "metadata": {
    "execution": {
     "iopub.execute_input": "2022-12-18T06:24:07.369915Z",
     "iopub.status.busy": "2022-12-18T06:24:07.369120Z",
     "iopub.status.idle": "2022-12-18T06:24:07.377559Z",
     "shell.execute_reply": "2022-12-18T06:24:07.376557Z"
    },
    "id": "BtrV4QCPgCAT",
    "outputId": "8e508fa0-2163-4e48-e6ab-28bdaaea21df",
    "papermill": {
     "duration": 0.039571,
     "end_time": "2022-12-18T06:24:07.379574",
     "exception": false,
     "start_time": "2022-12-18T06:24:07.340003",
     "status": "completed"
    },
    "tags": []
   },
   "outputs": [
    {
     "data": {
      "text/plain": [
       "확실     15192\n",
       "불확실     1349\n",
       "Name: 확실성, dtype: int64"
      ]
     },
     "execution_count": 38,
     "metadata": {},
     "output_type": "execute_result"
    }
   ],
   "source": [
    "train[\"확실성\"].value_counts()"
   ]
  },
  {
   "cell_type": "code",
   "execution_count": 39,
   "id": "67598eeb",
   "metadata": {
    "execution": {
     "iopub.execute_input": "2022-12-18T06:24:07.439199Z",
     "iopub.status.busy": "2022-12-18T06:24:07.437754Z",
     "iopub.status.idle": "2022-12-18T06:24:07.445503Z",
     "shell.execute_reply": "2022-12-18T06:24:07.444553Z"
    },
    "id": "94jtLJ4xgCAT",
    "outputId": "9625d51e-1f79-48ac-dd44-7740ac7c316b",
    "papermill": {
     "duration": 0.039344,
     "end_time": "2022-12-18T06:24:07.447578",
     "exception": false,
     "start_time": "2022-12-18T06:24:07.408234",
     "status": "completed"
    },
    "tags": []
   },
   "outputs": [
    {
     "data": {
      "text/plain": [
       "1    15192\n",
       "0     1349\n",
       "Name: sure, dtype: int64"
      ]
     },
     "execution_count": 39,
     "metadata": {},
     "output_type": "execute_result"
    }
   ],
   "source": [
    "train[\"sure\"].value_counts()"
   ]
  },
  {
   "cell_type": "code",
   "execution_count": 40,
   "id": "a70fec87",
   "metadata": {
    "execution": {
     "iopub.execute_input": "2022-12-18T06:24:07.506688Z",
     "iopub.status.busy": "2022-12-18T06:24:07.505858Z",
     "iopub.status.idle": "2022-12-18T06:24:07.512308Z",
     "shell.execute_reply": "2022-12-18T06:24:07.511265Z"
    },
    "id": "R9Vrub_MgoBx",
    "outputId": "8da1cb44-cebd-4b4f-a290-0e5ea008e777",
    "papermill": {
     "duration": 0.037984,
     "end_time": "2022-12-18T06:24:07.514332",
     "exception": false,
     "start_time": "2022-12-18T06:24:07.476348",
     "status": "completed"
    },
    "tags": []
   },
   "outputs": [
    {
     "data": {
      "text/plain": [
       "(16541, 11)"
      ]
     },
     "execution_count": 40,
     "metadata": {},
     "output_type": "execute_result"
    }
   ],
   "source": [
    "train.shape"
   ]
  },
  {
   "cell_type": "code",
   "execution_count": 48,
   "id": "7208ffe6",
   "metadata": {
    "execution": {
     "iopub.execute_input": "2022-12-18T06:24:08.225708Z",
     "iopub.status.busy": "2022-12-18T06:24:08.224761Z",
     "iopub.status.idle": "2022-12-18T06:24:08.233552Z",
     "shell.execute_reply": "2022-12-18T06:24:08.232551Z"
    },
    "id": "BtrV4QCPgCAT",
    "outputId": "8e508fa0-2163-4e48-e6ab-28bdaaea21df",
    "papermill": {
     "duration": 0.043175,
     "end_time": "2022-12-18T06:24:08.235609",
     "exception": false,
     "start_time": "2022-12-18T06:24:08.192434",
     "status": "completed"
    },
    "tags": []
   },
   "outputs": [
    {
     "data": {
      "text/plain": [
       "사실형-긍정-과거-확실     7113\n",
       "사실형-긍정-현재-확실     4743\n",
       "추론형-긍정-현재-확실     1101\n",
       "사실형-긍정-미래-확실      649\n",
       "추론형-긍정-과거-확실      335\n",
       "                 ... \n",
       "대화형-미정-과거-확실        1\n",
       "예측형-미정-현재-확실        1\n",
       "예측형-부정-현재-불확실       1\n",
       "예측형-부정-과거-확실        1\n",
       "예측형-미정-과거-확실        1\n",
       "Name: label, Length: 64, dtype: int64"
      ]
     },
     "execution_count": 48,
     "metadata": {},
     "output_type": "execute_result"
    }
   ],
   "source": [
    "train[\"label\"].value_counts()"
   ]
  },
  {
   "cell_type": "code",
   "execution_count": 52,
   "id": "1714f943",
   "metadata": {
    "execution": {
     "iopub.execute_input": "2022-12-18T06:24:08.519773Z",
     "iopub.status.busy": "2022-12-18T06:24:08.518786Z",
     "iopub.status.idle": "2022-12-18T06:24:08.525642Z",
     "shell.execute_reply": "2022-12-18T06:24:08.524589Z"
    },
    "id": "Z5P0xnw7hAN4",
    "outputId": "da506add-a412-4017-f505-89416d26fd58",
    "papermill": {
     "duration": 0.041156,
     "end_time": "2022-12-18T06:24:08.527658",
     "exception": false,
     "start_time": "2022-12-18T06:24:08.486502",
     "status": "completed"
    },
    "tags": []
   },
   "outputs": [
    {
     "data": {
      "text/plain": [
       "Index(['ID', 'new_sentence', '유형', '극성', '시제', '확실성', 'label', 'type', 'pn',\n",
       "       'time', 'sure', 'label_72'],\n",
       "      dtype='object')"
      ]
     },
     "execution_count": 52,
     "metadata": {},
     "output_type": "execute_result"
    }
   ],
   "source": [
    "train.columns"
   ]
  },
  {
   "cell_type": "code",
   "execution_count": 53,
   "id": "4e7e78f3",
   "metadata": {
    "execution": {
     "iopub.execute_input": "2022-12-18T06:24:08.589513Z",
     "iopub.status.busy": "2022-12-18T06:24:08.588030Z",
     "iopub.status.idle": "2022-12-18T06:24:08.595487Z",
     "shell.execute_reply": "2022-12-18T06:24:08.594656Z"
    },
    "id": "TUSraajQg4f0",
    "papermill": {
     "duration": 0.040201,
     "end_time": "2022-12-18T06:24:08.597523",
     "exception": false,
     "start_time": "2022-12-18T06:24:08.557322",
     "status": "completed"
    },
    "tags": []
   },
   "outputs": [],
   "source": [
    "train.drop(['ID', '유형', '극성', '시제', '확실성', 'label'], axis = 1, inplace = True)"
   ]
  },
  {
   "cell_type": "code",
   "execution_count": 54,
   "id": "9b0f316f",
   "metadata": {
    "execution": {
     "iopub.execute_input": "2022-12-18T06:24:08.661184Z",
     "iopub.status.busy": "2022-12-18T06:24:08.660346Z",
     "iopub.status.idle": "2022-12-18T06:24:08.672519Z",
     "shell.execute_reply": "2022-12-18T06:24:08.671056Z"
    },
    "id": "ewzQvhYJfnt9",
    "outputId": "4907f45a-9179-4d88-c4e4-98642f84f096",
    "papermill": {
     "duration": 0.046249,
     "end_time": "2022-12-18T06:24:08.675077",
     "exception": false,
     "start_time": "2022-12-18T06:24:08.628828",
     "status": "completed"
    },
    "tags": []
   },
   "outputs": [
    {
     "name": "stdout",
     "output_type": "stream",
     "text": [
      "(16541, 6)\n"
     ]
    },
    {
     "data": {
      "text/html": [
       "<div>\n",
       "<style scoped>\n",
       "    .dataframe tbody tr th:only-of-type {\n",
       "        vertical-align: middle;\n",
       "    }\n",
       "\n",
       "    .dataframe tbody tr th {\n",
       "        vertical-align: top;\n",
       "    }\n",
       "\n",
       "    .dataframe thead th {\n",
       "        text-align: right;\n",
       "    }\n",
       "</style>\n",
       "<table border=\"1\" class=\"dataframe\">\n",
       "  <thead>\n",
       "    <tr style=\"text-align: right;\">\n",
       "      <th></th>\n",
       "      <th>new_sentence</th>\n",
       "      <th>type</th>\n",
       "      <th>pn</th>\n",
       "      <th>time</th>\n",
       "      <th>sure</th>\n",
       "      <th>label_72</th>\n",
       "    </tr>\n",
       "  </thead>\n",
       "  <tbody>\n",
       "    <tr>\n",
       "      <th>0</th>\n",
       "      <td>0.75%포인트 금리 인상은 1994년 이후 28년 만에 처음이다.</td>\n",
       "      <td>0</td>\n",
       "      <td>0</td>\n",
       "      <td>0</td>\n",
       "      <td>1</td>\n",
       "      <td>23</td>\n",
       "    </tr>\n",
       "    <tr>\n",
       "      <th>1</th>\n",
       "      <td>이어 ＂앞으로 전문가들과 함께 4주 단위로 상황을 재평가할 예정＂이라며 ＂그 이전이...</td>\n",
       "      <td>0</td>\n",
       "      <td>0</td>\n",
       "      <td>1</td>\n",
       "      <td>1</td>\n",
       "      <td>19</td>\n",
       "    </tr>\n",
       "    <tr>\n",
       "      <th>2</th>\n",
       "      <td>정부가 고유가 대응을 위해 7월부터 연말까지 유류세 인하 폭을 30%에서 37%까지...</td>\n",
       "      <td>0</td>\n",
       "      <td>0</td>\n",
       "      <td>2</td>\n",
       "      <td>1</td>\n",
       "      <td>21</td>\n",
       "    </tr>\n",
       "    <tr>\n",
       "      <th>3</th>\n",
       "      <td>서울시는 올해 3월 즉시 견인 유예시간 60분을 제공하겠다고 밝혔지만, 하루 만에 ...</td>\n",
       "      <td>0</td>\n",
       "      <td>0</td>\n",
       "      <td>1</td>\n",
       "      <td>1</td>\n",
       "      <td>19</td>\n",
       "    </tr>\n",
       "    <tr>\n",
       "      <th>4</th>\n",
       "      <td>익사한 자는 사다리에 태워 거꾸로 놓고 소금으로 코를 막아 가득 채운다.</td>\n",
       "      <td>0</td>\n",
       "      <td>0</td>\n",
       "      <td>0</td>\n",
       "      <td>1</td>\n",
       "      <td>23</td>\n",
       "    </tr>\n",
       "  </tbody>\n",
       "</table>\n",
       "</div>"
      ],
      "text/plain": [
       "                                        new_sentence  type  pn  time  sure  \\\n",
       "0              0.75%포인트 금리 인상은 1994년 이후 28년 만에 처음이다.     0   0     0     1   \n",
       "1  이어 ＂앞으로 전문가들과 함께 4주 단위로 상황을 재평가할 예정＂이라며 ＂그 이전이...     0   0     1     1   \n",
       "2  정부가 고유가 대응을 위해 7월부터 연말까지 유류세 인하 폭을 30%에서 37%까지...     0   0     2     1   \n",
       "3  서울시는 올해 3월 즉시 견인 유예시간 60분을 제공하겠다고 밝혔지만, 하루 만에 ...     0   0     1     1   \n",
       "4           익사한 자는 사다리에 태워 거꾸로 놓고 소금으로 코를 막아 가득 채운다.     0   0     0     1   \n",
       "\n",
       "   label_72  \n",
       "0        23  \n",
       "1        19  \n",
       "2        21  \n",
       "3        19  \n",
       "4        23  "
      ]
     },
     "execution_count": 54,
     "metadata": {},
     "output_type": "execute_result"
    }
   ],
   "source": [
    "print(train.shape)\n",
    "train.head()"
   ]
  },
  {
   "cell_type": "markdown",
   "id": "d6c7cdb6",
   "metadata": {
    "id": "QFKO4mE2O6jX",
    "papermill": {
     "duration": 0.03022,
     "end_time": "2022-12-18T06:24:08.736132",
     "exception": false,
     "start_time": "2022-12-18T06:24:08.705912",
     "status": "completed"
    },
    "tags": []
   },
   "source": [
    "## AutoTokenizer"
   ]
  },
  {
   "cell_type": "code",
   "execution_count": 55,
   "id": "a6efef55",
   "metadata": {
    "execution": {
     "iopub.execute_input": "2022-12-18T06:24:08.799679Z",
     "iopub.status.busy": "2022-12-18T06:24:08.798170Z",
     "iopub.status.idle": "2022-12-18T06:24:11.019167Z",
     "shell.execute_reply": "2022-12-18T06:24:11.018199Z"
    },
    "id": "MIU5s2u3PWUJ",
    "outputId": "6e29a2f5-04a1-43bf-b713-6ce66e0df637",
    "papermill": {
     "duration": 2.254561,
     "end_time": "2022-12-18T06:24:11.021540",
     "exception": false,
     "start_time": "2022-12-18T06:24:08.766979",
     "status": "completed"
    },
    "tags": []
   },
   "outputs": [
    {
     "data": {
      "application/vnd.jupyter.widget-view+json": {
       "model_id": "705c9fd52c0940fead86342e177171c3",
       "version_major": 2,
       "version_minor": 0
      },
      "text/plain": [
       "Downloading:   0%|          | 0.00/373 [00:00<?, ?B/s]"
      ]
     },
     "metadata": {},
     "output_type": "display_data"
    },
    {
     "data": {
      "application/vnd.jupyter.widget-view+json": {
       "model_id": "e2c8d806b0cd4a1a844856a3ef6faca5",
       "version_major": 2,
       "version_minor": 0
      },
      "text/plain": [
       "Downloading:   0%|          | 0.00/236k [00:00<?, ?B/s]"
      ]
     },
     "metadata": {},
     "output_type": "display_data"
    },
    {
     "data": {
      "application/vnd.jupyter.widget-view+json": {
       "model_id": "5f97da3ea54b453d8c062d71bd935a94",
       "version_major": 2,
       "version_minor": 0
      },
      "text/plain": [
       "Downloading:   0%|          | 0.00/480k [00:00<?, ?B/s]"
      ]
     },
     "metadata": {},
     "output_type": "display_data"
    },
    {
     "data": {
      "application/vnd.jupyter.widget-view+json": {
       "model_id": "2bb8dea053954704b1c0abd6a1b11043",
       "version_major": 2,
       "version_minor": 0
      },
      "text/plain": [
       "Downloading:   0%|          | 0.00/169 [00:00<?, ?B/s]"
      ]
     },
     "metadata": {},
     "output_type": "display_data"
    }
   ],
   "source": [
    "config['tokenizer'] = AutoTokenizer.from_pretrained(config['model'])"
   ]
  },
  {
   "cell_type": "markdown",
   "id": "443eb934",
   "metadata": {
    "id": "66RYUmk354d5",
    "papermill": {
     "duration": 0.031481,
     "end_time": "2022-12-18T06:24:11.086269",
     "exception": false,
     "start_time": "2022-12-18T06:24:11.054788",
     "status": "completed"
    },
    "tags": []
   },
   "source": [
    "### Max Length"
   ]
  },
  {
   "cell_type": "code",
   "execution_count": 56,
   "id": "8b97be9e",
   "metadata": {
    "execution": {
     "iopub.execute_input": "2022-12-18T06:24:11.150901Z",
     "iopub.status.busy": "2022-12-18T06:24:11.149041Z",
     "iopub.status.idle": "2022-12-18T06:24:13.717581Z",
     "shell.execute_reply": "2022-12-18T06:24:13.716597Z"
    },
    "id": "ukFyftCqiTQz",
    "outputId": "3a88f90f-6338-46fc-d6ef-dbff20ee9edc",
    "papermill": {
     "duration": 2.603307,
     "end_time": "2022-12-18T06:24:13.719973",
     "exception": false,
     "start_time": "2022-12-18T06:24:11.116666",
     "status": "completed"
    },
    "tags": []
   },
   "outputs": [
    {
     "data": {
      "text/plain": [
       "314"
      ]
     },
     "execution_count": 56,
     "metadata": {},
     "output_type": "execute_result"
    }
   ],
   "source": [
    "max_len = 0\n",
    "lens = []\n",
    "for index in range(train.shape[0]):\n",
    "    lens2 = len(config['tokenizer'].tokenize(train.loc[index, \"new_sentence\"]))\n",
    "    lens.append(lens2)\n",
    "    if lens2 > max_len:\n",
    "        max_len = lens2\n",
    "\n",
    "max_len"
   ]
  },
  {
   "cell_type": "code",
   "execution_count": 57,
   "id": "2d7b814a",
   "metadata": {
    "execution": {
     "iopub.execute_input": "2022-12-18T06:24:13.787676Z",
     "iopub.status.busy": "2022-12-18T06:24:13.786810Z",
     "iopub.status.idle": "2022-12-18T06:24:13.794599Z",
     "shell.execute_reply": "2022-12-18T06:24:13.793577Z"
    },
    "id": "dPtXCqCEeEQ_",
    "outputId": "46ddbec3-43f8-415d-8ac0-5b9c0dffe3ba",
    "papermill": {
     "duration": 0.043377,
     "end_time": "2022-12-18T06:24:13.796668",
     "exception": false,
     "start_time": "2022-12-18T06:24:13.753291",
     "status": "completed"
    },
    "tags": []
   },
   "outputs": [
    {
     "data": {
      "text/plain": [
       "33.517018318118616"
      ]
     },
     "execution_count": 57,
     "metadata": {},
     "output_type": "execute_result"
    }
   ],
   "source": [
    "np.mean(lens)"
   ]
  },
  {
   "cell_type": "code",
   "execution_count": 58,
   "id": "fd8a386d",
   "metadata": {
    "execution": {
     "iopub.execute_input": "2022-12-18T06:24:13.860370Z",
     "iopub.status.busy": "2022-12-18T06:24:13.860057Z",
     "iopub.status.idle": "2022-12-18T06:24:14.674673Z",
     "shell.execute_reply": "2022-12-18T06:24:14.673587Z"
    },
    "id": "VSfId94QjOD_",
    "outputId": "6a11568b-6813-4c71-9baa-d6589c6d2711",
    "papermill": {
     "duration": 0.849407,
     "end_time": "2022-12-18T06:24:14.677590",
     "exception": false,
     "start_time": "2022-12-18T06:24:13.828183",
     "status": "completed"
    },
    "tags": []
   },
   "outputs": [
    {
     "data": {
      "text/plain": [
       "<AxesSubplot:ylabel='Count'>"
      ]
     },
     "execution_count": 58,
     "metadata": {},
     "output_type": "execute_result"
    },
    {
     "data": {
      "image/png": "[encoded data removed]",
      "text/plain": [
       "<Figure size 864x576 with 1 Axes>"
      ]
     },
     "metadata": {
      "needs_background": "light"
     },
     "output_type": "display_data"
    }
   ],
   "source": [
    "import seaborn as sns\n",
    "\n",
    "plt.figure(figsize = (12, 8))\n",
    "sns.histplot(data= lens)"
   ]
  },
  {
   "cell_type": "code",
   "execution_count": 59,
   "id": "08379a44",
   "metadata": {
    "execution": {
     "iopub.execute_input": "2022-12-18T06:24:14.753079Z",
     "iopub.status.busy": "2022-12-18T06:24:14.752281Z",
     "iopub.status.idle": "2022-12-18T06:24:14.761349Z",
     "shell.execute_reply": "2022-12-18T06:24:14.760317Z"
    },
    "id": "_GeOKsFBlsNq",
    "papermill": {
     "duration": 0.048559,
     "end_time": "2022-12-18T06:24:14.763598",
     "exception": false,
     "start_time": "2022-12-18T06:24:14.715039",
     "status": "completed"
    },
    "tags": []
   },
   "outputs": [],
   "source": [
    "a = dict()\n",
    "k = 0\n",
    "for index in range(len(lens)):\n",
    "    if lens[index] >= 128:\n",
    "        if lens[index] not in a.keys():\n",
    "            a[lens[index]] = 1\n",
    "        else:\n",
    "            a[lens[index]] += 1 "
   ]
  },
  {
   "cell_type": "code",
   "execution_count": 60,
   "id": "aaf76f27",
   "metadata": {
    "execution": {
     "iopub.execute_input": "2022-12-18T06:24:14.902398Z",
     "iopub.status.busy": "2022-12-18T06:24:14.901867Z",
     "iopub.status.idle": "2022-12-18T06:24:14.915154Z",
     "shell.execute_reply": "2022-12-18T06:24:14.913896Z"
    },
    "id": "DtBO1oGcjOBQ",
    "outputId": "ac72a0b6-bb63-4682-8716-1cbb04385777",
    "papermill": {
     "duration": 0.098356,
     "end_time": "2022-12-18T06:24:14.917976",
     "exception": false,
     "start_time": "2022-12-18T06:24:14.819620",
     "status": "completed"
    },
    "tags": []
   },
   "outputs": [
    {
     "data": {
      "text/plain": [
       "{146: 3,\n",
       " 128: 3,\n",
       " 130: 1,\n",
       " 173: 1,\n",
       " 144: 4,\n",
       " 244: 1,\n",
       " 135: 1,\n",
       " 138: 1,\n",
       " 162: 1,\n",
       " 152: 1,\n",
       " 161: 1,\n",
       " 142: 1,\n",
       " 139: 1,\n",
       " 136: 2,\n",
       " 133: 1,\n",
       " 314: 1,\n",
       " 155: 1,\n",
       " 140: 2,\n",
       " 179: 1,\n",
       " 177: 1,\n",
       " 165: 1,\n",
       " 129: 1,\n",
       " 151: 1,\n",
       " 132: 2,\n",
       " 164: 1,\n",
       " 148: 1,\n",
       " 147: 1,\n",
       " 159: 1,\n",
       " 154: 1}"
      ]
     },
     "execution_count": 60,
     "metadata": {},
     "output_type": "execute_result"
    }
   ],
   "source": [
    "a"
   ]
  },
  {
   "cell_type": "code",
   "execution_count": 61,
   "id": "da1e5a32",
   "metadata": {
    "execution": {
     "iopub.execute_input": "2022-12-18T06:24:15.022964Z",
     "iopub.status.busy": "2022-12-18T06:24:15.022530Z",
     "iopub.status.idle": "2022-12-18T06:24:15.028646Z",
     "shell.execute_reply": "2022-12-18T06:24:15.027794Z"
    },
    "id": "p2lo0NyAmjVY",
    "outputId": "88886224-4151-46c4-a721-02968309cd3d",
    "papermill": {
     "duration": 0.062286,
     "end_time": "2022-12-18T06:24:15.034094",
     "exception": false,
     "start_time": "2022-12-18T06:24:14.971808",
     "status": "completed"
    },
    "tags": []
   },
   "outputs": [
    {
     "data": {
      "text/plain": [
       "128"
      ]
     },
     "execution_count": 61,
     "metadata": {},
     "output_type": "execute_result"
    }
   ],
   "source": [
    "config['max_length']"
   ]
  },
  {
   "cell_type": "markdown",
   "id": "d755933e",
   "metadata": {
    "id": "ui7mYn0dNjQF",
    "papermill": {
     "duration": 0.048222,
     "end_time": "2022-12-18T06:24:15.131257",
     "exception": false,
     "start_time": "2022-12-18T06:24:15.083035",
     "status": "completed"
    },
    "tags": []
   },
   "source": [
    "## Dataset"
   ]
  },
  {
   "cell_type": "code",
   "execution_count": 62,
   "id": "c707010d",
   "metadata": {
    "execution": {
     "iopub.execute_input": "2022-12-18T06:24:15.227501Z",
     "iopub.status.busy": "2022-12-18T06:24:15.227119Z",
     "iopub.status.idle": "2022-12-18T06:24:15.233569Z",
     "shell.execute_reply": "2022-12-18T06:24:15.232748Z"
    },
    "id": "dW9pneCZ_t0J",
    "outputId": "57785e08-e8bc-4ab1-8557-0db5bba84889",
    "papermill": {
     "duration": 0.059947,
     "end_time": "2022-12-18T06:24:15.239007",
     "exception": false,
     "start_time": "2022-12-18T06:24:15.179060",
     "status": "completed"
    },
    "tags": []
   },
   "outputs": [
    {
     "data": {
      "text/plain": [
       "Index(['new_sentence', 'type', 'pn', 'time', 'sure', 'label_72'], dtype='object')"
      ]
     },
     "execution_count": 62,
     "metadata": {},
     "output_type": "execute_result"
    }
   ],
   "source": [
    "train.columns"
   ]
  },
  {
   "cell_type": "code",
   "execution_count": 63,
   "id": "b5ac71e8",
   "metadata": {
    "execution": {
     "iopub.execute_input": "2022-12-18T06:24:15.333741Z",
     "iopub.status.busy": "2022-12-18T06:24:15.333363Z",
     "iopub.status.idle": "2022-12-18T06:24:15.348692Z",
     "shell.execute_reply": "2022-12-18T06:24:15.347749Z"
    },
    "id": "2sx3TKynuV9z",
    "papermill": {
     "duration": 0.06667,
     "end_time": "2022-12-18T06:24:15.352685",
     "exception": false,
     "start_time": "2022-12-18T06:24:15.286015",
     "status": "completed"
    },
    "tags": []
   },
   "outputs": [],
   "source": [
    "class MyDataset(Dataset):\n",
    "    def __init__(self, \n",
    "                 df = train, \n",
    "                 tokenizer = config['tokenizer'], \n",
    "                 max_length = config['max_length'], \n",
    "                 mode = \"train\"):\n",
    "        self.df = df\n",
    "        self.max_length=  max_length\n",
    "        self.tokenizer = tokenizer\n",
    "        self.mode = mode\n",
    "\n",
    "        # x\n",
    "        self.text = self.df.new_sentence.values\n",
    "\n",
    "\n",
    "        \n",
    "    def __len__(self):\n",
    "        return len(self.df)\n",
    "\n",
    "    def __getitem__(self, idx):\n",
    "\n",
    "        sentence = self.text[idx]\n",
    "\n",
    "        inputs = self.tokenizer.encode_plus(sentence, \n",
    "                                            add_special_tokens=True,\n",
    "                                            # padding='max_length', \n",
    "                                            max_length = self.max_length, \n",
    "                                            truncation=True)\n",
    "        \n",
    "        input_ids = inputs['input_ids']\n",
    "        attention_mask = inputs['attention_mask']\n",
    "\n",
    "        if self.mode == \"train\":\n",
    "            \n",
    "            # y1: TYPE - 유형\n",
    "            y_type = self.df['type'].values[idx]\n",
    "\n",
    "            # y2:  PN - 극성\n",
    "            y_pn = self.df['pn'].values[idx]\n",
    "\n",
    "            # y3: time - 시제\n",
    "            y_time = self.df['time'].values[idx]\n",
    "\n",
    "            # y4: sure - 확실성\n",
    "            y_sure = self.df['sure'].values[idx]\n",
    "\n",
    "\n",
    "            return {'input_ids': inputs['input_ids'],\n",
    "                    'attention_mask': inputs['attention_mask'],\n",
    "                    'target_type': y_type,\n",
    "                    'target_pn': y_pn,\n",
    "                    'target_time': y_time,\n",
    "                    'target_sure': y_sure}\n",
    "\n",
    "        else:\n",
    "            return {'input_ids': inputs['input_ids'], 'attention_mask': inputs['attention_mask'],}"
   ]
  },
  {
   "cell_type": "markdown",
   "id": "58b81678",
   "metadata": {
    "id": "H8V6ahXGi2pW",
    "papermill": {
     "duration": 0.032176,
     "end_time": "2022-12-18T06:24:15.434340",
     "exception": false,
     "start_time": "2022-12-18T06:24:15.402164",
     "status": "completed"
    },
    "tags": []
   },
   "source": [
    "## Collate_fn"
   ]
  },
  {
   "cell_type": "code",
   "execution_count": 64,
   "id": "66d601eb",
   "metadata": {
    "execution": {
     "iopub.execute_input": "2022-12-18T06:24:15.503036Z",
     "iopub.status.busy": "2022-12-18T06:24:15.502593Z",
     "iopub.status.idle": "2022-12-18T06:24:15.507677Z",
     "shell.execute_reply": "2022-12-18T06:24:15.506553Z"
    },
    "id": "txVJOwaGjUkK",
    "papermill": {
     "duration": 0.040876,
     "end_time": "2022-12-18T06:24:15.509815",
     "exception": false,
     "start_time": "2022-12-18T06:24:15.468939",
     "status": "completed"
    },
    "tags": []
   },
   "outputs": [],
   "source": [
    "collate_fn = DataCollatorWithPadding(tokenizer=config['tokenizer'] )"
   ]
  },
  {
   "cell_type": "markdown",
   "id": "884fe707",
   "metadata": {
    "id": "YS5urSRNJZib",
    "papermill": {
     "duration": 0.031617,
     "end_time": "2022-12-18T06:24:15.573889",
     "exception": false,
     "start_time": "2022-12-18T06:24:15.542272",
     "status": "completed"
    },
    "tags": []
   },
   "source": [
    "##  MultilabelStratifiedKFold"
   ]
  },
  {
   "cell_type": "code",
   "execution_count": 65,
   "id": "e0e69f9a",
   "metadata": {
    "execution": {
     "iopub.execute_input": "2022-12-18T06:24:15.643867Z",
     "iopub.status.busy": "2022-12-18T06:24:15.643477Z",
     "iopub.status.idle": "2022-12-18T06:24:15.656510Z",
     "shell.execute_reply": "2022-12-18T06:24:15.655115Z"
    },
    "id": "cpXYGWTSC0l_",
    "outputId": "f36bf3d8-c3a2-46d1-df27-6a2231b7241d",
    "papermill": {
     "duration": 0.052561,
     "end_time": "2022-12-18T06:24:15.658772",
     "exception": false,
     "start_time": "2022-12-18T06:24:15.606211",
     "status": "completed"
    },
    "tags": []
   },
   "outputs": [
    {
     "data": {
      "text/html": [
       "<div>\n",
       "<style scoped>\n",
       "    .dataframe tbody tr th:only-of-type {\n",
       "        vertical-align: middle;\n",
       "    }\n",
       "\n",
       "    .dataframe tbody tr th {\n",
       "        vertical-align: top;\n",
       "    }\n",
       "\n",
       "    .dataframe thead th {\n",
       "        text-align: right;\n",
       "    }\n",
       "</style>\n",
       "<table border=\"1\" class=\"dataframe\">\n",
       "  <thead>\n",
       "    <tr style=\"text-align: right;\">\n",
       "      <th></th>\n",
       "      <th>new_sentence</th>\n",
       "      <th>type</th>\n",
       "      <th>pn</th>\n",
       "      <th>time</th>\n",
       "      <th>sure</th>\n",
       "      <th>label_72</th>\n",
       "    </tr>\n",
       "  </thead>\n",
       "  <tbody>\n",
       "    <tr>\n",
       "      <th>0</th>\n",
       "      <td>0.75%포인트 금리 인상은 1994년 이후 28년 만에 처음이다.</td>\n",
       "      <td>0</td>\n",
       "      <td>0</td>\n",
       "      <td>0</td>\n",
       "      <td>1</td>\n",
       "      <td>23</td>\n",
       "    </tr>\n",
       "    <tr>\n",
       "      <th>1</th>\n",
       "      <td>이어 ＂앞으로 전문가들과 함께 4주 단위로 상황을 재평가할 예정＂이라며 ＂그 이전이...</td>\n",
       "      <td>0</td>\n",
       "      <td>0</td>\n",
       "      <td>1</td>\n",
       "      <td>1</td>\n",
       "      <td>19</td>\n",
       "    </tr>\n",
       "    <tr>\n",
       "      <th>2</th>\n",
       "      <td>정부가 고유가 대응을 위해 7월부터 연말까지 유류세 인하 폭을 30%에서 37%까지...</td>\n",
       "      <td>0</td>\n",
       "      <td>0</td>\n",
       "      <td>2</td>\n",
       "      <td>1</td>\n",
       "      <td>21</td>\n",
       "    </tr>\n",
       "    <tr>\n",
       "      <th>3</th>\n",
       "      <td>서울시는 올해 3월 즉시 견인 유예시간 60분을 제공하겠다고 밝혔지만, 하루 만에 ...</td>\n",
       "      <td>0</td>\n",
       "      <td>0</td>\n",
       "      <td>1</td>\n",
       "      <td>1</td>\n",
       "      <td>19</td>\n",
       "    </tr>\n",
       "    <tr>\n",
       "      <th>4</th>\n",
       "      <td>익사한 자는 사다리에 태워 거꾸로 놓고 소금으로 코를 막아 가득 채운다.</td>\n",
       "      <td>0</td>\n",
       "      <td>0</td>\n",
       "      <td>0</td>\n",
       "      <td>1</td>\n",
       "      <td>23</td>\n",
       "    </tr>\n",
       "  </tbody>\n",
       "</table>\n",
       "</div>"
      ],
      "text/plain": [
       "                                        new_sentence  type  pn  time  sure  \\\n",
       "0              0.75%포인트 금리 인상은 1994년 이후 28년 만에 처음이다.     0   0     0     1   \n",
       "1  이어 ＂앞으로 전문가들과 함께 4주 단위로 상황을 재평가할 예정＂이라며 ＂그 이전이...     0   0     1     1   \n",
       "2  정부가 고유가 대응을 위해 7월부터 연말까지 유류세 인하 폭을 30%에서 37%까지...     0   0     2     1   \n",
       "3  서울시는 올해 3월 즉시 견인 유예시간 60분을 제공하겠다고 밝혔지만, 하루 만에 ...     0   0     1     1   \n",
       "4           익사한 자는 사다리에 태워 거꾸로 놓고 소금으로 코를 막아 가득 채운다.     0   0     0     1   \n",
       "\n",
       "   label_72  \n",
       "0        23  \n",
       "1        19  \n",
       "2        21  \n",
       "3        19  \n",
       "4        23  "
      ]
     },
     "execution_count": 65,
     "metadata": {},
     "output_type": "execute_result"
    }
   ],
   "source": [
    "train.head()"
   ]
  },
  {
   "cell_type": "code",
   "execution_count": 66,
   "id": "85ec0098",
   "metadata": {
    "execution": {
     "iopub.execute_input": "2022-12-18T06:24:15.781252Z",
     "iopub.status.busy": "2022-12-18T06:24:15.780887Z",
     "iopub.status.idle": "2022-12-18T06:24:15.787544Z",
     "shell.execute_reply": "2022-12-18T06:24:15.786348Z"
    },
    "id": "iFxZX20yDiWQ",
    "outputId": "518bb8d3-9338-4edf-fb6c-cbcd82ae7678",
    "papermill": {
     "duration": 0.041849,
     "end_time": "2022-12-18T06:24:15.789604",
     "exception": false,
     "start_time": "2022-12-18T06:24:15.747755",
     "status": "completed"
    },
    "tags": []
   },
   "outputs": [
    {
     "data": {
      "text/plain": [
       "Index(['new_sentence', 'type', 'pn', 'time', 'sure', 'label_72'], dtype='object')"
      ]
     },
     "execution_count": 66,
     "metadata": {},
     "output_type": "execute_result"
    }
   ],
   "source": [
    "train.columns"
   ]
  },
  {
   "cell_type": "code",
   "execution_count": 67,
   "id": "497e2457",
   "metadata": {
    "execution": {
     "iopub.execute_input": "2022-12-18T06:24:15.855548Z",
     "iopub.status.busy": "2022-12-18T06:24:15.854776Z",
     "iopub.status.idle": "2022-12-18T06:24:15.861680Z",
     "shell.execute_reply": "2022-12-18T06:24:15.860689Z"
    },
    "id": "bM-ZQepAzH4i",
    "outputId": "710e262b-0f39-4de4-d1ad-f4a354a4e924",
    "papermill": {
     "duration": 0.042359,
     "end_time": "2022-12-18T06:24:15.863684",
     "exception": false,
     "start_time": "2022-12-18T06:24:15.821325",
     "status": "completed"
    },
    "tags": []
   },
   "outputs": [
    {
     "data": {
      "text/plain": [
       "['type', 'pn', 'time', 'sure']"
      ]
     },
     "execution_count": 67,
     "metadata": {},
     "output_type": "execute_result"
    }
   ],
   "source": [
    "config['target_cols'] = ['type', 'pn', 'time', 'sure']\n",
    "config['target_cols']"
   ]
  },
  {
   "cell_type": "code",
   "execution_count": 68,
   "id": "18102d88",
   "metadata": {
    "execution": {
     "iopub.execute_input": "2022-12-18T06:24:15.930618Z",
     "iopub.status.busy": "2022-12-18T06:24:15.929757Z",
     "iopub.status.idle": "2022-12-18T06:24:15.935796Z",
     "shell.execute_reply": "2022-12-18T06:24:15.934850Z"
    },
    "id": "sL7EQnfuvN99",
    "outputId": "2b4afbf8-d504-4a98-9263-6d37e534f563",
    "papermill": {
     "duration": 0.041328,
     "end_time": "2022-12-18T06:24:15.937846",
     "exception": false,
     "start_time": "2022-12-18T06:24:15.896518",
     "status": "completed"
    },
    "tags": []
   },
   "outputs": [
    {
     "data": {
      "text/plain": [
       "10"
      ]
     },
     "execution_count": 68,
     "metadata": {},
     "output_type": "execute_result"
    }
   ],
   "source": [
    "config['n_folds']"
   ]
  },
  {
   "cell_type": "code",
   "execution_count": 69,
   "id": "da0ba0c7",
   "metadata": {
    "execution": {
     "iopub.execute_input": "2022-12-18T06:24:16.003794Z",
     "iopub.status.busy": "2022-12-18T06:24:16.002915Z",
     "iopub.status.idle": "2022-12-18T06:24:16.411379Z",
     "shell.execute_reply": "2022-12-18T06:24:16.410055Z"
    },
    "id": "iCiUAUzQGg6u",
    "outputId": "7b6b1483-8cc4-4b10-c600-7928547d65bb",
    "papermill": {
     "duration": 0.443679,
     "end_time": "2022-12-18T06:24:16.413575",
     "exception": false,
     "start_time": "2022-12-18T06:24:15.969896",
     "status": "completed"
    },
    "tags": []
   },
   "outputs": [
    {
     "name": "stdout",
     "output_type": "stream",
     "text": [
      "(16541, 7)\n"
     ]
    },
    {
     "data": {
      "text/html": [
       "<div>\n",
       "<style scoped>\n",
       "    .dataframe tbody tr th:only-of-type {\n",
       "        vertical-align: middle;\n",
       "    }\n",
       "\n",
       "    .dataframe tbody tr th {\n",
       "        vertical-align: top;\n",
       "    }\n",
       "\n",
       "    .dataframe thead th {\n",
       "        text-align: right;\n",
       "    }\n",
       "</style>\n",
       "<table border=\"1\" class=\"dataframe\">\n",
       "  <thead>\n",
       "    <tr style=\"text-align: right;\">\n",
       "      <th></th>\n",
       "      <th>new_sentence</th>\n",
       "      <th>type</th>\n",
       "      <th>pn</th>\n",
       "      <th>time</th>\n",
       "      <th>sure</th>\n",
       "      <th>label_72</th>\n",
       "      <th>kfold</th>\n",
       "    </tr>\n",
       "  </thead>\n",
       "  <tbody>\n",
       "    <tr>\n",
       "      <th>0</th>\n",
       "      <td>0.75%포인트 금리 인상은 1994년 이후 28년 만에 처음이다.</td>\n",
       "      <td>0</td>\n",
       "      <td>0</td>\n",
       "      <td>0</td>\n",
       "      <td>1</td>\n",
       "      <td>23</td>\n",
       "      <td>6</td>\n",
       "    </tr>\n",
       "    <tr>\n",
       "      <th>1</th>\n",
       "      <td>이어 ＂앞으로 전문가들과 함께 4주 단위로 상황을 재평가할 예정＂이라며 ＂그 이전이...</td>\n",
       "      <td>0</td>\n",
       "      <td>0</td>\n",
       "      <td>1</td>\n",
       "      <td>1</td>\n",
       "      <td>19</td>\n",
       "      <td>0</td>\n",
       "    </tr>\n",
       "    <tr>\n",
       "      <th>2</th>\n",
       "      <td>정부가 고유가 대응을 위해 7월부터 연말까지 유류세 인하 폭을 30%에서 37%까지...</td>\n",
       "      <td>0</td>\n",
       "      <td>0</td>\n",
       "      <td>2</td>\n",
       "      <td>1</td>\n",
       "      <td>21</td>\n",
       "      <td>2</td>\n",
       "    </tr>\n",
       "    <tr>\n",
       "      <th>3</th>\n",
       "      <td>서울시는 올해 3월 즉시 견인 유예시간 60분을 제공하겠다고 밝혔지만, 하루 만에 ...</td>\n",
       "      <td>0</td>\n",
       "      <td>0</td>\n",
       "      <td>1</td>\n",
       "      <td>1</td>\n",
       "      <td>19</td>\n",
       "      <td>9</td>\n",
       "    </tr>\n",
       "    <tr>\n",
       "      <th>4</th>\n",
       "      <td>익사한 자는 사다리에 태워 거꾸로 놓고 소금으로 코를 막아 가득 채운다.</td>\n",
       "      <td>0</td>\n",
       "      <td>0</td>\n",
       "      <td>0</td>\n",
       "      <td>1</td>\n",
       "      <td>23</td>\n",
       "      <td>2</td>\n",
       "    </tr>\n",
       "  </tbody>\n",
       "</table>\n",
       "</div>"
      ],
      "text/plain": [
       "                                        new_sentence  type  pn  time  sure  \\\n",
       "0              0.75%포인트 금리 인상은 1994년 이후 28년 만에 처음이다.     0   0     0     1   \n",
       "1  이어 ＂앞으로 전문가들과 함께 4주 단위로 상황을 재평가할 예정＂이라며 ＂그 이전이...     0   0     1     1   \n",
       "2  정부가 고유가 대응을 위해 7월부터 연말까지 유류세 인하 폭을 30%에서 37%까지...     0   0     2     1   \n",
       "3  서울시는 올해 3월 즉시 견인 유예시간 60분을 제공하겠다고 밝혔지만, 하루 만에 ...     0   0     1     1   \n",
       "4           익사한 자는 사다리에 태워 거꾸로 놓고 소금으로 코를 막아 가득 채운다.     0   0     0     1   \n",
       "\n",
       "   label_72  kfold  \n",
       "0        23      6  \n",
       "1        19      0  \n",
       "2        21      2  \n",
       "3        19      9  \n",
       "4        23      2  "
      ]
     },
     "execution_count": 69,
     "metadata": {},
     "output_type": "execute_result"
    }
   ],
   "source": [
    "from iterstrat.ml_stratifiers import MultilabelStratifiedKFold\n",
    "\n",
    "skf = MultilabelStratifiedKFold(n_splits = config['n_folds'], shuffle = True, random_state = config['seed'])\n",
    "\n",
    "for fold, (_, val_index) in enumerate(skf.split(X=train, y=train[config['target_cols']])):\n",
    "    train.loc[val_index, 'kfold'] = int(fold)\n",
    "\n",
    "train['kfold'] = train['kfold'].astype('int')\n",
    "print(train.shape)\n",
    "train.head()"
   ]
  },
  {
   "cell_type": "markdown",
   "id": "dad3f65d",
   "metadata": {
    "id": "oCJfT3qeSDbe",
    "papermill": {
     "duration": 0.034661,
     "end_time": "2022-12-18T06:24:16.482780",
     "exception": false,
     "start_time": "2022-12-18T06:24:16.448119",
     "status": "completed"
    },
    "tags": []
   },
   "source": [
    "## Dataset -> DataLoader in ONESHOT"
   ]
  },
  {
   "cell_type": "code",
   "execution_count": 70,
   "id": "1f1b17cd",
   "metadata": {
    "execution": {
     "iopub.execute_input": "2022-12-18T06:24:16.548542Z",
     "iopub.status.busy": "2022-12-18T06:24:16.548205Z",
     "iopub.status.idle": "2022-12-18T06:24:16.555560Z",
     "shell.execute_reply": "2022-12-18T06:24:16.554581Z"
    },
    "id": "WJVjZTCLQ7Ga",
    "papermill": {
     "duration": 0.042599,
     "end_time": "2022-12-18T06:24:16.557661",
     "exception": false,
     "start_time": "2022-12-18T06:24:16.515062",
     "status": "completed"
    },
    "tags": []
   },
   "outputs": [],
   "source": [
    "def prepare_loader(fold):\n",
    "    \n",
    "    train_df = train[train.kfold != fold].reset_index(drop=True)\n",
    "    valid_df = train[train.kfold == fold].reset_index(drop=True)\n",
    "\n",
    "    ## train, valid -> Dataset\n",
    "    train_ds = MyDataset(train_df, \n",
    "                       tokenizer = config['tokenizer'],\n",
    "                       max_length = config['max_length'],\n",
    "                       mode = \"train\")\n",
    "\n",
    "    valid_ds = MyDataset(valid_df, \n",
    "                       tokenizer = config['tokenizer'],\n",
    "                       max_length = config['max_length'],\n",
    "                       mode = \"train\")\n",
    "    \n",
    "    # Dataset -> DataLoader\n",
    "    train_loader = DataLoader(train_ds,\n",
    "                              batch_size = config['train_batch_size'], \n",
    "                              collate_fn=collate_fn, \n",
    "                              num_workers = 2,\n",
    "                              shuffle = True, \n",
    "                              pin_memory = True, \n",
    "                              drop_last= True)\n",
    "\n",
    "    valid_loader = DataLoader(valid_ds,\n",
    "                              batch_size = config['valid_batch_size'],\n",
    "                              collate_fn=collate_fn,\n",
    "                              num_workers = 2,\n",
    "                              shuffle = False, \n",
    "                              pin_memory = True,)\n",
    "    \n",
    "    return train_loader, valid_loader"
   ]
  },
  {
   "cell_type": "markdown",
   "id": "44869379",
   "metadata": {
    "id": "VdcOc4iUhXO5",
    "papermill": {
     "duration": 0.034661,
     "end_time": "2022-12-18T06:24:16.626852",
     "exception": false,
     "start_time": "2022-12-18T06:24:16.592191",
     "status": "completed"
    },
    "tags": []
   },
   "source": [
    "## MODEL"
   ]
  },
  {
   "cell_type": "code",
   "execution_count": 71,
   "id": "329298b1",
   "metadata": {
    "execution": {
     "iopub.execute_input": "2022-12-18T06:24:16.695723Z",
     "iopub.status.busy": "2022-12-18T06:24:16.694720Z",
     "iopub.status.idle": "2022-12-18T06:24:16.701228Z",
     "shell.execute_reply": "2022-12-18T06:24:16.700182Z"
    },
    "id": "0Pf7VYeEHxkf",
    "papermill": {
     "duration": 0.04292,
     "end_time": "2022-12-18T06:24:16.703313",
     "exception": false,
     "start_time": "2022-12-18T06:24:16.660393",
     "status": "completed"
    },
    "tags": []
   },
   "outputs": [],
   "source": [
    "class MeanPooling(nn.Module):\n",
    "    def __init__(self):\n",
    "        super(MeanPooling, self).__init__()\n",
    "        \n",
    "    def forward(self, last_hidden_state, attention_mask):\n",
    "        input_mask_expanded = attention_mask.unsqueeze(-1).expand(last_hidden_state.size()).float()\n",
    "        sum_embeddings = torch.sum(last_hidden_state * input_mask_expanded, 1)\n",
    "        sum_mask = input_mask_expanded.sum(1)\n",
    "        sum_mask = torch.clamp(sum_mask, min=1e-9)\n",
    "        mean_embeddings = sum_embeddings / sum_mask\n",
    "        return mean_embeddings"
   ]
  },
  {
   "cell_type": "code",
   "execution_count": 72,
   "id": "47a45402",
   "metadata": {
    "execution": {
     "iopub.execute_input": "2022-12-18T06:24:16.773234Z",
     "iopub.status.busy": "2022-12-18T06:24:16.772916Z",
     "iopub.status.idle": "2022-12-18T06:24:16.784524Z",
     "shell.execute_reply": "2022-12-18T06:24:16.783652Z"
    },
    "id": "PYkgjsBIHxkf",
    "papermill": {
     "duration": 0.049531,
     "end_time": "2022-12-18T06:24:16.786586",
     "exception": false,
     "start_time": "2022-12-18T06:24:16.737055",
     "status": "completed"
    },
    "tags": []
   },
   "outputs": [],
   "source": [
    "class Model(nn.Module):\n",
    "    def __init__(self, model_name):\n",
    "        super(Model, self).__init__()\n",
    "        self.model = AutoModel.from_pretrained(model_name,  attention_type=\"original_full\")\n",
    "        self.config = AutoConfig.from_pretrained(model_name)\n",
    "        self.drop = nn.Dropout(p=0.2)\n",
    "        self.pooler = MeanPooling()\n",
    "\n",
    "        # TYPE: 유형\n",
    "        self.fc_type = nn.Linear(self.config.hidden_size, 4)\n",
    "        self.logsoftmax_type = nn.LogSoftmax(dim = -1)\n",
    "\n",
    "        # PN: 극성\n",
    "        self.fc_pn = nn.Linear(self.config.hidden_size, 3)\n",
    "        self.logsoftmax_pn = nn.LogSoftmax(dim = -1)\n",
    "\n",
    "        # TIME: 시제\n",
    "        self.fc_time = nn.Linear(self.config.hidden_size, 3)\n",
    "        self.logsoftmax_time = nn.LogSoftmax(dim = -1)\n",
    "\n",
    "        # SURE: 확실성 - Binary Classification\n",
    "        self.fc_sure = nn.Linear(self.config.hidden_size, 1)\n",
    "        self.sigmoid_sure = nn.Sigmoid()\n",
    "        \n",
    "\n",
    "    def forward(self, ids, mask):        \n",
    "        out = self.model(input_ids=ids,attention_mask=mask,\n",
    "                         output_hidden_states=False)\n",
    "        out = self.pooler(out.last_hidden_state, mask)\n",
    "        out = self.drop(out)\n",
    "\n",
    "        # TYPE: 유형\n",
    "        out_type = self.fc_type(out)\n",
    "        out_type = self.logsoftmax_type(out_type)\n",
    "\n",
    "        # PN: 극성\n",
    "        out_pn = self.fc_pn(out)\n",
    "        out_pn = self.logsoftmax_pn(out_pn)\n",
    "\n",
    "        # TIME: 시제\n",
    "        out_time = self.fc_time(out)\n",
    "        out_time = self.logsoftmax_time(out_time)\n",
    "\n",
    "        # SURE: 확실성 - Binary Classification\n",
    "        out_sure = self.fc_sure(out)\n",
    "        out_sure = self.sigmoid_sure(out_sure)\n",
    "        \n",
    "        outputs = {'type': out_type, 'pn': out_pn, 'time': out_time, 'sure': out_sure}\n",
    "\n",
    "        return outputs"
   ]
  },
  {
   "cell_type": "code",
   "execution_count": 73,
   "id": "36ae243d",
   "metadata": {
    "execution": {
     "iopub.execute_input": "2022-12-18T06:24:16.858273Z",
     "iopub.status.busy": "2022-12-18T06:24:16.857400Z",
     "iopub.status.idle": "2022-12-18T06:24:37.002974Z",
     "shell.execute_reply": "2022-12-18T06:24:37.001931Z"
    },
    "id": "AOgYcCNhPyxR",
    "outputId": "dbb57b06-5c39-44a3-8d07-56a0a8725ab2",
    "papermill": {
     "duration": 20.184469,
     "end_time": "2022-12-18T06:24:37.006040",
     "exception": false,
     "start_time": "2022-12-18T06:24:16.821571",
     "status": "completed"
    },
    "tags": []
   },
   "outputs": [
    {
     "data": {
      "application/vnd.jupyter.widget-view+json": {
       "model_id": "bcf02ecc7fff4ada9b6337a293c841b9",
       "version_major": 2,
       "version_minor": 0
      },
      "text/plain": [
       "Downloading:   0%|          | 0.00/870 [00:00<?, ?B/s]"
      ]
     },
     "metadata": {},
     "output_type": "display_data"
    },
    {
     "data": {
      "application/vnd.jupyter.widget-view+json": {
       "model_id": "8d46c285a76546c1999a3110a0e63db0",
       "version_major": 2,
       "version_minor": 0
      },
      "text/plain": [
       "Downloading:   0%|          | 0.00/436M [00:00<?, ?B/s]"
      ]
     },
     "metadata": {},
     "output_type": "display_data"
    },
    {
     "name": "stderr",
     "output_type": "stream",
     "text": [
      "Some weights of the model checkpoint at monologg/kobigbird-bert-base were not used when initializing BigBirdModel: ['cls.predictions.transform.dense.bias', 'cls.predictions.decoder.weight', 'cls.predictions.transform.dense.weight', 'cls.predictions.transform.LayerNorm.weight', 'cls.seq_relationship.weight', 'cls.predictions.decoder.bias', 'cls.predictions.transform.LayerNorm.bias', 'cls.predictions.bias', 'cls.seq_relationship.bias']\n",
      "- This IS expected if you are initializing BigBirdModel from the checkpoint of a model trained on another task or with another architecture (e.g. initializing a BertForSequenceClassification model from a BertForPreTraining model).\n",
      "- This IS NOT expected if you are initializing BigBirdModel from the checkpoint of a model that you expect to be exactly identical (initializing a BertForSequenceClassification model from a BertForSequenceClassification model).\n"
     ]
    }
   ],
   "source": [
    "model = Model(config['model'])\n",
    "model = model.to(config['device'])"
   ]
  },
  {
   "cell_type": "markdown",
   "id": "3ade535b",
   "metadata": {
    "id": "Pnc0I8iESkN3",
    "papermill": {
     "duration": 0.049307,
     "end_time": "2022-12-18T06:24:37.106370",
     "exception": false,
     "start_time": "2022-12-18T06:24:37.057063",
     "status": "completed"
    },
    "tags": []
   },
   "source": [
    "## Loss Function"
   ]
  },
  {
   "cell_type": "code",
   "execution_count": 74,
   "id": "cfcbfc7d",
   "metadata": {
    "execution": {
     "iopub.execute_input": "2022-12-18T06:24:37.205134Z",
     "iopub.status.busy": "2022-12-18T06:24:37.204588Z",
     "iopub.status.idle": "2022-12-18T06:24:37.214340Z",
     "shell.execute_reply": "2022-12-18T06:24:37.213287Z"
    },
    "id": "d-ycblfb2-Fa",
    "papermill": {
     "duration": 0.066072,
     "end_time": "2022-12-18T06:24:37.220017",
     "exception": false,
     "start_time": "2022-12-18T06:24:37.153945",
     "status": "completed"
    },
    "tags": []
   },
   "outputs": [],
   "source": [
    "loss_fn = {'type': nn.NLLLoss().to(config['device']),\n",
    "           'pn' : nn.NLLLoss().to(config['device']),\n",
    "           'time': nn.NLLLoss().to(config['device']),\n",
    "           'sure': nn.BCELoss().to(config['device'])}"
   ]
  },
  {
   "cell_type": "markdown",
   "id": "bd25fd70",
   "metadata": {
    "id": "7sjUbJEVzrir",
    "papermill": {
     "duration": 0.048513,
     "end_time": "2022-12-18T06:24:37.316764",
     "exception": false,
     "start_time": "2022-12-18T06:24:37.268251",
     "status": "completed"
    },
    "tags": []
   },
   "source": [
    "## Optimizer & Scheduler"
   ]
  },
  {
   "cell_type": "code",
   "execution_count": 75,
   "id": "c50689c0",
   "metadata": {
    "execution": {
     "iopub.execute_input": "2022-12-18T06:24:37.420798Z",
     "iopub.status.busy": "2022-12-18T06:24:37.419815Z",
     "iopub.status.idle": "2022-12-18T06:24:37.426590Z",
     "shell.execute_reply": "2022-12-18T06:24:37.425690Z"
    },
    "id": "M2Mlfi2Uzoo4",
    "papermill": {
     "duration": 0.052823,
     "end_time": "2022-12-18T06:24:37.428657",
     "exception": false,
     "start_time": "2022-12-18T06:24:37.375834",
     "status": "completed"
    },
    "tags": []
   },
   "outputs": [],
   "source": [
    "# optimizer\n",
    "optimizer = torch.optim.AdamW(model.parameters(),\n",
    "                              lr=config['learning_rate'], \n",
    "                              weight_decay=config['weight_decay']\n",
    "                              )"
   ]
  },
  {
   "cell_type": "code",
   "execution_count": 77,
   "id": "93746279",
   "metadata": {
    "execution": {
     "iopub.execute_input": "2022-12-18T06:24:37.570322Z",
     "iopub.status.busy": "2022-12-18T06:24:37.570022Z",
     "iopub.status.idle": "2022-12-18T06:24:37.577256Z",
     "shell.execute_reply": "2022-12-18T06:24:37.576214Z"
    },
    "id": "IFWLDmzSf6L5",
    "papermill": {
     "duration": 0.043632,
     "end_time": "2022-12-18T06:24:37.579422",
     "exception": false,
     "start_time": "2022-12-18T06:24:37.535790",
     "status": "completed"
    },
    "tags": []
   },
   "outputs": [],
   "source": [
    "import torch.optim as optim\n",
    "\n",
    "class CosineWarmupScheduler(optim.lr_scheduler._LRScheduler):\n",
    "    def __init__(self, optimizer, warmup, max_iters):\n",
    "        self.warmup = warmup\n",
    "        self.max_num_iters = max_iters\n",
    "        super().__init__(optimizer)\n",
    "\n",
    "    def get_lr(self):\n",
    "        lr_factor = self.get_lr_factor(epoch=self.last_epoch)\n",
    "        return [base_lr * lr_factor for base_lr in self.base_lrs]\n",
    "\n",
    "    def get_lr_factor(self, epoch):\n",
    "        lr_factor = 0.5 * (1 + np.cos(np.pi * epoch / self.max_num_iters))\n",
    "        if epoch <= self.warmup:\n",
    "            lr_factor *= epoch * 1.0 / self.warmup\n",
    "        return lr_factor"
   ]
  },
  {
   "cell_type": "markdown",
   "id": "1f2b2607",
   "metadata": {
    "id": "SrDHlDsNALHz",
    "papermill": {
     "duration": 0.034052,
     "end_time": "2022-12-18T06:24:37.646928",
     "exception": false,
     "start_time": "2022-12-18T06:24:37.612876",
     "status": "completed"
    },
    "tags": []
   },
   "source": [
    "## torchmetrics - Metric Func"
   ]
  },
  {
   "cell_type": "code",
   "execution_count": 79,
   "id": "acf61fb2",
   "metadata": {
    "execution": {
     "iopub.execute_input": "2022-12-18T06:24:37.801277Z",
     "iopub.status.busy": "2022-12-18T06:24:37.800934Z",
     "iopub.status.idle": "2022-12-18T06:24:37.807406Z",
     "shell.execute_reply": "2022-12-18T06:24:37.806456Z"
    },
    "id": "YDPWxBPcnbwG",
    "outputId": "f1c8f2de-7987-40e7-face-1f554439da1d",
    "papermill": {
     "duration": 0.053576,
     "end_time": "2022-12-18T06:24:37.810664",
     "exception": false,
     "start_time": "2022-12-18T06:24:37.757088",
     "status": "completed"
    },
    "tags": []
   },
   "outputs": [
    {
     "name": "stdout",
     "output_type": "stream",
     "text": [
      "Train | Type' | PosNg | Time' | Sure' |\n",
      "ACCUR | 0.784 | 0.223 | 0.222 | 0.222 |\n",
      "F1_SC | 0.784 | 0.784 | 0.332 | 0.334 |\n"
     ]
    }
   ],
   "source": [
    "# What I Tired to do ...\n",
    "acc_type, f1_type = 0.784, 0.784\n",
    "acc_pn, f1_pn = 0.223, 0.784\n",
    "acc_sure, f1_sure = 0.222, 0.334\n",
    "acc_time, f1_time =0.222, 0.332\n",
    "\n",
    "print(f\"Train | Type' | PosNg | Time' | Sure' |\")\n",
    "print(f\"ACCUR | {acc_type:.3f} | {acc_pn:.3f} | {acc_time:.3f} | {acc_sure:.3f} |\")\n",
    "print(f\"F1_SC | {f1_type:.3f} | {f1_pn:.3f} | {f1_time:.3f} | {f1_sure:.3f} |\")"
   ]
  },
  {
   "cell_type": "markdown",
   "id": "a8bd48ba",
   "metadata": {
    "id": "EAeFm5ZaALH0",
    "papermill": {
     "duration": 0.034995,
     "end_time": "2022-12-18T06:24:37.881353",
     "exception": false,
     "start_time": "2022-12-18T06:24:37.846358",
     "status": "completed"
    },
    "tags": []
   },
   "source": [
    "## Train One Epoch Function"
   ]
  },
  {
   "cell_type": "code",
   "execution_count": 80,
   "id": "46a48154",
   "metadata": {
    "execution": {
     "iopub.execute_input": "2022-12-18T06:24:37.953834Z",
     "iopub.status.busy": "2022-12-18T06:24:37.953461Z",
     "iopub.status.idle": "2022-12-18T06:24:37.997484Z",
     "shell.execute_reply": "2022-12-18T06:24:37.996551Z"
    },
    "id": "xXLKhV2AALH0",
    "papermill": {
     "duration": 0.082409,
     "end_time": "2022-12-18T06:24:37.999766",
     "exception": false,
     "start_time": "2022-12-18T06:24:37.917357",
     "status": "completed"
    },
    "tags": []
   },
   "outputs": [],
   "source": [
    "def train_one_epoch(model, \n",
    "                    dataloader, \n",
    "                    optimizer,\n",
    "                    scheduler,\n",
    "                    epoch,\n",
    "                    device = config['device']):\n",
    "\n",
    "\n",
    "    ################ torchmetrics: initialize metric #########################\n",
    "    metric_acc_type = MulticlassAccuracy(average = 'weighted', num_classes = 4).to(config['device'])\n",
    "    metric_f1_type = MulticlassF1Score(average = 'weighted', num_classes=4).to(config['device'])\n",
    "\n",
    "    metric_acc_pn = MulticlassAccuracy(average = 'weighted', num_classes = 3).to(config['device'])\n",
    "    metric_f1_pn = MulticlassF1Score(average = 'weighted', num_classes = 3).to(config['device'])\n",
    "\n",
    "    metric_acc_time = MulticlassAccuracy(average = 'weighted', num_classes = 3).to(config['device'])\n",
    "    metric_f1_time = MulticlassF1Score(average = 'weighted', num_classes=3).to(config['device'])\n",
    "\n",
    "    metric_bi_acc = BinaryAccuracy().to(config['device'])\n",
    "    metric_bi_f1 = BinaryF1Score().to(config['device'])\n",
    "    \n",
    "    ############################################################################\n",
    "\n",
    "    train_loss = 0\n",
    "    dataset_size = 0\n",
    "\n",
    "    bar = tqdm(enumerate(dataloader), total = len(dataloader))\n",
    "\n",
    "    model.train()\n",
    "    for step, data in bar:\n",
    "        ids = data['input_ids'].to(device, dtype = torch.long)\n",
    "        masks = data['attention_mask'].to(device, dtype = torch.long)\n",
    "        # targets\n",
    "        t_type = data['target_type'].to(device, dtype = torch.long)\n",
    "        t_pn = data['target_pn'].to(device, dtype = torch.long)\n",
    "        t_time = data['target_time'].to(device, dtype = torch.long)\n",
    "        t_sure = data['target_sure'].to(device, dtype = torch.float)\n",
    " \n",
    "        # y_preds\n",
    "        y_preds = model(ids, masks) \n",
    "\n",
    "        # Loss\n",
    "        loss1 = loss_fn['type'](y_preds['type'], t_type )\n",
    "        loss2 = loss_fn['pn'](y_preds['pn'], t_pn )\n",
    "        loss3 = loss_fn['time'](y_preds['time'], t_time )\n",
    "        y_preds['sure'] = y_preds['sure'].view(-1)\n",
    "        loss4 = loss_fn['sure'](y_preds['sure'], t_sure )\n",
    "\n",
    "        # loss sum\n",
    "        loss = (loss1 + loss2 + loss3 + loss4) / 4\n",
    "\n",
    "        optimizer.zero_grad()\n",
    "        loss.backward()\n",
    "        \n",
    "        # Gradient-Clipping | source: https://velog.io/@seven7724/Transformer-계열의-훈련-Tricks\n",
    "        torch.nn.utils.clip_grad_norm_(model.parameters(), 5)\n",
    "\n",
    "        optimizer.step()\n",
    "\n",
    "        if scheduler is not None:\n",
    "            scheduler.step()\n",
    "        \n",
    "        batch_size = ids.size(0)\n",
    "        dataset_size += batch_size\n",
    "        train_loss += float(loss.item() * batch_size) \n",
    "        train_epoch_loss = train_loss / dataset_size \n",
    "        \n",
    "        # Type - ACC, F1\n",
    "        acc_type = metric_acc_type(y_preds['type'], t_type )\n",
    "        acc_type = acc_type.detach().cpu().item()\n",
    "        f1_type = metric_f1_type(y_preds['type'], t_type )\n",
    "        f1_type = f1_type.detach().cpu().item()\n",
    "\n",
    "        # PN - ACC, F1\n",
    "        acc_pn = metric_acc_pn(y_preds['pn'], t_pn )\n",
    "        acc_pn = acc_pn.detach().cpu().item()\n",
    "        f1_pn = metric_f1_pn(y_preds['pn'], t_pn )\n",
    "        f1_pn = f1_pn.detach().cpu().item()\n",
    "\n",
    "        # TIME - ACC, F1\n",
    "        acc_time = metric_acc_time(y_preds['time'], t_time )\n",
    "        acc_time = acc_time.detach().cpu().item()\n",
    "        f1_time = metric_f1_time(y_preds['time'], t_time )\n",
    "        f1_time = f1_time.detach().cpu().item()\n",
    "\n",
    "        # SURE - ACC, F1\n",
    "        acc_sure = metric_bi_acc(y_preds['sure'], t_sure )\n",
    "        acc_sure = acc_sure.detach().cpu().item()\n",
    "        f1_sure = metric_bi_f1(y_preds['sure'], t_sure )\n",
    "        f1_sure = f1_sure.detach().cpu().item()\n",
    "\n",
    "        bar.set_postfix(Epoch = epoch, \n",
    "                        Train_loss = train_epoch_loss,\n",
    "                        LR = optimizer.param_groups[0]['lr'])\n",
    "        \n",
    "    # Type - ACC, F1\n",
    "    acc_type = metric_acc_type.compute()\n",
    "    f1_type = metric_f1_type.compute()\n",
    "\n",
    "    # PN - ACC, F1\n",
    "    acc_pn = metric_acc_pn.compute()\n",
    "    f1_pn = metric_f1_pn.compute()\n",
    "\n",
    "    # TIME - ACC, F1\n",
    "    acc_time = metric_acc_time.compute()\n",
    "    f1_time = metric_f1_time.compute()\n",
    "\n",
    "    # SURE - ACC, F1\n",
    "    acc_sure = metric_bi_acc.compute()\n",
    "    f1_sure = metric_bi_f1.compute()\n",
    "\n",
    "\n",
    "    print(f\"Train | Type' | PosNg | Time' | Sure' |\")\n",
    "    print(f\"ACCUR | {acc_type:.3f} | {acc_pn:.3f} | {acc_time:.3f} | {acc_sure:.3f} |\")\n",
    "    print(f\"F1_SC | {f1_type:.3f} | {f1_pn:.3f} | {f1_time:.3f} | {f1_sure:.3f} |\")\n",
    "\n",
    "    print()\n",
    "\n",
    "    acc_metric = {'type': acc_type, 'pn' : acc_pn,'time': acc_time,'sure': acc_sure}\n",
    "    f1_metric = {'type': f1_type, 'pn' : f1_pn,'time': f1_time,'sure': f1_sure}\n",
    "\n",
    "    del acc_type, acc_pn, acc_time, acc_sure, f1_type, f1_pn, f1_time, f1_sure\n",
    " \n",
    "    metric_acc_type.reset()\n",
    "    metric_acc_pn.reset()\n",
    "    metric_acc_time.reset()\n",
    "    metric_bi_acc.reset()\n",
    "\n",
    "    metric_bi_acc.reset()\n",
    "    metric_f1_pn.reset()\n",
    "    metric_f1_time.reset()\n",
    "    metric_bi_f1.reset()\n",
    "\n",
    "    torch.cuda.empty_cache()\n",
    "    _ = gc.collect()\n",
    "\n",
    "    return train_epoch_loss, acc_metric, f1_metric"
   ]
  },
  {
   "cell_type": "markdown",
   "id": "785ea246",
   "metadata": {
    "id": "IpGfjMUhALH0",
    "papermill": {
     "duration": 0.034156,
     "end_time": "2022-12-18T06:24:38.068834",
     "exception": false,
     "start_time": "2022-12-18T06:24:38.034678",
     "status": "completed"
    },
    "tags": []
   },
   "source": [
    "## Valid One Epoch Function"
   ]
  },
  {
   "cell_type": "code",
   "execution_count": 81,
   "id": "37d91fc0",
   "metadata": {
    "execution": {
     "iopub.execute_input": "2022-12-18T06:24:38.136200Z",
     "iopub.status.busy": "2022-12-18T06:24:38.135888Z",
     "iopub.status.idle": "2022-12-18T06:24:38.156417Z",
     "shell.execute_reply": "2022-12-18T06:24:38.155485Z"
    },
    "id": "op6YcW08ALH0",
    "papermill": {
     "duration": 0.057091,
     "end_time": "2022-12-18T06:24:38.158572",
     "exception": false,
     "start_time": "2022-12-18T06:24:38.101481",
     "status": "completed"
    },
    "tags": []
   },
   "outputs": [],
   "source": [
    "## Annotation\n",
    "@torch.no_grad()\n",
    "def valid_one_epoch(model, \n",
    "                    dataloader, \n",
    "                    epoch, \n",
    "                    device = config['device']):\n",
    "    \n",
    "\n",
    "    ################ torchmetrics: initialize metric #########################\n",
    "    metric_acc_type = MulticlassAccuracy(average = 'weighted', num_classes = 4).to(config['device'])\n",
    "    metric_f1_type = MulticlassF1Score(average = 'weighted', num_classes=4).to(config['device'])\n",
    "\n",
    "    metric_acc_pn = MulticlassAccuracy(average = 'weighted', num_classes = 3).to(config['device'])\n",
    "    metric_f1_pn = MulticlassF1Score(average = 'weighted', num_classes = 3).to(config['device'])\n",
    "\n",
    "    metric_acc_time = MulticlassAccuracy(average = 'weighted', num_classes = 3).to(config['device'])\n",
    "    metric_f1_time = MulticlassF1Score(average = 'weighted', num_classes=3).to(config['device'])\n",
    "\n",
    "    metric_bi_acc = BinaryAccuracy().to(config['device'])\n",
    "    metric_bi_f1 = BinaryF1Score().to(config['device'])\n",
    "    \n",
    "    ############################################################################\n",
    "    \n",
    "    valid_loss = 0\n",
    "    dataset_size = 0\n",
    "     \n",
    "    bar = tqdm(enumerate(dataloader), total = len(dataloader))\n",
    "\n",
    "    model.eval()\n",
    "    with torch.no_grad():\n",
    "        for step, data in bar:\n",
    "            ids = data['input_ids'].to(device, dtype = torch.long)\n",
    "            masks = data['attention_mask'].to(device, dtype = torch.long)\n",
    "\n",
    "            # targets\n",
    "            t_type = data['target_type'].to(device, dtype = torch.long)\n",
    "            t_pn = data['target_pn'].to(device, dtype = torch.long)\n",
    "            t_time = data['target_time'].to(device, dtype = torch.long)\n",
    "            t_sure = data['target_sure'].to(device, dtype = torch.float)\n",
    "    \n",
    "            # y_preds\n",
    "            y_preds = model(ids, masks) \n",
    "\n",
    "            # Loss\n",
    "            loss1 = loss_fn['type'](y_preds['type'], t_type )\n",
    "            loss2 = loss_fn['pn'](y_preds['pn'], t_pn )\n",
    "            loss3 = loss_fn['time'](y_preds['time'], t_time )\n",
    "            y_preds['sure'] = y_preds['sure'].view(-1)\n",
    "            loss4 = loss_fn['sure'](y_preds['sure'], t_sure )\n",
    "\n",
    "            # loss sum\n",
    "            loss = (loss1 + loss2 + loss3 + loss4) / 4\n",
    "\n",
    "            # 실시간 Loss\n",
    "            batch_size = ids.size(0)\n",
    "            dataset_size += batch_size\n",
    "            valid_loss += float(loss.item() * batch_size)\n",
    "            valid_epoch_loss = valid_loss / dataset_size\n",
    "\n",
    "            # Type - ACC, F1\n",
    "            acc_type = metric_acc_type(y_preds['type'], t_type )\n",
    "            acc_type = acc_type.detach().cpu().item()\n",
    "            f1_type = metric_f1_type(y_preds['type'], t_type )\n",
    "            f1_type = f1_type.detach().cpu().item()\n",
    "\n",
    "            # PN - ACC, F1\n",
    "            acc_pn = metric_acc_pn(y_preds['pn'], t_pn )\n",
    "            acc_pn = acc_pn.detach().cpu().item()\n",
    "            f1_pn = metric_f1_pn(y_preds['pn'], t_pn )\n",
    "            f1_pn = f1_pn.detach().cpu().item()\n",
    "\n",
    "            # TIME - ACC, F1\n",
    "            acc_time = metric_acc_time(y_preds['time'], t_time )\n",
    "            acc_time = acc_time.detach().cpu().item()\n",
    "            f1_time = metric_f1_time(y_preds['time'], t_time )\n",
    "            f1_time = f1_time.detach().cpu().item()\n",
    "\n",
    "            # SURE - ACC, F1\n",
    "            acc_sure = metric_bi_acc(y_preds['sure'], t_sure )\n",
    "            acc_sure = acc_sure.detach().cpu().item()\n",
    "            f1_sure = metric_bi_f1(y_preds['sure'], t_sure )\n",
    "            f1_sure = f1_sure.detach().cpu().item()\n",
    "\n",
    "            bar.set_postfix(Epoch = epoch, \n",
    "                            Valid_loss = valid_epoch_loss,\n",
    "                            LR = optimizer.param_groups[0]['lr'],\n",
    "                            )\n",
    "\n",
    "    # Type - ACC, F1\n",
    "    acc_type = metric_acc_type.compute()\n",
    "    f1_type = metric_f1_type.compute()\n",
    "\n",
    "    # PN - ACC, F1\n",
    "    acc_pn = metric_acc_pn.compute()\n",
    "    f1_pn = metric_f1_pn.compute()\n",
    "\n",
    "    # TIME - ACC, F1\n",
    "    acc_time = metric_acc_time.compute()\n",
    "    f1_time = metric_f1_time.compute()\n",
    "\n",
    "    # SURE - ACC, F1\n",
    "    acc_sure = metric_bi_acc.compute()\n",
    "    f1_sure = metric_bi_f1.compute()\n",
    "\n",
    "\n",
    "    print(f\"Valid | Type' | PosNg | Time' | Sure' |\")\n",
    "    print(f\"ACCUR | {acc_type:.3f} | {acc_pn:.3f} | {acc_time:.3f} | {acc_sure:.3f} |\")\n",
    "    print(f\"F1_SC | {f1_type:.3f} | {f1_pn:.3f} | {f1_time:.3f} | {f1_sure:.3f} |\")\n",
    "    print()\n",
    "\n",
    "    acc_metric = {'type': acc_type, 'pn' : acc_pn,'time': acc_time,'sure': acc_sure}\n",
    "    f1_metric = {'type': f1_type, 'pn' : f1_pn,'time': f1_time,'sure': f1_sure}\n",
    "\n",
    "    del acc_type, acc_pn, acc_time, acc_sure, f1_type, f1_pn, f1_time, f1_sure\n",
    "    \n",
    "    metric_acc_type.reset()\n",
    "    metric_acc_pn.reset()\n",
    "    metric_acc_time.reset()\n",
    "    metric_bi_acc.reset()\n",
    "\n",
    "    metric_bi_acc.reset()\n",
    "    metric_f1_pn.reset()\n",
    "    metric_f1_time.reset()\n",
    "    metric_bi_f1.reset()\n",
    "\n",
    "    torch.cuda.empty_cache()\n",
    "    _ = gc.collect()\n",
    "\n",
    "    return valid_epoch_loss, acc_metric, f1_metric"
   ]
  },
  {
   "cell_type": "markdown",
   "id": "93a7fa22",
   "metadata": {
    "id": "Gdlys4SOALH0",
    "papermill": {
     "duration": 0.032838,
     "end_time": "2022-12-18T06:24:38.224646",
     "exception": false,
     "start_time": "2022-12-18T06:24:38.191808",
     "status": "completed"
    },
    "tags": []
   },
   "source": [
    "## Run Training Function"
   ]
  },
  {
   "cell_type": "code",
   "execution_count": 83,
   "id": "0a890e1c",
   "metadata": {
    "execution": {
     "iopub.execute_input": "2022-12-18T06:24:38.372688Z",
     "iopub.status.busy": "2022-12-18T06:24:38.370993Z",
     "iopub.status.idle": "2022-12-18T06:24:38.378220Z",
     "shell.execute_reply": "2022-12-18T06:24:38.377142Z"
    },
    "id": "Kp_bAxsvALH0",
    "outputId": "1e38586a-c946-4e9c-c2e8-88ec4d06a0b7",
    "papermill": {
     "duration": 0.047049,
     "end_time": "2022-12-18T06:24:38.380455",
     "exception": false,
     "start_time": "2022-12-18T06:24:38.333406",
     "status": "completed"
    },
    "tags": []
   },
   "outputs": [
    {
     "data": {
      "text/plain": [
       "'./results/20221218_152404_t0-1/'"
      ]
     },
     "execution_count": 83,
     "metadata": {},
     "output_type": "execute_result"
    }
   ],
   "source": [
    "model_save"
   ]
  },
  {
   "cell_type": "code",
   "execution_count": 84,
   "id": "dd278a3c",
   "metadata": {
    "execution": {
     "iopub.execute_input": "2022-12-18T06:24:38.455234Z",
     "iopub.status.busy": "2022-12-18T06:24:38.454944Z",
     "iopub.status.idle": "2022-12-18T06:24:38.461143Z",
     "shell.execute_reply": "2022-12-18T06:24:38.460183Z"
    },
    "id": "BsSb_C6FALH1",
    "outputId": "60d2b025-1201-48a0-af6b-e76c07ad2e40",
    "papermill": {
     "duration": 0.045788,
     "end_time": "2022-12-18T06:24:38.463402",
     "exception": false,
     "start_time": "2022-12-18T06:24:38.417614",
     "status": "completed"
    },
    "tags": []
   },
   "outputs": [
    {
     "data": {
      "text/plain": [
       "'./results/20221218_152404_t0-1/'"
      ]
     },
     "execution_count": 84,
     "metadata": {},
     "output_type": "execute_result"
    }
   ],
   "source": [
    "sub_path"
   ]
  },
  {
   "cell_type": "code",
   "execution_count": 85,
   "id": "250bbf8a",
   "metadata": {
    "execution": {
     "iopub.execute_input": "2022-12-18T06:24:38.536935Z",
     "iopub.status.busy": "2022-12-18T06:24:38.536599Z",
     "iopub.status.idle": "2022-12-18T06:24:38.543400Z",
     "shell.execute_reply": "2022-12-18T06:24:38.542327Z"
    },
    "id": "N3x_5zhSCcxq",
    "outputId": "f920e898-2293-4935-846d-d198beb0eefa",
    "papermill": {
     "duration": 0.045596,
     "end_time": "2022-12-18T06:24:38.545540",
     "exception": false,
     "start_time": "2022-12-18T06:24:38.499944",
     "status": "completed"
    },
    "tags": []
   },
   "outputs": [
    {
     "data": {
      "text/plain": [
       "91.942025"
      ]
     },
     "execution_count": 85,
     "metadata": {},
     "output_type": "execute_result"
    }
   ],
   "source": [
    "# # How to get Avg F1 Score\n",
    "f1_metric_sample = {'type': 98.223, 'pn' : 82.334, 'time': 88.1, 'sure': 99.1111}\n",
    "sum(f1_metric_sample.values()) / len(f1_metric_sample.values())"
   ]
  },
  {
   "cell_type": "code",
   "execution_count": 86,
   "id": "1b11a9aa",
   "metadata": {
    "execution": {
     "iopub.execute_input": "2022-12-18T06:24:38.617443Z",
     "iopub.status.busy": "2022-12-18T06:24:38.617110Z",
     "iopub.status.idle": "2022-12-18T06:24:38.629747Z",
     "shell.execute_reply": "2022-12-18T06:24:38.628612Z"
    },
    "id": "DwKIGP2KALH1",
    "papermill": {
     "duration": 0.050814,
     "end_time": "2022-12-18T06:24:38.631926",
     "exception": false,
     "start_time": "2022-12-18T06:24:38.581112",
     "status": "completed"
    },
    "tags": []
   },
   "outputs": [],
   "source": [
    "def run_training(model, optimizer, scheduler, device, n_epochs, fold):\n",
    "\n",
    "    if torch.cuda.is_available():\n",
    "        print(\"INFO: GPU - {}\\n\".format(torch.cuda.get_device_name()))\n",
    "    \n",
    "    start = time.time()\n",
    "\n",
    "    lowest_epoch = np.inf\n",
    "    lowest_loss = np.inf\n",
    "\n",
    "    \n",
    "    best_score = 0\n",
    "    best_score_epoch = np.inf\n",
    "    best_model = \"None\"\n",
    "\n",
    "    for epoch in range(1, n_epochs +1):\n",
    "        gc.collect()\n",
    "\n",
    "        train_epoch_loss, train_acc_metric, train_f1_metric = train_one_epoch(model= model, dataloader = train_loader, optimizer = optimizer,\n",
    "                                                                              scheduler = scheduler, device = config['device'], epoch = epoch)\n",
    "                                                                                \n",
    "        \n",
    "        valid_epoch_loss, valid_acc_metric, valid_f1_metric = valid_one_epoch(model, dataloader = valid_loader,\n",
    "                                                                              device = config['device'], epoch = epoch)\n",
    "        # Mean Weighted F1_score\n",
    "        train_f1 = sum(train_f1_metric.values()) / len(train_f1_metric.values())\n",
    "        valid_f1 = sum(valid_f1_metric.values()) / len(valid_f1_metric.values())\n",
    "        \n",
    "        print()\n",
    "        print(f\"Epoch:{epoch:02d} | TL:{train_epoch_loss:.3e} | VL:{valid_epoch_loss:.3e} | Train's F1: {train_f1:.3f} | Valid's F1: {valid_f1:.3f} | \")\n",
    "        print()\n",
    "\n",
    "        if valid_epoch_loss < lowest_loss:\n",
    "            print(f\"{b_}Validation Loss Improved({lowest_loss:.3e}) --> ({valid_epoch_loss:.3e})\")\n",
    "            lowest_loss = valid_epoch_loss\n",
    "            lowest_epoch = epoch\n",
    "            PATH = model_save + f\"Loss-Fold-{fold}.bin\"\n",
    "            torch.save(model.state_dict(), PATH)\n",
    "            print(f\"Better Loss Model Saved{sr_}\")\n",
    "\n",
    "        if best_score < valid_f1:\n",
    "            print(f\"{b_}F1 Improved({best_score:.3f}) --> ({valid_f1:.3f})\")\n",
    "            best_score = valid_f1\n",
    "            best_score_epoch = epoch\n",
    "            PATH2 = model_save + f\"Loss-Fold-{fold}_f1.bin\"\n",
    "            torch.save(model.state_dict(), PATH2)\n",
    "            print(f\"Better_F1_Model Saved{sr_}\")\n",
    "    \n",
    "        \n",
    "        print()\n",
    "\n",
    "    end = time.time()\n",
    "    time_elapsed = end - start\n",
    "    print('Training complete in {:.0f}h {:.0f}m {:.0f}s'.format(time_elapsed // 3600, (time_elapsed % 3600) // 60, (time_elapsed % 3600) % 60))\n",
    "    print(\"Best Loss : %.4e at %d th Epoch of %dth Fold\" % (lowest_loss, lowest_epoch, fold))\n",
    "    print(\"Best F1(W): %.4f at %d th Epoch of %dth Fold\" % (best_score, best_score_epoch, fold))\n",
    "\n",
    "    # load best model weights\n",
    "    # model.load_state_dict(best_model_wts)\n",
    "    \n",
    "    return model, best_score"
   ]
  },
  {
   "cell_type": "markdown",
   "id": "d04e6056",
   "metadata": {
    "id": "SFLAfRSwALH1",
    "papermill": {
     "duration": 0.034857,
     "end_time": "2022-12-18T06:24:38.702076",
     "exception": false,
     "start_time": "2022-12-18T06:24:38.667219",
     "status": "completed"
    },
    "tags": []
   },
   "source": [
    "## Train Start"
   ]
  },
  {
   "cell_type": "code",
   "execution_count": 87,
   "id": "e8afa6d5",
   "metadata": {
    "execution": {
     "iopub.execute_input": "2022-12-18T06:24:38.772872Z",
     "iopub.status.busy": "2022-12-18T06:24:38.771868Z",
     "iopub.status.idle": "2022-12-18T06:24:38.778964Z",
     "shell.execute_reply": "2022-12-18T06:24:38.777928Z"
    },
    "id": "LJKZFmDSALH1",
    "outputId": "f8e23571-d2da-4fab-8e93-4f1389fdf0f0",
    "papermill": {
     "duration": 0.044808,
     "end_time": "2022-12-18T06:24:38.781022",
     "exception": false,
     "start_time": "2022-12-18T06:24:38.736214",
     "status": "completed"
    },
    "tags": []
   },
   "outputs": [
    {
     "data": {
      "text/plain": [
       "(10, 5)"
      ]
     },
     "execution_count": 87,
     "metadata": {},
     "output_type": "execute_result"
    }
   ],
   "source": [
    "config['n_folds'], config['n_epochs']"
   ]
  },
  {
   "cell_type": "code",
   "execution_count": 88,
   "id": "7422c204",
   "metadata": {
    "execution": {
     "iopub.execute_input": "2022-12-18T06:24:38.851147Z",
     "iopub.status.busy": "2022-12-18T06:24:38.850350Z",
     "iopub.status.idle": "2022-12-18T06:24:38.856882Z",
     "shell.execute_reply": "2022-12-18T06:24:38.855886Z"
    },
    "id": "VNhLq9p9ALH1",
    "outputId": "01bb5d1d-054e-4823-daf0-d05b64d4f6ad",
    "papermill": {
     "duration": 0.043846,
     "end_time": "2022-12-18T06:24:38.858949",
     "exception": false,
     "start_time": "2022-12-18T06:24:38.815103",
     "status": "completed"
    },
    "tags": []
   },
   "outputs": [
    {
     "data": {
      "text/plain": [
       "(32, 32)"
      ]
     },
     "execution_count": 88,
     "metadata": {},
     "output_type": "execute_result"
    }
   ],
   "source": [
    "config['train_batch_size'], config['valid_batch_size']"
   ]
  },
  {
   "cell_type": "code",
   "execution_count": 89,
   "id": "9d955446",
   "metadata": {
    "execution": {
     "iopub.execute_input": "2022-12-18T06:24:38.929769Z",
     "iopub.status.busy": "2022-12-18T06:24:38.928975Z",
     "iopub.status.idle": "2022-12-18T06:24:39.122797Z",
     "shell.execute_reply": "2022-12-18T06:24:39.121788Z"
    },
    "id": "1ijGLM5MALH1",
    "papermill": {
     "duration": 0.232621,
     "end_time": "2022-12-18T06:24:39.125619",
     "exception": false,
     "start_time": "2022-12-18T06:24:38.892998",
     "status": "completed"
    },
    "tags": []
   },
   "outputs": [],
   "source": [
    "# import torch, gc\n",
    "\n",
    "gc.collect()\n",
    "torch.cuda.empty_cache()"
   ]
  },
  {
   "cell_type": "code",
   "execution_count": 90,
   "id": "b86c82a4",
   "metadata": {
    "execution": {
     "iopub.execute_input": "2022-12-18T06:24:39.202334Z",
     "iopub.status.busy": "2022-12-18T06:24:39.201219Z",
     "iopub.status.idle": "2022-12-18T10:39:51.203915Z",
     "shell.execute_reply": "2022-12-18T10:39:51.202878Z"
    },
    "id": "TGa2HyfjALH1",
    "outputId": "ffceeefb-85ee-4c9a-ea3d-1b2074cf4a2f",
    "papermill": {
     "duration": 15313.655084,
     "end_time": "2022-12-18T10:39:52.818349",
     "exception": false,
     "start_time": "2022-12-18T06:24:39.163265",
     "status": "completed"
    },
    "tags": []
   },
   "outputs": [
    {
     "name": "stdout",
     "output_type": "stream",
     "text": [
      "\u001b[33m==== Fold: 0 =====\u001b[0m\n"
     ]
    },
    {
     "name": "stderr",
     "output_type": "stream",
     "text": [
      "Some weights of the model checkpoint at monologg/kobigbird-bert-base were not used when initializing BigBirdModel: ['cls.predictions.transform.dense.bias', 'cls.predictions.decoder.weight', 'cls.predictions.transform.dense.weight', 'cls.predictions.transform.LayerNorm.weight', 'cls.seq_relationship.weight', 'cls.predictions.decoder.bias', 'cls.predictions.transform.LayerNorm.bias', 'cls.predictions.bias', 'cls.seq_relationship.bias']\n",
      "- This IS expected if you are initializing BigBirdModel from the checkpoint of a model trained on another task or with another architecture (e.g. initializing a BertForSequenceClassification model from a BertForPreTraining model).\n",
      "- This IS NOT expected if you are initializing BigBirdModel from the checkpoint of a model that you expect to be exactly identical (initializing a BertForSequenceClassification model from a BertForSequenceClassification model).\n"
     ]
    },
    {
     "name": "stdout",
     "output_type": "stream",
     "text": [
      "INFO: GPU - Tesla T4\n",
      "\n",
      "huggingface/tokenizers: The current process just got forked, after parallelism has already been used. Disabling parallelism to avoid deadlocks...\n",
      "To disable this warning, you can either:\n",
      "\t- Avoid using `tokenizers` before the fork if possible\n",
      "\t- Explicitly set the environment variable TOKENIZERS_PARALLELISM=(true | false)\n",
      "huggingface/tokenizers: The current process just got forked, after parallelism has already been used. Disabling parallelism to avoid deadlocks...\n",
      "To disable this warning, you can either:\n",
      "\t- Avoid using `tokenizers` before the fork if possible\n",
      "\t- Explicitly set the environment variable TOKENIZERS_PARALLELISM=(true | false)\n"
     ]
    },
    {
     "name": "stderr",
     "output_type": "stream",
     "text": [
      "100%|██████████| 465/465 [04:51<00:00,  1.60it/s, Epoch=1, LR=4.36e-5, Train_loss=0.307]\n"
     ]
    },
    {
     "name": "stdout",
     "output_type": "stream",
     "text": [
      "Train | Type' | PosNg | Time' | Sure' |\n",
      "ACCUR | 0.862 | 0.965 | 0.833 | 0.921 |\n",
      "F1_SC | 0.843 | 0.958 | 0.828 | 0.958 |\n",
      "\n",
      "huggingface/tokenizers: The current process just got forked, after parallelism has already been used. Disabling parallelism to avoid deadlocks...\n",
      "To disable this warning, you can either:\n",
      "\t- Avoid using `tokenizers` before the fork if possible\n",
      "\t- Explicitly set the environment variable TOKENIZERS_PARALLELISM=(true | false)\n",
      "huggingface/tokenizers: The current process just got forked, after parallelism has already been used. Disabling parallelism to avoid deadlocks...\n",
      "To disable this warning, you can either:\n",
      "\t- Avoid using `tokenizers` before the fork if possible\n",
      "\t- Explicitly set the environment variable TOKENIZERS_PARALLELISM=(true | false)\n"
     ]
    },
    {
     "name": "stderr",
     "output_type": "stream",
     "text": [
      "100%|██████████| 52/52 [00:10<00:00,  5.19it/s, Epoch=1, LR=4.36e-5, Valid_loss=0.198]"
     ]
    },
    {
     "name": "stdout",
     "output_type": "stream",
     "text": [
      "To disable this warning, you can either:\n",
      "\t- Avoid using `tokenizers` before the fork if possible\n",
      "\t- Explicitly set the environment variable TOKENIZERS_PARALLELISM=(true | false)\n"
     ]
    },
    {
     "name": "stderr",
     "output_type": "stream",
     "text": [
      "100%|██████████| 52/52 [00:10<00:00,  4.84it/s, Epoch=1, LR=4.36e-5, Valid_loss=0.198]\n"
     ]
    },
    {
     "name": "stdout",
     "output_type": "stream",
     "text": [
      "Valid | Type' | PosNg | Time' | Sure' |\n",
      "ACCUR | 0.906 | 0.972 | 0.899 | 0.938 |\n",
      "F1_SC | 0.895 | 0.972 | 0.895 | 0.967 |\n",
      "\n",
      "\n",
      "Epoch:01 | TL:3.074e-01 | VL:1.976e-01 | Train's F1: 0.897 | Valid's F1: 0.932 | \n",
      "\n",
      "\u001b[34mValidation Loss Improved(inf) --> (1.976e-01)\n",
      "Better Loss Model Saved\u001b[0m\n",
      "\u001b[34mF1 Improved(0.000) --> (0.932)\n",
      "Better_F1_Model Saved\u001b[0m\n",
      "\n",
      "huggingface/tokenizers: The current process just got forked, after parallelism has already been used. Disabling parallelism to avoid deadlocks...\n",
      "To disable this warning, you can either:\n",
      "\t- Avoid using `tokenizers` before the fork if possible\n",
      "\t- Explicitly set the environment variable TOKENIZERS_PARALLELISM=(true | false)\n",
      "huggingface/tokenizers: The current process just got forked, after parallelism has already been used. Disabling parallelism to avoid deadlocks...\n",
      "To disable this warning, you can either:\n",
      "\t- Avoid using `tokenizers` before the fork if possible\n",
      "\t- Explicitly set the environment variable TOKENIZERS_PARALLELISM=(true | false)\n"
     ]
    },
    {
     "name": "stderr",
     "output_type": "stream",
     "text": [
      "100%|██████████| 465/465 [04:53<00:00,  1.58it/s, Epoch=2, LR=2.77e-5, Train_loss=0.185]\n"
     ]
    },
    {
     "name": "stdout",
     "output_type": "stream",
     "text": [
      "Train | Type' | PosNg | Time' | Sure' |\n",
      "ACCUR | 0.905 | 0.976 | 0.915 | 0.936 |\n",
      "F1_SC | 0.901 | 0.974 | 0.914 | 0.966 |\n",
      "\n",
      "huggingface/tokenizers: The current process just got forked, after parallelism has already been used. Disabling parallelism to avoid deadlocks...\n",
      "To disable this warning, you can either:\n",
      "\t- Avoid using `tokenizers` before the fork if possible\n",
      "\t- Explicitly set the environment variable TOKENIZERS_PARALLELISM=(true | false)\n",
      "huggingface/tokenizers: The current process just got forked, after parallelism has already been used. Disabling parallelism to avoid deadlocks...\n",
      "To disable this warning, you can either:\n",
      "\t- Avoid using `tokenizers` before the fork if possible\n",
      "\t- Explicitly set the environment variable TOKENIZERS_PARALLELISM=(true | false)\n"
     ]
    },
    {
     "name": "stderr",
     "output_type": "stream",
     "text": [
      "100%|██████████| 52/52 [00:10<00:00,  5.18it/s, Epoch=2, LR=2.77e-5, Valid_loss=0.193]"
     ]
    },
    {
     "name": "stdout",
     "output_type": "stream",
     "text": [
      "To disable this warning, you can either:\n",
      "\t- Avoid using `tokenizers` before the fork if possible\n",
      "\t- Explicitly set the environment variable TOKENIZERS_PARALLELISM=(true | false)\n"
     ]
    },
    {
     "name": "stderr",
     "output_type": "stream",
     "text": [
      "100%|██████████| 52/52 [00:10<00:00,  4.90it/s, Epoch=2, LR=2.77e-5, Valid_loss=0.193]\n"
     ]
    },
    {
     "name": "stdout",
     "output_type": "stream",
     "text": [
      "Valid | Type' | PosNg | Time' | Sure' |\n",
      "ACCUR | 0.901 | 0.978 | 0.897 | 0.932 |\n",
      "F1_SC | 0.897 | 0.974 | 0.896 | 0.963 |\n",
      "\n",
      "\n",
      "Epoch:02 | TL:1.851e-01 | VL:1.928e-01 | Train's F1: 0.939 | Valid's F1: 0.933 | \n",
      "\n",
      "\u001b[34mValidation Loss Improved(1.976e-01) --> (1.928e-01)\n",
      "Better Loss Model Saved\u001b[0m\n",
      "\u001b[34mF1 Improved(0.932) --> (0.933)\n",
      "Better_F1_Model Saved\u001b[0m\n",
      "\n",
      "huggingface/tokenizers: The current process just got forked, after parallelism has already been used. Disabling parallelism to avoid deadlocks...\n",
      "To disable this warning, you can either:\n",
      "\t- Avoid using `tokenizers` before the fork if possible\n",
      "\t- Explicitly set the environment variable TOKENIZERS_PARALLELISM=(true | false)\n",
      "huggingface/tokenizers: The current process just got forked, after parallelism has already been used. Disabling parallelism to avoid deadlocks...\n",
      "To disable this warning, you can either:\n",
      "\t- Avoid using `tokenizers` before the fork if possible\n",
      "\t- Explicitly set the environment variable TOKENIZERS_PARALLELISM=(true | false)\n"
     ]
    },
    {
     "name": "stderr",
     "output_type": "stream",
     "text": [
      "100%|██████████| 465/465 [04:52<00:00,  1.59it/s, Epoch=3, LR=1.05e-5, Train_loss=0.141]\n"
     ]
    },
    {
     "name": "stdout",
     "output_type": "stream",
     "text": [
      "Train | Type' | PosNg | Time' | Sure' |\n",
      "ACCUR | 0.934 | 0.983 | 0.939 | 0.945 |\n",
      "F1_SC | 0.932 | 0.981 | 0.939 | 0.970 |\n",
      "\n",
      "huggingface/tokenizers: The current process just got forked, after parallelism has already been used. Disabling parallelism to avoid deadlocks...\n",
      "To disable this warning, you can either:\n",
      "\t- Avoid using `tokenizers` before the fork if possible\n",
      "\t- Explicitly set the environment variable TOKENIZERS_PARALLELISM=(true | false)\n",
      "huggingface/tokenizers: The current process just got forked, after parallelism has already been used. Disabling parallelism to avoid deadlocks...\n",
      "To disable this warning, you can either:\n",
      "\t- Avoid using `tokenizers` before the fork if possible\n",
      "\t- Explicitly set the environment variable TOKENIZERS_PARALLELISM=(true | false)\n"
     ]
    },
    {
     "name": "stderr",
     "output_type": "stream",
     "text": [
      "100%|██████████| 52/52 [00:10<00:00,  5.14it/s, Epoch=3, LR=1.05e-5, Valid_loss=0.198]"
     ]
    },
    {
     "name": "stdout",
     "output_type": "stream",
     "text": [
      "To disable this warning, you can either:\n",
      "\t- Avoid using `tokenizers` before the fork if possible\n",
      "\t- Explicitly set the environment variable TOKENIZERS_PARALLELISM=(true | false)\n"
     ]
    },
    {
     "name": "stderr",
     "output_type": "stream",
     "text": [
      "100%|██████████| 52/52 [00:10<00:00,  4.88it/s, Epoch=3, LR=1.05e-5, Valid_loss=0.198]\n"
     ]
    },
    {
     "name": "stdout",
     "output_type": "stream",
     "text": [
      "Valid | Type' | PosNg | Time' | Sure' |\n",
      "ACCUR | 0.896 | 0.976 | 0.901 | 0.935 |\n",
      "F1_SC | 0.894 | 0.975 | 0.900 | 0.965 |\n",
      "\n",
      "\n",
      "Epoch:03 | TL:1.412e-01 | VL:1.975e-01 | Train's F1: 0.955 | Valid's F1: 0.934 | \n",
      "\n",
      "\u001b[34mF1 Improved(0.933) --> (0.934)\n",
      "Better_F1_Model Saved\u001b[0m\n",
      "\n",
      "huggingface/tokenizers: The current process just got forked, after parallelism has already been used. Disabling parallelism to avoid deadlocks...\n",
      "To disable this warning, you can either:\n",
      "\t- Avoid using `tokenizers` before the fork if possible\n",
      "\t- Explicitly set the environment variable TOKENIZERS_PARALLELISM=(true | false)\n",
      "huggingface/tokenizers: The current process just got forked, after parallelism has already been used. Disabling parallelism to avoid deadlocks...\n",
      "To disable this warning, you can either:\n",
      "\t- Avoid using `tokenizers` before the fork if possible\n",
      "\t- Explicitly set the environment variable TOKENIZERS_PARALLELISM=(true | false)\n"
     ]
    },
    {
     "name": "stderr",
     "output_type": "stream",
     "text": [
      "100%|██████████| 465/465 [04:50<00:00,  1.75it/s, Epoch=4, LR=6.02e-7, Train_loss=0.106]"
     ]
    },
    {
     "name": "stdout",
     "output_type": "stream",
     "text": [
      "huggingface/tokenizers: The current process just got forked, after parallelism has already been used. Disabling parallelism to avoid deadlocks...\n"
     ]
    },
    {
     "name": "stderr",
     "output_type": "stream",
     "text": [
      "100%|██████████| 465/465 [04:50<00:00,  1.60it/s, Epoch=4, LR=6.02e-7, Train_loss=0.106]\n"
     ]
    },
    {
     "name": "stdout",
     "output_type": "stream",
     "text": [
      "Train | Type' | PosNg | Time' | Sure' |\n",
      "ACCUR | 0.958 | 0.986 | 0.959 | 0.954 |\n",
      "F1_SC | 0.958 | 0.985 | 0.959 | 0.975 |\n",
      "\n",
      "huggingface/tokenizers: The current process just got forked, after parallelism has already been used. Disabling parallelism to avoid deadlocks...\n",
      "To disable this warning, you can either:\n",
      "\t- Avoid using `tokenizers` before the fork if possible\n",
      "\t- Explicitly set the environment variable TOKENIZERS_PARALLELISM=(true | false)\n",
      "huggingface/tokenizers: The current process just got forked, after parallelism has already been used. Disabling parallelism to avoid deadlocks...\n",
      "To disable this warning, you can either:\n",
      "\t- Avoid using `tokenizers` before the fork if possible\n",
      "\t- Explicitly set the environment variable TOKENIZERS_PARALLELISM=(true | false)\n"
     ]
    },
    {
     "name": "stderr",
     "output_type": "stream",
     "text": [
      "100%|██████████| 52/52 [00:10<00:00,  4.81it/s, Epoch=4, LR=6.02e-7, Valid_loss=0.213]\n"
     ]
    },
    {
     "name": "stdout",
     "output_type": "stream",
     "text": [
      "Valid | Type' | PosNg | Time' | Sure' |\n",
      "ACCUR | 0.891 | 0.978 | 0.899 | 0.937 |\n",
      "F1_SC | 0.891 | 0.977 | 0.898 | 0.966 |\n",
      "\n",
      "\n",
      "Epoch:04 | TL:1.064e-01 | VL:2.130e-01 | Train's F1: 0.969 | Valid's F1: 0.933 | \n",
      "\n",
      "\n",
      "huggingface/tokenizers: The current process just got forked, after parallelism has already been used. Disabling parallelism to avoid deadlocks...\n",
      "To disable this warning, you can either:\n",
      "\t- Avoid using `tokenizers` before the fork if possible\n",
      "\t- Explicitly set the environment variable TOKENIZERS_PARALLELISM=(true | false)\n",
      "huggingface/tokenizers: The current process just got forked, after parallelism has already been used. Disabling parallelism to avoid deadlocks...\n",
      "To disable this warning, you can either:\n",
      "\t- Avoid using `tokenizers` before the fork if possible\n",
      "\t- Explicitly set the environment variable TOKENIZERS_PARALLELISM=(true | false)\n"
     ]
    },
    {
     "name": "stderr",
     "output_type": "stream",
     "text": [
      "100%|██████████| 465/465 [04:52<00:00,  1.41it/s, Epoch=5, LR=3.19e-6, Train_loss=0.0959]"
     ]
    },
    {
     "name": "stdout",
     "output_type": "stream",
     "text": [
      "To disable this warning, you can either:\n",
      "\t- Avoid using `tokenizers` before the fork if possible\n",
      "\t- Explicitly set the environment variable TOKENIZERS_PARALLELISM=(true | false)\n"
     ]
    },
    {
     "name": "stderr",
     "output_type": "stream",
     "text": [
      "100%|██████████| 465/465 [04:52<00:00,  1.59it/s, Epoch=5, LR=3.19e-6, Train_loss=0.0959]\n"
     ]
    },
    {
     "name": "stdout",
     "output_type": "stream",
     "text": [
      "Train | Type' | PosNg | Time' | Sure' |\n",
      "ACCUR | 0.966 | 0.988 | 0.965 | 0.956 |\n",
      "F1_SC | 0.966 | 0.987 | 0.965 | 0.976 |\n",
      "\n",
      "huggingface/tokenizers: The current process just got forked, after parallelism has already been used. Disabling parallelism to avoid deadlocks...\n",
      "To disable this warning, you can either:\n",
      "\t- Avoid using `tokenizers` before the fork if possible\n",
      "\t- Explicitly set the environment variable TOKENIZERS_PARALLELISM=(true | false)\n",
      "huggingface/tokenizers: The current process just got forked, after parallelism has already been used. Disabling parallelism to avoid deadlocks...\n",
      "To disable this warning, you can either:\n",
      "\t- Avoid using `tokenizers` before the fork if possible\n",
      "\t- Explicitly set the environment variable TOKENIZERS_PARALLELISM=(true | false)\n"
     ]
    },
    {
     "name": "stderr",
     "output_type": "stream",
     "text": [
      "100%|██████████| 52/52 [00:10<00:00,  4.94it/s, Epoch=5, LR=3.19e-6, Valid_loss=0.215]\n"
     ]
    },
    {
     "name": "stdout",
     "output_type": "stream",
     "text": [
      "Valid | Type' | PosNg | Time' | Sure' |\n",
      "ACCUR | 0.892 | 0.976 | 0.899 | 0.933 |\n",
      "F1_SC | 0.891 | 0.975 | 0.898 | 0.964 |\n",
      "\n",
      "\n",
      "Epoch:05 | TL:9.593e-02 | VL:2.150e-01 | Train's F1: 0.973 | Valid's F1: 0.932 | \n",
      "\n",
      "\n",
      "Training complete in 0h 25m 26s\n",
      "Best Loss : 1.9277e-01 at 2 th Epoch of 0th Fold\n",
      "Best F1(W): 0.9335 at 3 th Epoch of 0th Fold\n",
      "\n",
      "\u001b[33m==== Fold: 1 =====\u001b[0m\n"
     ]
    },
    {
     "name": "stderr",
     "output_type": "stream",
     "text": [
      "Some weights of the model checkpoint at monologg/kobigbird-bert-base were not used when initializing BigBirdModel: ['cls.predictions.transform.dense.bias', 'cls.predictions.decoder.weight', 'cls.predictions.transform.dense.weight', 'cls.predictions.transform.LayerNorm.weight', 'cls.seq_relationship.weight', 'cls.predictions.decoder.bias', 'cls.predictions.transform.LayerNorm.bias', 'cls.predictions.bias', 'cls.seq_relationship.bias']\n",
      "- This IS expected if you are initializing BigBirdModel from the checkpoint of a model trained on another task or with another architecture (e.g. initializing a BertForSequenceClassification model from a BertForPreTraining model).\n",
      "- This IS NOT expected if you are initializing BigBirdModel from the checkpoint of a model that you expect to be exactly identical (initializing a BertForSequenceClassification model from a BertForSequenceClassification model).\n"
     ]
    },
    {
     "name": "stdout",
     "output_type": "stream",
     "text": [
      "INFO: GPU - Tesla T4\n",
      "\n",
      "huggingface/tokenizers: The current process just got forked, after parallelism has already been used. Disabling parallelism to avoid deadlocks...\n",
      "To disable this warning, you can either:\n",
      "\t- Avoid using `tokenizers` before the fork if possible\n",
      "\t- Explicitly set the environment variable TOKENIZERS_PARALLELISM=(true | false)\n",
      "huggingface/tokenizers: The current process just got forked, after parallelism has already been used. Disabling parallelism to avoid deadlocks...\n",
      "To disable this warning, you can either:\n",
      "\t- Avoid using `tokenizers` before the fork if possible\n",
      "\t- Explicitly set the environment variable TOKENIZERS_PARALLELISM=(true | false)\n"
     ]
    },
    {
     "name": "stderr",
     "output_type": "stream",
     "text": [
      "100%|██████████| 465/465 [04:48<00:00,  1.61it/s, Epoch=1, LR=4.36e-5, Train_loss=0.325]\n"
     ]
    },
    {
     "name": "stdout",
     "output_type": "stream",
     "text": [
      "Train | Type' | PosNg | Time' | Sure' |\n",
      "ACCUR | 0.858 | 0.929 | 0.822 | 0.926 |\n",
      "F1_SC | 0.839 | 0.938 | 0.816 | 0.961 |\n",
      "\n",
      "huggingface/tokenizers: The current process just got forked, after parallelism has already been used. Disabling parallelism to avoid deadlocks...\n",
      "To disable this warning, you can either:\n",
      "\t- Avoid using `tokenizers` before the fork if possible\n",
      "\t- Explicitly set the environment variable TOKENIZERS_PARALLELISM=(true | false)\n",
      "huggingface/tokenizers: The current process just got forked, after parallelism has already been used. Disabling parallelism to avoid deadlocks...\n",
      "To disable this warning, you can either:\n",
      "\t- Avoid using `tokenizers` before the fork if possible\n",
      "\t- Explicitly set the environment variable TOKENIZERS_PARALLELISM=(true | false)\n"
     ]
    },
    {
     "name": "stderr",
     "output_type": "stream",
     "text": [
      "100%|██████████| 52/52 [00:10<00:00,  4.96it/s, Epoch=1, LR=4.36e-5, Valid_loss=0.203]"
     ]
    },
    {
     "name": "stdout",
     "output_type": "stream",
     "text": [
      "To disable this warning, you can either:\n",
      "\t- Avoid using `tokenizers` before the fork if possible\n",
      "\t- Explicitly set the environment variable TOKENIZERS_PARALLELISM=(true | false)\n"
     ]
    },
    {
     "name": "stderr",
     "output_type": "stream",
     "text": [
      "100%|██████████| 52/52 [00:11<00:00,  4.70it/s, Epoch=1, LR=4.36e-5, Valid_loss=0.203]\n"
     ]
    },
    {
     "name": "stdout",
     "output_type": "stream",
     "text": [
      "Valid | Type' | PosNg | Time' | Sure' |\n",
      "ACCUR | 0.898 | 0.975 | 0.913 | 0.933 |\n",
      "F1_SC | 0.885 | 0.972 | 0.911 | 0.965 |\n",
      "\n",
      "\n",
      "Epoch:01 | TL:3.252e-01 | VL:2.028e-01 | Train's F1: 0.888 | Valid's F1: 0.933 | \n",
      "\n",
      "\u001b[34mValidation Loss Improved(inf) --> (2.028e-01)\n",
      "Better Loss Model Saved\u001b[0m\n",
      "\u001b[34mF1 Improved(0.000) --> (0.933)\n",
      "Better_F1_Model Saved\u001b[0m\n",
      "\n",
      "huggingface/tokenizers: The current process just got forked, after parallelism has already been used. Disabling parallelism to avoid deadlocks...\n",
      "To disable this warning, you can either:\n",
      "\t- Avoid using `tokenizers` before the fork if possible\n",
      "\t- Explicitly set the environment variable TOKENIZERS_PARALLELISM=(true | false)\n",
      "huggingface/tokenizers: The current process just got forked, after parallelism has already been used. Disabling parallelism to avoid deadlocks...\n",
      "To disable this warning, you can either:\n",
      "\t- Avoid using `tokenizers` before the fork if possible\n",
      "\t- Explicitly set the environment variable TOKENIZERS_PARALLELISM=(true | false)\n"
     ]
    },
    {
     "name": "stderr",
     "output_type": "stream",
     "text": [
      "100%|██████████| 465/465 [04:49<00:00,  1.61it/s, Epoch=2, LR=2.77e-5, Train_loss=0.188]\n"
     ]
    },
    {
     "name": "stdout",
     "output_type": "stream",
     "text": [
      "Train | Type' | PosNg | Time' | Sure' |\n",
      "ACCUR | 0.906 | 0.977 | 0.914 | 0.937 |\n",
      "F1_SC | 0.900 | 0.974 | 0.913 | 0.966 |\n",
      "\n",
      "huggingface/tokenizers: The current process just got forked, after parallelism has already been used. Disabling parallelism to avoid deadlocks...\n",
      "To disable this warning, you can either:\n",
      "\t- Avoid using `tokenizers` before the fork if possible\n",
      "\t- Explicitly set the environment variable TOKENIZERS_PARALLELISM=(true | false)\n",
      "huggingface/tokenizers: The current process just got forked, after parallelism has already been used. Disabling parallelism to avoid deadlocks...\n",
      "To disable this warning, you can either:\n",
      "\t- Avoid using `tokenizers` before the fork if possible\n",
      "\t- Explicitly set the environment variable TOKENIZERS_PARALLELISM=(true | false)\n"
     ]
    },
    {
     "name": "stderr",
     "output_type": "stream",
     "text": [
      "100%|██████████| 52/52 [00:10<00:00,  4.79it/s, Epoch=2, LR=2.77e-5, Valid_loss=0.191]\n"
     ]
    },
    {
     "name": "stdout",
     "output_type": "stream",
     "text": [
      "Valid | Type' | PosNg | Time' | Sure' |\n",
      "ACCUR | 0.899 | 0.978 | 0.910 | 0.930 |\n",
      "F1_SC | 0.891 | 0.975 | 0.910 | 0.962 |\n",
      "\n",
      "\n",
      "Epoch:02 | TL:1.878e-01 | VL:1.913e-01 | Train's F1: 0.938 | Valid's F1: 0.934 | \n",
      "\n",
      "\u001b[34mValidation Loss Improved(2.028e-01) --> (1.913e-01)\n",
      "Better Loss Model Saved\u001b[0m\n",
      "\u001b[34mF1 Improved(0.933) --> (0.934)\n",
      "Better_F1_Model Saved\u001b[0m\n",
      "\n",
      "huggingface/tokenizers: The current process just got forked, after parallelism has already been used. Disabling parallelism to avoid deadlocks...\n",
      "To disable this warning, you can either:\n",
      "\t- Avoid using `tokenizers` before the fork if possible\n",
      "\t- Explicitly set the environment variable TOKENIZERS_PARALLELISM=(true | false)\n",
      "huggingface/tokenizers: The current process just got forked, after parallelism has already been used. Disabling parallelism to avoid deadlocks...\n",
      "To disable this warning, you can either:\n",
      "\t- Avoid using `tokenizers` before the fork if possible\n",
      "\t- Explicitly set the environment variable TOKENIZERS_PARALLELISM=(true | false)\n"
     ]
    },
    {
     "name": "stderr",
     "output_type": "stream",
     "text": [
      "100%|██████████| 465/465 [04:50<00:00,  1.60it/s, Epoch=3, LR=1.05e-5, Train_loss=0.145]\n"
     ]
    },
    {
     "name": "stdout",
     "output_type": "stream",
     "text": [
      "Train | Type' | PosNg | Time' | Sure' |\n",
      "ACCUR | 0.931 | 0.982 | 0.937 | 0.947 |\n",
      "F1_SC | 0.929 | 0.980 | 0.937 | 0.971 |\n",
      "\n",
      "huggingface/tokenizers: The current process just got forked, after parallelism has already been used. Disabling parallelism to avoid deadlocks...\n",
      "To disable this warning, you can either:\n",
      "\t- Avoid using `tokenizers` before the fork if possible\n",
      "\t- Explicitly set the environment variable TOKENIZERS_PARALLELISM=(true | false)\n",
      "huggingface/tokenizers: The current process just got forked, after parallelism has already been used. Disabling parallelism to avoid deadlocks...\n",
      "To disable this warning, you can either:\n",
      "\t- Avoid using `tokenizers` before the fork if possible\n",
      "\t- Explicitly set the environment variable TOKENIZERS_PARALLELISM=(true | false)\n"
     ]
    },
    {
     "name": "stderr",
     "output_type": "stream",
     "text": [
      "100%|██████████| 52/52 [00:10<00:00,  4.76it/s, Epoch=3, LR=1.05e-5, Valid_loss=0.191]\n"
     ]
    },
    {
     "name": "stdout",
     "output_type": "stream",
     "text": [
      "Valid | Type' | PosNg | Time' | Sure' |\n",
      "ACCUR | 0.903 | 0.980 | 0.912 | 0.934 |\n",
      "F1_SC | 0.901 | 0.978 | 0.912 | 0.964 |\n",
      "\n",
      "\n",
      "Epoch:03 | TL:1.447e-01 | VL:1.912e-01 | Train's F1: 0.954 | Valid's F1: 0.939 | \n",
      "\n",
      "\u001b[34mValidation Loss Improved(1.913e-01) --> (1.912e-01)\n",
      "Better Loss Model Saved\u001b[0m\n",
      "\u001b[34mF1 Improved(0.934) --> (0.939)\n",
      "Better_F1_Model Saved\u001b[0m\n",
      "\n",
      "huggingface/tokenizers: The current process just got forked, after parallelism has already been used. Disabling parallelism to avoid deadlocks...\n",
      "To disable this warning, you can either:\n",
      "\t- Avoid using `tokenizers` before the fork if possible\n",
      "\t- Explicitly set the environment variable TOKENIZERS_PARALLELISM=(true | false)\n",
      "huggingface/tokenizers: The current process just got forked, after parallelism has already been used. Disabling parallelism to avoid deadlocks...\n",
      "To disable this warning, you can either:\n",
      "\t- Avoid using `tokenizers` before the fork if possible\n",
      "\t- Explicitly set the environment variable TOKENIZERS_PARALLELISM=(true | false)\n"
     ]
    },
    {
     "name": "stderr",
     "output_type": "stream",
     "text": [
      "100%|██████████| 465/465 [04:50<00:00,  1.60it/s, Epoch=4, LR=6.02e-7, Train_loss=0.109]\n"
     ]
    },
    {
     "name": "stdout",
     "output_type": "stream",
     "text": [
      "Train | Type' | PosNg | Time' | Sure' |\n",
      "ACCUR | 0.959 | 0.987 | 0.957 | 0.956 |\n",
      "F1_SC | 0.958 | 0.985 | 0.957 | 0.976 |\n",
      "\n",
      "huggingface/tokenizers: The current process just got forked, after parallelism has already been used. Disabling parallelism to avoid deadlocks...\n",
      "To disable this warning, you can either:\n",
      "\t- Avoid using `tokenizers` before the fork if possible\n",
      "\t- Explicitly set the environment variable TOKENIZERS_PARALLELISM=(true | false)\n",
      "huggingface/tokenizers: The current process just got forked, after parallelism has already been used. Disabling parallelism to avoid deadlocks...\n",
      "To disable this warning, you can either:\n",
      "\t- Avoid using `tokenizers` before the fork if possible\n",
      "\t- Explicitly set the environment variable TOKENIZERS_PARALLELISM=(true | false)\n"
     ]
    },
    {
     "name": "stderr",
     "output_type": "stream",
     "text": [
      "100%|██████████| 52/52 [00:10<00:00,  4.98it/s, Epoch=4, LR=6.02e-7, Valid_loss=0.201]"
     ]
    },
    {
     "name": "stdout",
     "output_type": "stream",
     "text": [
      "To disable this warning, you can either:\n",
      "\t- Avoid using `tokenizers` before the fork if possible\n",
      "\t- Explicitly set the environment variable TOKENIZERS_PARALLELISM=(true | false)\n"
     ]
    },
    {
     "name": "stderr",
     "output_type": "stream",
     "text": [
      "100%|██████████| 52/52 [00:11<00:00,  4.72it/s, Epoch=4, LR=6.02e-7, Valid_loss=0.201]\n"
     ]
    },
    {
     "name": "stdout",
     "output_type": "stream",
     "text": [
      "Valid | Type' | PosNg | Time' | Sure' |\n",
      "ACCUR | 0.900 | 0.980 | 0.915 | 0.932 |\n",
      "F1_SC | 0.898 | 0.978 | 0.916 | 0.963 |\n",
      "\n",
      "\n",
      "Epoch:04 | TL:1.087e-01 | VL:2.008e-01 | Train's F1: 0.969 | Valid's F1: 0.939 | \n",
      "\n",
      "\n",
      "huggingface/tokenizers: The current process just got forked, after parallelism has already been used. Disabling parallelism to avoid deadlocks...\n",
      "To disable this warning, you can either:\n",
      "\t- Avoid using `tokenizers` before the fork if possible\n",
      "\t- Explicitly set the environment variable TOKENIZERS_PARALLELISM=(true | false)\n",
      "huggingface/tokenizers: The current process just got forked, after parallelism has already been used. Disabling parallelism to avoid deadlocks...\n",
      "To disable this warning, you can either:\n",
      "\t- Avoid using `tokenizers` before the fork if possible\n",
      "\t- Explicitly set the environment variable TOKENIZERS_PARALLELISM=(true | false)\n"
     ]
    },
    {
     "name": "stderr",
     "output_type": "stream",
     "text": [
      "100%|██████████| 465/465 [04:51<00:00,  1.59it/s, Epoch=5, LR=3.19e-6, Train_loss=0.0983]\n"
     ]
    },
    {
     "name": "stdout",
     "output_type": "stream",
     "text": [
      "Train | Type' | PosNg | Time' | Sure' |\n",
      "ACCUR | 0.967 | 0.988 | 0.965 | 0.957 |\n",
      "F1_SC | 0.967 | 0.986 | 0.965 | 0.977 |\n",
      "\n",
      "huggingface/tokenizers: The current process just got forked, after parallelism has already been used. Disabling parallelism to avoid deadlocks...\n",
      "To disable this warning, you can either:\n",
      "\t- Avoid using `tokenizers` before the fork if possible\n",
      "\t- Explicitly set the environment variable TOKENIZERS_PARALLELISM=(true | false)\n",
      "huggingface/tokenizers: The current process just got forked, after parallelism has already been used. Disabling parallelism to avoid deadlocks...\n",
      "To disable this warning, you can either:\n",
      "\t- Avoid using `tokenizers` before the fork if possible\n",
      "\t- Explicitly set the environment variable TOKENIZERS_PARALLELISM=(true | false)\n"
     ]
    },
    {
     "name": "stderr",
     "output_type": "stream",
     "text": [
      "100%|██████████| 52/52 [00:10<00:00,  4.97it/s, Epoch=5, LR=3.19e-6, Valid_loss=0.203]"
     ]
    },
    {
     "name": "stdout",
     "output_type": "stream",
     "text": [
      "To disable this warning, you can either:\n",
      "\t- Avoid using `tokenizers` before the fork if possible\n",
      "\t- Explicitly set the environment variable TOKENIZERS_PARALLELISM=(true | false)\n"
     ]
    },
    {
     "name": "stderr",
     "output_type": "stream",
     "text": [
      "100%|██████████| 52/52 [00:10<00:00,  4.82it/s, Epoch=5, LR=3.19e-6, Valid_loss=0.203]\n"
     ]
    },
    {
     "name": "stdout",
     "output_type": "stream",
     "text": [
      "Valid | Type' | PosNg | Time' | Sure' |\n",
      "ACCUR | 0.901 | 0.980 | 0.915 | 0.933 |\n",
      "F1_SC | 0.899 | 0.978 | 0.915 | 0.964 |\n",
      "\n",
      "\n",
      "Epoch:05 | TL:9.827e-02 | VL:2.031e-01 | Train's F1: 0.974 | Valid's F1: 0.939 | \n",
      "\n",
      "\u001b[34mF1 Improved(0.939) --> (0.939)\n",
      "Better_F1_Model Saved\u001b[0m\n",
      "\n",
      "Training complete in 0h 25m 17s\n",
      "Best Loss : 1.9123e-01 at 3 th Epoch of 1th Fold\n",
      "Best F1(W): 0.9391 at 5 th Epoch of 1th Fold\n",
      "\n",
      "\u001b[33m==== Fold: 2 =====\u001b[0m\n"
     ]
    },
    {
     "name": "stderr",
     "output_type": "stream",
     "text": [
      "Some weights of the model checkpoint at monologg/kobigbird-bert-base were not used when initializing BigBirdModel: ['cls.predictions.transform.dense.bias', 'cls.predictions.decoder.weight', 'cls.predictions.transform.dense.weight', 'cls.predictions.transform.LayerNorm.weight', 'cls.seq_relationship.weight', 'cls.predictions.decoder.bias', 'cls.predictions.transform.LayerNorm.bias', 'cls.predictions.bias', 'cls.seq_relationship.bias']\n",
      "- This IS expected if you are initializing BigBirdModel from the checkpoint of a model trained on another task or with another architecture (e.g. initializing a BertForSequenceClassification model from a BertForPreTraining model).\n",
      "- This IS NOT expected if you are initializing BigBirdModel from the checkpoint of a model that you expect to be exactly identical (initializing a BertForSequenceClassification model from a BertForSequenceClassification model).\n"
     ]
    },
    {
     "name": "stdout",
     "output_type": "stream",
     "text": [
      "INFO: GPU - Tesla T4\n",
      "\n",
      "huggingface/tokenizers: The current process just got forked, after parallelism has already been used. Disabling parallelism to avoid deadlocks...\n",
      "To disable this warning, you can either:\n",
      "\t- Avoid using `tokenizers` before the fork if possible\n",
      "\t- Explicitly set the environment variable TOKENIZERS_PARALLELISM=(true | false)\n",
      "huggingface/tokenizers: The current process just got forked, after parallelism has already been used. Disabling parallelism to avoid deadlocks...\n",
      "To disable this warning, you can either:\n",
      "\t- Avoid using `tokenizers` before the fork if possible\n",
      "\t- Explicitly set the environment variable TOKENIZERS_PARALLELISM=(true | false)\n"
     ]
    },
    {
     "name": "stderr",
     "output_type": "stream",
     "text": [
      "100%|██████████| 465/465 [04:52<00:00,  1.51it/s, Epoch=1, LR=4.36e-5, Train_loss=0.346]"
     ]
    },
    {
     "name": "stdout",
     "output_type": "stream",
     "text": [
      "To disable this warning, you can either:\n",
      "\t- Avoid using `tokenizers` before the fork if possible\n",
      "\t- Explicitly set the environment variable TOKENIZERS_PARALLELISM=(true | false)\n"
     ]
    },
    {
     "name": "stderr",
     "output_type": "stream",
     "text": [
      "100%|██████████| 465/465 [04:52<00:00,  1.59it/s, Epoch=1, LR=4.36e-5, Train_loss=0.346]\n"
     ]
    },
    {
     "name": "stdout",
     "output_type": "stream",
     "text": [
      "Train | Type' | PosNg | Time' | Sure' |\n",
      "ACCUR | 0.830 | 0.937 | 0.800 | 0.898 |\n",
      "F1_SC | 0.818 | 0.936 | 0.795 | 0.945 |\n",
      "\n",
      "huggingface/tokenizers: The current process just got forked, after parallelism has already been used. Disabling parallelism to avoid deadlocks...\n",
      "To disable this warning, you can either:\n",
      "\t- Avoid using `tokenizers` before the fork if possible\n",
      "\t- Explicitly set the environment variable TOKENIZERS_PARALLELISM=(true | false)\n",
      "huggingface/tokenizers: The current process just got forked, after parallelism has already been used. Disabling parallelism to avoid deadlocks...\n",
      "To disable this warning, you can either:\n",
      "\t- Avoid using `tokenizers` before the fork if possible\n",
      "\t- Explicitly set the environment variable TOKENIZERS_PARALLELISM=(true | false)\n"
     ]
    },
    {
     "name": "stderr",
     "output_type": "stream",
     "text": [
      "100%|██████████| 52/52 [00:11<00:00,  4.71it/s, Epoch=1, LR=4.36e-5, Valid_loss=0.23]\n"
     ]
    },
    {
     "name": "stdout",
     "output_type": "stream",
     "text": [
      "Valid | Type' | PosNg | Time' | Sure' |\n",
      "ACCUR | 0.889 | 0.973 | 0.882 | 0.936 |\n",
      "F1_SC | 0.880 | 0.968 | 0.884 | 0.965 |\n",
      "\n",
      "\n",
      "Epoch:01 | TL:3.458e-01 | VL:2.302e-01 | Train's F1: 0.873 | Valid's F1: 0.924 | \n",
      "\n",
      "\u001b[34mValidation Loss Improved(inf) --> (2.302e-01)\n",
      "Better Loss Model Saved\u001b[0m\n",
      "\u001b[34mF1 Improved(0.000) --> (0.924)\n",
      "Better_F1_Model Saved\u001b[0m\n",
      "\n",
      "huggingface/tokenizers: The current process just got forked, after parallelism has already been used. Disabling parallelism to avoid deadlocks...\n",
      "To disable this warning, you can either:\n",
      "\t- Avoid using `tokenizers` before the fork if possible\n",
      "\t- Explicitly set the environment variable TOKENIZERS_PARALLELISM=(true | false)\n",
      "huggingface/tokenizers: The current process just got forked, after parallelism has already been used. Disabling parallelism to avoid deadlocks...\n",
      "To disable this warning, you can either:\n",
      "\t- Avoid using `tokenizers` before the fork if possible\n",
      "\t- Explicitly set the environment variable TOKENIZERS_PARALLELISM=(true | false)\n"
     ]
    },
    {
     "name": "stderr",
     "output_type": "stream",
     "text": [
      "100%|██████████| 465/465 [04:52<00:00,  1.59it/s, Epoch=2, LR=2.77e-5, Train_loss=0.188]\n"
     ]
    },
    {
     "name": "stdout",
     "output_type": "stream",
     "text": [
      "Train | Type' | PosNg | Time' | Sure' |\n",
      "ACCUR | 0.903 | 0.976 | 0.916 | 0.935 |\n",
      "F1_SC | 0.898 | 0.973 | 0.915 | 0.965 |\n",
      "\n",
      "huggingface/tokenizers: The current process just got forked, after parallelism has already been used. Disabling parallelism to avoid deadlocks...\n",
      "To disable this warning, you can either:\n",
      "\t- Avoid using `tokenizers` before the fork if possible\n",
      "\t- Explicitly set the environment variable TOKENIZERS_PARALLELISM=(true | false)\n",
      "huggingface/tokenizers: The current process just got forked, after parallelism has already been used. Disabling parallelism to avoid deadlocks...\n",
      "To disable this warning, you can either:\n",
      "\t- Avoid using `tokenizers` before the fork if possible\n",
      "\t- Explicitly set the environment variable TOKENIZERS_PARALLELISM=(true | false)\n"
     ]
    },
    {
     "name": "stderr",
     "output_type": "stream",
     "text": [
      "100%|██████████| 52/52 [00:11<00:00,  4.44it/s, Epoch=2, LR=2.77e-5, Valid_loss=0.213]\n"
     ]
    },
    {
     "name": "stdout",
     "output_type": "stream",
     "text": [
      "Valid | Type' | PosNg | Time' | Sure' |\n",
      "ACCUR | 0.892 | 0.975 | 0.887 | 0.942 |\n",
      "F1_SC | 0.889 | 0.973 | 0.890 | 0.969 |\n",
      "\n",
      "\n",
      "Epoch:02 | TL:1.879e-01 | VL:2.129e-01 | Train's F1: 0.938 | Valid's F1: 0.930 | \n",
      "\n",
      "\u001b[34mValidation Loss Improved(2.302e-01) --> (2.129e-01)\n",
      "Better Loss Model Saved\u001b[0m\n",
      "\u001b[34mF1 Improved(0.924) --> (0.930)\n",
      "Better_F1_Model Saved\u001b[0m\n",
      "\n",
      "huggingface/tokenizers: The current process just got forked, after parallelism has already been used. Disabling parallelism to avoid deadlocks...\n",
      "To disable this warning, you can either:\n",
      "\t- Avoid using `tokenizers` before the fork if possible\n",
      "\t- Explicitly set the environment variable TOKENIZERS_PARALLELISM=(true | false)\n",
      "huggingface/tokenizers: The current process just got forked, after parallelism has already been used. Disabling parallelism to avoid deadlocks...\n",
      "To disable this warning, you can either:\n",
      "\t- Avoid using `tokenizers` before the fork if possible\n",
      "\t- Explicitly set the environment variable TOKENIZERS_PARALLELISM=(true | false)\n"
     ]
    },
    {
     "name": "stderr",
     "output_type": "stream",
     "text": [
      "100%|██████████| 465/465 [04:52<00:00,  1.59it/s, Epoch=3, LR=1.05e-5, Train_loss=0.144]\n"
     ]
    },
    {
     "name": "stdout",
     "output_type": "stream",
     "text": [
      "Train | Type' | PosNg | Time' | Sure' |\n",
      "ACCUR | 0.932 | 0.982 | 0.936 | 0.943 |\n",
      "F1_SC | 0.930 | 0.980 | 0.936 | 0.969 |\n",
      "\n",
      "huggingface/tokenizers: The current process just got forked, after parallelism has already been used. Disabling parallelism to avoid deadlocks...\n",
      "To disable this warning, you can either:\n",
      "\t- Avoid using `tokenizers` before the fork if possible\n",
      "\t- Explicitly set the environment variable TOKENIZERS_PARALLELISM=(true | false)\n",
      "huggingface/tokenizers: The current process just got forked, after parallelism has already been used. Disabling parallelism to avoid deadlocks...\n",
      "To disable this warning, you can either:\n",
      "\t- Avoid using `tokenizers` before the fork if possible\n",
      "\t- Explicitly set the environment variable TOKENIZERS_PARALLELISM=(true | false)\n"
     ]
    },
    {
     "name": "stderr",
     "output_type": "stream",
     "text": [
      "100%|██████████| 52/52 [00:11<00:00,  4.69it/s, Epoch=3, LR=1.05e-5, Valid_loss=0.213]\n"
     ]
    },
    {
     "name": "stdout",
     "output_type": "stream",
     "text": [
      "Valid | Type' | PosNg | Time' | Sure' |\n",
      "ACCUR | 0.899 | 0.973 | 0.891 | 0.941 |\n",
      "F1_SC | 0.897 | 0.971 | 0.891 | 0.968 |\n",
      "\n",
      "\n",
      "Epoch:03 | TL:1.436e-01 | VL:2.130e-01 | Train's F1: 0.954 | Valid's F1: 0.932 | \n",
      "\n",
      "\u001b[34mF1 Improved(0.930) --> (0.932)\n",
      "Better_F1_Model Saved\u001b[0m\n",
      "\n",
      "huggingface/tokenizers: The current process just got forked, after parallelism has already been used. Disabling parallelism to avoid deadlocks...\n",
      "To disable this warning, you can either:\n",
      "\t- Avoid using `tokenizers` before the fork if possible\n",
      "\t- Explicitly set the environment variable TOKENIZERS_PARALLELISM=(true | false)\n",
      "huggingface/tokenizers: The current process just got forked, after parallelism has already been used. Disabling parallelism to avoid deadlocks...\n",
      "To disable this warning, you can either:\n",
      "\t- Avoid using `tokenizers` before the fork if possible\n",
      "\t- Explicitly set the environment variable TOKENIZERS_PARALLELISM=(true | false)\n"
     ]
    },
    {
     "name": "stderr",
     "output_type": "stream",
     "text": [
      "100%|██████████| 465/465 [04:50<00:00,  1.60it/s, Epoch=4, LR=6.02e-7, Train_loss=0.108]\n"
     ]
    },
    {
     "name": "stdout",
     "output_type": "stream",
     "text": [
      "Train | Type' | PosNg | Time' | Sure' |\n",
      "ACCUR | 0.961 | 0.987 | 0.959 | 0.952 |\n",
      "F1_SC | 0.960 | 0.985 | 0.959 | 0.974 |\n",
      "\n",
      "huggingface/tokenizers: The current process just got forked, after parallelism has already been used. Disabling parallelism to avoid deadlocks...\n",
      "To disable this warning, you can either:\n",
      "\t- Avoid using `tokenizers` before the fork if possible\n",
      "\t- Explicitly set the environment variable TOKENIZERS_PARALLELISM=(true | false)\n",
      "huggingface/tokenizers: The current process just got forked, after parallelism has already been used. Disabling parallelism to avoid deadlocks...\n",
      "To disable this warning, you can either:\n",
      "\t- Avoid using `tokenizers` before the fork if possible\n",
      "\t- Explicitly set the environment variable TOKENIZERS_PARALLELISM=(true | false)\n"
     ]
    },
    {
     "name": "stderr",
     "output_type": "stream",
     "text": [
      "100%|██████████| 52/52 [00:11<00:00,  4.70it/s, Epoch=4, LR=6.02e-7, Valid_loss=0.225]\n"
     ]
    },
    {
     "name": "stdout",
     "output_type": "stream",
     "text": [
      "Valid | Type' | PosNg | Time' | Sure' |\n",
      "ACCUR | 0.891 | 0.973 | 0.893 | 0.941 |\n",
      "F1_SC | 0.888 | 0.971 | 0.894 | 0.968 |\n",
      "\n",
      "\n",
      "Epoch:04 | TL:1.081e-01 | VL:2.252e-01 | Train's F1: 0.970 | Valid's F1: 0.930 | \n",
      "\n",
      "\n",
      "huggingface/tokenizers: The current process just got forked, after parallelism has already been used. Disabling parallelism to avoid deadlocks...\n",
      "To disable this warning, you can either:\n",
      "\t- Avoid using `tokenizers` before the fork if possible\n",
      "\t- Explicitly set the environment variable TOKENIZERS_PARALLELISM=(true | false)\n",
      "huggingface/tokenizers: The current process just got forked, after parallelism has already been used. Disabling parallelism to avoid deadlocks...\n",
      "To disable this warning, you can either:\n",
      "\t- Avoid using `tokenizers` before the fork if possible\n",
      "\t- Explicitly set the environment variable TOKENIZERS_PARALLELISM=(true | false)\n"
     ]
    },
    {
     "name": "stderr",
     "output_type": "stream",
     "text": [
      "100%|██████████| 465/465 [04:51<00:00,  1.60it/s, Epoch=5, LR=3.19e-6, Train_loss=0.097]\n"
     ]
    },
    {
     "name": "stdout",
     "output_type": "stream",
     "text": [
      "Train | Type' | PosNg | Time' | Sure' |\n",
      "ACCUR | 0.969 | 0.988 | 0.964 | 0.955 |\n",
      "F1_SC | 0.968 | 0.986 | 0.964 | 0.976 |\n",
      "\n",
      "huggingface/tokenizers: The current process just got forked, after parallelism has already been used. Disabling parallelism to avoid deadlocks...\n",
      "To disable this warning, you can either:\n",
      "\t- Avoid using `tokenizers` before the fork if possible\n",
      "\t- Explicitly set the environment variable TOKENIZERS_PARALLELISM=(true | false)\n",
      "huggingface/tokenizers: The current process just got forked, after parallelism has already been used. Disabling parallelism to avoid deadlocks...\n",
      "To disable this warning, you can either:\n",
      "\t- Avoid using `tokenizers` before the fork if possible\n",
      "\t- Explicitly set the environment variable TOKENIZERS_PARALLELISM=(true | false)\n"
     ]
    },
    {
     "name": "stderr",
     "output_type": "stream",
     "text": [
      "100%|██████████| 52/52 [00:11<00:00,  4.64it/s, Epoch=5, LR=3.19e-6, Valid_loss=0.229]\n"
     ]
    },
    {
     "name": "stdout",
     "output_type": "stream",
     "text": [
      "Valid | Type' | PosNg | Time' | Sure' |\n",
      "ACCUR | 0.890 | 0.973 | 0.892 | 0.942 |\n",
      "F1_SC | 0.890 | 0.971 | 0.892 | 0.969 |\n",
      "\n",
      "\n",
      "Epoch:05 | TL:9.695e-02 | VL:2.288e-01 | Train's F1: 0.973 | Valid's F1: 0.930 | \n",
      "\n",
      "\n",
      "Training complete in 0h 25m 28s\n",
      "Best Loss : 2.1294e-01 at 2 th Epoch of 2th Fold\n",
      "Best F1(W): 0.9318 at 3 th Epoch of 2th Fold\n",
      "\n",
      "\u001b[33m==== Fold: 3 =====\u001b[0m\n"
     ]
    },
    {
     "name": "stderr",
     "output_type": "stream",
     "text": [
      "Some weights of the model checkpoint at monologg/kobigbird-bert-base were not used when initializing BigBirdModel: ['cls.predictions.transform.dense.bias', 'cls.predictions.decoder.weight', 'cls.predictions.transform.dense.weight', 'cls.predictions.transform.LayerNorm.weight', 'cls.seq_relationship.weight', 'cls.predictions.decoder.bias', 'cls.predictions.transform.LayerNorm.bias', 'cls.predictions.bias', 'cls.seq_relationship.bias']\n",
      "- This IS expected if you are initializing BigBirdModel from the checkpoint of a model trained on another task or with another architecture (e.g. initializing a BertForSequenceClassification model from a BertForPreTraining model).\n",
      "- This IS NOT expected if you are initializing BigBirdModel from the checkpoint of a model that you expect to be exactly identical (initializing a BertForSequenceClassification model from a BertForSequenceClassification model).\n"
     ]
    },
    {
     "name": "stdout",
     "output_type": "stream",
     "text": [
      "INFO: GPU - Tesla T4\n",
      "\n",
      "huggingface/tokenizers: The current process just got forked, after parallelism has already been used. Disabling parallelism to avoid deadlocks...\n",
      "To disable this warning, you can either:\n",
      "\t- Avoid using `tokenizers` before the fork if possible\n",
      "\t- Explicitly set the environment variable TOKENIZERS_PARALLELISM=(true | false)\n",
      "huggingface/tokenizers: The current process just got forked, after parallelism has already been used. Disabling parallelism to avoid deadlocks...\n",
      "To disable this warning, you can either:\n",
      "\t- Avoid using `tokenizers` before the fork if possible\n",
      "\t- Explicitly set the environment variable TOKENIZERS_PARALLELISM=(true | false)\n"
     ]
    },
    {
     "name": "stderr",
     "output_type": "stream",
     "text": [
      "100%|██████████| 465/465 [04:49<00:00,  1.61it/s, Epoch=1, LR=4.36e-5, Train_loss=0.328]\n"
     ]
    },
    {
     "name": "stdout",
     "output_type": "stream",
     "text": [
      "Train | Type' | PosNg | Time' | Sure' |\n",
      "ACCUR | 0.837 | 0.944 | 0.824 | 0.909 |\n",
      "F1_SC | 0.826 | 0.942 | 0.818 | 0.951 |\n",
      "\n",
      "huggingface/tokenizers: The current process just got forked, after parallelism has already been used. Disabling parallelism to avoid deadlocks...\n",
      "To disable this warning, you can either:\n",
      "\t- Avoid using `tokenizers` before the fork if possible\n",
      "\t- Explicitly set the environment variable TOKENIZERS_PARALLELISM=(true | false)\n",
      "huggingface/tokenizers: The current process just got forked, after parallelism has already been used. Disabling parallelism to avoid deadlocks...\n",
      "To disable this warning, you can either:\n",
      "\t- Avoid using `tokenizers` before the fork if possible\n",
      "\t- Explicitly set the environment variable TOKENIZERS_PARALLELISM=(true | false)\n"
     ]
    },
    {
     "name": "stderr",
     "output_type": "stream",
     "text": [
      "100%|██████████| 52/52 [00:11<00:00,  4.61it/s, Epoch=1, LR=4.36e-5, Valid_loss=0.22]\n"
     ]
    },
    {
     "name": "stdout",
     "output_type": "stream",
     "text": [
      "Valid | Type' | PosNg | Time' | Sure' |\n",
      "ACCUR | 0.897 | 0.972 | 0.895 | 0.932 |\n",
      "F1_SC | 0.879 | 0.967 | 0.888 | 0.964 |\n",
      "\n",
      "\n",
      "Epoch:01 | TL:3.276e-01 | VL:2.200e-01 | Train's F1: 0.884 | Valid's F1: 0.924 | \n",
      "\n",
      "\u001b[34mValidation Loss Improved(inf) --> (2.200e-01)\n",
      "Better Loss Model Saved\u001b[0m\n",
      "\u001b[34mF1 Improved(0.000) --> (0.924)\n",
      "Better_F1_Model Saved\u001b[0m\n",
      "\n",
      "huggingface/tokenizers: The current process just got forked, after parallelism has already been used. Disabling parallelism to avoid deadlocks...\n",
      "To disable this warning, you can either:\n",
      "\t- Avoid using `tokenizers` before the fork if possible\n",
      "\t- Explicitly set the environment variable TOKENIZERS_PARALLELISM=(true | false)\n",
      "huggingface/tokenizers: The current process just got forked, after parallelism has already been used. Disabling parallelism to avoid deadlocks...\n",
      "To disable this warning, you can either:\n",
      "\t- Avoid using `tokenizers` before the fork if possible\n",
      "\t- Explicitly set the environment variable TOKENIZERS_PARALLELISM=(true | false)\n"
     ]
    },
    {
     "name": "stderr",
     "output_type": "stream",
     "text": [
      "100%|██████████| 465/465 [04:50<00:00,  1.60it/s, Epoch=2, LR=2.77e-5, Train_loss=0.188]\n"
     ]
    },
    {
     "name": "stdout",
     "output_type": "stream",
     "text": [
      "Train | Type' | PosNg | Time' | Sure' |\n",
      "ACCUR | 0.906 | 0.977 | 0.913 | 0.937 |\n",
      "F1_SC | 0.900 | 0.974 | 0.912 | 0.966 |\n",
      "\n",
      "huggingface/tokenizers: The current process just got forked, after parallelism has already been used. Disabling parallelism to avoid deadlocks...\n",
      "To disable this warning, you can either:\n",
      "\t- Avoid using `tokenizers` before the fork if possible\n",
      "\t- Explicitly set the environment variable TOKENIZERS_PARALLELISM=(true | false)\n",
      "huggingface/tokenizers: The current process just got forked, after parallelism has already been used. Disabling parallelism to avoid deadlocks...\n",
      "To disable this warning, you can either:\n",
      "\t- Avoid using `tokenizers` before the fork if possible\n",
      "\t- Explicitly set the environment variable TOKENIZERS_PARALLELISM=(true | false)\n"
     ]
    },
    {
     "name": "stderr",
     "output_type": "stream",
     "text": [
      "100%|██████████| 52/52 [00:11<00:00,  4.55it/s, Epoch=2, LR=2.77e-5, Valid_loss=0.205]\n"
     ]
    },
    {
     "name": "stdout",
     "output_type": "stream",
     "text": [
      "Valid | Type' | PosNg | Time' | Sure' |\n",
      "ACCUR | 0.897 | 0.973 | 0.905 | 0.918 |\n",
      "F1_SC | 0.896 | 0.971 | 0.905 | 0.955 |\n",
      "\n",
      "\n",
      "Epoch:02 | TL:1.883e-01 | VL:2.050e-01 | Train's F1: 0.938 | Valid's F1: 0.932 | \n",
      "\n",
      "\u001b[34mValidation Loss Improved(2.200e-01) --> (2.050e-01)\n",
      "Better Loss Model Saved\u001b[0m\n",
      "\u001b[34mF1 Improved(0.924) --> (0.932)\n",
      "Better_F1_Model Saved\u001b[0m\n",
      "\n",
      "huggingface/tokenizers: The current process just got forked, after parallelism has already been used. Disabling parallelism to avoid deadlocks...\n",
      "To disable this warning, you can either:\n",
      "\t- Avoid using `tokenizers` before the fork if possible\n",
      "\t- Explicitly set the environment variable TOKENIZERS_PARALLELISM=(true | false)\n",
      "huggingface/tokenizers: The current process just got forked, after parallelism has already been used. Disabling parallelism to avoid deadlocks...\n",
      "To disable this warning, you can either:\n",
      "\t- Avoid using `tokenizers` before the fork if possible\n",
      "\t- Explicitly set the environment variable TOKENIZERS_PARALLELISM=(true | false)\n"
     ]
    },
    {
     "name": "stderr",
     "output_type": "stream",
     "text": [
      "100%|██████████| 465/465 [04:50<00:00,  1.79it/s, Epoch=3, LR=1.05e-5, Train_loss=0.143]"
     ]
    },
    {
     "name": "stdout",
     "output_type": "stream",
     "text": [
      "To disable this warning, you can either:\n",
      "\t- Avoid using `tokenizers` before the fork if possible\n",
      "\t- Explicitly set the environment variable TOKENIZERS_PARALLELISM=(true | false)\n"
     ]
    },
    {
     "name": "stderr",
     "output_type": "stream",
     "text": [
      "100%|██████████| 465/465 [04:50<00:00,  1.60it/s, Epoch=3, LR=1.05e-5, Train_loss=0.143]\n"
     ]
    },
    {
     "name": "stdout",
     "output_type": "stream",
     "text": [
      "Train | Type' | PosNg | Time' | Sure' |\n",
      "ACCUR | 0.932 | 0.983 | 0.937 | 0.945 |\n",
      "F1_SC | 0.930 | 0.982 | 0.937 | 0.971 |\n",
      "\n",
      "huggingface/tokenizers: The current process just got forked, after parallelism has already been used. Disabling parallelism to avoid deadlocks...\n",
      "To disable this warning, you can either:\n",
      "\t- Avoid using `tokenizers` before the fork if possible\n",
      "\t- Explicitly set the environment variable TOKENIZERS_PARALLELISM=(true | false)\n",
      "huggingface/tokenizers: The current process just got forked, after parallelism has already been used. Disabling parallelism to avoid deadlocks...\n",
      "To disable this warning, you can either:\n",
      "\t- Avoid using `tokenizers` before the fork if possible\n",
      "\t- Explicitly set the environment variable TOKENIZERS_PARALLELISM=(true | false)\n"
     ]
    },
    {
     "name": "stderr",
     "output_type": "stream",
     "text": [
      "100%|██████████| 52/52 [00:11<00:00,  4.56it/s, Epoch=3, LR=1.05e-5, Valid_loss=0.205]\n"
     ]
    },
    {
     "name": "stdout",
     "output_type": "stream",
     "text": [
      "Valid | Type' | PosNg | Time' | Sure' |\n",
      "ACCUR | 0.906 | 0.974 | 0.912 | 0.927 |\n",
      "F1_SC | 0.902 | 0.970 | 0.911 | 0.961 |\n",
      "\n",
      "\n",
      "Epoch:03 | TL:1.433e-01 | VL:2.051e-01 | Train's F1: 0.955 | Valid's F1: 0.936 | \n",
      "\n",
      "\u001b[34mF1 Improved(0.932) --> (0.936)\n",
      "Better_F1_Model Saved\u001b[0m\n",
      "\n",
      "huggingface/tokenizers: The current process just got forked, after parallelism has already been used. Disabling parallelism to avoid deadlocks...\n",
      "To disable this warning, you can either:\n",
      "\t- Avoid using `tokenizers` before the fork if possible\n",
      "\t- Explicitly set the environment variable TOKENIZERS_PARALLELISM=(true | false)\n",
      "huggingface/tokenizers: The current process just got forked, after parallelism has already been used. Disabling parallelism to avoid deadlocks...\n",
      "To disable this warning, you can either:\n",
      "\t- Avoid using `tokenizers` before the fork if possible\n",
      "\t- Explicitly set the environment variable TOKENIZERS_PARALLELISM=(true | false)\n"
     ]
    },
    {
     "name": "stderr",
     "output_type": "stream",
     "text": [
      "100%|██████████| 465/465 [04:51<00:00,  1.59it/s, Epoch=4, LR=6.02e-7, Train_loss=0.109]\n"
     ]
    },
    {
     "name": "stdout",
     "output_type": "stream",
     "text": [
      "Train | Type' | PosNg | Time' | Sure' |\n",
      "ACCUR | 0.957 | 0.986 | 0.957 | 0.952 |\n",
      "F1_SC | 0.956 | 0.985 | 0.957 | 0.974 |\n",
      "\n",
      "huggingface/tokenizers: The current process just got forked, after parallelism has already been used. Disabling parallelism to avoid deadlocks...\n",
      "To disable this warning, you can either:\n",
      "\t- Avoid using `tokenizers` before the fork if possible\n",
      "\t- Explicitly set the environment variable TOKENIZERS_PARALLELISM=(true | false)\n",
      "huggingface/tokenizers: The current process just got forked, after parallelism has already been used. Disabling parallelism to avoid deadlocks...\n",
      "To disable this warning, you can either:\n",
      "\t- Avoid using `tokenizers` before the fork if possible\n",
      "\t- Explicitly set the environment variable TOKENIZERS_PARALLELISM=(true | false)\n"
     ]
    },
    {
     "name": "stderr",
     "output_type": "stream",
     "text": [
      "100%|██████████| 52/52 [00:11<00:00,  4.45it/s, Epoch=4, LR=6.02e-7, Valid_loss=0.217]\n"
     ]
    },
    {
     "name": "stdout",
     "output_type": "stream",
     "text": [
      "Valid | Type' | PosNg | Time' | Sure' |\n",
      "ACCUR | 0.905 | 0.974 | 0.909 | 0.919 |\n",
      "F1_SC | 0.903 | 0.972 | 0.908 | 0.956 |\n",
      "\n",
      "\n",
      "Epoch:04 | TL:1.091e-01 | VL:2.171e-01 | Train's F1: 0.968 | Valid's F1: 0.935 | \n",
      "\n",
      "\n",
      "huggingface/tokenizers: The current process just got forked, after parallelism has already been used. Disabling parallelism to avoid deadlocks...\n",
      "To disable this warning, you can either:\n",
      "\t- Avoid using `tokenizers` before the fork if possible\n",
      "\t- Explicitly set the environment variable TOKENIZERS_PARALLELISM=(true | false)\n",
      "huggingface/tokenizers: The current process just got forked, after parallelism has already been used. Disabling parallelism to avoid deadlocks...\n",
      "To disable this warning, you can either:\n",
      "\t- Avoid using `tokenizers` before the fork if possible\n",
      "\t- Explicitly set the environment variable TOKENIZERS_PARALLELISM=(true | false)\n"
     ]
    },
    {
     "name": "stderr",
     "output_type": "stream",
     "text": [
      "100%|██████████| 465/465 [04:50<00:00,  1.56it/s, Epoch=5, LR=3.19e-6, Train_loss=0.0985]"
     ]
    },
    {
     "name": "stdout",
     "output_type": "stream",
     "text": [
      "To disable this warning, you can either:\n",
      "\t- Avoid using `tokenizers` before the fork if possible\n",
      "\t- Explicitly set the environment variable TOKENIZERS_PARALLELISM=(true | false)\n"
     ]
    },
    {
     "name": "stderr",
     "output_type": "stream",
     "text": [
      "100%|██████████| 465/465 [04:50<00:00,  1.60it/s, Epoch=5, LR=3.19e-6, Train_loss=0.0985]\n"
     ]
    },
    {
     "name": "stdout",
     "output_type": "stream",
     "text": [
      "Train | Type' | PosNg | Time' | Sure' |\n",
      "ACCUR | 0.965 | 0.989 | 0.964 | 0.955 |\n",
      "F1_SC | 0.964 | 0.987 | 0.964 | 0.976 |\n",
      "\n",
      "huggingface/tokenizers: The current process just got forked, after parallelism has already been used. Disabling parallelism to avoid deadlocks...\n",
      "To disable this warning, you can either:\n",
      "\t- Avoid using `tokenizers` before the fork if possible\n",
      "\t- Explicitly set the environment variable TOKENIZERS_PARALLELISM=(true | false)\n",
      "huggingface/tokenizers: The current process just got forked, after parallelism has already been used. Disabling parallelism to avoid deadlocks...\n",
      "To disable this warning, you can either:\n",
      "\t- Avoid using `tokenizers` before the fork if possible\n",
      "\t- Explicitly set the environment variable TOKENIZERS_PARALLELISM=(true | false)\n"
     ]
    },
    {
     "name": "stderr",
     "output_type": "stream",
     "text": [
      "100%|██████████| 52/52 [00:11<00:00,  4.59it/s, Epoch=5, LR=3.19e-6, Valid_loss=0.221]\n"
     ]
    },
    {
     "name": "stdout",
     "output_type": "stream",
     "text": [
      "Valid | Type' | PosNg | Time' | Sure' |\n",
      "ACCUR | 0.907 | 0.972 | 0.911 | 0.922 |\n",
      "F1_SC | 0.904 | 0.970 | 0.909 | 0.958 |\n",
      "\n",
      "\n",
      "Epoch:05 | TL:9.848e-02 | VL:2.210e-01 | Train's F1: 0.973 | Valid's F1: 0.935 | \n",
      "\n",
      "\n",
      "Training complete in 0h 25m 20s\n",
      "Best Loss : 2.0502e-01 at 2 th Epoch of 3th Fold\n",
      "Best F1(W): 0.9359 at 3 th Epoch of 3th Fold\n",
      "\n",
      "\u001b[33m==== Fold: 4 =====\u001b[0m\n"
     ]
    },
    {
     "name": "stderr",
     "output_type": "stream",
     "text": [
      "Some weights of the model checkpoint at monologg/kobigbird-bert-base were not used when initializing BigBirdModel: ['cls.predictions.transform.dense.bias', 'cls.predictions.decoder.weight', 'cls.predictions.transform.dense.weight', 'cls.predictions.transform.LayerNorm.weight', 'cls.seq_relationship.weight', 'cls.predictions.decoder.bias', 'cls.predictions.transform.LayerNorm.bias', 'cls.predictions.bias', 'cls.seq_relationship.bias']\n",
      "- This IS expected if you are initializing BigBirdModel from the checkpoint of a model trained on another task or with another architecture (e.g. initializing a BertForSequenceClassification model from a BertForPreTraining model).\n",
      "- This IS NOT expected if you are initializing BigBirdModel from the checkpoint of a model that you expect to be exactly identical (initializing a BertForSequenceClassification model from a BertForSequenceClassification model).\n"
     ]
    },
    {
     "name": "stdout",
     "output_type": "stream",
     "text": [
      "INFO: GPU - Tesla T4\n",
      "\n",
      "huggingface/tokenizers: The current process just got forked, after parallelism has already been used. Disabling parallelism to avoid deadlocks...\n",
      "To disable this warning, you can either:\n",
      "\t- Avoid using `tokenizers` before the fork if possible\n",
      "\t- Explicitly set the environment variable TOKENIZERS_PARALLELISM=(true | false)\n",
      "huggingface/tokenizers: The current process just got forked, after parallelism has already been used. Disabling parallelism to avoid deadlocks...\n",
      "To disable this warning, you can either:\n",
      "\t- Avoid using `tokenizers` before the fork if possible\n",
      "\t- Explicitly set the environment variable TOKENIZERS_PARALLELISM=(true | false)\n"
     ]
    },
    {
     "name": "stderr",
     "output_type": "stream",
     "text": [
      "100%|██████████| 465/465 [04:51<00:00,  1.59it/s, Epoch=1, LR=4.36e-5, Train_loss=0.321]\n"
     ]
    },
    {
     "name": "stdout",
     "output_type": "stream",
     "text": [
      "Train | Type' | PosNg | Time' | Sure' |\n",
      "ACCUR | 0.862 | 0.956 | 0.825 | 0.900 |\n",
      "F1_SC | 0.843 | 0.952 | 0.819 | 0.946 |\n",
      "\n",
      "huggingface/tokenizers: The current process just got forked, after parallelism has already been used. Disabling parallelism to avoid deadlocks...\n",
      "To disable this warning, you can either:\n",
      "\t- Avoid using `tokenizers` before the fork if possible\n",
      "\t- Explicitly set the environment variable TOKENIZERS_PARALLELISM=(true | false)\n",
      "huggingface/tokenizers: The current process just got forked, after parallelism has already been used. Disabling parallelism to avoid deadlocks...\n",
      "To disable this warning, you can either:\n",
      "\t- Avoid using `tokenizers` before the fork if possible\n",
      "\t- Explicitly set the environment variable TOKENIZERS_PARALLELISM=(true | false)\n"
     ]
    },
    {
     "name": "stderr",
     "output_type": "stream",
     "text": [
      "100%|██████████| 52/52 [00:12<00:00,  4.31it/s, Epoch=1, LR=4.36e-5, Valid_loss=0.217]\n"
     ]
    },
    {
     "name": "stdout",
     "output_type": "stream",
     "text": [
      "Valid | Type' | PosNg | Time' | Sure' |\n",
      "ACCUR | 0.889 | 0.980 | 0.896 | 0.937 |\n",
      "F1_SC | 0.866 | 0.978 | 0.896 | 0.966 |\n",
      "\n",
      "\n",
      "Epoch:01 | TL:3.207e-01 | VL:2.166e-01 | Train's F1: 0.890 | Valid's F1: 0.927 | \n",
      "\n",
      "\u001b[34mValidation Loss Improved(inf) --> (2.166e-01)\n",
      "Better Loss Model Saved\u001b[0m\n",
      "\u001b[34mF1 Improved(0.000) --> (0.927)\n",
      "Better_F1_Model Saved\u001b[0m\n",
      "\n",
      "huggingface/tokenizers: The current process just got forked, after parallelism has already been used. Disabling parallelism to avoid deadlocks...\n",
      "To disable this warning, you can either:\n",
      "\t- Avoid using `tokenizers` before the fork if possible\n",
      "\t- Explicitly set the environment variable TOKENIZERS_PARALLELISM=(true | false)\n",
      "huggingface/tokenizers: The current process just got forked, after parallelism has already been used. Disabling parallelism to avoid deadlocks...\n",
      "To disable this warning, you can either:\n",
      "\t- Avoid using `tokenizers` before the fork if possible\n",
      "\t- Explicitly set the environment variable TOKENIZERS_PARALLELISM=(true | false)\n"
     ]
    },
    {
     "name": "stderr",
     "output_type": "stream",
     "text": [
      "100%|██████████| 465/465 [04:52<00:00,  1.59it/s, Epoch=2, LR=2.77e-5, Train_loss=0.188]\n"
     ]
    },
    {
     "name": "stdout",
     "output_type": "stream",
     "text": [
      "Train | Type' | PosNg | Time' | Sure' |\n",
      "ACCUR | 0.906 | 0.975 | 0.912 | 0.936 |\n",
      "F1_SC | 0.900 | 0.972 | 0.911 | 0.966 |\n",
      "\n",
      "huggingface/tokenizers: The current process just got forked, after parallelism has already been used. Disabling parallelism to avoid deadlocks...\n",
      "To disable this warning, you can either:\n",
      "\t- Avoid using `tokenizers` before the fork if possible\n",
      "\t- Explicitly set the environment variable TOKENIZERS_PARALLELISM=(true | false)\n",
      "huggingface/tokenizers: The current process just got forked, after parallelism has already been used. Disabling parallelism to avoid deadlocks...\n",
      "To disable this warning, you can either:\n",
      "\t- Avoid using `tokenizers` before the fork if possible\n",
      "\t- Explicitly set the environment variable TOKENIZERS_PARALLELISM=(true | false)\n"
     ]
    },
    {
     "name": "stderr",
     "output_type": "stream",
     "text": [
      "100%|██████████| 52/52 [00:11<00:00,  5.25it/s, Epoch=2, LR=2.77e-5, Valid_loss=0.202]"
     ]
    },
    {
     "name": "stdout",
     "output_type": "stream",
     "text": [
      "To disable this warning, you can either:\n",
      "\t- Avoid using `tokenizers` before the fork if possible\n",
      "\t- Explicitly set the environment variable TOKENIZERS_PARALLELISM=(true | false)\n"
     ]
    },
    {
     "name": "stderr",
     "output_type": "stream",
     "text": [
      "100%|██████████| 52/52 [00:11<00:00,  4.59it/s, Epoch=2, LR=2.77e-5, Valid_loss=0.202]\n"
     ]
    },
    {
     "name": "stdout",
     "output_type": "stream",
     "text": [
      "Valid | Type' | PosNg | Time' | Sure' |\n",
      "ACCUR | 0.894 | 0.980 | 0.901 | 0.927 |\n",
      "F1_SC | 0.894 | 0.976 | 0.903 | 0.960 |\n",
      "\n",
      "\n",
      "Epoch:02 | TL:1.880e-01 | VL:2.021e-01 | Train's F1: 0.937 | Valid's F1: 0.933 | \n",
      "\n",
      "\u001b[34mValidation Loss Improved(2.166e-01) --> (2.021e-01)\n",
      "Better Loss Model Saved\u001b[0m\n",
      "\u001b[34mF1 Improved(0.927) --> (0.933)\n",
      "Better_F1_Model Saved\u001b[0m\n",
      "\n",
      "huggingface/tokenizers: The current process just got forked, after parallelism has already been used. Disabling parallelism to avoid deadlocks...\n",
      "To disable this warning, you can either:\n",
      "\t- Avoid using `tokenizers` before the fork if possible\n",
      "\t- Explicitly set the environment variable TOKENIZERS_PARALLELISM=(true | false)\n",
      "huggingface/tokenizers: The current process just got forked, after parallelism has already been used. Disabling parallelism to avoid deadlocks...\n",
      "To disable this warning, you can either:\n",
      "\t- Avoid using `tokenizers` before the fork if possible\n",
      "\t- Explicitly set the environment variable TOKENIZERS_PARALLELISM=(true | false)\n"
     ]
    },
    {
     "name": "stderr",
     "output_type": "stream",
     "text": [
      "100%|██████████| 465/465 [04:50<00:00,  1.59it/s, Epoch=3, LR=1.05e-5, Train_loss=0.146]"
     ]
    },
    {
     "name": "stdout",
     "output_type": "stream",
     "text": [
      "To disable this warning, you can either:\n",
      "\t- Avoid using `tokenizers` before the fork if possible\n",
      "\t- Explicitly set the environment variable TOKENIZERS_PARALLELISM=(true | false)\n"
     ]
    },
    {
     "name": "stderr",
     "output_type": "stream",
     "text": [
      "100%|██████████| 465/465 [04:51<00:00,  1.60it/s, Epoch=3, LR=1.05e-5, Train_loss=0.146]\n"
     ]
    },
    {
     "name": "stdout",
     "output_type": "stream",
     "text": [
      "Train | Type' | PosNg | Time' | Sure' |\n",
      "ACCUR | 0.931 | 0.982 | 0.938 | 0.944 |\n",
      "F1_SC | 0.929 | 0.980 | 0.938 | 0.970 |\n",
      "\n",
      "huggingface/tokenizers: The current process just got forked, after parallelism has already been used. Disabling parallelism to avoid deadlocks...\n",
      "To disable this warning, you can either:\n",
      "\t- Avoid using `tokenizers` before the fork if possible\n",
      "\t- Explicitly set the environment variable TOKENIZERS_PARALLELISM=(true | false)\n",
      "huggingface/tokenizers: The current process just got forked, after parallelism has already been used. Disabling parallelism to avoid deadlocks...\n",
      "To disable this warning, you can either:\n",
      "\t- Avoid using `tokenizers` before the fork if possible\n",
      "\t- Explicitly set the environment variable TOKENIZERS_PARALLELISM=(true | false)\n"
     ]
    },
    {
     "name": "stderr",
     "output_type": "stream",
     "text": [
      "100%|██████████| 52/52 [00:11<00:00,  5.03it/s, Epoch=3, LR=1.05e-5, Valid_loss=0.196]"
     ]
    },
    {
     "name": "stdout",
     "output_type": "stream",
     "text": [
      "To disable this warning, you can either:\n",
      "\t- Avoid using `tokenizers` before the fork if possible\n",
      "\t- Explicitly set the environment variable TOKENIZERS_PARALLELISM=(true | false)\n"
     ]
    },
    {
     "name": "stderr",
     "output_type": "stream",
     "text": [
      "100%|██████████| 52/52 [00:11<00:00,  4.47it/s, Epoch=3, LR=1.05e-5, Valid_loss=0.196]\n"
     ]
    },
    {
     "name": "stdout",
     "output_type": "stream",
     "text": [
      "Valid | Type' | PosNg | Time' | Sure' |\n",
      "ACCUR | 0.902 | 0.984 | 0.897 | 0.936 |\n",
      "F1_SC | 0.897 | 0.983 | 0.897 | 0.966 |\n",
      "\n",
      "\n",
      "Epoch:03 | TL:1.459e-01 | VL:1.957e-01 | Train's F1: 0.954 | Valid's F1: 0.936 | \n",
      "\n",
      "\u001b[34mValidation Loss Improved(2.021e-01) --> (1.957e-01)\n",
      "Better Loss Model Saved\u001b[0m\n",
      "\u001b[34mF1 Improved(0.933) --> (0.936)\n",
      "Better_F1_Model Saved\u001b[0m\n",
      "\n",
      "huggingface/tokenizers: The current process just got forked, after parallelism has already been used. Disabling parallelism to avoid deadlocks...\n",
      "To disable this warning, you can either:\n",
      "\t- Avoid using `tokenizers` before the fork if possible\n",
      "\t- Explicitly set the environment variable TOKENIZERS_PARALLELISM=(true | false)\n",
      "huggingface/tokenizers: The current process just got forked, after parallelism has already been used. Disabling parallelism to avoid deadlocks...\n",
      "To disable this warning, you can either:\n",
      "\t- Avoid using `tokenizers` before the fork if possible\n",
      "\t- Explicitly set the environment variable TOKENIZERS_PARALLELISM=(true | false)\n"
     ]
    },
    {
     "name": "stderr",
     "output_type": "stream",
     "text": [
      "100%|██████████| 465/465 [04:54<00:00,  1.58it/s, Epoch=4, LR=6.02e-7, Train_loss=0.111]\n"
     ]
    },
    {
     "name": "stdout",
     "output_type": "stream",
     "text": [
      "Train | Type' | PosNg | Time' | Sure' |\n",
      "ACCUR | 0.959 | 0.986 | 0.955 | 0.952 |\n",
      "F1_SC | 0.958 | 0.984 | 0.955 | 0.974 |\n",
      "\n",
      "huggingface/tokenizers: The current process just got forked, after parallelism has already been used. Disabling parallelism to avoid deadlocks...\n",
      "To disable this warning, you can either:\n",
      "\t- Avoid using `tokenizers` before the fork if possible\n",
      "\t- Explicitly set the environment variable TOKENIZERS_PARALLELISM=(true | false)\n",
      "huggingface/tokenizers: The current process just got forked, after parallelism has already been used. Disabling parallelism to avoid deadlocks...\n",
      "To disable this warning, you can either:\n",
      "\t- Avoid using `tokenizers` before the fork if possible\n",
      "\t- Explicitly set the environment variable TOKENIZERS_PARALLELISM=(true | false)\n"
     ]
    },
    {
     "name": "stderr",
     "output_type": "stream",
     "text": [
      "100%|██████████| 52/52 [00:11<00:00,  4.52it/s, Epoch=4, LR=6.02e-7, Valid_loss=0.205]\n"
     ]
    },
    {
     "name": "stdout",
     "output_type": "stream",
     "text": [
      "Valid | Type' | PosNg | Time' | Sure' |\n",
      "ACCUR | 0.903 | 0.982 | 0.898 | 0.938 |\n",
      "F1_SC | 0.901 | 0.981 | 0.898 | 0.967 |\n",
      "\n",
      "\n",
      "Epoch:04 | TL:1.105e-01 | VL:2.049e-01 | Train's F1: 0.968 | Valid's F1: 0.937 | \n",
      "\n",
      "\u001b[34mF1 Improved(0.936) --> (0.937)\n",
      "Better_F1_Model Saved\u001b[0m\n",
      "\n",
      "huggingface/tokenizers: The current process just got forked, after parallelism has already been used. Disabling parallelism to avoid deadlocks...\n",
      "To disable this warning, you can either:\n",
      "\t- Avoid using `tokenizers` before the fork if possible\n",
      "\t- Explicitly set the environment variable TOKENIZERS_PARALLELISM=(true | false)\n",
      "huggingface/tokenizers: The current process just got forked, after parallelism has already been used. Disabling parallelism to avoid deadlocks...\n",
      "To disable this warning, you can either:\n",
      "\t- Avoid using `tokenizers` before the fork if possible\n",
      "\t- Explicitly set the environment variable TOKENIZERS_PARALLELISM=(true | false)\n"
     ]
    },
    {
     "name": "stderr",
     "output_type": "stream",
     "text": [
      "100%|██████████| 465/465 [04:52<00:00,  1.59it/s, Epoch=5, LR=3.19e-6, Train_loss=0.0995]\n"
     ]
    },
    {
     "name": "stdout",
     "output_type": "stream",
     "text": [
      "Train | Type' | PosNg | Time' | Sure' |\n",
      "ACCUR | 0.966 | 0.988 | 0.964 | 0.955 |\n",
      "F1_SC | 0.965 | 0.986 | 0.964 | 0.976 |\n",
      "\n",
      "huggingface/tokenizers: The current process just got forked, after parallelism has already been used. Disabling parallelism to avoid deadlocks...\n",
      "To disable this warning, you can either:\n",
      "\t- Avoid using `tokenizers` before the fork if possible\n",
      "\t- Explicitly set the environment variable TOKENIZERS_PARALLELISM=(true | false)\n",
      "huggingface/tokenizers: The current process just got forked, after parallelism has already been used. Disabling parallelism to avoid deadlocks...\n",
      "To disable this warning, you can either:\n",
      "\t- Avoid using `tokenizers` before the fork if possible\n",
      "\t- Explicitly set the environment variable TOKENIZERS_PARALLELISM=(true | false)\n"
     ]
    },
    {
     "name": "stderr",
     "output_type": "stream",
     "text": [
      "100%|██████████| 52/52 [00:11<00:00,  4.89it/s, Epoch=5, LR=3.19e-6, Valid_loss=0.208]"
     ]
    },
    {
     "name": "stdout",
     "output_type": "stream",
     "text": [
      "To disable this warning, you can either:\n",
      "\t- Avoid using `tokenizers` before the fork if possible\n",
      "\t- Explicitly set the environment variable TOKENIZERS_PARALLELISM=(true | false)\n"
     ]
    },
    {
     "name": "stderr",
     "output_type": "stream",
     "text": [
      "100%|██████████| 52/52 [00:11<00:00,  4.50it/s, Epoch=5, LR=3.19e-6, Valid_loss=0.208]\n"
     ]
    },
    {
     "name": "stdout",
     "output_type": "stream",
     "text": [
      "Valid | Type' | PosNg | Time' | Sure' |\n",
      "ACCUR | 0.903 | 0.982 | 0.902 | 0.935 |\n",
      "F1_SC | 0.902 | 0.981 | 0.902 | 0.965 |\n",
      "\n",
      "\n",
      "Epoch:05 | TL:9.949e-02 | VL:2.082e-01 | Train's F1: 0.973 | Valid's F1: 0.937 | \n",
      "\n",
      "\u001b[34mF1 Improved(0.937) --> (0.937)\n",
      "Better_F1_Model Saved\u001b[0m\n",
      "\n",
      "Training complete in 0h 25m 34s\n",
      "Best Loss : 1.9569e-01 at 3 th Epoch of 4th Fold\n",
      "Best F1(W): 0.9374 at 5 th Epoch of 4th Fold\n",
      "\n",
      "\u001b[33m==== Fold: 5 =====\u001b[0m\n"
     ]
    },
    {
     "name": "stderr",
     "output_type": "stream",
     "text": [
      "Some weights of the model checkpoint at monologg/kobigbird-bert-base were not used when initializing BigBirdModel: ['cls.predictions.transform.dense.bias', 'cls.predictions.decoder.weight', 'cls.predictions.transform.dense.weight', 'cls.predictions.transform.LayerNorm.weight', 'cls.seq_relationship.weight', 'cls.predictions.decoder.bias', 'cls.predictions.transform.LayerNorm.bias', 'cls.predictions.bias', 'cls.seq_relationship.bias']\n",
      "- This IS expected if you are initializing BigBirdModel from the checkpoint of a model trained on another task or with another architecture (e.g. initializing a BertForSequenceClassification model from a BertForPreTraining model).\n",
      "- This IS NOT expected if you are initializing BigBirdModel from the checkpoint of a model that you expect to be exactly identical (initializing a BertForSequenceClassification model from a BertForSequenceClassification model).\n"
     ]
    },
    {
     "name": "stdout",
     "output_type": "stream",
     "text": [
      "INFO: GPU - Tesla T4\n",
      "\n",
      "huggingface/tokenizers: The current process just got forked, after parallelism has already been used. Disabling parallelism to avoid deadlocks...\n",
      "To disable this warning, you can either:\n",
      "\t- Avoid using `tokenizers` before the fork if possible\n",
      "\t- Explicitly set the environment variable TOKENIZERS_PARALLELISM=(true | false)\n",
      "huggingface/tokenizers: The current process just got forked, after parallelism has already been used. Disabling parallelism to avoid deadlocks...\n",
      "To disable this warning, you can either:\n",
      "\t- Avoid using `tokenizers` before the fork if possible\n",
      "\t- Explicitly set the environment variable TOKENIZERS_PARALLELISM=(true | false)\n"
     ]
    },
    {
     "name": "stderr",
     "output_type": "stream",
     "text": [
      "100%|██████████| 465/465 [04:53<00:00,  1.58it/s, Epoch=1, LR=4.36e-5, Train_loss=0.334]\n"
     ]
    },
    {
     "name": "stdout",
     "output_type": "stream",
     "text": [
      "Train | Type' | PosNg | Time' | Sure' |\n",
      "ACCUR | 0.831 | 0.961 | 0.807 | 0.901 |\n",
      "F1_SC | 0.816 | 0.952 | 0.807 | 0.947 |\n",
      "\n",
      "huggingface/tokenizers: The current process just got forked, after parallelism has already been used. Disabling parallelism to avoid deadlocks...\n",
      "To disable this warning, you can either:\n",
      "\t- Avoid using `tokenizers` before the fork if possible\n",
      "\t- Explicitly set the environment variable TOKENIZERS_PARALLELISM=(true | false)\n",
      "huggingface/tokenizers: The current process just got forked, after parallelism has already been used. Disabling parallelism to avoid deadlocks...\n",
      "To disable this warning, you can either:\n",
      "\t- Avoid using `tokenizers` before the fork if possible\n",
      "\t- Explicitly set the environment variable TOKENIZERS_PARALLELISM=(true | false)\n"
     ]
    },
    {
     "name": "stderr",
     "output_type": "stream",
     "text": [
      "100%|██████████| 52/52 [00:11<00:00,  4.68it/s, Epoch=1, LR=4.36e-5, Valid_loss=0.209]\n"
     ]
    },
    {
     "name": "stdout",
     "output_type": "stream",
     "text": [
      "Valid | Type' | PosNg | Time' | Sure' |\n",
      "ACCUR | 0.899 | 0.970 | 0.904 | 0.929 |\n",
      "F1_SC | 0.895 | 0.966 | 0.902 | 0.962 |\n",
      "\n",
      "\n",
      "Epoch:01 | TL:3.343e-01 | VL:2.089e-01 | Train's F1: 0.880 | Valid's F1: 0.931 | \n",
      "\n",
      "\u001b[34mValidation Loss Improved(inf) --> (2.089e-01)\n",
      "Better Loss Model Saved\u001b[0m\n",
      "\u001b[34mF1 Improved(0.000) --> (0.931)\n",
      "Better_F1_Model Saved\u001b[0m\n",
      "\n",
      "huggingface/tokenizers: The current process just got forked, after parallelism has already been used. Disabling parallelism to avoid deadlocks...\n",
      "To disable this warning, you can either:\n",
      "\t- Avoid using `tokenizers` before the fork if possible\n",
      "\t- Explicitly set the environment variable TOKENIZERS_PARALLELISM=(true | false)\n",
      "huggingface/tokenizers: The current process just got forked, after parallelism has already been used. Disabling parallelism to avoid deadlocks...\n",
      "To disable this warning, you can either:\n",
      "\t- Avoid using `tokenizers` before the fork if possible\n",
      "\t- Explicitly set the environment variable TOKENIZERS_PARALLELISM=(true | false)\n"
     ]
    },
    {
     "name": "stderr",
     "output_type": "stream",
     "text": [
      "100%|██████████| 465/465 [04:52<00:00,  1.59it/s, Epoch=2, LR=2.77e-5, Train_loss=0.188]\n"
     ]
    },
    {
     "name": "stdout",
     "output_type": "stream",
     "text": [
      "Train | Type' | PosNg | Time' | Sure' |\n",
      "ACCUR | 0.902 | 0.977 | 0.914 | 0.937 |\n",
      "F1_SC | 0.897 | 0.974 | 0.913 | 0.966 |\n",
      "\n",
      "huggingface/tokenizers: The current process just got forked, after parallelism has already been used. Disabling parallelism to avoid deadlocks...\n",
      "To disable this warning, you can either:\n",
      "\t- Avoid using `tokenizers` before the fork if possible\n",
      "\t- Explicitly set the environment variable TOKENIZERS_PARALLELISM=(true | false)\n",
      "huggingface/tokenizers: The current process just got forked, after parallelism has already been used. Disabling parallelism to avoid deadlocks...\n",
      "To disable this warning, you can either:\n",
      "\t- Avoid using `tokenizers` before the fork if possible\n",
      "\t- Explicitly set the environment variable TOKENIZERS_PARALLELISM=(true | false)\n"
     ]
    },
    {
     "name": "stderr",
     "output_type": "stream",
     "text": [
      "100%|██████████| 52/52 [00:10<00:00,  4.80it/s, Epoch=2, LR=2.77e-5, Valid_loss=0.201]\n"
     ]
    },
    {
     "name": "stdout",
     "output_type": "stream",
     "text": [
      "Valid | Type' | PosNg | Time' | Sure' |\n",
      "ACCUR | 0.902 | 0.973 | 0.903 | 0.929 |\n",
      "F1_SC | 0.896 | 0.972 | 0.903 | 0.962 |\n",
      "\n",
      "\n",
      "Epoch:02 | TL:1.884e-01 | VL:2.009e-01 | Train's F1: 0.937 | Valid's F1: 0.933 | \n",
      "\n",
      "\u001b[34mValidation Loss Improved(2.089e-01) --> (2.009e-01)\n",
      "Better Loss Model Saved\u001b[0m\n",
      "\u001b[34mF1 Improved(0.931) --> (0.933)\n",
      "Better_F1_Model Saved\u001b[0m\n",
      "\n",
      "huggingface/tokenizers: The current process just got forked, after parallelism has already been used. Disabling parallelism to avoid deadlocks...\n",
      "To disable this warning, you can either:\n",
      "\t- Avoid using `tokenizers` before the fork if possible\n",
      "\t- Explicitly set the environment variable TOKENIZERS_PARALLELISM=(true | false)\n",
      "huggingface/tokenizers: The current process just got forked, after parallelism has already been used. Disabling parallelism to avoid deadlocks...\n",
      "To disable this warning, you can either:\n",
      "\t- Avoid using `tokenizers` before the fork if possible\n",
      "\t- Explicitly set the environment variable TOKENIZERS_PARALLELISM=(true | false)\n"
     ]
    },
    {
     "name": "stderr",
     "output_type": "stream",
     "text": [
      "100%|██████████| 465/465 [04:53<00:00,  1.58it/s, Epoch=3, LR=1.05e-5, Train_loss=0.145]\n"
     ]
    },
    {
     "name": "stdout",
     "output_type": "stream",
     "text": [
      "Train | Type' | PosNg | Time' | Sure' |\n",
      "ACCUR | 0.932 | 0.983 | 0.936 | 0.945 |\n",
      "F1_SC | 0.930 | 0.981 | 0.936 | 0.970 |\n",
      "\n",
      "huggingface/tokenizers: The current process just got forked, after parallelism has already been used. Disabling parallelism to avoid deadlocks...\n",
      "To disable this warning, you can either:\n",
      "\t- Avoid using `tokenizers` before the fork if possible\n",
      "\t- Explicitly set the environment variable TOKENIZERS_PARALLELISM=(true | false)\n",
      "huggingface/tokenizers: The current process just got forked, after parallelism has already been used. Disabling parallelism to avoid deadlocks...\n",
      "To disable this warning, you can either:\n",
      "\t- Avoid using `tokenizers` before the fork if possible\n",
      "\t- Explicitly set the environment variable TOKENIZERS_PARALLELISM=(true | false)\n"
     ]
    },
    {
     "name": "stderr",
     "output_type": "stream",
     "text": [
      "100%|██████████| 52/52 [00:10<00:00,  5.17it/s, Epoch=3, LR=1.05e-5, Valid_loss=0.199]"
     ]
    },
    {
     "name": "stdout",
     "output_type": "stream",
     "text": [
      "To disable this warning, you can either:\n",
      "\t- Avoid using `tokenizers` before the fork if possible\n",
      "\t- Explicitly set the environment variable TOKENIZERS_PARALLELISM=(true | false)\n"
     ]
    },
    {
     "name": "stderr",
     "output_type": "stream",
     "text": [
      "100%|██████████| 52/52 [00:10<00:00,  4.80it/s, Epoch=3, LR=1.05e-5, Valid_loss=0.199]\n"
     ]
    },
    {
     "name": "stdout",
     "output_type": "stream",
     "text": [
      "Valid | Type' | PosNg | Time' | Sure' |\n",
      "ACCUR | 0.900 | 0.978 | 0.908 | 0.930 |\n",
      "F1_SC | 0.900 | 0.977 | 0.908 | 0.962 |\n",
      "\n",
      "\n",
      "Epoch:03 | TL:1.449e-01 | VL:1.989e-01 | Train's F1: 0.954 | Valid's F1: 0.937 | \n",
      "\n",
      "\u001b[34mValidation Loss Improved(2.009e-01) --> (1.989e-01)\n",
      "Better Loss Model Saved\u001b[0m\n",
      "\u001b[34mF1 Improved(0.933) --> (0.937)\n",
      "Better_F1_Model Saved\u001b[0m\n",
      "\n",
      "huggingface/tokenizers: The current process just got forked, after parallelism has already been used. Disabling parallelism to avoid deadlocks...\n",
      "To disable this warning, you can either:\n",
      "\t- Avoid using `tokenizers` before the fork if possible\n",
      "\t- Explicitly set the environment variable TOKENIZERS_PARALLELISM=(true | false)\n",
      "huggingface/tokenizers: The current process just got forked, after parallelism has already been used. Disabling parallelism to avoid deadlocks...\n",
      "To disable this warning, you can either:\n",
      "\t- Avoid using `tokenizers` before the fork if possible\n",
      "\t- Explicitly set the environment variable TOKENIZERS_PARALLELISM=(true | false)\n"
     ]
    },
    {
     "name": "stderr",
     "output_type": "stream",
     "text": [
      "100%|██████████| 465/465 [04:54<00:00,  1.58it/s, Epoch=4, LR=6.02e-7, Train_loss=0.108]\n"
     ]
    },
    {
     "name": "stdout",
     "output_type": "stream",
     "text": [
      "Train | Type' | PosNg | Time' | Sure' |\n",
      "ACCUR | 0.956 | 0.986 | 0.958 | 0.953 |\n",
      "F1_SC | 0.956 | 0.984 | 0.958 | 0.975 |\n",
      "\n",
      "huggingface/tokenizers: The current process just got forked, after parallelism has already been used. Disabling parallelism to avoid deadlocks...\n",
      "To disable this warning, you can either:\n",
      "\t- Avoid using `tokenizers` before the fork if possible\n",
      "\t- Explicitly set the environment variable TOKENIZERS_PARALLELISM=(true | false)\n",
      "huggingface/tokenizers: The current process just got forked, after parallelism has already been used. Disabling parallelism to avoid deadlocks...\n",
      "To disable this warning, you can either:\n",
      "\t- Avoid using `tokenizers` before the fork if possible\n",
      "\t- Explicitly set the environment variable TOKENIZERS_PARALLELISM=(true | false)\n"
     ]
    },
    {
     "name": "stderr",
     "output_type": "stream",
     "text": [
      "100%|██████████| 52/52 [00:10<00:00,  4.74it/s, Epoch=4, LR=6.02e-7, Valid_loss=0.208]"
     ]
    },
    {
     "name": "stdout",
     "output_type": "stream",
     "text": [
      "To disable this warning, you can either:\n",
      "\t- Avoid using `tokenizers` before the fork if possible\n",
      "\t- Explicitly set the environment variable TOKENIZERS_PARALLELISM=(true | false)\n"
     ]
    },
    {
     "name": "stderr",
     "output_type": "stream",
     "text": [
      "100%|██████████| 52/52 [00:11<00:00,  4.71it/s, Epoch=4, LR=6.02e-7, Valid_loss=0.208]\n"
     ]
    },
    {
     "name": "stdout",
     "output_type": "stream",
     "text": [
      "Valid | Type' | PosNg | Time' | Sure' |\n",
      "ACCUR | 0.898 | 0.978 | 0.911 | 0.928 |\n",
      "F1_SC | 0.896 | 0.977 | 0.910 | 0.961 |\n",
      "\n",
      "\n",
      "Epoch:04 | TL:1.083e-01 | VL:2.078e-01 | Train's F1: 0.968 | Valid's F1: 0.936 | \n",
      "\n",
      "\n",
      "huggingface/tokenizers: The current process just got forked, after parallelism has already been used. Disabling parallelism to avoid deadlocks...\n",
      "To disable this warning, you can either:\n",
      "\t- Avoid using `tokenizers` before the fork if possible\n",
      "\t- Explicitly set the environment variable TOKENIZERS_PARALLELISM=(true | false)\n",
      "huggingface/tokenizers: The current process just got forked, after parallelism has already been used. Disabling parallelism to avoid deadlocks...\n",
      "To disable this warning, you can either:\n",
      "\t- Avoid using `tokenizers` before the fork if possible\n",
      "\t- Explicitly set the environment variable TOKENIZERS_PARALLELISM=(true | false)\n"
     ]
    },
    {
     "name": "stderr",
     "output_type": "stream",
     "text": [
      "100%|██████████| 465/465 [04:51<00:00,  1.59it/s, Epoch=5, LR=3.19e-6, Train_loss=0.0969]\n"
     ]
    },
    {
     "name": "stdout",
     "output_type": "stream",
     "text": [
      "Train | Type' | PosNg | Time' | Sure' |\n",
      "ACCUR | 0.966 | 0.988 | 0.964 | 0.957 |\n",
      "F1_SC | 0.965 | 0.986 | 0.964 | 0.977 |\n",
      "\n",
      "huggingface/tokenizers: The current process just got forked, after parallelism has already been used. Disabling parallelism to avoid deadlocks...\n",
      "To disable this warning, you can either:\n",
      "\t- Avoid using `tokenizers` before the fork if possible\n",
      "\t- Explicitly set the environment variable TOKENIZERS_PARALLELISM=(true | false)\n",
      "huggingface/tokenizers: The current process just got forked, after parallelism has already been used. Disabling parallelism to avoid deadlocks...\n",
      "To disable this warning, you can either:\n",
      "\t- Avoid using `tokenizers` before the fork if possible\n",
      "\t- Explicitly set the environment variable TOKENIZERS_PARALLELISM=(true | false)\n"
     ]
    },
    {
     "name": "stderr",
     "output_type": "stream",
     "text": [
      "100%|██████████| 52/52 [00:10<00:00,  4.77it/s, Epoch=5, LR=3.19e-6, Valid_loss=0.211]\n"
     ]
    },
    {
     "name": "stdout",
     "output_type": "stream",
     "text": [
      "Valid | Type' | PosNg | Time' | Sure' |\n",
      "ACCUR | 0.900 | 0.978 | 0.909 | 0.931 |\n",
      "F1_SC | 0.897 | 0.976 | 0.909 | 0.963 |\n",
      "\n",
      "\n",
      "Epoch:05 | TL:9.692e-02 | VL:2.107e-01 | Train's F1: 0.973 | Valid's F1: 0.936 | \n",
      "\n",
      "\n",
      "Training complete in 0h 25m 33s\n",
      "Best Loss : 1.9893e-01 at 3 th Epoch of 5th Fold\n",
      "Best F1(W): 0.9370 at 3 th Epoch of 5th Fold\n",
      "\n",
      "\u001b[33m==== Fold: 6 =====\u001b[0m\n"
     ]
    },
    {
     "name": "stderr",
     "output_type": "stream",
     "text": [
      "Some weights of the model checkpoint at monologg/kobigbird-bert-base were not used when initializing BigBirdModel: ['cls.predictions.transform.dense.bias', 'cls.predictions.decoder.weight', 'cls.predictions.transform.dense.weight', 'cls.predictions.transform.LayerNorm.weight', 'cls.seq_relationship.weight', 'cls.predictions.decoder.bias', 'cls.predictions.transform.LayerNorm.bias', 'cls.predictions.bias', 'cls.seq_relationship.bias']\n",
      "- This IS expected if you are initializing BigBirdModel from the checkpoint of a model trained on another task or with another architecture (e.g. initializing a BertForSequenceClassification model from a BertForPreTraining model).\n",
      "- This IS NOT expected if you are initializing BigBirdModel from the checkpoint of a model that you expect to be exactly identical (initializing a BertForSequenceClassification model from a BertForSequenceClassification model).\n"
     ]
    },
    {
     "name": "stdout",
     "output_type": "stream",
     "text": [
      "INFO: GPU - Tesla T4\n",
      "\n",
      "huggingface/tokenizers: The current process just got forked, after parallelism has already been used. Disabling parallelism to avoid deadlocks...\n",
      "To disable this warning, you can either:\n",
      "\t- Avoid using `tokenizers` before the fork if possible\n",
      "\t- Explicitly set the environment variable TOKENIZERS_PARALLELISM=(true | false)\n",
      "huggingface/tokenizers: The current process just got forked, after parallelism has already been used. Disabling parallelism to avoid deadlocks...\n",
      "To disable this warning, you can either:\n",
      "\t- Avoid using `tokenizers` before the fork if possible\n",
      "\t- Explicitly set the environment variable TOKENIZERS_PARALLELISM=(true | false)\n"
     ]
    },
    {
     "name": "stderr",
     "output_type": "stream",
     "text": [
      "100%|██████████| 465/465 [04:52<00:00,  1.59it/s, Epoch=1, LR=4.36e-5, Train_loss=0.325]\n"
     ]
    },
    {
     "name": "stdout",
     "output_type": "stream",
     "text": [
      "Train | Type' | PosNg | Time' | Sure' |\n",
      "ACCUR | 0.831 | 0.958 | 0.825 | 0.927 |\n",
      "F1_SC | 0.819 | 0.951 | 0.822 | 0.961 |\n",
      "\n",
      "huggingface/tokenizers: The current process just got forked, after parallelism has already been used. Disabling parallelism to avoid deadlocks...\n",
      "To disable this warning, you can either:\n",
      "\t- Avoid using `tokenizers` before the fork if possible\n",
      "\t- Explicitly set the environment variable TOKENIZERS_PARALLELISM=(true | false)\n",
      "huggingface/tokenizers: The current process just got forked, after parallelism has already been used. Disabling parallelism to avoid deadlocks...\n",
      "To disable this warning, you can either:\n",
      "\t- Avoid using `tokenizers` before the fork if possible\n",
      "\t- Explicitly set the environment variable TOKENIZERS_PARALLELISM=(true | false)\n"
     ]
    },
    {
     "name": "stderr",
     "output_type": "stream",
     "text": [
      "100%|██████████| 52/52 [00:11<00:00,  4.44it/s, Epoch=1, LR=4.36e-5, Valid_loss=0.215]\n"
     ]
    },
    {
     "name": "stdout",
     "output_type": "stream",
     "text": [
      "Valid | Type' | PosNg | Time' | Sure' |\n",
      "ACCUR | 0.882 | 0.978 | 0.900 | 0.935 |\n",
      "F1_SC | 0.868 | 0.976 | 0.898 | 0.965 |\n",
      "\n",
      "\n",
      "Epoch:01 | TL:3.250e-01 | VL:2.148e-01 | Train's F1: 0.888 | Valid's F1: 0.927 | \n",
      "\n",
      "\u001b[34mValidation Loss Improved(inf) --> (2.148e-01)\n",
      "Better Loss Model Saved\u001b[0m\n",
      "\u001b[34mF1 Improved(0.000) --> (0.927)\n",
      "Better_F1_Model Saved\u001b[0m\n",
      "\n",
      "huggingface/tokenizers: The current process just got forked, after parallelism has already been used. Disabling parallelism to avoid deadlocks...\n",
      "To disable this warning, you can either:\n",
      "\t- Avoid using `tokenizers` before the fork if possible\n",
      "\t- Explicitly set the environment variable TOKENIZERS_PARALLELISM=(true | false)\n",
      "huggingface/tokenizers: The current process just got forked, after parallelism has already been used. Disabling parallelism to avoid deadlocks...\n",
      "To disable this warning, you can either:\n",
      "\t- Avoid using `tokenizers` before the fork if possible\n",
      "\t- Explicitly set the environment variable TOKENIZERS_PARALLELISM=(true | false)\n"
     ]
    },
    {
     "name": "stderr",
     "output_type": "stream",
     "text": [
      "100%|██████████| 465/465 [04:50<00:00,  1.60it/s, Epoch=2, LR=2.77e-5, Train_loss=0.189]\n"
     ]
    },
    {
     "name": "stdout",
     "output_type": "stream",
     "text": [
      "Train | Type' | PosNg | Time' | Sure' |\n",
      "ACCUR | 0.901 | 0.976 | 0.912 | 0.936 |\n",
      "F1_SC | 0.896 | 0.974 | 0.912 | 0.966 |\n",
      "\n",
      "huggingface/tokenizers: The current process just got forked, after parallelism has already been used. Disabling parallelism to avoid deadlocks...\n",
      "To disable this warning, you can either:\n",
      "\t- Avoid using `tokenizers` before the fork if possible\n",
      "\t- Explicitly set the environment variable TOKENIZERS_PARALLELISM=(true | false)\n",
      "huggingface/tokenizers: The current process just got forked, after parallelism has already been used. Disabling parallelism to avoid deadlocks...\n",
      "To disable this warning, you can either:\n",
      "\t- Avoid using `tokenizers` before the fork if possible\n",
      "\t- Explicitly set the environment variable TOKENIZERS_PARALLELISM=(true | false)\n"
     ]
    },
    {
     "name": "stderr",
     "output_type": "stream",
     "text": [
      "100%|██████████| 52/52 [00:11<00:00,  4.42it/s, Epoch=2, LR=2.77e-5, Valid_loss=0.197]\n"
     ]
    },
    {
     "name": "stdout",
     "output_type": "stream",
     "text": [
      "Valid | Type' | PosNg | Time' | Sure' |\n",
      "ACCUR | 0.898 | 0.976 | 0.898 | 0.934 |\n",
      "F1_SC | 0.888 | 0.975 | 0.896 | 0.965 |\n",
      "\n",
      "\n",
      "Epoch:02 | TL:1.890e-01 | VL:1.971e-01 | Train's F1: 0.937 | Valid's F1: 0.931 | \n",
      "\n",
      "\u001b[34mValidation Loss Improved(2.148e-01) --> (1.971e-01)\n",
      "Better Loss Model Saved\u001b[0m\n",
      "\u001b[34mF1 Improved(0.927) --> (0.931)\n",
      "Better_F1_Model Saved\u001b[0m\n",
      "\n",
      "huggingface/tokenizers: The current process just got forked, after parallelism has already been used. Disabling parallelism to avoid deadlocks...\n",
      "To disable this warning, you can either:\n",
      "\t- Avoid using `tokenizers` before the fork if possible\n",
      "\t- Explicitly set the environment variable TOKENIZERS_PARALLELISM=(true | false)\n",
      "huggingface/tokenizers: The current process just got forked, after parallelism has already been used. Disabling parallelism to avoid deadlocks...\n",
      "To disable this warning, you can either:\n",
      "\t- Avoid using `tokenizers` before the fork if possible\n",
      "\t- Explicitly set the environment variable TOKENIZERS_PARALLELISM=(true | false)\n"
     ]
    },
    {
     "name": "stderr",
     "output_type": "stream",
     "text": [
      "100%|██████████| 465/465 [04:51<00:00,  1.60it/s, Epoch=3, LR=1.05e-5, Train_loss=0.145]\n"
     ]
    },
    {
     "name": "stdout",
     "output_type": "stream",
     "text": [
      "Train | Type' | PosNg | Time' | Sure' |\n",
      "ACCUR | 0.930 | 0.982 | 0.938 | 0.944 |\n",
      "F1_SC | 0.928 | 0.980 | 0.937 | 0.970 |\n",
      "\n",
      "huggingface/tokenizers: The current process just got forked, after parallelism has already been used. Disabling parallelism to avoid deadlocks...\n",
      "To disable this warning, you can either:\n",
      "\t- Avoid using `tokenizers` before the fork if possible\n",
      "\t- Explicitly set the environment variable TOKENIZERS_PARALLELISM=(true | false)\n",
      "huggingface/tokenizers: The current process just got forked, after parallelism has already been used. Disabling parallelism to avoid deadlocks...\n",
      "To disable this warning, you can either:\n",
      "\t- Avoid using `tokenizers` before the fork if possible\n",
      "\t- Explicitly set the environment variable TOKENIZERS_PARALLELISM=(true | false)\n"
     ]
    },
    {
     "name": "stderr",
     "output_type": "stream",
     "text": [
      "100%|██████████| 52/52 [00:11<00:00,  4.44it/s, Epoch=3, LR=1.05e-5, Valid_loss=0.211]\n"
     ]
    },
    {
     "name": "stdout",
     "output_type": "stream",
     "text": [
      "Valid | Type' | PosNg | Time' | Sure' |\n",
      "ACCUR | 0.889 | 0.976 | 0.892 | 0.934 |\n",
      "F1_SC | 0.887 | 0.975 | 0.892 | 0.964 |\n",
      "\n",
      "\n",
      "Epoch:03 | TL:1.448e-01 | VL:2.108e-01 | Train's F1: 0.954 | Valid's F1: 0.930 | \n",
      "\n",
      "\n",
      "huggingface/tokenizers: The current process just got forked, after parallelism has already been used. Disabling parallelism to avoid deadlocks...\n",
      "To disable this warning, you can either:\n",
      "\t- Avoid using `tokenizers` before the fork if possible\n",
      "\t- Explicitly set the environment variable TOKENIZERS_PARALLELISM=(true | false)\n",
      "huggingface/tokenizers: The current process just got forked, after parallelism has already been used. Disabling parallelism to avoid deadlocks...\n",
      "To disable this warning, you can either:\n",
      "\t- Avoid using `tokenizers` before the fork if possible\n",
      "\t- Explicitly set the environment variable TOKENIZERS_PARALLELISM=(true | false)\n"
     ]
    },
    {
     "name": "stderr",
     "output_type": "stream",
     "text": [
      "100%|██████████| 465/465 [04:53<00:00,  1.58it/s, Epoch=4, LR=6.02e-7, Train_loss=0.111]\n"
     ]
    },
    {
     "name": "stdout",
     "output_type": "stream",
     "text": [
      "Train | Type' | PosNg | Time' | Sure' |\n",
      "ACCUR | 0.957 | 0.987 | 0.956 | 0.953 |\n",
      "F1_SC | 0.956 | 0.986 | 0.956 | 0.975 |\n",
      "\n",
      "huggingface/tokenizers: The current process just got forked, after parallelism has already been used. Disabling parallelism to avoid deadlocks...\n",
      "To disable this warning, you can either:\n",
      "\t- Avoid using `tokenizers` before the fork if possible\n",
      "\t- Explicitly set the environment variable TOKENIZERS_PARALLELISM=(true | false)\n",
      "huggingface/tokenizers: The current process just got forked, after parallelism has already been used. Disabling parallelism to avoid deadlocks...\n",
      "To disable this warning, you can either:\n",
      "\t- Avoid using `tokenizers` before the fork if possible\n",
      "\t- Explicitly set the environment variable TOKENIZERS_PARALLELISM=(true | false)\n"
     ]
    },
    {
     "name": "stderr",
     "output_type": "stream",
     "text": [
      "100%|██████████| 52/52 [00:11<00:00,  4.42it/s, Epoch=4, LR=6.02e-7, Valid_loss=0.219]\n"
     ]
    },
    {
     "name": "stdout",
     "output_type": "stream",
     "text": [
      "Valid | Type' | PosNg | Time' | Sure' |\n",
      "ACCUR | 0.886 | 0.977 | 0.897 | 0.930 |\n",
      "F1_SC | 0.884 | 0.976 | 0.897 | 0.962 |\n",
      "\n",
      "\n",
      "Epoch:04 | TL:1.107e-01 | VL:2.189e-01 | Train's F1: 0.968 | Valid's F1: 0.929 | \n",
      "\n",
      "\n",
      "huggingface/tokenizers: The current process just got forked, after parallelism has already been used. Disabling parallelism to avoid deadlocks...\n",
      "To disable this warning, you can either:\n",
      "\t- Avoid using `tokenizers` before the fork if possible\n",
      "\t- Explicitly set the environment variable TOKENIZERS_PARALLELISM=(true | false)\n",
      "huggingface/tokenizers: The current process just got forked, after parallelism has already been used. Disabling parallelism to avoid deadlocks...\n",
      "To disable this warning, you can either:\n",
      "\t- Avoid using `tokenizers` before the fork if possible\n",
      "\t- Explicitly set the environment variable TOKENIZERS_PARALLELISM=(true | false)\n"
     ]
    },
    {
     "name": "stderr",
     "output_type": "stream",
     "text": [
      "100%|██████████| 465/465 [04:52<00:00,  1.59it/s, Epoch=5, LR=3.19e-6, Train_loss=0.0995]\n"
     ]
    },
    {
     "name": "stdout",
     "output_type": "stream",
     "text": [
      "Train | Type' | PosNg | Time' | Sure' |\n",
      "ACCUR | 0.963 | 0.988 | 0.964 | 0.958 |\n",
      "F1_SC | 0.962 | 0.987 | 0.964 | 0.977 |\n",
      "\n",
      "huggingface/tokenizers: The current process just got forked, after parallelism has already been used. Disabling parallelism to avoid deadlocks...\n",
      "To disable this warning, you can either:\n",
      "\t- Avoid using `tokenizers` before the fork if possible\n",
      "\t- Explicitly set the environment variable TOKENIZERS_PARALLELISM=(true | false)\n",
      "huggingface/tokenizers: The current process just got forked, after parallelism has already been used. Disabling parallelism to avoid deadlocks...\n",
      "To disable this warning, you can either:\n",
      "\t- Avoid using `tokenizers` before the fork if possible\n",
      "\t- Explicitly set the environment variable TOKENIZERS_PARALLELISM=(true | false)\n"
     ]
    },
    {
     "name": "stderr",
     "output_type": "stream",
     "text": [
      "100%|██████████| 52/52 [00:12<00:00,  4.22it/s, Epoch=5, LR=3.19e-6, Valid_loss=0.223]\n"
     ]
    },
    {
     "name": "stdout",
     "output_type": "stream",
     "text": [
      "Valid | Type' | PosNg | Time' | Sure' |\n",
      "ACCUR | 0.887 | 0.977 | 0.895 | 0.929 |\n",
      "F1_SC | 0.885 | 0.976 | 0.895 | 0.962 |\n",
      "\n",
      "\n",
      "Epoch:05 | TL:9.945e-02 | VL:2.235e-01 | Train's F1: 0.972 | Valid's F1: 0.929 | \n",
      "\n",
      "\n",
      "Training complete in 0h 25m 29s\n",
      "Best Loss : 1.9711e-01 at 2 th Epoch of 6th Fold\n",
      "Best F1(W): 0.9310 at 2 th Epoch of 6th Fold\n",
      "\n",
      "\u001b[33m==== Fold: 7 =====\u001b[0m\n"
     ]
    },
    {
     "name": "stderr",
     "output_type": "stream",
     "text": [
      "Some weights of the model checkpoint at monologg/kobigbird-bert-base were not used when initializing BigBirdModel: ['cls.predictions.transform.dense.bias', 'cls.predictions.decoder.weight', 'cls.predictions.transform.dense.weight', 'cls.predictions.transform.LayerNorm.weight', 'cls.seq_relationship.weight', 'cls.predictions.decoder.bias', 'cls.predictions.transform.LayerNorm.bias', 'cls.predictions.bias', 'cls.seq_relationship.bias']\n",
      "- This IS expected if you are initializing BigBirdModel from the checkpoint of a model trained on another task or with another architecture (e.g. initializing a BertForSequenceClassification model from a BertForPreTraining model).\n",
      "- This IS NOT expected if you are initializing BigBirdModel from the checkpoint of a model that you expect to be exactly identical (initializing a BertForSequenceClassification model from a BertForSequenceClassification model).\n"
     ]
    },
    {
     "name": "stdout",
     "output_type": "stream",
     "text": [
      "INFO: GPU - Tesla T4\n",
      "\n",
      "huggingface/tokenizers: The current process just got forked, after parallelism has already been used. Disabling parallelism to avoid deadlocks...\n",
      "To disable this warning, you can either:\n",
      "\t- Avoid using `tokenizers` before the fork if possible\n",
      "\t- Explicitly set the environment variable TOKENIZERS_PARALLELISM=(true | false)\n",
      "huggingface/tokenizers: The current process just got forked, after parallelism has already been used. Disabling parallelism to avoid deadlocks...\n",
      "To disable this warning, you can either:\n",
      "\t- Avoid using `tokenizers` before the fork if possible\n",
      "\t- Explicitly set the environment variable TOKENIZERS_PARALLELISM=(true | false)\n"
     ]
    },
    {
     "name": "stderr",
     "output_type": "stream",
     "text": [
      "100%|██████████| 465/465 [04:50<00:00,  1.60it/s, Epoch=1, LR=4.36e-5, Train_loss=0.323]\n"
     ]
    },
    {
     "name": "stdout",
     "output_type": "stream",
     "text": [
      "Train | Type' | PosNg | Time' | Sure' |\n",
      "ACCUR | 0.843 | 0.957 | 0.807 | 0.923 |\n",
      "F1_SC | 0.829 | 0.952 | 0.807 | 0.959 |\n",
      "\n",
      "huggingface/tokenizers: The current process just got forked, after parallelism has already been used. Disabling parallelism to avoid deadlocks...\n",
      "To disable this warning, you can either:\n",
      "\t- Avoid using `tokenizers` before the fork if possible\n",
      "\t- Explicitly set the environment variable TOKENIZERS_PARALLELISM=(true | false)\n",
      "huggingface/tokenizers: The current process just got forked, after parallelism has already been used. Disabling parallelism to avoid deadlocks...\n",
      "To disable this warning, you can either:\n",
      "\t- Avoid using `tokenizers` before the fork if possible\n",
      "\t- Explicitly set the environment variable TOKENIZERS_PARALLELISM=(true | false)\n"
     ]
    },
    {
     "name": "stderr",
     "output_type": "stream",
     "text": [
      "100%|██████████| 52/52 [00:11<00:00,  4.65it/s, Epoch=1, LR=4.36e-5, Valid_loss=0.227]\n"
     ]
    },
    {
     "name": "stdout",
     "output_type": "stream",
     "text": [
      "Valid | Type' | PosNg | Time' | Sure' |\n",
      "ACCUR | 0.871 | 0.967 | 0.900 | 0.932 |\n",
      "F1_SC | 0.876 | 0.966 | 0.899 | 0.963 |\n",
      "\n",
      "\n",
      "Epoch:01 | TL:3.235e-01 | VL:2.265e-01 | Train's F1: 0.887 | Valid's F1: 0.926 | \n",
      "\n",
      "\u001b[34mValidation Loss Improved(inf) --> (2.265e-01)\n",
      "Better Loss Model Saved\u001b[0m\n",
      "\u001b[34mF1 Improved(0.000) --> (0.926)\n",
      "Better_F1_Model Saved\u001b[0m\n",
      "\n",
      "huggingface/tokenizers: The current process just got forked, after parallelism has already been used. Disabling parallelism to avoid deadlocks...\n",
      "To disable this warning, you can either:\n",
      "\t- Avoid using `tokenizers` before the fork if possible\n",
      "\t- Explicitly set the environment variable TOKENIZERS_PARALLELISM=(true | false)\n",
      "huggingface/tokenizers: The current process just got forked, after parallelism has already been used. Disabling parallelism to avoid deadlocks...\n",
      "To disable this warning, you can either:\n",
      "\t- Avoid using `tokenizers` before the fork if possible\n",
      "\t- Explicitly set the environment variable TOKENIZERS_PARALLELISM=(true | false)\n"
     ]
    },
    {
     "name": "stderr",
     "output_type": "stream",
     "text": [
      "100%|██████████| 465/465 [04:56<00:00,  1.57it/s, Epoch=2, LR=2.77e-5, Train_loss=0.184]\n"
     ]
    },
    {
     "name": "stdout",
     "output_type": "stream",
     "text": [
      "Train | Type' | PosNg | Time' | Sure' |\n",
      "ACCUR | 0.906 | 0.978 | 0.915 | 0.938 |\n",
      "F1_SC | 0.901 | 0.976 | 0.914 | 0.967 |\n",
      "\n",
      "huggingface/tokenizers: The current process just got forked, after parallelism has already been used. Disabling parallelism to avoid deadlocks...\n",
      "To disable this warning, you can either:\n",
      "\t- Avoid using `tokenizers` before the fork if possible\n",
      "\t- Explicitly set the environment variable TOKENIZERS_PARALLELISM=(true | false)\n",
      "huggingface/tokenizers: The current process just got forked, after parallelism has already been used. Disabling parallelism to avoid deadlocks...\n",
      "To disable this warning, you can either:\n",
      "\t- Avoid using `tokenizers` before the fork if possible\n",
      "\t- Explicitly set the environment variable TOKENIZERS_PARALLELISM=(true | false)\n"
     ]
    },
    {
     "name": "stderr",
     "output_type": "stream",
     "text": [
      "100%|██████████| 52/52 [00:11<00:00,  4.53it/s, Epoch=2, LR=2.77e-5, Valid_loss=0.205]\n"
     ]
    },
    {
     "name": "stdout",
     "output_type": "stream",
     "text": [
      "Valid | Type' | PosNg | Time' | Sure' |\n",
      "ACCUR | 0.907 | 0.965 | 0.900 | 0.932 |\n",
      "F1_SC | 0.903 | 0.964 | 0.900 | 0.963 |\n",
      "\n",
      "\n",
      "Epoch:02 | TL:1.839e-01 | VL:2.046e-01 | Train's F1: 0.939 | Valid's F1: 0.933 | \n",
      "\n",
      "\u001b[34mValidation Loss Improved(2.265e-01) --> (2.046e-01)\n",
      "Better Loss Model Saved\u001b[0m\n",
      "\u001b[34mF1 Improved(0.926) --> (0.933)\n",
      "Better_F1_Model Saved\u001b[0m\n",
      "\n",
      "huggingface/tokenizers: The current process just got forked, after parallelism has already been used. Disabling parallelism to avoid deadlocks...\n",
      "To disable this warning, you can either:\n",
      "\t- Avoid using `tokenizers` before the fork if possible\n",
      "\t- Explicitly set the environment variable TOKENIZERS_PARALLELISM=(true | false)\n",
      "huggingface/tokenizers: The current process just got forked, after parallelism has already been used. Disabling parallelism to avoid deadlocks...\n",
      "To disable this warning, you can either:\n",
      "\t- Avoid using `tokenizers` before the fork if possible\n",
      "\t- Explicitly set the environment variable TOKENIZERS_PARALLELISM=(true | false)\n"
     ]
    },
    {
     "name": "stderr",
     "output_type": "stream",
     "text": [
      "100%|██████████| 465/465 [04:52<00:00,  1.59it/s, Epoch=3, LR=1.05e-5, Train_loss=0.14]\n"
     ]
    },
    {
     "name": "stdout",
     "output_type": "stream",
     "text": [
      "Train | Type' | PosNg | Time' | Sure' |\n",
      "ACCUR | 0.933 | 0.983 | 0.940 | 0.945 |\n",
      "F1_SC | 0.931 | 0.982 | 0.940 | 0.970 |\n",
      "\n",
      "huggingface/tokenizers: The current process just got forked, after parallelism has already been used. Disabling parallelism to avoid deadlocks...\n",
      "To disable this warning, you can either:\n",
      "\t- Avoid using `tokenizers` before the fork if possible\n",
      "\t- Explicitly set the environment variable TOKENIZERS_PARALLELISM=(true | false)\n",
      "huggingface/tokenizers: The current process just got forked, after parallelism has already been used. Disabling parallelism to avoid deadlocks...\n",
      "To disable this warning, you can either:\n",
      "\t- Avoid using `tokenizers` before the fork if possible\n",
      "\t- Explicitly set the environment variable TOKENIZERS_PARALLELISM=(true | false)\n"
     ]
    },
    {
     "name": "stderr",
     "output_type": "stream",
     "text": [
      "100%|██████████| 52/52 [00:12<00:00,  4.31it/s, Epoch=3, LR=1.05e-5, Valid_loss=0.205]\n"
     ]
    },
    {
     "name": "stdout",
     "output_type": "stream",
     "text": [
      "Valid | Type' | PosNg | Time' | Sure' |\n",
      "ACCUR | 0.901 | 0.977 | 0.904 | 0.935 |\n",
      "F1_SC | 0.899 | 0.976 | 0.904 | 0.965 |\n",
      "\n",
      "\n",
      "Epoch:03 | TL:1.396e-01 | VL:2.052e-01 | Train's F1: 0.956 | Valid's F1: 0.936 | \n",
      "\n",
      "\u001b[34mF1 Improved(0.933) --> (0.936)\n",
      "Better_F1_Model Saved\u001b[0m\n",
      "\n",
      "huggingface/tokenizers: The current process just got forked, after parallelism has already been used. Disabling parallelism to avoid deadlocks...\n",
      "To disable this warning, you can either:\n",
      "\t- Avoid using `tokenizers` before the fork if possible\n",
      "\t- Explicitly set the environment variable TOKENIZERS_PARALLELISM=(true | false)\n",
      "huggingface/tokenizers: The current process just got forked, after parallelism has already been used. Disabling parallelism to avoid deadlocks...\n",
      "To disable this warning, you can either:\n",
      "\t- Avoid using `tokenizers` before the fork if possible\n",
      "\t- Explicitly set the environment variable TOKENIZERS_PARALLELISM=(true | false)\n"
     ]
    },
    {
     "name": "stderr",
     "output_type": "stream",
     "text": [
      "100%|██████████| 465/465 [04:53<00:00,  1.68it/s, Epoch=4, LR=6.02e-7, Train_loss=0.104]"
     ]
    },
    {
     "name": "stdout",
     "output_type": "stream",
     "text": [
      "To disable this warning, you can either:\n",
      "\t- Avoid using `tokenizers` before the fork if possible\n",
      "\t- Explicitly set the environment variable TOKENIZERS_PARALLELISM=(true | false)\n"
     ]
    },
    {
     "name": "stderr",
     "output_type": "stream",
     "text": [
      "100%|██████████| 465/465 [04:53<00:00,  1.58it/s, Epoch=4, LR=6.02e-7, Train_loss=0.104]\n"
     ]
    },
    {
     "name": "stdout",
     "output_type": "stream",
     "text": [
      "Train | Type' | PosNg | Time' | Sure' |\n",
      "ACCUR | 0.960 | 0.988 | 0.958 | 0.955 |\n",
      "F1_SC | 0.960 | 0.986 | 0.958 | 0.976 |\n",
      "\n",
      "huggingface/tokenizers: The current process just got forked, after parallelism has already been used. Disabling parallelism to avoid deadlocks...\n",
      "To disable this warning, you can either:\n",
      "\t- Avoid using `tokenizers` before the fork if possible\n",
      "\t- Explicitly set the environment variable TOKENIZERS_PARALLELISM=(true | false)\n",
      "huggingface/tokenizers: The current process just got forked, after parallelism has already been used. Disabling parallelism to avoid deadlocks...\n",
      "To disable this warning, you can either:\n",
      "\t- Avoid using `tokenizers` before the fork if possible\n",
      "\t- Explicitly set the environment variable TOKENIZERS_PARALLELISM=(true | false)\n"
     ]
    },
    {
     "name": "stderr",
     "output_type": "stream",
     "text": [
      "100%|██████████| 52/52 [00:11<00:00,  4.86it/s, Epoch=4, LR=6.02e-7, Valid_loss=0.212]"
     ]
    },
    {
     "name": "stdout",
     "output_type": "stream",
     "text": [
      "huggingface/tokenizers: The current process just got forked, after parallelism has already been used. Disabling parallelism to avoid deadlocks...\n",
      "To disable this warning, you can either:\n",
      "\t- Avoid using `tokenizers` before the fork if possible\n",
      "\t- Explicitly set the environment variable TOKENIZERS_PARALLELISM=(true | false)\n"
     ]
    },
    {
     "name": "stderr",
     "output_type": "stream",
     "text": [
      "100%|██████████| 52/52 [00:11<00:00,  4.63it/s, Epoch=4, LR=6.02e-7, Valid_loss=0.212]\n"
     ]
    },
    {
     "name": "stdout",
     "output_type": "stream",
     "text": [
      "Valid | Type' | PosNg | Time' | Sure' |\n",
      "ACCUR | 0.901 | 0.975 | 0.905 | 0.935 |\n",
      "F1_SC | 0.899 | 0.973 | 0.905 | 0.965 |\n",
      "\n",
      "\n",
      "Epoch:04 | TL:1.039e-01 | VL:2.122e-01 | Train's F1: 0.970 | Valid's F1: 0.936 | \n",
      "\n",
      "\n",
      "huggingface/tokenizers: The current process just got forked, after parallelism has already been used. Disabling parallelism to avoid deadlocks...\n",
      "To disable this warning, you can either:\n",
      "\t- Avoid using `tokenizers` before the fork if possible\n",
      "\t- Explicitly set the environment variable TOKENIZERS_PARALLELISM=(true | false)\n",
      "huggingface/tokenizers: The current process just got forked, after parallelism has already been used. Disabling parallelism to avoid deadlocks...\n",
      "To disable this warning, you can either:\n",
      "\t- Avoid using `tokenizers` before the fork if possible\n",
      "\t- Explicitly set the environment variable TOKENIZERS_PARALLELISM=(true | false)\n"
     ]
    },
    {
     "name": "stderr",
     "output_type": "stream",
     "text": [
      "100%|██████████| 465/465 [04:51<00:00,  1.60it/s, Epoch=5, LR=3.19e-6, Train_loss=0.0933]\n"
     ]
    },
    {
     "name": "stdout",
     "output_type": "stream",
     "text": [
      "Train | Type' | PosNg | Time' | Sure' |\n",
      "ACCUR | 0.968 | 0.990 | 0.964 | 0.960 |\n",
      "F1_SC | 0.968 | 0.988 | 0.964 | 0.978 |\n",
      "\n",
      "huggingface/tokenizers: The current process just got forked, after parallelism has already been used. Disabling parallelism to avoid deadlocks...\n",
      "To disable this warning, you can either:\n",
      "\t- Avoid using `tokenizers` before the fork if possible\n",
      "\t- Explicitly set the environment variable TOKENIZERS_PARALLELISM=(true | false)\n",
      "huggingface/tokenizers: The current process just got forked, after parallelism has already been used. Disabling parallelism to avoid deadlocks...\n",
      "To disable this warning, you can either:\n",
      "\t- Avoid using `tokenizers` before the fork if possible\n",
      "\t- Explicitly set the environment variable TOKENIZERS_PARALLELISM=(true | false)\n"
     ]
    },
    {
     "name": "stderr",
     "output_type": "stream",
     "text": [
      "100%|██████████| 52/52 [00:11<00:00,  4.99it/s, Epoch=5, LR=3.19e-6, Valid_loss=0.215]"
     ]
    },
    {
     "name": "stdout",
     "output_type": "stream",
     "text": [
      "To disable this warning, you can either:\n",
      "\t- Avoid using `tokenizers` before the fork if possible\n",
      "\t- Explicitly set the environment variable TOKENIZERS_PARALLELISM=(true | false)\n"
     ]
    },
    {
     "name": "stderr",
     "output_type": "stream",
     "text": [
      "100%|██████████| 52/52 [00:11<00:00,  4.63it/s, Epoch=5, LR=3.19e-6, Valid_loss=0.215]\n"
     ]
    },
    {
     "name": "stdout",
     "output_type": "stream",
     "text": [
      "Valid | Type' | PosNg | Time' | Sure' |\n",
      "ACCUR | 0.901 | 0.975 | 0.907 | 0.935 |\n",
      "F1_SC | 0.900 | 0.973 | 0.907 | 0.965 |\n",
      "\n",
      "\n",
      "Epoch:05 | TL:9.325e-02 | VL:2.149e-01 | Train's F1: 0.975 | Valid's F1: 0.936 | \n",
      "\n",
      "\u001b[34mF1 Improved(0.936) --> (0.936)\n",
      "Better_F1_Model Saved\u001b[0m\n",
      "\n",
      "Training complete in 0h 25m 33s\n",
      "Best Loss : 2.0458e-01 at 2 th Epoch of 7th Fold\n",
      "Best F1(W): 0.9362 at 5 th Epoch of 7th Fold\n",
      "\n",
      "\u001b[33m==== Fold: 8 =====\u001b[0m\n"
     ]
    },
    {
     "name": "stderr",
     "output_type": "stream",
     "text": [
      "Some weights of the model checkpoint at monologg/kobigbird-bert-base were not used when initializing BigBirdModel: ['cls.predictions.transform.dense.bias', 'cls.predictions.decoder.weight', 'cls.predictions.transform.dense.weight', 'cls.predictions.transform.LayerNorm.weight', 'cls.seq_relationship.weight', 'cls.predictions.decoder.bias', 'cls.predictions.transform.LayerNorm.bias', 'cls.predictions.bias', 'cls.seq_relationship.bias']\n",
      "- This IS expected if you are initializing BigBirdModel from the checkpoint of a model trained on another task or with another architecture (e.g. initializing a BertForSequenceClassification model from a BertForPreTraining model).\n",
      "- This IS NOT expected if you are initializing BigBirdModel from the checkpoint of a model that you expect to be exactly identical (initializing a BertForSequenceClassification model from a BertForSequenceClassification model).\n"
     ]
    },
    {
     "name": "stdout",
     "output_type": "stream",
     "text": [
      "INFO: GPU - Tesla T4\n",
      "\n",
      "huggingface/tokenizers: The current process just got forked, after parallelism has already been used. Disabling parallelism to avoid deadlocks...\n",
      "To disable this warning, you can either:\n",
      "\t- Avoid using `tokenizers` before the fork if possible\n",
      "\t- Explicitly set the environment variable TOKENIZERS_PARALLELISM=(true | false)\n",
      "huggingface/tokenizers: The current process just got forked, after parallelism has already been used. Disabling parallelism to avoid deadlocks...\n",
      "To disable this warning, you can either:\n",
      "\t- Avoid using `tokenizers` before the fork if possible\n",
      "\t- Explicitly set the environment variable TOKENIZERS_PARALLELISM=(true | false)\n"
     ]
    },
    {
     "name": "stderr",
     "output_type": "stream",
     "text": [
      "100%|██████████| 465/465 [04:55<00:00,  1.57it/s, Epoch=1, LR=4.36e-5, Train_loss=0.314]\n"
     ]
    },
    {
     "name": "stdout",
     "output_type": "stream",
     "text": [
      "Train | Type' | PosNg | Time' | Sure' |\n",
      "ACCUR | 0.849 | 0.964 | 0.828 | 0.916 |\n",
      "F1_SC | 0.832 | 0.957 | 0.825 | 0.955 |\n",
      "\n",
      "huggingface/tokenizers: The current process just got forked, after parallelism has already been used. Disabling parallelism to avoid deadlocks...\n",
      "To disable this warning, you can either:\n",
      "\t- Avoid using `tokenizers` before the fork if possible\n",
      "\t- Explicitly set the environment variable TOKENIZERS_PARALLELISM=(true | false)\n",
      "huggingface/tokenizers: The current process just got forked, after parallelism has already been used. Disabling parallelism to avoid deadlocks...\n",
      "To disable this warning, you can either:\n",
      "\t- Avoid using `tokenizers` before the fork if possible\n",
      "\t- Explicitly set the environment variable TOKENIZERS_PARALLELISM=(true | false)\n"
     ]
    },
    {
     "name": "stderr",
     "output_type": "stream",
     "text": [
      "100%|██████████| 52/52 [00:10<00:00,  4.77it/s, Epoch=1, LR=4.36e-5, Valid_loss=0.202]\n"
     ]
    },
    {
     "name": "stdout",
     "output_type": "stream",
     "text": [
      "Valid | Type' | PosNg | Time' | Sure' |\n",
      "ACCUR | 0.886 | 0.976 | 0.905 | 0.928 |\n",
      "F1_SC | 0.886 | 0.974 | 0.906 | 0.961 |\n",
      "\n",
      "\n",
      "Epoch:01 | TL:3.139e-01 | VL:2.022e-01 | Train's F1: 0.892 | Valid's F1: 0.931 | \n",
      "\n",
      "\u001b[34mValidation Loss Improved(inf) --> (2.022e-01)\n",
      "Better Loss Model Saved\u001b[0m\n",
      "\u001b[34mF1 Improved(0.000) --> (0.931)\n",
      "Better_F1_Model Saved\u001b[0m\n",
      "\n",
      "huggingface/tokenizers: The current process just got forked, after parallelism has already been used. Disabling parallelism to avoid deadlocks...\n",
      "To disable this warning, you can either:\n",
      "\t- Avoid using `tokenizers` before the fork if possible\n",
      "\t- Explicitly set the environment variable TOKENIZERS_PARALLELISM=(true | false)\n",
      "huggingface/tokenizers: The current process just got forked, after parallelism has already been used. Disabling parallelism to avoid deadlocks...\n",
      "To disable this warning, you can either:\n",
      "\t- Avoid using `tokenizers` before the fork if possible\n",
      "\t- Explicitly set the environment variable TOKENIZERS_PARALLELISM=(true | false)\n"
     ]
    },
    {
     "name": "stderr",
     "output_type": "stream",
     "text": [
      "100%|██████████| 465/465 [04:53<00:00,  1.47it/s, Epoch=2, LR=2.77e-5, Train_loss=0.187]"
     ]
    },
    {
     "name": "stdout",
     "output_type": "stream",
     "text": [
      "To disable this warning, you can either:\n",
      "\t- Avoid using `tokenizers` before the fork if possible\n",
      "\t- Explicitly set the environment variable TOKENIZERS_PARALLELISM=(true | false)\n"
     ]
    },
    {
     "name": "stderr",
     "output_type": "stream",
     "text": [
      "100%|██████████| 465/465 [04:53<00:00,  1.58it/s, Epoch=2, LR=2.77e-5, Train_loss=0.187]\n"
     ]
    },
    {
     "name": "stdout",
     "output_type": "stream",
     "text": [
      "Train | Type' | PosNg | Time' | Sure' |\n",
      "ACCUR | 0.906 | 0.977 | 0.910 | 0.936 |\n",
      "F1_SC | 0.900 | 0.975 | 0.909 | 0.965 |\n",
      "\n",
      "huggingface/tokenizers: The current process just got forked, after parallelism has already been used. Disabling parallelism to avoid deadlocks...\n",
      "To disable this warning, you can either:\n",
      "\t- Avoid using `tokenizers` before the fork if possible\n",
      "\t- Explicitly set the environment variable TOKENIZERS_PARALLELISM=(true | false)\n",
      "huggingface/tokenizers: The current process just got forked, after parallelism has already been used. Disabling parallelism to avoid deadlocks...\n",
      "To disable this warning, you can either:\n",
      "\t- Avoid using `tokenizers` before the fork if possible\n",
      "\t- Explicitly set the environment variable TOKENIZERS_PARALLELISM=(true | false)\n"
     ]
    },
    {
     "name": "stderr",
     "output_type": "stream",
     "text": [
      "100%|██████████| 52/52 [00:11<00:00,  4.63it/s, Epoch=2, LR=2.77e-5, Valid_loss=0.193]\n"
     ]
    },
    {
     "name": "stdout",
     "output_type": "stream",
     "text": [
      "Valid | Type' | PosNg | Time' | Sure' |\n",
      "ACCUR | 0.898 | 0.976 | 0.901 | 0.938 |\n",
      "F1_SC | 0.893 | 0.974 | 0.899 | 0.967 |\n",
      "\n",
      "\n",
      "Epoch:02 | TL:1.866e-01 | VL:1.931e-01 | Train's F1: 0.938 | Valid's F1: 0.933 | \n",
      "\n",
      "\u001b[34mValidation Loss Improved(2.022e-01) --> (1.931e-01)\n",
      "Better Loss Model Saved\u001b[0m\n",
      "\u001b[34mF1 Improved(0.931) --> (0.933)\n",
      "Better_F1_Model Saved\u001b[0m\n",
      "\n",
      "huggingface/tokenizers: The current process just got forked, after parallelism has already been used. Disabling parallelism to avoid deadlocks...\n",
      "To disable this warning, you can either:\n",
      "\t- Avoid using `tokenizers` before the fork if possible\n",
      "\t- Explicitly set the environment variable TOKENIZERS_PARALLELISM=(true | false)\n",
      "huggingface/tokenizers: The current process just got forked, after parallelism has already been used. Disabling parallelism to avoid deadlocks...\n",
      "To disable this warning, you can either:\n",
      "\t- Avoid using `tokenizers` before the fork if possible\n",
      "\t- Explicitly set the environment variable TOKENIZERS_PARALLELISM=(true | false)\n"
     ]
    },
    {
     "name": "stderr",
     "output_type": "stream",
     "text": [
      "100%|██████████| 465/465 [04:54<00:00,  1.58it/s, Epoch=3, LR=1.05e-5, Train_loss=0.143]\n"
     ]
    },
    {
     "name": "stdout",
     "output_type": "stream",
     "text": [
      "Train | Type' | PosNg | Time' | Sure' |\n",
      "ACCUR | 0.933 | 0.984 | 0.935 | 0.944 |\n",
      "F1_SC | 0.931 | 0.982 | 0.935 | 0.970 |\n",
      "\n",
      "huggingface/tokenizers: The current process just got forked, after parallelism has already been used. Disabling parallelism to avoid deadlocks...\n",
      "To disable this warning, you can either:\n",
      "\t- Avoid using `tokenizers` before the fork if possible\n",
      "\t- Explicitly set the environment variable TOKENIZERS_PARALLELISM=(true | false)\n",
      "huggingface/tokenizers: The current process just got forked, after parallelism has already been used. Disabling parallelism to avoid deadlocks...\n",
      "To disable this warning, you can either:\n",
      "\t- Avoid using `tokenizers` before the fork if possible\n",
      "\t- Explicitly set the environment variable TOKENIZERS_PARALLELISM=(true | false)\n"
     ]
    },
    {
     "name": "stderr",
     "output_type": "stream",
     "text": [
      "100%|██████████| 52/52 [00:11<00:00,  4.65it/s, Epoch=3, LR=1.05e-5, Valid_loss=0.198]\n"
     ]
    },
    {
     "name": "stdout",
     "output_type": "stream",
     "text": [
      "Valid | Type' | PosNg | Time' | Sure' |\n",
      "ACCUR | 0.889 | 0.970 | 0.907 | 0.933 |\n",
      "F1_SC | 0.888 | 0.967 | 0.908 | 0.964 |\n",
      "\n",
      "\n",
      "Epoch:03 | TL:1.428e-01 | VL:1.976e-01 | Train's F1: 0.954 | Valid's F1: 0.932 | \n",
      "\n",
      "\n",
      "huggingface/tokenizers: The current process just got forked, after parallelism has already been used. Disabling parallelism to avoid deadlocks...\n",
      "To disable this warning, you can either:\n",
      "\t- Avoid using `tokenizers` before the fork if possible\n",
      "\t- Explicitly set the environment variable TOKENIZERS_PARALLELISM=(true | false)\n",
      "huggingface/tokenizers: The current process just got forked, after parallelism has already been used. Disabling parallelism to avoid deadlocks...\n",
      "To disable this warning, you can either:\n",
      "\t- Avoid using `tokenizers` before the fork if possible\n",
      "\t- Explicitly set the environment variable TOKENIZERS_PARALLELISM=(true | false)\n"
     ]
    },
    {
     "name": "stderr",
     "output_type": "stream",
     "text": [
      "100%|██████████| 465/465 [04:54<00:00,  1.58it/s, Epoch=4, LR=6.02e-7, Train_loss=0.106]\n"
     ]
    },
    {
     "name": "stdout",
     "output_type": "stream",
     "text": [
      "Train | Type' | PosNg | Time' | Sure' |\n",
      "ACCUR | 0.960 | 0.988 | 0.958 | 0.951 |\n",
      "F1_SC | 0.959 | 0.987 | 0.958 | 0.974 |\n",
      "\n",
      "huggingface/tokenizers: The current process just got forked, after parallelism has already been used. Disabling parallelism to avoid deadlocks...\n",
      "To disable this warning, you can either:\n",
      "\t- Avoid using `tokenizers` before the fork if possible\n",
      "\t- Explicitly set the environment variable TOKENIZERS_PARALLELISM=(true | false)\n",
      "huggingface/tokenizers: The current process just got forked, after parallelism has already been used. Disabling parallelism to avoid deadlocks...\n",
      "To disable this warning, you can either:\n",
      "\t- Avoid using `tokenizers` before the fork if possible\n",
      "\t- Explicitly set the environment variable TOKENIZERS_PARALLELISM=(true | false)\n"
     ]
    },
    {
     "name": "stderr",
     "output_type": "stream",
     "text": [
      "100%|██████████| 52/52 [00:11<00:00,  4.66it/s, Epoch=4, LR=6.02e-7, Valid_loss=0.208]\n"
     ]
    },
    {
     "name": "stdout",
     "output_type": "stream",
     "text": [
      "Valid | Type' | PosNg | Time' | Sure' |\n",
      "ACCUR | 0.890 | 0.973 | 0.906 | 0.937 |\n",
      "F1_SC | 0.889 | 0.971 | 0.907 | 0.965 |\n",
      "\n",
      "\n",
      "Epoch:04 | TL:1.058e-01 | VL:2.080e-01 | Train's F1: 0.969 | Valid's F1: 0.933 | \n",
      "\n",
      "\u001b[34mF1 Improved(0.933) --> (0.933)\n",
      "Better_F1_Model Saved\u001b[0m\n",
      "\n",
      "huggingface/tokenizers: The current process just got forked, after parallelism has already been used. Disabling parallelism to avoid deadlocks...\n",
      "To disable this warning, you can either:\n",
      "\t- Avoid using `tokenizers` before the fork if possible\n",
      "\t- Explicitly set the environment variable TOKENIZERS_PARALLELISM=(true | false)\n",
      "huggingface/tokenizers: The current process just got forked, after parallelism has already been used. Disabling parallelism to avoid deadlocks...\n",
      "To disable this warning, you can either:\n",
      "\t- Avoid using `tokenizers` before the fork if possible\n",
      "\t- Explicitly set the environment variable TOKENIZERS_PARALLELISM=(true | false)\n"
     ]
    },
    {
     "name": "stderr",
     "output_type": "stream",
     "text": [
      "100%|██████████| 465/465 [04:53<00:00,  1.59it/s, Epoch=5, LR=3.19e-6, Train_loss=0.0952]\n"
     ]
    },
    {
     "name": "stdout",
     "output_type": "stream",
     "text": [
      "Train | Type' | PosNg | Time' | Sure' |\n",
      "ACCUR | 0.968 | 0.989 | 0.965 | 0.955 |\n",
      "F1_SC | 0.967 | 0.988 | 0.965 | 0.976 |\n",
      "\n",
      "huggingface/tokenizers: The current process just got forked, after parallelism has already been used. Disabling parallelism to avoid deadlocks...\n",
      "To disable this warning, you can either:\n",
      "\t- Avoid using `tokenizers` before the fork if possible\n",
      "\t- Explicitly set the environment variable TOKENIZERS_PARALLELISM=(true | false)\n",
      "huggingface/tokenizers: The current process just got forked, after parallelism has already been used. Disabling parallelism to avoid deadlocks...\n",
      "To disable this warning, you can either:\n",
      "\t- Avoid using `tokenizers` before the fork if possible\n",
      "\t- Explicitly set the environment variable TOKENIZERS_PARALLELISM=(true | false)\n"
     ]
    },
    {
     "name": "stderr",
     "output_type": "stream",
     "text": [
      "100%|██████████| 52/52 [00:10<00:00,  4.73it/s, Epoch=5, LR=3.19e-6, Valid_loss=0.212]\n"
     ]
    },
    {
     "name": "stdout",
     "output_type": "stream",
     "text": [
      "Valid | Type' | PosNg | Time' | Sure' |\n",
      "ACCUR | 0.895 | 0.972 | 0.908 | 0.935 |\n",
      "F1_SC | 0.894 | 0.971 | 0.908 | 0.965 |\n",
      "\n",
      "\n",
      "Epoch:05 | TL:9.522e-02 | VL:2.120e-01 | Train's F1: 0.974 | Valid's F1: 0.934 | \n",
      "\n",
      "\u001b[34mF1 Improved(0.933) --> (0.934)\n",
      "Better_F1_Model Saved\u001b[0m\n",
      "\n",
      "Training complete in 0h 25m 39s\n",
      "Best Loss : 1.9314e-01 at 2 th Epoch of 8th Fold\n",
      "Best F1(W): 0.9344 at 5 th Epoch of 8th Fold\n",
      "\n",
      "\u001b[33m==== Fold: 9 =====\u001b[0m\n"
     ]
    },
    {
     "name": "stderr",
     "output_type": "stream",
     "text": [
      "Some weights of the model checkpoint at monologg/kobigbird-bert-base were not used when initializing BigBirdModel: ['cls.predictions.transform.dense.bias', 'cls.predictions.decoder.weight', 'cls.predictions.transform.dense.weight', 'cls.predictions.transform.LayerNorm.weight', 'cls.seq_relationship.weight', 'cls.predictions.decoder.bias', 'cls.predictions.transform.LayerNorm.bias', 'cls.predictions.bias', 'cls.seq_relationship.bias']\n",
      "- This IS expected if you are initializing BigBirdModel from the checkpoint of a model trained on another task or with another architecture (e.g. initializing a BertForSequenceClassification model from a BertForPreTraining model).\n",
      "- This IS NOT expected if you are initializing BigBirdModel from the checkpoint of a model that you expect to be exactly identical (initializing a BertForSequenceClassification model from a BertForSequenceClassification model).\n"
     ]
    },
    {
     "name": "stdout",
     "output_type": "stream",
     "text": [
      "INFO: GPU - Tesla T4\n",
      "\n",
      "huggingface/tokenizers: The current process just got forked, after parallelism has already been used. Disabling parallelism to avoid deadlocks...\n",
      "To disable this warning, you can either:\n",
      "\t- Avoid using `tokenizers` before the fork if possible\n",
      "\t- Explicitly set the environment variable TOKENIZERS_PARALLELISM=(true | false)\n",
      "huggingface/tokenizers: The current process just got forked, after parallelism has already been used. Disabling parallelism to avoid deadlocks...\n",
      "To disable this warning, you can either:\n",
      "\t- Avoid using `tokenizers` before the fork if possible\n",
      "\t- Explicitly set the environment variable TOKENIZERS_PARALLELISM=(true | false)\n"
     ]
    },
    {
     "name": "stderr",
     "output_type": "stream",
     "text": [
      "100%|██████████| 465/465 [04:50<00:00,  1.60it/s, Epoch=1, LR=4.36e-5, Train_loss=0.334]\n"
     ]
    },
    {
     "name": "stdout",
     "output_type": "stream",
     "text": [
      "Train | Type' | PosNg | Time' | Sure' |\n",
      "ACCUR | 0.836 | 0.960 | 0.804 | 0.923 |\n",
      "F1_SC | 0.818 | 0.953 | 0.801 | 0.959 |\n",
      "\n",
      "huggingface/tokenizers: The current process just got forked, after parallelism has already been used. Disabling parallelism to avoid deadlocks...\n",
      "To disable this warning, you can either:\n",
      "\t- Avoid using `tokenizers` before the fork if possible\n",
      "\t- Explicitly set the environment variable TOKENIZERS_PARALLELISM=(true | false)\n",
      "huggingface/tokenizers: The current process just got forked, after parallelism has already been used. Disabling parallelism to avoid deadlocks...\n",
      "To disable this warning, you can either:\n",
      "\t- Avoid using `tokenizers` before the fork if possible\n",
      "\t- Explicitly set the environment variable TOKENIZERS_PARALLELISM=(true | false)\n"
     ]
    },
    {
     "name": "stderr",
     "output_type": "stream",
     "text": [
      "100%|██████████| 52/52 [00:11<00:00,  4.99it/s, Epoch=1, LR=4.36e-5, Valid_loss=0.204]"
     ]
    },
    {
     "name": "stdout",
     "output_type": "stream",
     "text": [
      "To disable this warning, you can either:\n",
      "\t- Avoid using `tokenizers` before the fork if possible\n",
      "\t- Explicitly set the environment variable TOKENIZERS_PARALLELISM=(true | false)\n"
     ]
    },
    {
     "name": "stderr",
     "output_type": "stream",
     "text": [
      "100%|██████████| 52/52 [00:11<00:00,  4.67it/s, Epoch=1, LR=4.36e-5, Valid_loss=0.204]\n"
     ]
    },
    {
     "name": "stdout",
     "output_type": "stream",
     "text": [
      "Valid | Type' | PosNg | Time' | Sure' |\n",
      "ACCUR | 0.883 | 0.978 | 0.901 | 0.940 |\n",
      "F1_SC | 0.874 | 0.977 | 0.899 | 0.968 |\n",
      "\n",
      "\n",
      "Epoch:01 | TL:3.341e-01 | VL:2.039e-01 | Train's F1: 0.883 | Valid's F1: 0.929 | \n",
      "\n",
      "\u001b[34mValidation Loss Improved(inf) --> (2.039e-01)\n",
      "Better Loss Model Saved\u001b[0m\n",
      "\u001b[34mF1 Improved(0.000) --> (0.929)\n",
      "Better_F1_Model Saved\u001b[0m\n",
      "\n",
      "huggingface/tokenizers: The current process just got forked, after parallelism has already been used. Disabling parallelism to avoid deadlocks...\n",
      "To disable this warning, you can either:\n",
      "\t- Avoid using `tokenizers` before the fork if possible\n",
      "\t- Explicitly set the environment variable TOKENIZERS_PARALLELISM=(true | false)\n",
      "huggingface/tokenizers: The current process just got forked, after parallelism has already been used. Disabling parallelism to avoid deadlocks...\n",
      "To disable this warning, you can either:\n",
      "\t- Avoid using `tokenizers` before the fork if possible\n",
      "\t- Explicitly set the environment variable TOKENIZERS_PARALLELISM=(true | false)\n"
     ]
    },
    {
     "name": "stderr",
     "output_type": "stream",
     "text": [
      "100%|██████████| 465/465 [04:51<00:00,  1.60it/s, Epoch=2, LR=2.77e-5, Train_loss=0.191]\n"
     ]
    },
    {
     "name": "stdout",
     "output_type": "stream",
     "text": [
      "Train | Type' | PosNg | Time' | Sure' |\n",
      "ACCUR | 0.904 | 0.976 | 0.914 | 0.935 |\n",
      "F1_SC | 0.898 | 0.973 | 0.913 | 0.965 |\n",
      "\n",
      "huggingface/tokenizers: The current process just got forked, after parallelism has already been used. Disabling parallelism to avoid deadlocks...\n",
      "To disable this warning, you can either:\n",
      "\t- Avoid using `tokenizers` before the fork if possible\n",
      "\t- Explicitly set the environment variable TOKENIZERS_PARALLELISM=(true | false)\n",
      "huggingface/tokenizers: The current process just got forked, after parallelism has already been used. Disabling parallelism to avoid deadlocks...\n",
      "To disable this warning, you can either:\n",
      "\t- Avoid using `tokenizers` before the fork if possible\n",
      "\t- Explicitly set the environment variable TOKENIZERS_PARALLELISM=(true | false)\n"
     ]
    },
    {
     "name": "stderr",
     "output_type": "stream",
     "text": [
      "100%|██████████| 52/52 [00:10<00:00,  5.04it/s, Epoch=2, LR=2.77e-5, Valid_loss=0.19]"
     ]
    },
    {
     "name": "stdout",
     "output_type": "stream",
     "text": [
      "To disable this warning, you can either:\n",
      "\t- Avoid using `tokenizers` before the fork if possible\n",
      "\t- Explicitly set the environment variable TOKENIZERS_PARALLELISM=(true | false)\n"
     ]
    },
    {
     "name": "stderr",
     "output_type": "stream",
     "text": [
      "100%|██████████| 52/52 [00:11<00:00,  4.72it/s, Epoch=2, LR=2.77e-5, Valid_loss=0.19]\n"
     ]
    },
    {
     "name": "stdout",
     "output_type": "stream",
     "text": [
      "Valid | Type' | PosNg | Time' | Sure' |\n",
      "ACCUR | 0.901 | 0.973 | 0.907 | 0.935 |\n",
      "F1_SC | 0.896 | 0.974 | 0.906 | 0.964 |\n",
      "\n",
      "\n",
      "Epoch:02 | TL:1.911e-01 | VL:1.905e-01 | Train's F1: 0.937 | Valid's F1: 0.935 | \n",
      "\n",
      "\u001b[34mValidation Loss Improved(2.039e-01) --> (1.905e-01)\n",
      "Better Loss Model Saved\u001b[0m\n",
      "\u001b[34mF1 Improved(0.929) --> (0.935)\n",
      "Better_F1_Model Saved\u001b[0m\n",
      "\n",
      "huggingface/tokenizers: The current process just got forked, after parallelism has already been used. Disabling parallelism to avoid deadlocks...\n",
      "To disable this warning, you can either:\n",
      "\t- Avoid using `tokenizers` before the fork if possible\n",
      "\t- Explicitly set the environment variable TOKENIZERS_PARALLELISM=(true | false)\n",
      "huggingface/tokenizers: The current process just got forked, after parallelism has already been used. Disabling parallelism to avoid deadlocks...\n",
      "To disable this warning, you can either:\n",
      "\t- Avoid using `tokenizers` before the fork if possible\n",
      "\t- Explicitly set the environment variable TOKENIZERS_PARALLELISM=(true | false)\n"
     ]
    },
    {
     "name": "stderr",
     "output_type": "stream",
     "text": [
      "100%|██████████| 465/465 [04:53<00:00,  1.59it/s, Epoch=3, LR=1.05e-5, Train_loss=0.148]\n"
     ]
    },
    {
     "name": "stdout",
     "output_type": "stream",
     "text": [
      "Train | Type' | PosNg | Time' | Sure' |\n",
      "ACCUR | 0.930 | 0.983 | 0.936 | 0.944 |\n",
      "F1_SC | 0.927 | 0.981 | 0.936 | 0.970 |\n",
      "\n",
      "huggingface/tokenizers: The current process just got forked, after parallelism has already been used. Disabling parallelism to avoid deadlocks...\n",
      "To disable this warning, you can either:\n",
      "\t- Avoid using `tokenizers` before the fork if possible\n",
      "\t- Explicitly set the environment variable TOKENIZERS_PARALLELISM=(true | false)\n",
      "huggingface/tokenizers: The current process just got forked, after parallelism has already been used. Disabling parallelism to avoid deadlocks...\n",
      "To disable this warning, you can either:\n",
      "\t- Avoid using `tokenizers` before the fork if possible\n",
      "\t- Explicitly set the environment variable TOKENIZERS_PARALLELISM=(true | false)\n"
     ]
    },
    {
     "name": "stderr",
     "output_type": "stream",
     "text": [
      "100%|██████████| 52/52 [00:11<00:00,  4.69it/s, Epoch=3, LR=1.05e-5, Valid_loss=0.199]\n"
     ]
    },
    {
     "name": "stdout",
     "output_type": "stream",
     "text": [
      "Valid | Type' | PosNg | Time' | Sure' |\n",
      "ACCUR | 0.897 | 0.976 | 0.894 | 0.941 |\n",
      "F1_SC | 0.893 | 0.976 | 0.893 | 0.968 |\n",
      "\n",
      "\n",
      "Epoch:03 | TL:1.477e-01 | VL:1.987e-01 | Train's F1: 0.954 | Valid's F1: 0.932 | \n",
      "\n",
      "\n",
      "huggingface/tokenizers: The current process just got forked, after parallelism has already been used. Disabling parallelism to avoid deadlocks...\n",
      "To disable this warning, you can either:\n",
      "\t- Avoid using `tokenizers` before the fork if possible\n",
      "\t- Explicitly set the environment variable TOKENIZERS_PARALLELISM=(true | false)\n",
      "huggingface/tokenizers: The current process just got forked, after parallelism has already been used. Disabling parallelism to avoid deadlocks...\n",
      "To disable this warning, you can either:\n",
      "\t- Avoid using `tokenizers` before the fork if possible\n",
      "\t- Explicitly set the environment variable TOKENIZERS_PARALLELISM=(true | false)\n"
     ]
    },
    {
     "name": "stderr",
     "output_type": "stream",
     "text": [
      "100%|██████████| 465/465 [04:53<00:00,  1.59it/s, Epoch=4, LR=6.02e-7, Train_loss=0.111]\n"
     ]
    },
    {
     "name": "stdout",
     "output_type": "stream",
     "text": [
      "Train | Type' | PosNg | Time' | Sure' |\n",
      "ACCUR | 0.956 | 0.987 | 0.956 | 0.953 |\n",
      "F1_SC | 0.955 | 0.986 | 0.956 | 0.975 |\n",
      "\n",
      "huggingface/tokenizers: The current process just got forked, after parallelism has already been used. Disabling parallelism to avoid deadlocks...\n",
      "To disable this warning, you can either:\n",
      "\t- Avoid using `tokenizers` before the fork if possible\n",
      "\t- Explicitly set the environment variable TOKENIZERS_PARALLELISM=(true | false)\n",
      "huggingface/tokenizers: The current process just got forked, after parallelism has already been used. Disabling parallelism to avoid deadlocks...\n",
      "To disable this warning, you can either:\n",
      "\t- Avoid using `tokenizers` before the fork if possible\n",
      "\t- Explicitly set the environment variable TOKENIZERS_PARALLELISM=(true | false)\n"
     ]
    },
    {
     "name": "stderr",
     "output_type": "stream",
     "text": [
      "100%|██████████| 52/52 [00:11<00:00,  4.50it/s, Epoch=4, LR=6.02e-7, Valid_loss=0.202]\n"
     ]
    },
    {
     "name": "stdout",
     "output_type": "stream",
     "text": [
      "Valid | Type' | PosNg | Time' | Sure' |\n",
      "ACCUR | 0.897 | 0.976 | 0.914 | 0.935 |\n",
      "F1_SC | 0.895 | 0.976 | 0.913 | 0.965 |\n",
      "\n",
      "\n",
      "Epoch:04 | TL:1.110e-01 | VL:2.017e-01 | Train's F1: 0.968 | Valid's F1: 0.937 | \n",
      "\n",
      "\u001b[34mF1 Improved(0.935) --> (0.937)\n",
      "Better_F1_Model Saved\u001b[0m\n",
      "\n",
      "huggingface/tokenizers: The current process just got forked, after parallelism has already been used. Disabling parallelism to avoid deadlocks...\n",
      "To disable this warning, you can either:\n",
      "\t- Avoid using `tokenizers` before the fork if possible\n",
      "\t- Explicitly set the environment variable TOKENIZERS_PARALLELISM=(true | false)\n",
      "huggingface/tokenizers: The current process just got forked, after parallelism has already been used. Disabling parallelism to avoid deadlocks...\n",
      "To disable this warning, you can either:\n",
      "\t- Avoid using `tokenizers` before the fork if possible\n",
      "\t- Explicitly set the environment variable TOKENIZERS_PARALLELISM=(true | false)\n"
     ]
    },
    {
     "name": "stderr",
     "output_type": "stream",
     "text": [
      "100%|██████████| 465/465 [04:51<00:00,  1.59it/s, Epoch=5, LR=3.19e-6, Train_loss=0.1]\n"
     ]
    },
    {
     "name": "stdout",
     "output_type": "stream",
     "text": [
      "Train | Type' | PosNg | Time' | Sure' |\n",
      "ACCUR | 0.964 | 0.989 | 0.963 | 0.957 |\n",
      "F1_SC | 0.963 | 0.988 | 0.963 | 0.977 |\n",
      "\n",
      "huggingface/tokenizers: The current process just got forked, after parallelism has already been used. Disabling parallelism to avoid deadlocks...\n",
      "To disable this warning, you can either:\n",
      "\t- Avoid using `tokenizers` before the fork if possible\n",
      "\t- Explicitly set the environment variable TOKENIZERS_PARALLELISM=(true | false)\n",
      "huggingface/tokenizers: The current process just got forked, after parallelism has already been used. Disabling parallelism to avoid deadlocks...\n",
      "To disable this warning, you can either:\n",
      "\t- Avoid using `tokenizers` before the fork if possible\n",
      "\t- Explicitly set the environment variable TOKENIZERS_PARALLELISM=(true | false)\n"
     ]
    },
    {
     "name": "stderr",
     "output_type": "stream",
     "text": [
      "100%|██████████| 52/52 [00:11<00:00,  4.82it/s, Epoch=5, LR=3.19e-6, Valid_loss=0.207]"
     ]
    },
    {
     "name": "stdout",
     "output_type": "stream",
     "text": [
      "\t- Avoid using `tokenizers` before the fork if possible\n",
      "\t- Explicitly set the environment variable TOKENIZERS_PARALLELISM=(true | false)\n"
     ]
    },
    {
     "name": "stderr",
     "output_type": "stream",
     "text": [
      "100%|██████████| 52/52 [00:11<00:00,  4.65it/s, Epoch=5, LR=3.19e-6, Valid_loss=0.207]\n"
     ]
    },
    {
     "name": "stdout",
     "output_type": "stream",
     "text": [
      "Valid | Type' | PosNg | Time' | Sure' |\n",
      "ACCUR | 0.896 | 0.978 | 0.909 | 0.935 |\n",
      "F1_SC | 0.894 | 0.978 | 0.908 | 0.965 |\n",
      "\n",
      "\n",
      "Epoch:05 | TL:1.004e-01 | VL:2.067e-01 | Train's F1: 0.973 | Valid's F1: 0.936 | \n",
      "\n",
      "\n",
      "Training complete in 0h 25m 26s\n",
      "Best Loss : 1.9047e-01 at 2 th Epoch of 9th Fold\n",
      "Best F1(W): 0.9372 at 4 th Epoch of 9th Fold\n",
      "\n"
     ]
    }
   ],
   "source": [
    "best_scores = []\n",
    "\n",
    "for fold in range(0, config['n_folds']):\n",
    "\n",
    "    print(f\"{y_}==== Fold: {fold} ====={sr_}\")\n",
    "\n",
    "    # DataLoaders\n",
    "    train_loader, valid_loader = prepare_loader(fold = fold)\n",
    "\n",
    "    # Define Model because of KFold\n",
    "    model = Model(config['model'])\n",
    "    model = model.to(config['device'])\n",
    "\n",
    "    # Loss Function\n",
    "    loss_fn = {'type': nn.NLLLoss().to(config['device']),\n",
    "                'pn' : nn.NLLLoss().to(config['device']),\n",
    "                'time': nn.NLLLoss().to(config['device']),\n",
    "                'sure': nn.BCELoss().to(config['device'])}\n",
    "\n",
    "    # Define Opimizer and Scheduler\n",
    "    optimizer = AdamW(model.parameters(),\n",
    "                      lr = config['learning_rate'],\n",
    "                      weight_decay = config['weight_decay'])\n",
    "    \n",
    "    scheduler = CosineWarmupScheduler(optimizer=optimizer, warmup=100, max_iters=2000)\n",
    "    # scheduler = fetch_scheduler(optimizer)\n",
    "\n",
    "    ## Start Training\n",
    "    model, best_score = run_training(model, optimizer, scheduler, device = config['device'], n_epochs = config['n_epochs'], fold = fold)\n",
    "    \n",
    "    ## Best F1_Score per Fold 줍줍\n",
    "    best_scores.append(best_score)\n",
    "    \n",
    "    ## For Memory\n",
    "    del model, train_loader, valid_loader\n",
    "\n",
    "    torch.cuda.empty_cache()\n",
    "    _ = gc.collect()\n",
    "    \n",
    "    print()"
   ]
  },
  {
   "cell_type": "code",
   "execution_count": 91,
   "id": "389b9267",
   "metadata": {
    "execution": {
     "iopub.execute_input": "2022-12-18T10:39:59.291451Z",
     "iopub.status.busy": "2022-12-18T10:39:59.290671Z",
     "iopub.status.idle": "2022-12-18T10:39:59.296105Z",
     "shell.execute_reply": "2022-12-18T10:39:59.294977Z"
    },
    "id": "0WkBaDAztEBv",
    "outputId": "2bf26fed-98a1-488c-9173-229d988f4750",
    "papermill": {
     "duration": 3.290754,
     "end_time": "2022-12-18T10:39:59.299860",
     "exception": false,
     "start_time": "2022-12-18T10:39:56.009106",
     "status": "completed"
    },
    "tags": []
   },
   "outputs": [
    {
     "name": "stdout",
     "output_type": "stream",
     "text": [
      "Hey\n"
     ]
    }
   ],
   "source": [
    "print(\"Hey\")"
   ]
  },
  {
   "cell_type": "markdown",
   "id": "3609cde9",
   "metadata": {
    "id": "XZPzTB6ECH5k",
    "papermill": {
     "duration": 2.861236,
     "end_time": "2022-12-18T10:40:05.010520",
     "exception": false,
     "start_time": "2022-12-18T10:40:02.149284",
     "status": "completed"
    },
    "tags": []
   },
   "source": [
    "## Local CV"
   ]
  },
  {
   "cell_type": "code",
   "execution_count": 92,
   "id": "4bfddd43",
   "metadata": {
    "execution": {
     "iopub.execute_input": "2022-12-18T10:40:11.014044Z",
     "iopub.status.busy": "2022-12-18T10:40:11.013174Z",
     "iopub.status.idle": "2022-12-18T10:40:11.088277Z",
     "shell.execute_reply": "2022-12-18T10:40:11.086650Z"
    },
    "id": "lwMKal3Wh1TD",
    "outputId": "ea1be200-c671-4b52-d71d-a1af61e60c79",
    "papermill": {
     "duration": 2.896541,
     "end_time": "2022-12-18T10:40:11.090506",
     "exception": false,
     "start_time": "2022-12-18T10:40:08.193965",
     "status": "completed"
    },
    "tags": []
   },
   "outputs": [
    {
     "data": {
      "text/plain": [
       "[tensor(0.9335, device='cuda:0'),\n",
       " tensor(0.9391, device='cuda:0'),\n",
       " tensor(0.9318, device='cuda:0'),\n",
       " tensor(0.9359, device='cuda:0'),\n",
       " tensor(0.9374, device='cuda:0'),\n",
       " tensor(0.9370, device='cuda:0'),\n",
       " tensor(0.9310, device='cuda:0'),\n",
       " tensor(0.9362, device='cuda:0'),\n",
       " tensor(0.9344, device='cuda:0'),\n",
       " tensor(0.9372, device='cuda:0')]"
      ]
     },
     "execution_count": 92,
     "metadata": {},
     "output_type": "execute_result"
    }
   ],
   "source": [
    "best_scores"
   ]
  },
  {
   "cell_type": "code",
   "execution_count": 93,
   "id": "12a28717",
   "metadata": {
    "execution": {
     "iopub.execute_input": "2022-12-18T10:40:16.779744Z",
     "iopub.status.busy": "2022-12-18T10:40:16.779165Z",
     "iopub.status.idle": "2022-12-18T10:40:16.788022Z",
     "shell.execute_reply": "2022-12-18T10:40:16.787043Z"
    },
    "id": "Q9df6ue0h3dp",
    "outputId": "a6fc8026-4448-442f-edcb-ca52cfe501ff",
    "papermill": {
     "duration": 2.885225,
     "end_time": "2022-12-18T10:40:16.790201",
     "exception": false,
     "start_time": "2022-12-18T10:40:13.904976",
     "status": "completed"
    },
    "tags": []
   },
   "outputs": [
    {
     "data": {
      "text/plain": [
       "0.9353499412536621"
      ]
     },
     "execution_count": 93,
     "metadata": {},
     "output_type": "execute_result"
    }
   ],
   "source": [
    "# Local CV\n",
    "local_cv = sum(best_scores).detach().cpu().item() / config['n_folds']\n",
    "local_cv"
   ]
  },
  {
   "cell_type": "markdown",
   "id": "50640bf8",
   "metadata": {
    "id": "-KfmMINFqbRn",
    "papermill": {
     "duration": 2.821839,
     "end_time": "2022-12-18T10:40:22.600703",
     "exception": false,
     "start_time": "2022-12-18T10:40:19.778864",
     "status": "completed"
    },
    "tags": []
   },
   "source": [
    "## Inference"
   ]
  },
  {
   "cell_type": "markdown",
   "id": "a3348978",
   "metadata": {
    "id": "jwUYee5dVwwk",
    "papermill": {
     "duration": 3.066589,
     "end_time": "2022-12-18T10:40:28.653699",
     "exception": false,
     "start_time": "2022-12-18T10:40:25.587110",
     "status": "completed"
    },
    "tags": []
   },
   "source": [
    "### Dataset -> DataLoader"
   ]
  },
  {
   "cell_type": "code",
   "execution_count": 94,
   "id": "9d6aebb9",
   "metadata": {
    "execution": {
     "iopub.execute_input": "2022-12-18T10:40:34.845772Z",
     "iopub.status.busy": "2022-12-18T10:40:34.845378Z",
     "iopub.status.idle": "2022-12-18T10:40:34.867758Z",
     "shell.execute_reply": "2022-12-18T10:40:34.866616Z"
    },
    "id": "j270DvNzDaP9",
    "outputId": "17a5f7f7-beff-49c7-edde-946a01cd4b4b",
    "papermill": {
     "duration": 2.876914,
     "end_time": "2022-12-18T10:40:34.870968",
     "exception": false,
     "start_time": "2022-12-18T10:40:31.994054",
     "status": "completed"
    },
    "tags": []
   },
   "outputs": [
    {
     "name": "stdout",
     "output_type": "stream",
     "text": [
      "(7090, 2)\n"
     ]
    },
    {
     "data": {
      "text/html": [
       "<div>\n",
       "<style scoped>\n",
       "    .dataframe tbody tr th:only-of-type {\n",
       "        vertical-align: middle;\n",
       "    }\n",
       "\n",
       "    .dataframe tbody tr th {\n",
       "        vertical-align: top;\n",
       "    }\n",
       "\n",
       "    .dataframe thead th {\n",
       "        text-align: right;\n",
       "    }\n",
       "</style>\n",
       "<table border=\"1\" class=\"dataframe\">\n",
       "  <thead>\n",
       "    <tr style=\"text-align: right;\">\n",
       "      <th></th>\n",
       "      <th>ID</th>\n",
       "      <th>new_sentence</th>\n",
       "    </tr>\n",
       "  </thead>\n",
       "  <tbody>\n",
       "    <tr>\n",
       "      <th>7085</th>\n",
       "      <td>TEST_7085</td>\n",
       "      <td>2020 세계국가편람 모바일 앱은 세계 216개국의 국가개황과 주요 경제지표, 사회...</td>\n",
       "    </tr>\n",
       "    <tr>\n",
       "      <th>7086</th>\n",
       "      <td>TEST_7086</td>\n",
       "      <td>탈세계화 징후들이 반갑지 않은 이유다.</td>\n",
       "    </tr>\n",
       "    <tr>\n",
       "      <th>7087</th>\n",
       "      <td>TEST_7087</td>\n",
       "      <td>틱톡은 6월 ＇인터넷 안전의 달＇을 맞아 올바른 개인정보 보호 관리 방법, 앱 내 ...</td>\n",
       "    </tr>\n",
       "    <tr>\n",
       "      <th>7088</th>\n",
       "      <td>TEST_7088</td>\n",
       "      <td>만약 3개월 간 채굴자들의 투표를 거쳐 2/3 이상의 해시파워가 ＇채굴세＇ 도입에 ...</td>\n",
       "    </tr>\n",
       "    <tr>\n",
       "      <th>7089</th>\n",
       "      <td>TEST_7089</td>\n",
       "      <td>아버지 홍언필이 인기척에 깨 그 광경을 지켜봤다.</td>\n",
       "    </tr>\n",
       "  </tbody>\n",
       "</table>\n",
       "</div>"
      ],
      "text/plain": [
       "             ID                                       new_sentence\n",
       "7085  TEST_7085  2020 세계국가편람 모바일 앱은 세계 216개국의 국가개황과 주요 경제지표, 사회...\n",
       "7086  TEST_7086                              탈세계화 징후들이 반갑지 않은 이유다.\n",
       "7087  TEST_7087  틱톡은 6월 ＇인터넷 안전의 달＇을 맞아 올바른 개인정보 보호 관리 방법, 앱 내 ...\n",
       "7088  TEST_7088  만약 3개월 간 채굴자들의 투표를 거쳐 2/3 이상의 해시파워가 ＇채굴세＇ 도입에 ...\n",
       "7089  TEST_7089                        아버지 홍언필이 인기척에 깨 그 광경을 지켜봤다."
      ]
     },
     "execution_count": 94,
     "metadata": {},
     "output_type": "execute_result"
    }
   ],
   "source": [
    "print(test.shape) \n",
    "test.tail()"
   ]
  },
  {
   "cell_type": "code",
   "execution_count": 95,
   "id": "389501a7",
   "metadata": {
    "execution": {
     "iopub.execute_input": "2022-12-18T10:40:40.881694Z",
     "iopub.status.busy": "2022-12-18T10:40:40.881316Z",
     "iopub.status.idle": "2022-12-18T10:40:40.887657Z",
     "shell.execute_reply": "2022-12-18T10:40:40.886622Z"
    },
    "id": "rbh89XJQqWkJ",
    "papermill": {
     "duration": 3.065999,
     "end_time": "2022-12-18T10:40:40.889667",
     "exception": false,
     "start_time": "2022-12-18T10:40:37.823668",
     "status": "completed"
    },
    "tags": []
   },
   "outputs": [],
   "source": [
    "test_ds = MyDataset(test, \n",
    "                    tokenizer = config['tokenizer'],\n",
    "                    max_length = config['max_length'],\n",
    "                    mode = \"test\")\n",
    "\n",
    "test_loader = DataLoader(test_ds,\n",
    "                         batch_size = config['valid_batch_size'],\n",
    "                         num_workers = 2,\n",
    "                         collate_fn = collate_fn,\n",
    "                         shuffle = False, \n",
    "                         pin_memory = True, \n",
    "                         drop_last= False)"
   ]
  },
  {
   "cell_type": "markdown",
   "id": "d0ac5676",
   "metadata": {
    "id": "2ectEctuhaip",
    "papermill": {
     "duration": 2.806543,
     "end_time": "2022-12-18T10:40:46.518060",
     "exception": false,
     "start_time": "2022-12-18T10:40:43.711517",
     "status": "completed"
    },
    "tags": []
   },
   "source": [
    "### Test Function"
   ]
  },
  {
   "cell_type": "code",
   "execution_count": 96,
   "id": "2294ee6a",
   "metadata": {
    "execution": {
     "iopub.execute_input": "2022-12-18T10:40:52.459512Z",
     "iopub.status.busy": "2022-12-18T10:40:52.459142Z",
     "iopub.status.idle": "2022-12-18T10:40:52.468820Z",
     "shell.execute_reply": "2022-12-18T10:40:52.467846Z"
    },
    "id": "swSdBgX6d9fp",
    "papermill": {
     "duration": 3.098511,
     "end_time": "2022-12-18T10:40:52.470930",
     "exception": false,
     "start_time": "2022-12-18T10:40:49.372419",
     "status": "completed"
    },
    "tags": []
   },
   "outputs": [],
   "source": [
    "@torch.no_grad()\n",
    "def test_func(model, dataloader = test_loader, device = config['device']):\n",
    "\n",
    "    type_preds, pn_preds, time_preds, sure_preds = [], [], [], []\n",
    "\n",
    "    model.eval()\n",
    "    with torch.no_grad():\n",
    "        bar = tqdm(enumerate(dataloader), total = len(dataloader))\n",
    "        for step, data in bar:\n",
    "            ids = data['input_ids'].to(device, dtype = torch.long)\n",
    "            masks = data['attention_mask'].to(device, dtype = torch.long)\n",
    "\n",
    "            # y_preds\n",
    "            y_preds = model(ids, masks) \n",
    "\n",
    "            type_preds.append(y_preds['type'].detach().cpu().numpy())\n",
    "            pn_preds.append(y_preds['pn'].detach().cpu().numpy())\n",
    "            time_preds.append(y_preds['time'].detach().cpu().numpy())\n",
    "            sure_preds.append(y_preds['sure'].detach().cpu().numpy())\n",
    "\n",
    "    predictions = dict()\n",
    "\n",
    "    type_predict = np.concatenate(type_preds, axis= 0)\n",
    "    pn_predict = np.concatenate(pn_preds, axis= 0)\n",
    "    time_predict = np.concatenate(time_preds, axis= 0)\n",
    "    sure_predict = np.concatenate(sure_preds, axis= 0)\n",
    "\n",
    "    predictions['type'] = type_predict\n",
    "    predictions['pn'] = pn_predict\n",
    "    predictions['time'] = time_predict\n",
    "    predictions['sure'] = sure_predict\n",
    "\n",
    "    gc.collect()\n",
    "    \n",
    "    return predictions"
   ]
  },
  {
   "cell_type": "markdown",
   "id": "89e7d95c",
   "metadata": {
    "id": "3Aqzn9p3iXH5",
    "papermill": {
     "duration": 2.819985,
     "end_time": "2022-12-18T10:40:58.188122",
     "exception": false,
     "start_time": "2022-12-18T10:40:55.368137",
     "status": "completed"
    },
    "tags": []
   },
   "source": [
    "### Inference Function"
   ]
  },
  {
   "cell_type": "code",
   "execution_count": 97,
   "id": "a460ac5f",
   "metadata": {
    "execution": {
     "iopub.execute_input": "2022-12-18T10:41:04.695512Z",
     "iopub.status.busy": "2022-12-18T10:41:04.694753Z",
     "iopub.status.idle": "2022-12-18T10:41:04.704337Z",
     "shell.execute_reply": "2022-12-18T10:41:04.703445Z"
    },
    "id": "6670GKi-hhUz",
    "papermill": {
     "duration": 3.165235,
     "end_time": "2022-12-18T10:41:04.706387",
     "exception": false,
     "start_time": "2022-12-18T10:41:01.541152",
     "status": "completed"
    },
    "tags": []
   },
   "outputs": [],
   "source": [
    "def inference(model_paths, dataloader, device=config['device']):\n",
    "\n",
    "    final_type_preds, final_pn_preds, final_time_preds, final_sure_preds = [], [], [], []\n",
    "    \n",
    "    for i, path in enumerate(model_paths):\n",
    "        model = Model(config['model'])\n",
    "        model.to(config['device'])\n",
    "        model.load_state_dict(torch.load(path))\n",
    "        \n",
    "        print(f\"Getting predictions for model {i+1}\")\n",
    "        preds = test_func(model, dataloader, device)\n",
    "\n",
    "        # 줍줍\n",
    "        # final_preds.append(preds)\n",
    "        final_type_preds.append(preds['type'])\n",
    "        final_pn_preds.append(preds['pn'])\n",
    "        final_time_preds.append(preds['time'])\n",
    "        final_sure_preds.append(preds['sure'])\n",
    "        \n",
    "\n",
    "    # TYPE: 유형\n",
    "    final_type_preds = np.array(final_type_preds)\n",
    "    final_type_preds = np.mean(final_type_preds, axis = 0)\n",
    "\n",
    "    # PN: 극성\n",
    "    final_pn_preds = np.array(final_pn_preds)\n",
    "    final_pn_preds = np.mean(final_pn_preds, axis = 0)\n",
    "\n",
    "    # TIME: 시제\n",
    "    final_time_preds = np.array(final_time_preds)\n",
    "    final_time_preds = np.mean(final_time_preds, axis = 0)\n",
    "\n",
    "    # SURE: 확실성\n",
    "    final_sure_preds = np.array(final_sure_preds)\n",
    "    final_sure_preds = np.mean(final_sure_preds, axis = 0)\n",
    "\n",
    "    final_preds = dict()\n",
    "    final_preds['type'] = final_type_preds\n",
    "    final_preds['pn'] = final_pn_preds\n",
    "    final_preds['time'] = final_time_preds\n",
    "    final_preds['sure'] = final_sure_preds\n",
    "    \n",
    "    gc.collect()\n",
    "\n",
    "    return final_preds"
   ]
  },
  {
   "cell_type": "markdown",
   "id": "eb281fe6",
   "metadata": {
    "id": "f_uvXPUDhhgb",
    "papermill": {
     "duration": 2.914182,
     "end_time": "2022-12-18T10:41:10.441466",
     "exception": false,
     "start_time": "2022-12-18T10:41:07.527284",
     "status": "completed"
    },
    "tags": []
   },
   "source": [
    "### Inference function"
   ]
  },
  {
   "cell_type": "code",
   "execution_count": 98,
   "id": "c4febc26",
   "metadata": {
    "execution": {
     "iopub.execute_input": "2022-12-18T10:41:16.410810Z",
     "iopub.status.busy": "2022-12-18T10:41:16.410406Z",
     "iopub.status.idle": "2022-12-18T10:41:16.416597Z",
     "shell.execute_reply": "2022-12-18T10:41:16.415552Z"
    },
    "id": "I8Lf1PgHAYKd",
    "outputId": "137d59e6-3e16-47fa-b342-2d84be3be83b",
    "papermill": {
     "duration": 2.876555,
     "end_time": "2022-12-18T10:41:16.418644",
     "exception": false,
     "start_time": "2022-12-18T10:41:13.542089",
     "status": "completed"
    },
    "tags": []
   },
   "outputs": [
    {
     "data": {
      "text/plain": [
       "'./results/20221218_152404_t0-1/'"
      ]
     },
     "execution_count": 98,
     "metadata": {},
     "output_type": "execute_result"
    }
   ],
   "source": [
    "model_save"
   ]
  },
  {
   "cell_type": "code",
   "execution_count": 99,
   "id": "10d31b29",
   "metadata": {
    "execution": {
     "iopub.execute_input": "2022-12-18T10:41:22.171857Z",
     "iopub.status.busy": "2022-12-18T10:41:22.171433Z",
     "iopub.status.idle": "2022-12-18T10:41:22.193909Z",
     "shell.execute_reply": "2022-12-18T10:41:22.188994Z"
    },
    "id": "-9uEEKLTe6Vl",
    "outputId": "c48fcd7f-d372-4f20-e5b9-30615bb31a28",
    "papermill": {
     "duration": 2.930173,
     "end_time": "2022-12-18T10:41:22.196753",
     "exception": false,
     "start_time": "2022-12-18T10:41:19.266580",
     "status": "completed"
    },
    "tags": []
   },
   "outputs": [
    {
     "name": "stdout",
     "output_type": "stream",
     "text": [
      "n_folds:  10\n",
      "\n",
      "10\n"
     ]
    },
    {
     "data": {
      "text/plain": [
       "['./results/20221218_152404_t0-1/Loss-Fold-0_f1.bin',\n",
       " './results/20221218_152404_t0-1/Loss-Fold-1_f1.bin',\n",
       " './results/20221218_152404_t0-1/Loss-Fold-2_f1.bin',\n",
       " './results/20221218_152404_t0-1/Loss-Fold-3_f1.bin',\n",
       " './results/20221218_152404_t0-1/Loss-Fold-4_f1.bin',\n",
       " './results/20221218_152404_t0-1/Loss-Fold-5_f1.bin',\n",
       " './results/20221218_152404_t0-1/Loss-Fold-6_f1.bin',\n",
       " './results/20221218_152404_t0-1/Loss-Fold-7_f1.bin',\n",
       " './results/20221218_152404_t0-1/Loss-Fold-8_f1.bin',\n",
       " './results/20221218_152404_t0-1/Loss-Fold-9_f1.bin']"
      ]
     },
     "execution_count": 99,
     "metadata": {},
     "output_type": "execute_result"
    }
   ],
   "source": [
    "## Better F1 Score Model paths\n",
    "print(\"n_folds: \",config['n_folds'])\n",
    "print()\n",
    "\n",
    "model_paths_f1 = []\n",
    "for num in range(0, config['n_folds']):\n",
    "    model_paths_f1.append(model_save + f\"Loss-Fold-{num}_f1.bin\")\n",
    "print(len(model_paths_f1))\n",
    "model_paths_f1"
   ]
  },
  {
   "cell_type": "code",
   "execution_count": 100,
   "id": "ebbea9a9",
   "metadata": {
    "execution": {
     "iopub.execute_input": "2022-12-18T10:41:28.219903Z",
     "iopub.status.busy": "2022-12-18T10:41:28.219521Z",
     "iopub.status.idle": "2022-12-18T10:41:28.227927Z",
     "shell.execute_reply": "2022-12-18T10:41:28.226709Z"
    },
    "id": "zcYuxvfC3UkC",
    "outputId": "55130efb-719c-4a84-e99d-e39690c944c2",
    "papermill": {
     "duration": 2.826906,
     "end_time": "2022-12-18T10:41:28.229961",
     "exception": false,
     "start_time": "2022-12-18T10:41:25.403055",
     "status": "completed"
    },
    "tags": []
   },
   "outputs": [
    {
     "name": "stdout",
     "output_type": "stream",
     "text": [
      "n_folds:  10\n",
      "\n",
      "10\n"
     ]
    },
    {
     "data": {
      "text/plain": [
       "['./results/20221218_152404_t0-1/Loss-Fold-0.bin',\n",
       " './results/20221218_152404_t0-1/Loss-Fold-1.bin',\n",
       " './results/20221218_152404_t0-1/Loss-Fold-2.bin',\n",
       " './results/20221218_152404_t0-1/Loss-Fold-3.bin',\n",
       " './results/20221218_152404_t0-1/Loss-Fold-4.bin',\n",
       " './results/20221218_152404_t0-1/Loss-Fold-5.bin',\n",
       " './results/20221218_152404_t0-1/Loss-Fold-6.bin',\n",
       " './results/20221218_152404_t0-1/Loss-Fold-7.bin',\n",
       " './results/20221218_152404_t0-1/Loss-Fold-8.bin',\n",
       " './results/20221218_152404_t0-1/Loss-Fold-9.bin']"
      ]
     },
     "execution_count": 100,
     "metadata": {},
     "output_type": "execute_result"
    }
   ],
   "source": [
    "## Better Loss Model paths\n",
    "print(\"n_folds: \",config['n_folds'])\n",
    "print()\n",
    "\n",
    "model_paths = []\n",
    "for num in range(0, config['n_folds']):\n",
    "    model_paths.append(model_save + f\"Loss-Fold-{num}.bin\")\n",
    "print(len(model_paths))\n",
    "model_paths"
   ]
  },
  {
   "cell_type": "markdown",
   "id": "76aa5002",
   "metadata": {
    "id": "XtQqNzpVjyAR",
    "papermill": {
     "duration": 3.479586,
     "end_time": "2022-12-18T10:41:34.551125",
     "exception": false,
     "start_time": "2022-12-18T10:41:31.071539",
     "status": "completed"
    },
    "tags": []
   },
   "source": [
    "## f1 Inference Argmax"
   ]
  },
  {
   "cell_type": "code",
   "execution_count": 101,
   "id": "ab2656dd",
   "metadata": {
    "execution": {
     "iopub.execute_input": "2022-12-18T10:41:40.330445Z",
     "iopub.status.busy": "2022-12-18T10:41:40.330083Z",
     "iopub.status.idle": "2022-12-18T10:49:57.393294Z",
     "shell.execute_reply": "2022-12-18T10:49:57.392285Z"
    },
    "id": "E7YwOlrAjyAR",
    "outputId": "a4596f97-d3fe-4f44-cf34-2290dfc3ae98",
    "papermill": {
     "duration": 500.015754,
     "end_time": "2022-12-18T10:49:57.395960",
     "exception": false,
     "start_time": "2022-12-18T10:41:37.380206",
     "status": "completed"
    },
    "tags": []
   },
   "outputs": [
    {
     "name": "stderr",
     "output_type": "stream",
     "text": [
      "Some weights of the model checkpoint at monologg/kobigbird-bert-base were not used when initializing BigBirdModel: ['cls.predictions.transform.dense.bias', 'cls.predictions.decoder.weight', 'cls.predictions.transform.dense.weight', 'cls.predictions.transform.LayerNorm.weight', 'cls.seq_relationship.weight', 'cls.predictions.decoder.bias', 'cls.predictions.transform.LayerNorm.bias', 'cls.predictions.bias', 'cls.seq_relationship.bias']\n",
      "- This IS expected if you are initializing BigBirdModel from the checkpoint of a model trained on another task or with another architecture (e.g. initializing a BertForSequenceClassification model from a BertForPreTraining model).\n",
      "- This IS NOT expected if you are initializing BigBirdModel from the checkpoint of a model that you expect to be exactly identical (initializing a BertForSequenceClassification model from a BertForSequenceClassification model).\n"
     ]
    },
    {
     "name": "stdout",
     "output_type": "stream",
     "text": [
      "Getting predictions for model 1\n",
      "huggingface/tokenizers: The current process just got forked, after parallelism has already been used. Disabling parallelism to avoid deadlocks...\n",
      "To disable this warning, you can either:\n",
      "\t- Avoid using `tokenizers` before the fork if possible\n",
      "\t- Explicitly set the environment variable TOKENIZERS_PARALLELISM=(true | false)\n",
      "huggingface/tokenizers: The current process just got forked, after parallelism has already been used. Disabling parallelism to avoid deadlocks...\n",
      "To disable this warning, you can either:\n",
      "\t- Avoid using `tokenizers` before the fork if possible\n",
      "\t- Explicitly set the environment variable TOKENIZERS_PARALLELISM=(true | false)\n"
     ]
    },
    {
     "name": "stderr",
     "output_type": "stream",
     "text": [
      "100%|██████████| 222/222 [00:44<00:00,  5.01it/s]\n",
      "Some weights of the model checkpoint at monologg/kobigbird-bert-base were not used when initializing BigBirdModel: ['cls.predictions.transform.dense.bias', 'cls.predictions.decoder.weight', 'cls.predictions.transform.dense.weight', 'cls.predictions.transform.LayerNorm.weight', 'cls.seq_relationship.weight', 'cls.predictions.decoder.bias', 'cls.predictions.transform.LayerNorm.bias', 'cls.predictions.bias', 'cls.seq_relationship.bias']\n",
      "- This IS expected if you are initializing BigBirdModel from the checkpoint of a model trained on another task or with another architecture (e.g. initializing a BertForSequenceClassification model from a BertForPreTraining model).\n",
      "- This IS NOT expected if you are initializing BigBirdModel from the checkpoint of a model that you expect to be exactly identical (initializing a BertForSequenceClassification model from a BertForSequenceClassification model).\n"
     ]
    },
    {
     "name": "stdout",
     "output_type": "stream",
     "text": [
      "Getting predictions for model 2\n",
      "huggingface/tokenizers: The current process just got forked, after parallelism has already been used. Disabling parallelism to avoid deadlocks...\n",
      "To disable this warning, you can either:\n",
      "\t- Avoid using `tokenizers` before the fork if possible\n",
      "\t- Explicitly set the environment variable TOKENIZERS_PARALLELISM=(true | false)\n",
      "huggingface/tokenizers: The current process just got forked, after parallelism has already been used. Disabling parallelism to avoid deadlocks...\n",
      "To disable this warning, you can either:\n",
      "\t- Avoid using `tokenizers` before the fork if possible\n",
      "\t- Explicitly set the environment variable TOKENIZERS_PARALLELISM=(true | false)\n"
     ]
    },
    {
     "name": "stderr",
     "output_type": "stream",
     "text": [
      "100%|██████████| 222/222 [00:44<00:00,  4.97it/s]\n",
      "Some weights of the model checkpoint at monologg/kobigbird-bert-base were not used when initializing BigBirdModel: ['cls.predictions.transform.dense.bias', 'cls.predictions.decoder.weight', 'cls.predictions.transform.dense.weight', 'cls.predictions.transform.LayerNorm.weight', 'cls.seq_relationship.weight', 'cls.predictions.decoder.bias', 'cls.predictions.transform.LayerNorm.bias', 'cls.predictions.bias', 'cls.seq_relationship.bias']\n",
      "- This IS expected if you are initializing BigBirdModel from the checkpoint of a model trained on another task or with another architecture (e.g. initializing a BertForSequenceClassification model from a BertForPreTraining model).\n",
      "- This IS NOT expected if you are initializing BigBirdModel from the checkpoint of a model that you expect to be exactly identical (initializing a BertForSequenceClassification model from a BertForSequenceClassification model).\n"
     ]
    },
    {
     "name": "stdout",
     "output_type": "stream",
     "text": [
      "Getting predictions for model 3\n",
      "huggingface/tokenizers: The current process just got forked, after parallelism has already been used. Disabling parallelism to avoid deadlocks...\n",
      "To disable this warning, you can either:\n",
      "\t- Avoid using `tokenizers` before the fork if possible\n",
      "\t- Explicitly set the environment variable TOKENIZERS_PARALLELISM=(true | false)\n",
      "huggingface/tokenizers: The current process just got forked, after parallelism has already been used. Disabling parallelism to avoid deadlocks...\n",
      "To disable this warning, you can either:\n",
      "\t- Avoid using `tokenizers` before the fork if possible\n",
      "\t- Explicitly set the environment variable TOKENIZERS_PARALLELISM=(true | false)\n"
     ]
    },
    {
     "name": "stderr",
     "output_type": "stream",
     "text": [
      "100%|██████████| 222/222 [00:45<00:00,  4.93it/s]\n",
      "Some weights of the model checkpoint at monologg/kobigbird-bert-base were not used when initializing BigBirdModel: ['cls.predictions.transform.dense.bias', 'cls.predictions.decoder.weight', 'cls.predictions.transform.dense.weight', 'cls.predictions.transform.LayerNorm.weight', 'cls.seq_relationship.weight', 'cls.predictions.decoder.bias', 'cls.predictions.transform.LayerNorm.bias', 'cls.predictions.bias', 'cls.seq_relationship.bias']\n",
      "- This IS expected if you are initializing BigBirdModel from the checkpoint of a model trained on another task or with another architecture (e.g. initializing a BertForSequenceClassification model from a BertForPreTraining model).\n",
      "- This IS NOT expected if you are initializing BigBirdModel from the checkpoint of a model that you expect to be exactly identical (initializing a BertForSequenceClassification model from a BertForSequenceClassification model).\n"
     ]
    },
    {
     "name": "stdout",
     "output_type": "stream",
     "text": [
      "Getting predictions for model 4\n",
      "huggingface/tokenizers: The current process just got forked, after parallelism has already been used. Disabling parallelism to avoid deadlocks...\n",
      "To disable this warning, you can either:\n",
      "\t- Avoid using `tokenizers` before the fork if possible\n",
      "\t- Explicitly set the environment variable TOKENIZERS_PARALLELISM=(true | false)\n",
      "huggingface/tokenizers: The current process just got forked, after parallelism has already been used. Disabling parallelism to avoid deadlocks...\n",
      "To disable this warning, you can either:\n",
      "\t- Avoid using `tokenizers` before the fork if possible\n",
      "\t- Explicitly set the environment variable TOKENIZERS_PARALLELISM=(true | false)\n"
     ]
    },
    {
     "name": "stderr",
     "output_type": "stream",
     "text": [
      "100%|██████████| 222/222 [00:44<00:00,  4.99it/s]\n",
      "Some weights of the model checkpoint at monologg/kobigbird-bert-base were not used when initializing BigBirdModel: ['cls.predictions.transform.dense.bias', 'cls.predictions.decoder.weight', 'cls.predictions.transform.dense.weight', 'cls.predictions.transform.LayerNorm.weight', 'cls.seq_relationship.weight', 'cls.predictions.decoder.bias', 'cls.predictions.transform.LayerNorm.bias', 'cls.predictions.bias', 'cls.seq_relationship.bias']\n",
      "- This IS expected if you are initializing BigBirdModel from the checkpoint of a model trained on another task or with another architecture (e.g. initializing a BertForSequenceClassification model from a BertForPreTraining model).\n",
      "- This IS NOT expected if you are initializing BigBirdModel from the checkpoint of a model that you expect to be exactly identical (initializing a BertForSequenceClassification model from a BertForSequenceClassification model).\n"
     ]
    },
    {
     "name": "stdout",
     "output_type": "stream",
     "text": [
      "Getting predictions for model 5\n",
      "huggingface/tokenizers: The current process just got forked, after parallelism has already been used. Disabling parallelism to avoid deadlocks...\n",
      "To disable this warning, you can either:\n",
      "\t- Avoid using `tokenizers` before the fork if possible\n",
      "\t- Explicitly set the environment variable TOKENIZERS_PARALLELISM=(true | false)\n",
      "huggingface/tokenizers: The current process just got forked, after parallelism has already been used. Disabling parallelism to avoid deadlocks...\n",
      "To disable this warning, you can either:\n",
      "\t- Avoid using `tokenizers` before the fork if possible\n",
      "\t- Explicitly set the environment variable TOKENIZERS_PARALLELISM=(true | false)\n"
     ]
    },
    {
     "name": "stderr",
     "output_type": "stream",
     "text": [
      "100%|██████████| 222/222 [00:45<00:00,  5.20it/s]"
     ]
    },
    {
     "name": "stdout",
     "output_type": "stream",
     "text": [
      "huggingface/tokenizers: The current process just got forked, after parallelism has already been used. Disabling parallelism to avoid deadlocks...\n",
      "To disable this warning, you can either:\n",
      "\t- Avoid using `tokenizers` before the fork if possible\n",
      "\t- Explicitly set the environment variable TOKENIZERS_PARALLELISM=(true | false)\n"
     ]
    },
    {
     "name": "stderr",
     "output_type": "stream",
     "text": [
      "100%|██████████| 222/222 [00:45<00:00,  4.90it/s]\n",
      "Some weights of the model checkpoint at monologg/kobigbird-bert-base were not used when initializing BigBirdModel: ['cls.predictions.transform.dense.bias', 'cls.predictions.decoder.weight', 'cls.predictions.transform.dense.weight', 'cls.predictions.transform.LayerNorm.weight', 'cls.seq_relationship.weight', 'cls.predictions.decoder.bias', 'cls.predictions.transform.LayerNorm.bias', 'cls.predictions.bias', 'cls.seq_relationship.bias']\n",
      "- This IS expected if you are initializing BigBirdModel from the checkpoint of a model trained on another task or with another architecture (e.g. initializing a BertForSequenceClassification model from a BertForPreTraining model).\n",
      "- This IS NOT expected if you are initializing BigBirdModel from the checkpoint of a model that you expect to be exactly identical (initializing a BertForSequenceClassification model from a BertForSequenceClassification model).\n"
     ]
    },
    {
     "name": "stdout",
     "output_type": "stream",
     "text": [
      "Getting predictions for model 6\n",
      "huggingface/tokenizers: The current process just got forked, after parallelism has already been used. Disabling parallelism to avoid deadlocks...\n",
      "To disable this warning, you can either:\n",
      "\t- Avoid using `tokenizers` before the fork if possible\n",
      "\t- Explicitly set the environment variable TOKENIZERS_PARALLELISM=(true | false)\n",
      "huggingface/tokenizers: The current process just got forked, after parallelism has already been used. Disabling parallelism to avoid deadlocks...\n",
      "To disable this warning, you can either:\n",
      "\t- Avoid using `tokenizers` before the fork if possible\n",
      "\t- Explicitly set the environment variable TOKENIZERS_PARALLELISM=(true | false)\n"
     ]
    },
    {
     "name": "stderr",
     "output_type": "stream",
     "text": [
      "100%|██████████| 222/222 [00:45<00:00,  4.91it/s]\n",
      "Some weights of the model checkpoint at monologg/kobigbird-bert-base were not used when initializing BigBirdModel: ['cls.predictions.transform.dense.bias', 'cls.predictions.decoder.weight', 'cls.predictions.transform.dense.weight', 'cls.predictions.transform.LayerNorm.weight', 'cls.seq_relationship.weight', 'cls.predictions.decoder.bias', 'cls.predictions.transform.LayerNorm.bias', 'cls.predictions.bias', 'cls.seq_relationship.bias']\n",
      "- This IS expected if you are initializing BigBirdModel from the checkpoint of a model trained on another task or with another architecture (e.g. initializing a BertForSequenceClassification model from a BertForPreTraining model).\n",
      "- This IS NOT expected if you are initializing BigBirdModel from the checkpoint of a model that you expect to be exactly identical (initializing a BertForSequenceClassification model from a BertForSequenceClassification model).\n"
     ]
    },
    {
     "name": "stdout",
     "output_type": "stream",
     "text": [
      "Getting predictions for model 7\n",
      "huggingface/tokenizers: The current process just got forked, after parallelism has already been used. Disabling parallelism to avoid deadlocks...\n",
      "To disable this warning, you can either:\n",
      "\t- Avoid using `tokenizers` before the fork if possible\n",
      "\t- Explicitly set the environment variable TOKENIZERS_PARALLELISM=(true | false)\n",
      "huggingface/tokenizers: The current process just got forked, after parallelism has already been used. Disabling parallelism to avoid deadlocks...\n",
      "To disable this warning, you can either:\n",
      "\t- Avoid using `tokenizers` before the fork if possible\n",
      "\t- Explicitly set the environment variable TOKENIZERS_PARALLELISM=(true | false)\n"
     ]
    },
    {
     "name": "stderr",
     "output_type": "stream",
     "text": [
      "100%|██████████| 222/222 [00:44<00:00,  4.95it/s]\n",
      "Some weights of the model checkpoint at monologg/kobigbird-bert-base were not used when initializing BigBirdModel: ['cls.predictions.transform.dense.bias', 'cls.predictions.decoder.weight', 'cls.predictions.transform.dense.weight', 'cls.predictions.transform.LayerNorm.weight', 'cls.seq_relationship.weight', 'cls.predictions.decoder.bias', 'cls.predictions.transform.LayerNorm.bias', 'cls.predictions.bias', 'cls.seq_relationship.bias']\n",
      "- This IS expected if you are initializing BigBirdModel from the checkpoint of a model trained on another task or with another architecture (e.g. initializing a BertForSequenceClassification model from a BertForPreTraining model).\n",
      "- This IS NOT expected if you are initializing BigBirdModel from the checkpoint of a model that you expect to be exactly identical (initializing a BertForSequenceClassification model from a BertForSequenceClassification model).\n"
     ]
    },
    {
     "name": "stdout",
     "output_type": "stream",
     "text": [
      "Getting predictions for model 8\n",
      "huggingface/tokenizers: The current process just got forked, after parallelism has already been used. Disabling parallelism to avoid deadlocks...\n",
      "To disable this warning, you can either:\n",
      "\t- Avoid using `tokenizers` before the fork if possible\n",
      "\t- Explicitly set the environment variable TOKENIZERS_PARALLELISM=(true | false)\n",
      "huggingface/tokenizers: The current process just got forked, after parallelism has already been used. Disabling parallelism to avoid deadlocks...\n",
      "To disable this warning, you can either:\n",
      "\t- Avoid using `tokenizers` before the fork if possible\n",
      "\t- Explicitly set the environment variable TOKENIZERS_PARALLELISM=(true | false)\n"
     ]
    },
    {
     "name": "stderr",
     "output_type": "stream",
     "text": [
      "100%|██████████| 222/222 [00:44<00:00,  5.26it/s]"
     ]
    },
    {
     "name": "stdout",
     "output_type": "stream",
     "text": [
      "To disable this warning, you can either:\n",
      "\t- Avoid using `tokenizers` before the fork if possible\n",
      "\t- Explicitly set the environment variable TOKENIZERS_PARALLELISM=(true | false)\n"
     ]
    },
    {
     "name": "stderr",
     "output_type": "stream",
     "text": [
      "100%|██████████| 222/222 [00:44<00:00,  4.97it/s]\n",
      "Some weights of the model checkpoint at monologg/kobigbird-bert-base were not used when initializing BigBirdModel: ['cls.predictions.transform.dense.bias', 'cls.predictions.decoder.weight', 'cls.predictions.transform.dense.weight', 'cls.predictions.transform.LayerNorm.weight', 'cls.seq_relationship.weight', 'cls.predictions.decoder.bias', 'cls.predictions.transform.LayerNorm.bias', 'cls.predictions.bias', 'cls.seq_relationship.bias']\n",
      "- This IS expected if you are initializing BigBirdModel from the checkpoint of a model trained on another task or with another architecture (e.g. initializing a BertForSequenceClassification model from a BertForPreTraining model).\n",
      "- This IS NOT expected if you are initializing BigBirdModel from the checkpoint of a model that you expect to be exactly identical (initializing a BertForSequenceClassification model from a BertForSequenceClassification model).\n"
     ]
    },
    {
     "name": "stdout",
     "output_type": "stream",
     "text": [
      "Getting predictions for model 9\n",
      "huggingface/tokenizers: The current process just got forked, after parallelism has already been used. Disabling parallelism to avoid deadlocks...\n",
      "To disable this warning, you can either:\n",
      "\t- Avoid using `tokenizers` before the fork if possible\n",
      "\t- Explicitly set the environment variable TOKENIZERS_PARALLELISM=(true | false)\n",
      "huggingface/tokenizers: The current process just got forked, after parallelism has already been used. Disabling parallelism to avoid deadlocks...\n",
      "To disable this warning, you can either:\n",
      "\t- Avoid using `tokenizers` before the fork if possible\n",
      "\t- Explicitly set the environment variable TOKENIZERS_PARALLELISM=(true | false)\n"
     ]
    },
    {
     "name": "stderr",
     "output_type": "stream",
     "text": [
      "100%|██████████| 222/222 [00:44<00:00,  4.98it/s]\n",
      "Some weights of the model checkpoint at monologg/kobigbird-bert-base were not used when initializing BigBirdModel: ['cls.predictions.transform.dense.bias', 'cls.predictions.decoder.weight', 'cls.predictions.transform.dense.weight', 'cls.predictions.transform.LayerNorm.weight', 'cls.seq_relationship.weight', 'cls.predictions.decoder.bias', 'cls.predictions.transform.LayerNorm.bias', 'cls.predictions.bias', 'cls.seq_relationship.bias']\n",
      "- This IS expected if you are initializing BigBirdModel from the checkpoint of a model trained on another task or with another architecture (e.g. initializing a BertForSequenceClassification model from a BertForPreTraining model).\n",
      "- This IS NOT expected if you are initializing BigBirdModel from the checkpoint of a model that you expect to be exactly identical (initializing a BertForSequenceClassification model from a BertForSequenceClassification model).\n"
     ]
    },
    {
     "name": "stdout",
     "output_type": "stream",
     "text": [
      "Getting predictions for model 10\n",
      "huggingface/tokenizers: The current process just got forked, after parallelism has already been used. Disabling parallelism to avoid deadlocks...\n",
      "To disable this warning, you can either:\n",
      "\t- Avoid using `tokenizers` before the fork if possible\n",
      "\t- Explicitly set the environment variable TOKENIZERS_PARALLELISM=(true | false)\n",
      "huggingface/tokenizers: The current process just got forked, after parallelism has already been used. Disabling parallelism to avoid deadlocks...\n",
      "To disable this warning, you can either:\n",
      "\t- Avoid using `tokenizers` before the fork if possible\n",
      "\t- Explicitly set the environment variable TOKENIZERS_PARALLELISM=(true | false)\n"
     ]
    },
    {
     "name": "stderr",
     "output_type": "stream",
     "text": [
      "100%|██████████| 222/222 [00:45<00:00,  4.89it/s]\n"
     ]
    }
   ],
   "source": [
    "f1_preds = inference(model_paths_f1, test_loader, config['device'])"
   ]
  },
  {
   "cell_type": "code",
   "execution_count": 102,
   "id": "14c8cf9a",
   "metadata": {
    "execution": {
     "iopub.execute_input": "2022-12-18T10:50:04.166279Z",
     "iopub.status.busy": "2022-12-18T10:50:04.165898Z",
     "iopub.status.idle": "2022-12-18T10:50:04.224756Z",
     "shell.execute_reply": "2022-12-18T10:50:04.223612Z"
    },
    "id": "Zc8VrhLRjvWP",
    "outputId": "3e54d909-7441-4ab5-dcb3-12a8428bbeb3",
    "papermill": {
     "duration": 3.016767,
     "end_time": "2022-12-18T10:50:04.227122",
     "exception": false,
     "start_time": "2022-12-18T10:50:01.210355",
     "status": "completed"
    },
    "tags": []
   },
   "outputs": [
    {
     "name": "stdout",
     "output_type": "stream",
     "text": [
      "(7090, 2)\n"
     ]
    },
    {
     "data": {
      "text/html": [
       "<div>\n",
       "<style scoped>\n",
       "    .dataframe tbody tr th:only-of-type {\n",
       "        vertical-align: middle;\n",
       "    }\n",
       "\n",
       "    .dataframe tbody tr th {\n",
       "        vertical-align: top;\n",
       "    }\n",
       "\n",
       "    .dataframe thead th {\n",
       "        text-align: right;\n",
       "    }\n",
       "</style>\n",
       "<table border=\"1\" class=\"dataframe\">\n",
       "  <thead>\n",
       "    <tr style=\"text-align: right;\">\n",
       "      <th></th>\n",
       "      <th>ID</th>\n",
       "      <th>label</th>\n",
       "    </tr>\n",
       "  </thead>\n",
       "  <tbody>\n",
       "    <tr>\n",
       "      <th>0</th>\n",
       "      <td>TEST_0000</td>\n",
       "      <td>추론형-긍정-현재-확실</td>\n",
       "    </tr>\n",
       "    <tr>\n",
       "      <th>1</th>\n",
       "      <td>TEST_0001</td>\n",
       "      <td>추론형-긍정-현재-확실</td>\n",
       "    </tr>\n",
       "    <tr>\n",
       "      <th>2</th>\n",
       "      <td>TEST_0002</td>\n",
       "      <td>추론형-긍정-현재-확실</td>\n",
       "    </tr>\n",
       "    <tr>\n",
       "      <th>3</th>\n",
       "      <td>TEST_0003</td>\n",
       "      <td>추론형-긍정-현재-확실</td>\n",
       "    </tr>\n",
       "    <tr>\n",
       "      <th>4</th>\n",
       "      <td>TEST_0004</td>\n",
       "      <td>추론형-긍정-현재-확실</td>\n",
       "    </tr>\n",
       "  </tbody>\n",
       "</table>\n",
       "</div>"
      ],
      "text/plain": [
       "          ID         label\n",
       "0  TEST_0000  추론형-긍정-현재-확실\n",
       "1  TEST_0001  추론형-긍정-현재-확실\n",
       "2  TEST_0002  추론형-긍정-현재-확실\n",
       "3  TEST_0003  추론형-긍정-현재-확실\n",
       "4  TEST_0004  추론형-긍정-현재-확실"
      ]
     },
     "execution_count": 102,
     "metadata": {},
     "output_type": "execute_result"
    }
   ],
   "source": [
    "ss = pd.read_csv(data_path + \"sample_submission.csv\")\n",
    "print(ss.shape)\n",
    "ss.head()"
   ]
  },
  {
   "cell_type": "markdown",
   "id": "5453e592",
   "metadata": {
    "id": "zGcfn0Q82-sm",
    "papermill": {
     "duration": 3.026779,
     "end_time": "2022-12-18T10:50:10.427770",
     "exception": false,
     "start_time": "2022-12-18T10:50:07.400991",
     "status": "completed"
    },
    "tags": []
   },
   "source": [
    "### target inverse encoders"
   ]
  },
  {
   "cell_type": "code",
   "execution_count": 103,
   "id": "0b5d9610",
   "metadata": {
    "execution": {
     "iopub.execute_input": "2022-12-18T10:50:16.512319Z",
     "iopub.status.busy": "2022-12-18T10:50:16.511956Z",
     "iopub.status.idle": "2022-12-18T10:50:16.516564Z",
     "shell.execute_reply": "2022-12-18T10:50:16.515615Z"
    },
    "id": "Of0_IgSM3oxI",
    "papermill": {
     "duration": 2.942325,
     "end_time": "2022-12-18T10:50:16.518534",
     "exception": false,
     "start_time": "2022-12-18T10:50:13.576209",
     "status": "completed"
    },
    "tags": []
   },
   "outputs": [],
   "source": [
    "target4_inverse = {True: '확실', False: '불확실'}"
   ]
  },
  {
   "cell_type": "code",
   "execution_count": 104,
   "id": "880ba90f",
   "metadata": {
    "execution": {
     "iopub.execute_input": "2022-12-18T10:50:22.829093Z",
     "iopub.status.busy": "2022-12-18T10:50:22.828728Z",
     "iopub.status.idle": "2022-12-18T10:50:22.833542Z",
     "shell.execute_reply": "2022-12-18T10:50:22.832542Z"
    },
    "id": "ViXwunB22-LF",
    "papermill": {
     "duration": 3.357426,
     "end_time": "2022-12-18T10:50:22.835652",
     "exception": false,
     "start_time": "2022-12-18T10:50:19.478226",
     "status": "completed"
    },
    "tags": []
   },
   "outputs": [],
   "source": [
    "inverse_encode = {'type': target1_inverse, \n",
    "                  'pn': target2_inverse, \n",
    "                  'time': target3_inverse, \n",
    "                  'sure': target4_inverse, }"
   ]
  },
  {
   "cell_type": "code",
   "execution_count": 105,
   "id": "f5e4d5db",
   "metadata": {
    "execution": {
     "iopub.execute_input": "2022-12-18T10:50:28.761739Z",
     "iopub.status.busy": "2022-12-18T10:50:28.761303Z",
     "iopub.status.idle": "2022-12-18T10:50:28.768862Z",
     "shell.execute_reply": "2022-12-18T10:50:28.767842Z"
    },
    "id": "H6ihUuNi33xT",
    "papermill": {
     "duration": 2.967762,
     "end_time": "2022-12-18T10:50:28.770915",
     "exception": false,
     "start_time": "2022-12-18T10:50:25.803153",
     "status": "completed"
    },
    "tags": []
   },
   "outputs": [],
   "source": [
    "def column_wise_predict(f1_preds= f1_preds, ss = ss, column = 'type', inverse_encode = inverse_encode, threshold = .5):\n",
    "    # ss = submission file\n",
    "    print(\"column_name = 'time: \", column)\n",
    " \n",
    "    if column == 'sure':\n",
    "        class_index = f1_preds[column] > threshold\n",
    "    else:\n",
    "        class_index = np.argmax(f1_preds[column], axis = 1)\n",
    "        print(\"Shape of preds: \", class_index.shape)\n",
    "\n",
    "    print()\n",
    "    print(ss.shape)\n",
    "    ss[column] = class_index\n",
    "    print(ss[column].value_counts())\n",
    "    print()\n",
    "    ss[column] = ss[column].apply(lambda x: inverse_encode[column][x])\n",
    "    print(ss.shape)\n",
    "    print(ss[column].value_counts())\n",
    "    print()"
   ]
  },
  {
   "cell_type": "markdown",
   "id": "9b5dc571",
   "metadata": {
    "id": "c97OmeZh1BMp",
    "papermill": {
     "duration": 3.168333,
     "end_time": "2022-12-18T10:50:35.480944",
     "exception": false,
     "start_time": "2022-12-18T10:50:32.312611",
     "status": "completed"
    },
    "tags": []
   },
   "source": [
    "### 유형: Type"
   ]
  },
  {
   "cell_type": "code",
   "execution_count": 106,
   "id": "a038cd34",
   "metadata": {
    "execution": {
     "iopub.execute_input": "2022-12-18T10:50:41.454626Z",
     "iopub.status.busy": "2022-12-18T10:50:41.453516Z",
     "iopub.status.idle": "2022-12-18T10:50:41.466151Z",
     "shell.execute_reply": "2022-12-18T10:50:41.465089Z"
    },
    "id": "IrM8zmXW5SGI",
    "outputId": "71424f8f-b20d-4564-bffd-2ab43112aa8c",
    "papermill": {
     "duration": 3.013036,
     "end_time": "2022-12-18T10:50:41.468135",
     "exception": false,
     "start_time": "2022-12-18T10:50:38.455099",
     "status": "completed"
    },
    "tags": []
   },
   "outputs": [
    {
     "name": "stdout",
     "output_type": "stream",
     "text": [
      "column_name = 'time:  type\n",
      "Shape of preds:  (7090,)\n",
      "\n",
      "(7090, 2)\n",
      "0    5959\n",
      "1     767\n",
      "3     271\n",
      "2      93\n",
      "Name: type, dtype: int64\n",
      "\n",
      "(7090, 3)\n",
      "사실형    5959\n",
      "추론형     767\n",
      "대화형     271\n",
      "예측형      93\n",
      "Name: type, dtype: int64\n",
      "\n"
     ]
    }
   ],
   "source": [
    "column_wise_predict(f1_preds= f1_preds, ss = ss, column = 'type', )"
   ]
  },
  {
   "cell_type": "code",
   "execution_count": 107,
   "id": "3f51998b",
   "metadata": {
    "execution": {
     "iopub.execute_input": "2022-12-18T10:50:47.763140Z",
     "iopub.status.busy": "2022-12-18T10:50:47.762779Z",
     "iopub.status.idle": "2022-12-18T10:50:47.773749Z",
     "shell.execute_reply": "2022-12-18T10:50:47.772801Z"
    },
    "id": "zGPzur-Y79FW",
    "outputId": "562c38ee-9cb9-45e9-ba3b-f9002f15e9a7",
    "papermill": {
     "duration": 3.084785,
     "end_time": "2022-12-18T10:50:47.775772",
     "exception": false,
     "start_time": "2022-12-18T10:50:44.690987",
     "status": "completed"
    },
    "tags": []
   },
   "outputs": [
    {
     "data": {
      "text/html": [
       "<div>\n",
       "<style scoped>\n",
       "    .dataframe tbody tr th:only-of-type {\n",
       "        vertical-align: middle;\n",
       "    }\n",
       "\n",
       "    .dataframe tbody tr th {\n",
       "        vertical-align: top;\n",
       "    }\n",
       "\n",
       "    .dataframe thead th {\n",
       "        text-align: right;\n",
       "    }\n",
       "</style>\n",
       "<table border=\"1\" class=\"dataframe\">\n",
       "  <thead>\n",
       "    <tr style=\"text-align: right;\">\n",
       "      <th></th>\n",
       "      <th>ID</th>\n",
       "      <th>label</th>\n",
       "      <th>type</th>\n",
       "    </tr>\n",
       "  </thead>\n",
       "  <tbody>\n",
       "    <tr>\n",
       "      <th>0</th>\n",
       "      <td>TEST_0000</td>\n",
       "      <td>추론형-긍정-현재-확실</td>\n",
       "      <td>사실형</td>\n",
       "    </tr>\n",
       "    <tr>\n",
       "      <th>1</th>\n",
       "      <td>TEST_0001</td>\n",
       "      <td>추론형-긍정-현재-확실</td>\n",
       "      <td>사실형</td>\n",
       "    </tr>\n",
       "    <tr>\n",
       "      <th>2</th>\n",
       "      <td>TEST_0002</td>\n",
       "      <td>추론형-긍정-현재-확실</td>\n",
       "      <td>사실형</td>\n",
       "    </tr>\n",
       "    <tr>\n",
       "      <th>3</th>\n",
       "      <td>TEST_0003</td>\n",
       "      <td>추론형-긍정-현재-확실</td>\n",
       "      <td>사실형</td>\n",
       "    </tr>\n",
       "    <tr>\n",
       "      <th>4</th>\n",
       "      <td>TEST_0004</td>\n",
       "      <td>추론형-긍정-현재-확실</td>\n",
       "      <td>사실형</td>\n",
       "    </tr>\n",
       "  </tbody>\n",
       "</table>\n",
       "</div>"
      ],
      "text/plain": [
       "          ID         label type\n",
       "0  TEST_0000  추론형-긍정-현재-확실  사실형\n",
       "1  TEST_0001  추론형-긍정-현재-확실  사실형\n",
       "2  TEST_0002  추론형-긍정-현재-확실  사실형\n",
       "3  TEST_0003  추론형-긍정-현재-확실  사실형\n",
       "4  TEST_0004  추론형-긍정-현재-확실  사실형"
      ]
     },
     "execution_count": 107,
     "metadata": {},
     "output_type": "execute_result"
    }
   ],
   "source": [
    "ss.head()"
   ]
  },
  {
   "cell_type": "markdown",
   "id": "99aee8a8",
   "metadata": {
    "id": "2ZSuykgX1303",
    "papermill": {
     "duration": 3.000632,
     "end_time": "2022-12-18T10:50:53.791958",
     "exception": false,
     "start_time": "2022-12-18T10:50:50.791326",
     "status": "completed"
    },
    "tags": []
   },
   "source": [
    "### 극성: pn"
   ]
  },
  {
   "cell_type": "code",
   "execution_count": 108,
   "id": "af94fae1",
   "metadata": {
    "execution": {
     "iopub.execute_input": "2022-12-18T10:50:59.969264Z",
     "iopub.status.busy": "2022-12-18T10:50:59.968915Z",
     "iopub.status.idle": "2022-12-18T10:50:59.980057Z",
     "shell.execute_reply": "2022-12-18T10:50:59.978697Z"
    },
    "id": "0JwUjDYq5T_0",
    "outputId": "f3baf4b7-4aa4-4c8d-d977-aa378a63cf79",
    "papermill": {
     "duration": 2.988059,
     "end_time": "2022-12-18T10:50:59.982103",
     "exception": false,
     "start_time": "2022-12-18T10:50:56.994044",
     "status": "completed"
    },
    "tags": []
   },
   "outputs": [
    {
     "name": "stdout",
     "output_type": "stream",
     "text": [
      "column_name = 'time:  pn\n",
      "Shape of preds:  (7090,)\n",
      "\n",
      "(7090, 3)\n",
      "0    6762\n",
      "1     282\n",
      "2      46\n",
      "Name: pn, dtype: int64\n",
      "\n",
      "(7090, 4)\n",
      "긍정    6762\n",
      "부정     282\n",
      "미정      46\n",
      "Name: pn, dtype: int64\n",
      "\n"
     ]
    }
   ],
   "source": [
    "column_wise_predict(f1_preds= f1_preds, ss = ss, column = 'pn',)"
   ]
  },
  {
   "cell_type": "code",
   "execution_count": 109,
   "id": "ac78e7fe",
   "metadata": {
    "execution": {
     "iopub.execute_input": "2022-12-18T10:51:06.792019Z",
     "iopub.status.busy": "2022-12-18T10:51:06.791583Z",
     "iopub.status.idle": "2022-12-18T10:51:06.805592Z",
     "shell.execute_reply": "2022-12-18T10:51:06.804299Z"
    },
    "id": "q_fzUhi97_IM",
    "outputId": "0bf3654a-3dd0-46e9-af1d-0af6d14cb73b",
    "papermill": {
     "duration": 3.3172,
     "end_time": "2022-12-18T10:51:06.807654",
     "exception": false,
     "start_time": "2022-12-18T10:51:03.490454",
     "status": "completed"
    },
    "tags": []
   },
   "outputs": [
    {
     "data": {
      "text/html": [
       "<div>\n",
       "<style scoped>\n",
       "    .dataframe tbody tr th:only-of-type {\n",
       "        vertical-align: middle;\n",
       "    }\n",
       "\n",
       "    .dataframe tbody tr th {\n",
       "        vertical-align: top;\n",
       "    }\n",
       "\n",
       "    .dataframe thead th {\n",
       "        text-align: right;\n",
       "    }\n",
       "</style>\n",
       "<table border=\"1\" class=\"dataframe\">\n",
       "  <thead>\n",
       "    <tr style=\"text-align: right;\">\n",
       "      <th></th>\n",
       "      <th>ID</th>\n",
       "      <th>label</th>\n",
       "      <th>type</th>\n",
       "      <th>pn</th>\n",
       "    </tr>\n",
       "  </thead>\n",
       "  <tbody>\n",
       "    <tr>\n",
       "      <th>0</th>\n",
       "      <td>TEST_0000</td>\n",
       "      <td>추론형-긍정-현재-확실</td>\n",
       "      <td>사실형</td>\n",
       "      <td>긍정</td>\n",
       "    </tr>\n",
       "    <tr>\n",
       "      <th>1</th>\n",
       "      <td>TEST_0001</td>\n",
       "      <td>추론형-긍정-현재-확실</td>\n",
       "      <td>사실형</td>\n",
       "      <td>긍정</td>\n",
       "    </tr>\n",
       "    <tr>\n",
       "      <th>2</th>\n",
       "      <td>TEST_0002</td>\n",
       "      <td>추론형-긍정-현재-확실</td>\n",
       "      <td>사실형</td>\n",
       "      <td>긍정</td>\n",
       "    </tr>\n",
       "    <tr>\n",
       "      <th>3</th>\n",
       "      <td>TEST_0003</td>\n",
       "      <td>추론형-긍정-현재-확실</td>\n",
       "      <td>사실형</td>\n",
       "      <td>긍정</td>\n",
       "    </tr>\n",
       "    <tr>\n",
       "      <th>4</th>\n",
       "      <td>TEST_0004</td>\n",
       "      <td>추론형-긍정-현재-확실</td>\n",
       "      <td>사실형</td>\n",
       "      <td>긍정</td>\n",
       "    </tr>\n",
       "  </tbody>\n",
       "</table>\n",
       "</div>"
      ],
      "text/plain": [
       "          ID         label type  pn\n",
       "0  TEST_0000  추론형-긍정-현재-확실  사실형  긍정\n",
       "1  TEST_0001  추론형-긍정-현재-확실  사실형  긍정\n",
       "2  TEST_0002  추론형-긍정-현재-확실  사실형  긍정\n",
       "3  TEST_0003  추론형-긍정-현재-확실  사실형  긍정\n",
       "4  TEST_0004  추론형-긍정-현재-확실  사실형  긍정"
      ]
     },
     "execution_count": 109,
     "metadata": {},
     "output_type": "execute_result"
    }
   ],
   "source": [
    "ss.head()"
   ]
  },
  {
   "cell_type": "markdown",
   "id": "adc025a2",
   "metadata": {
    "id": "1HaUC6yS2O0w",
    "papermill": {
     "duration": 2.953805,
     "end_time": "2022-12-18T10:51:12.690839",
     "exception": false,
     "start_time": "2022-12-18T10:51:09.737034",
     "status": "completed"
    },
    "tags": []
   },
   "source": [
    "### 시제: time"
   ]
  },
  {
   "cell_type": "code",
   "execution_count": 110,
   "id": "df00a391",
   "metadata": {
    "execution": {
     "iopub.execute_input": "2022-12-18T10:51:18.822236Z",
     "iopub.status.busy": "2022-12-18T10:51:18.821877Z",
     "iopub.status.idle": "2022-12-18T10:51:18.832747Z",
     "shell.execute_reply": "2022-12-18T10:51:18.831484Z"
    },
    "id": "aeUklQK_5WWG",
    "outputId": "eb982c03-801e-466c-c3b4-183b94cfc2ae",
    "papermill": {
     "duration": 3.172402,
     "end_time": "2022-12-18T10:51:18.834841",
     "exception": false,
     "start_time": "2022-12-18T10:51:15.662439",
     "status": "completed"
    },
    "tags": []
   },
   "outputs": [
    {
     "name": "stdout",
     "output_type": "stream",
     "text": [
      "column_name = 'time:  time\n",
      "Shape of preds:  (7090,)\n",
      "\n",
      "(7090, 4)\n",
      "1    3451\n",
      "0    2974\n",
      "2     665\n",
      "Name: time, dtype: int64\n",
      "\n",
      "(7090, 5)\n",
      "과거    3451\n",
      "현재    2974\n",
      "미래     665\n",
      "Name: time, dtype: int64\n",
      "\n"
     ]
    }
   ],
   "source": [
    "column_wise_predict(f1_preds= f1_preds, ss = ss, column = 'time')"
   ]
  },
  {
   "cell_type": "code",
   "execution_count": 111,
   "id": "ea20647a",
   "metadata": {
    "execution": {
     "iopub.execute_input": "2022-12-18T10:51:24.863717Z",
     "iopub.status.busy": "2022-12-18T10:51:24.863342Z",
     "iopub.status.idle": "2022-12-18T10:51:24.874517Z",
     "shell.execute_reply": "2022-12-18T10:51:24.873618Z"
    },
    "id": "HASwg7nF7_5S",
    "outputId": "2d8626c5-5d0f-4ab6-fb38-2500399c046a",
    "papermill": {
     "duration": 2.935351,
     "end_time": "2022-12-18T10:51:24.876826",
     "exception": false,
     "start_time": "2022-12-18T10:51:21.941475",
     "status": "completed"
    },
    "tags": []
   },
   "outputs": [
    {
     "data": {
      "text/html": [
       "<div>\n",
       "<style scoped>\n",
       "    .dataframe tbody tr th:only-of-type {\n",
       "        vertical-align: middle;\n",
       "    }\n",
       "\n",
       "    .dataframe tbody tr th {\n",
       "        vertical-align: top;\n",
       "    }\n",
       "\n",
       "    .dataframe thead th {\n",
       "        text-align: right;\n",
       "    }\n",
       "</style>\n",
       "<table border=\"1\" class=\"dataframe\">\n",
       "  <thead>\n",
       "    <tr style=\"text-align: right;\">\n",
       "      <th></th>\n",
       "      <th>ID</th>\n",
       "      <th>label</th>\n",
       "      <th>type</th>\n",
       "      <th>pn</th>\n",
       "      <th>time</th>\n",
       "    </tr>\n",
       "  </thead>\n",
       "  <tbody>\n",
       "    <tr>\n",
       "      <th>0</th>\n",
       "      <td>TEST_0000</td>\n",
       "      <td>추론형-긍정-현재-확실</td>\n",
       "      <td>사실형</td>\n",
       "      <td>긍정</td>\n",
       "      <td>현재</td>\n",
       "    </tr>\n",
       "    <tr>\n",
       "      <th>1</th>\n",
       "      <td>TEST_0001</td>\n",
       "      <td>추론형-긍정-현재-확실</td>\n",
       "      <td>사실형</td>\n",
       "      <td>긍정</td>\n",
       "      <td>현재</td>\n",
       "    </tr>\n",
       "    <tr>\n",
       "      <th>2</th>\n",
       "      <td>TEST_0002</td>\n",
       "      <td>추론형-긍정-현재-확실</td>\n",
       "      <td>사실형</td>\n",
       "      <td>긍정</td>\n",
       "      <td>과거</td>\n",
       "    </tr>\n",
       "    <tr>\n",
       "      <th>3</th>\n",
       "      <td>TEST_0003</td>\n",
       "      <td>추론형-긍정-현재-확실</td>\n",
       "      <td>사실형</td>\n",
       "      <td>긍정</td>\n",
       "      <td>과거</td>\n",
       "    </tr>\n",
       "    <tr>\n",
       "      <th>4</th>\n",
       "      <td>TEST_0004</td>\n",
       "      <td>추론형-긍정-현재-확실</td>\n",
       "      <td>사실형</td>\n",
       "      <td>긍정</td>\n",
       "      <td>과거</td>\n",
       "    </tr>\n",
       "  </tbody>\n",
       "</table>\n",
       "</div>"
      ],
      "text/plain": [
       "          ID         label type  pn time\n",
       "0  TEST_0000  추론형-긍정-현재-확실  사실형  긍정   현재\n",
       "1  TEST_0001  추론형-긍정-현재-확실  사실형  긍정   현재\n",
       "2  TEST_0002  추론형-긍정-현재-확실  사실형  긍정   과거\n",
       "3  TEST_0003  추론형-긍정-현재-확실  사실형  긍정   과거\n",
       "4  TEST_0004  추론형-긍정-현재-확실  사실형  긍정   과거"
      ]
     },
     "execution_count": 111,
     "metadata": {},
     "output_type": "execute_result"
    }
   ],
   "source": [
    "ss.head()"
   ]
  },
  {
   "cell_type": "markdown",
   "id": "36ad54da",
   "metadata": {
    "id": "KlVpi_sC5uHc",
    "papermill": {
     "duration": 3.091825,
     "end_time": "2022-12-18T10:51:30.982736",
     "exception": false,
     "start_time": "2022-12-18T10:51:27.890911",
     "status": "completed"
    },
    "tags": []
   },
   "source": [
    "### 확실성: sure"
   ]
  },
  {
   "cell_type": "code",
   "execution_count": 112,
   "id": "d5843cd6",
   "metadata": {
    "execution": {
     "iopub.execute_input": "2022-12-18T10:51:37.516873Z",
     "iopub.status.busy": "2022-12-18T10:51:37.516464Z",
     "iopub.status.idle": "2022-12-18T10:51:37.529282Z",
     "shell.execute_reply": "2022-12-18T10:51:37.528307Z"
    },
    "id": "e0Iu4Yb65uHd",
    "outputId": "f5682124-4782-4783-a4bd-661302bc089d",
    "papermill": {
     "duration": 3.132271,
     "end_time": "2022-12-18T10:51:37.531493",
     "exception": false,
     "start_time": "2022-12-18T10:51:34.399222",
     "status": "completed"
    },
    "tags": []
   },
   "outputs": [
    {
     "name": "stdout",
     "output_type": "stream",
     "text": [
      "column_name = 'time:  sure\n",
      "\n",
      "(7090, 5)\n",
      "True     6657\n",
      "False     433\n",
      "Name: sure, dtype: int64\n",
      "\n",
      "(7090, 6)\n",
      "확실     6657\n",
      "불확실     433\n",
      "Name: sure, dtype: int64\n",
      "\n"
     ]
    }
   ],
   "source": [
    "column_wise_predict(f1_preds= f1_preds, ss = ss, column = 'sure')"
   ]
  },
  {
   "cell_type": "code",
   "execution_count": 113,
   "id": "1dab7d81",
   "metadata": {
    "execution": {
     "iopub.execute_input": "2022-12-18T10:51:43.652567Z",
     "iopub.status.busy": "2022-12-18T10:51:43.652205Z",
     "iopub.status.idle": "2022-12-18T10:51:43.664287Z",
     "shell.execute_reply": "2022-12-18T10:51:43.663410Z"
    },
    "id": "-ZEev4U48AZC",
    "outputId": "ed3f9857-55ef-4225-cf9c-58e7f2628afc",
    "papermill": {
     "duration": 2.970792,
     "end_time": "2022-12-18T10:51:43.666271",
     "exception": false,
     "start_time": "2022-12-18T10:51:40.695479",
     "status": "completed"
    },
    "tags": []
   },
   "outputs": [
    {
     "data": {
      "text/html": [
       "<div>\n",
       "<style scoped>\n",
       "    .dataframe tbody tr th:only-of-type {\n",
       "        vertical-align: middle;\n",
       "    }\n",
       "\n",
       "    .dataframe tbody tr th {\n",
       "        vertical-align: top;\n",
       "    }\n",
       "\n",
       "    .dataframe thead th {\n",
       "        text-align: right;\n",
       "    }\n",
       "</style>\n",
       "<table border=\"1\" class=\"dataframe\">\n",
       "  <thead>\n",
       "    <tr style=\"text-align: right;\">\n",
       "      <th></th>\n",
       "      <th>ID</th>\n",
       "      <th>label</th>\n",
       "      <th>type</th>\n",
       "      <th>pn</th>\n",
       "      <th>time</th>\n",
       "      <th>sure</th>\n",
       "    </tr>\n",
       "  </thead>\n",
       "  <tbody>\n",
       "    <tr>\n",
       "      <th>0</th>\n",
       "      <td>TEST_0000</td>\n",
       "      <td>추론형-긍정-현재-확실</td>\n",
       "      <td>사실형</td>\n",
       "      <td>긍정</td>\n",
       "      <td>현재</td>\n",
       "      <td>확실</td>\n",
       "    </tr>\n",
       "    <tr>\n",
       "      <th>1</th>\n",
       "      <td>TEST_0001</td>\n",
       "      <td>추론형-긍정-현재-확실</td>\n",
       "      <td>사실형</td>\n",
       "      <td>긍정</td>\n",
       "      <td>현재</td>\n",
       "      <td>확실</td>\n",
       "    </tr>\n",
       "    <tr>\n",
       "      <th>2</th>\n",
       "      <td>TEST_0002</td>\n",
       "      <td>추론형-긍정-현재-확실</td>\n",
       "      <td>사실형</td>\n",
       "      <td>긍정</td>\n",
       "      <td>과거</td>\n",
       "      <td>확실</td>\n",
       "    </tr>\n",
       "    <tr>\n",
       "      <th>3</th>\n",
       "      <td>TEST_0003</td>\n",
       "      <td>추론형-긍정-현재-확실</td>\n",
       "      <td>사실형</td>\n",
       "      <td>긍정</td>\n",
       "      <td>과거</td>\n",
       "      <td>확실</td>\n",
       "    </tr>\n",
       "    <tr>\n",
       "      <th>4</th>\n",
       "      <td>TEST_0004</td>\n",
       "      <td>추론형-긍정-현재-확실</td>\n",
       "      <td>사실형</td>\n",
       "      <td>긍정</td>\n",
       "      <td>과거</td>\n",
       "      <td>확실</td>\n",
       "    </tr>\n",
       "  </tbody>\n",
       "</table>\n",
       "</div>"
      ],
      "text/plain": [
       "          ID         label type  pn time sure\n",
       "0  TEST_0000  추론형-긍정-현재-확실  사실형  긍정   현재   확실\n",
       "1  TEST_0001  추론형-긍정-현재-확실  사실형  긍정   현재   확실\n",
       "2  TEST_0002  추론형-긍정-현재-확실  사실형  긍정   과거   확실\n",
       "3  TEST_0003  추론형-긍정-현재-확실  사실형  긍정   과거   확실\n",
       "4  TEST_0004  추론형-긍정-현재-확실  사실형  긍정   과거   확실"
      ]
     },
     "execution_count": 113,
     "metadata": {},
     "output_type": "execute_result"
    }
   ],
   "source": [
    "ss.head()"
   ]
  },
  {
   "cell_type": "code",
   "execution_count": 114,
   "id": "742cf9ea",
   "metadata": {
    "execution": {
     "iopub.execute_input": "2022-12-18T10:51:49.868148Z",
     "iopub.status.busy": "2022-12-18T10:51:49.867788Z",
     "iopub.status.idle": "2022-12-18T10:51:49.886131Z",
     "shell.execute_reply": "2022-12-18T10:51:49.884946Z"
    },
    "id": "joyLbKR65uHd",
    "outputId": "765ee58b-016b-44f4-ea45-42b255da46bf",
    "papermill": {
     "duration": 3.071945,
     "end_time": "2022-12-18T10:51:49.888332",
     "exception": false,
     "start_time": "2022-12-18T10:51:46.816387",
     "status": "completed"
    },
    "tags": []
   },
   "outputs": [
    {
     "name": "stdout",
     "output_type": "stream",
     "text": [
      "<class 'pandas.core.frame.DataFrame'>\n",
      "RangeIndex: 7090 entries, 0 to 7089\n",
      "Data columns (total 6 columns):\n",
      " #   Column  Non-Null Count  Dtype \n",
      "---  ------  --------------  ----- \n",
      " 0   ID      7090 non-null   object\n",
      " 1   label   7090 non-null   object\n",
      " 2   type    7090 non-null   object\n",
      " 3   pn      7090 non-null   object\n",
      " 4   time    7090 non-null   object\n",
      " 5   sure    7090 non-null   object\n",
      "dtypes: object(6)\n",
      "memory usage: 332.5+ KB\n"
     ]
    }
   ],
   "source": [
    "ss.info()"
   ]
  },
  {
   "cell_type": "markdown",
   "id": "458ef313",
   "metadata": {
    "id": "Jtc73NcE6j28",
    "papermill": {
     "duration": 2.936554,
     "end_time": "2022-12-18T10:51:56.093575",
     "exception": false,
     "start_time": "2022-12-18T10:51:53.157021",
     "status": "completed"
    },
    "tags": []
   },
   "source": [
    "### sum all above"
   ]
  },
  {
   "cell_type": "code",
   "execution_count": 115,
   "id": "585e8a33",
   "metadata": {
    "execution": {
     "iopub.execute_input": "2022-12-18T10:52:02.187252Z",
     "iopub.status.busy": "2022-12-18T10:52:02.186216Z",
     "iopub.status.idle": "2022-12-18T10:52:02.199363Z",
     "shell.execute_reply": "2022-12-18T10:52:02.198354Z"
    },
    "id": "NghZsS1wFOK_",
    "outputId": "9d80d166-437b-432c-bacb-e03e2ca4b775",
    "papermill": {
     "duration": 3.179365,
     "end_time": "2022-12-18T10:52:02.201300",
     "exception": false,
     "start_time": "2022-12-18T10:51:59.021935",
     "status": "completed"
    },
    "tags": []
   },
   "outputs": [
    {
     "data": {
      "text/html": [
       "<div>\n",
       "<style scoped>\n",
       "    .dataframe tbody tr th:only-of-type {\n",
       "        vertical-align: middle;\n",
       "    }\n",
       "\n",
       "    .dataframe tbody tr th {\n",
       "        vertical-align: top;\n",
       "    }\n",
       "\n",
       "    .dataframe thead th {\n",
       "        text-align: right;\n",
       "    }\n",
       "</style>\n",
       "<table border=\"1\" class=\"dataframe\">\n",
       "  <thead>\n",
       "    <tr style=\"text-align: right;\">\n",
       "      <th></th>\n",
       "      <th>ID</th>\n",
       "      <th>label</th>\n",
       "      <th>type</th>\n",
       "      <th>pn</th>\n",
       "      <th>time</th>\n",
       "      <th>sure</th>\n",
       "    </tr>\n",
       "  </thead>\n",
       "  <tbody>\n",
       "    <tr>\n",
       "      <th>0</th>\n",
       "      <td>TEST_0000</td>\n",
       "      <td>0</td>\n",
       "      <td>사실형</td>\n",
       "      <td>긍정</td>\n",
       "      <td>현재</td>\n",
       "      <td>확실</td>\n",
       "    </tr>\n",
       "    <tr>\n",
       "      <th>1</th>\n",
       "      <td>TEST_0001</td>\n",
       "      <td>0</td>\n",
       "      <td>사실형</td>\n",
       "      <td>긍정</td>\n",
       "      <td>현재</td>\n",
       "      <td>확실</td>\n",
       "    </tr>\n",
       "    <tr>\n",
       "      <th>2</th>\n",
       "      <td>TEST_0002</td>\n",
       "      <td>0</td>\n",
       "      <td>사실형</td>\n",
       "      <td>긍정</td>\n",
       "      <td>과거</td>\n",
       "      <td>확실</td>\n",
       "    </tr>\n",
       "    <tr>\n",
       "      <th>3</th>\n",
       "      <td>TEST_0003</td>\n",
       "      <td>0</td>\n",
       "      <td>사실형</td>\n",
       "      <td>긍정</td>\n",
       "      <td>과거</td>\n",
       "      <td>확실</td>\n",
       "    </tr>\n",
       "    <tr>\n",
       "      <th>4</th>\n",
       "      <td>TEST_0004</td>\n",
       "      <td>0</td>\n",
       "      <td>사실형</td>\n",
       "      <td>긍정</td>\n",
       "      <td>과거</td>\n",
       "      <td>확실</td>\n",
       "    </tr>\n",
       "  </tbody>\n",
       "</table>\n",
       "</div>"
      ],
      "text/plain": [
       "          ID  label type  pn time sure\n",
       "0  TEST_0000      0  사실형  긍정   현재   확실\n",
       "1  TEST_0001      0  사실형  긍정   현재   확실\n",
       "2  TEST_0002      0  사실형  긍정   과거   확실\n",
       "3  TEST_0003      0  사실형  긍정   과거   확실\n",
       "4  TEST_0004      0  사실형  긍정   과거   확실"
      ]
     },
     "execution_count": 115,
     "metadata": {},
     "output_type": "execute_result"
    }
   ],
   "source": [
    "ss.label = 0\n",
    "ss.head()"
   ]
  },
  {
   "cell_type": "code",
   "execution_count": 116,
   "id": "506cb1f4",
   "metadata": {
    "execution": {
     "iopub.execute_input": "2022-12-18T10:52:08.582803Z",
     "iopub.status.busy": "2022-12-18T10:52:08.582426Z",
     "iopub.status.idle": "2022-12-18T10:52:12.285584Z",
     "shell.execute_reply": "2022-12-18T10:52:12.284508Z"
    },
    "id": "xV-kyL246-nn",
    "papermill": {
     "duration": 6.802913,
     "end_time": "2022-12-18T10:52:12.288327",
     "exception": false,
     "start_time": "2022-12-18T10:52:05.485414",
     "status": "completed"
    },
    "tags": []
   },
   "outputs": [],
   "source": [
    "for index in range(0, len(ss)):\n",
    "    ss.loc[index, 'label'] = ss.loc[index, 'type'] + '-' + ss.loc[index, 'pn'] + '-' + ss.loc[index, 'time'] + '-' + ss.loc[index, 'sure']"
   ]
  },
  {
   "cell_type": "code",
   "execution_count": 117,
   "id": "0d08ba75",
   "metadata": {
    "execution": {
     "iopub.execute_input": "2022-12-18T10:52:18.267880Z",
     "iopub.status.busy": "2022-12-18T10:52:18.267499Z",
     "iopub.status.idle": "2022-12-18T10:52:18.280603Z",
     "shell.execute_reply": "2022-12-18T10:52:18.279693Z"
    },
    "id": "08PHxKhTjmJh",
    "outputId": "36a37ec7-9cee-42d4-a766-0251346e144e",
    "papermill": {
     "duration": 2.967155,
     "end_time": "2022-12-18T10:52:18.282663",
     "exception": false,
     "start_time": "2022-12-18T10:52:15.315508",
     "status": "completed"
    },
    "tags": []
   },
   "outputs": [
    {
     "name": "stdout",
     "output_type": "stream",
     "text": [
      "(7090, 6)\n"
     ]
    },
    {
     "data": {
      "text/html": [
       "<div>\n",
       "<style scoped>\n",
       "    .dataframe tbody tr th:only-of-type {\n",
       "        vertical-align: middle;\n",
       "    }\n",
       "\n",
       "    .dataframe tbody tr th {\n",
       "        vertical-align: top;\n",
       "    }\n",
       "\n",
       "    .dataframe thead th {\n",
       "        text-align: right;\n",
       "    }\n",
       "</style>\n",
       "<table border=\"1\" class=\"dataframe\">\n",
       "  <thead>\n",
       "    <tr style=\"text-align: right;\">\n",
       "      <th></th>\n",
       "      <th>ID</th>\n",
       "      <th>label</th>\n",
       "      <th>type</th>\n",
       "      <th>pn</th>\n",
       "      <th>time</th>\n",
       "      <th>sure</th>\n",
       "    </tr>\n",
       "  </thead>\n",
       "  <tbody>\n",
       "    <tr>\n",
       "      <th>0</th>\n",
       "      <td>TEST_0000</td>\n",
       "      <td>사실형-긍정-현재-확실</td>\n",
       "      <td>사실형</td>\n",
       "      <td>긍정</td>\n",
       "      <td>현재</td>\n",
       "      <td>확실</td>\n",
       "    </tr>\n",
       "    <tr>\n",
       "      <th>1</th>\n",
       "      <td>TEST_0001</td>\n",
       "      <td>사실형-긍정-현재-확실</td>\n",
       "      <td>사실형</td>\n",
       "      <td>긍정</td>\n",
       "      <td>현재</td>\n",
       "      <td>확실</td>\n",
       "    </tr>\n",
       "    <tr>\n",
       "      <th>2</th>\n",
       "      <td>TEST_0002</td>\n",
       "      <td>사실형-긍정-과거-확실</td>\n",
       "      <td>사실형</td>\n",
       "      <td>긍정</td>\n",
       "      <td>과거</td>\n",
       "      <td>확실</td>\n",
       "    </tr>\n",
       "    <tr>\n",
       "      <th>3</th>\n",
       "      <td>TEST_0003</td>\n",
       "      <td>사실형-긍정-과거-확실</td>\n",
       "      <td>사실형</td>\n",
       "      <td>긍정</td>\n",
       "      <td>과거</td>\n",
       "      <td>확실</td>\n",
       "    </tr>\n",
       "    <tr>\n",
       "      <th>4</th>\n",
       "      <td>TEST_0004</td>\n",
       "      <td>사실형-긍정-과거-확실</td>\n",
       "      <td>사실형</td>\n",
       "      <td>긍정</td>\n",
       "      <td>과거</td>\n",
       "      <td>확실</td>\n",
       "    </tr>\n",
       "  </tbody>\n",
       "</table>\n",
       "</div>"
      ],
      "text/plain": [
       "          ID         label type  pn time sure\n",
       "0  TEST_0000  사실형-긍정-현재-확실  사실형  긍정   현재   확실\n",
       "1  TEST_0001  사실형-긍정-현재-확실  사실형  긍정   현재   확실\n",
       "2  TEST_0002  사실형-긍정-과거-확실  사실형  긍정   과거   확실\n",
       "3  TEST_0003  사실형-긍정-과거-확실  사실형  긍정   과거   확실\n",
       "4  TEST_0004  사실형-긍정-과거-확실  사실형  긍정   과거   확실"
      ]
     },
     "execution_count": 117,
     "metadata": {},
     "output_type": "execute_result"
    }
   ],
   "source": [
    "print(ss.shape)\n",
    "ss.head()"
   ]
  },
  {
   "cell_type": "code",
   "execution_count": 118,
   "id": "cb65a529",
   "metadata": {
    "execution": {
     "iopub.execute_input": "2022-12-18T10:52:24.512945Z",
     "iopub.status.busy": "2022-12-18T10:52:24.512541Z",
     "iopub.status.idle": "2022-12-18T10:52:24.525805Z",
     "shell.execute_reply": "2022-12-18T10:52:24.524812Z"
    },
    "id": "aJx3ZSpAFXmW",
    "outputId": "7dec2936-2f32-4a73-d50e-e2687f5e7a67",
    "papermill": {
     "duration": 3.1649,
     "end_time": "2022-12-18T10:52:24.528103",
     "exception": false,
     "start_time": "2022-12-18T10:52:21.363203",
     "status": "completed"
    },
    "tags": []
   },
   "outputs": [
    {
     "name": "stdout",
     "output_type": "stream",
     "text": [
      "(7090, 2)\n"
     ]
    },
    {
     "data": {
      "text/html": [
       "<div>\n",
       "<style scoped>\n",
       "    .dataframe tbody tr th:only-of-type {\n",
       "        vertical-align: middle;\n",
       "    }\n",
       "\n",
       "    .dataframe tbody tr th {\n",
       "        vertical-align: top;\n",
       "    }\n",
       "\n",
       "    .dataframe thead th {\n",
       "        text-align: right;\n",
       "    }\n",
       "</style>\n",
       "<table border=\"1\" class=\"dataframe\">\n",
       "  <thead>\n",
       "    <tr style=\"text-align: right;\">\n",
       "      <th></th>\n",
       "      <th>ID</th>\n",
       "      <th>label</th>\n",
       "    </tr>\n",
       "  </thead>\n",
       "  <tbody>\n",
       "    <tr>\n",
       "      <th>0</th>\n",
       "      <td>TEST_0000</td>\n",
       "      <td>사실형-긍정-현재-확실</td>\n",
       "    </tr>\n",
       "    <tr>\n",
       "      <th>1</th>\n",
       "      <td>TEST_0001</td>\n",
       "      <td>사실형-긍정-현재-확실</td>\n",
       "    </tr>\n",
       "    <tr>\n",
       "      <th>2</th>\n",
       "      <td>TEST_0002</td>\n",
       "      <td>사실형-긍정-과거-확실</td>\n",
       "    </tr>\n",
       "    <tr>\n",
       "      <th>3</th>\n",
       "      <td>TEST_0003</td>\n",
       "      <td>사실형-긍정-과거-확실</td>\n",
       "    </tr>\n",
       "    <tr>\n",
       "      <th>4</th>\n",
       "      <td>TEST_0004</td>\n",
       "      <td>사실형-긍정-과거-확실</td>\n",
       "    </tr>\n",
       "  </tbody>\n",
       "</table>\n",
       "</div>"
      ],
      "text/plain": [
       "          ID         label\n",
       "0  TEST_0000  사실형-긍정-현재-확실\n",
       "1  TEST_0001  사실형-긍정-현재-확실\n",
       "2  TEST_0002  사실형-긍정-과거-확실\n",
       "3  TEST_0003  사실형-긍정-과거-확실\n",
       "4  TEST_0004  사실형-긍정-과거-확실"
      ]
     },
     "execution_count": 118,
     "metadata": {},
     "output_type": "execute_result"
    }
   ],
   "source": [
    "ss.drop(['type', 'pn', 'time', 'sure'], axis = 1, inplace = True)\n",
    "print(ss.shape)\n",
    "ss.head()"
   ]
  },
  {
   "cell_type": "markdown",
   "id": "75e2c7b7",
   "metadata": {
    "id": "lMOxXPqPjryN",
    "papermill": {
     "duration": 2.942274,
     "end_time": "2022-12-18T10:52:30.403696",
     "exception": false,
     "start_time": "2022-12-18T10:52:27.461422",
     "status": "completed"
    },
    "tags": []
   },
   "source": [
    "## Submission CSV file Save"
   ]
  },
  {
   "cell_type": "code",
   "execution_count": 119,
   "id": "7caa72a5",
   "metadata": {
    "execution": {
     "iopub.execute_input": "2022-12-18T10:52:36.880045Z",
     "iopub.status.busy": "2022-12-18T10:52:36.879557Z",
     "iopub.status.idle": "2022-12-18T10:52:36.886217Z",
     "shell.execute_reply": "2022-12-18T10:52:36.884982Z"
    },
    "id": "00Y2coQGjmG8",
    "outputId": "17eaf1a8-2265-44c7-a6c3-2f57a3da0392",
    "papermill": {
     "duration": 3.529704,
     "end_time": "2022-12-18T10:52:36.892401",
     "exception": false,
     "start_time": "2022-12-18T10:52:33.362697",
     "status": "completed"
    },
    "tags": []
   },
   "outputs": [
    {
     "data": {
      "text/plain": [
       "'./results/20221218_152404_t0-1/'"
      ]
     },
     "execution_count": 119,
     "metadata": {},
     "output_type": "execute_result"
    }
   ],
   "source": [
    "sub_path"
   ]
  },
  {
   "cell_type": "code",
   "execution_count": 120,
   "id": "d4171931",
   "metadata": {
    "execution": {
     "iopub.execute_input": "2022-12-18T10:52:42.958848Z",
     "iopub.status.busy": "2022-12-18T10:52:42.958462Z",
     "iopub.status.idle": "2022-12-18T10:52:42.964760Z",
     "shell.execute_reply": "2022-12-18T10:52:42.963872Z"
    },
    "id": "dl_PI8qhCi-R",
    "papermill": {
     "duration": 2.936034,
     "end_time": "2022-12-18T10:52:42.968156",
     "exception": false,
     "start_time": "2022-12-18T10:52:40.032122",
     "status": "completed"
    },
    "tags": []
   },
   "outputs": [
    {
     "data": {
      "text/plain": [
       "'monologg-kobigbird-bert-base'"
      ]
     },
     "execution_count": 120,
     "metadata": {},
     "output_type": "execute_result"
    }
   ],
   "source": [
    "trans = str.maketrans('/', '-')\n",
    "config['model'].translate(trans)"
   ]
  },
  {
   "cell_type": "code",
   "execution_count": 121,
   "id": "5adc5573",
   "metadata": {
    "execution": {
     "iopub.execute_input": "2022-12-18T10:52:49.217376Z",
     "iopub.status.busy": "2022-12-18T10:52:49.217020Z",
     "iopub.status.idle": "2022-12-18T10:52:49.241546Z",
     "shell.execute_reply": "2022-12-18T10:52:49.240682Z"
    },
    "id": "19UHEG7-Kqah",
    "papermill": {
     "duration": 2.978622,
     "end_time": "2022-12-18T10:52:49.243618",
     "exception": false,
     "start_time": "2022-12-18T10:52:46.264996",
     "status": "completed"
    },
    "tags": []
   },
   "outputs": [],
   "source": [
    "ss.to_csv(f\"{config['testnum']}_{config['model'].translate(trans)}_bs_{config['train_batch_size']}_epoch_{config['n_epochs']}_folds_{config['n_folds']}_lr_{config['learning_rate']}.csv\", index=False) "
   ]
  }
 ],
 "metadata": {
  "kernelspec": {
   "display_name": "ray",
   "language": "python",
   "name": "python3"
  },
  "language_info": {
   "codemirror_mode": {
    "name": "ipython",
    "version": 3
   },
   "file_extension": ".py",
   "mimetype": "text/x-python",
   "name": "python",
   "nbconvert_exporter": "python",
   "pygments_lexer": "ipython3",
   "version": "3.8.13"
  },
  "papermill": {
   "default_parameters": {},
   "duration": 16188.247864,
   "end_time": "2022-12-18T10:53:01.887530",
   "environment_variables": {},
   "exception": null,
   "input_path": "__notebook__.ipynb",
   "output_path": "__notebook__.ipynb",
   "parameters": {},
   "start_time": "2022-12-18T06:23:13.639666",
   "version": "2.3.4"
  },
  "vscode": {
   "interpreter": {
    "hash": "175f0a38a62dc0beb1e17a90921ab8d7bbf773d127689593e2caaacc63115b32"
   }
  },
  "widgets": {
   "application/vnd.jupyter.widget-state+json": {
    "state": {
     "0fbc2b570eab4ec8ba42f47b40682696": {
      "model_module": "@jupyter-widgets/base",
      "model_module_version": "1.2.0",
      "model_name": "LayoutModel",
      "state": {
       "_model_module": "@jupyter-widgets/base",
       "_model_module_version": "1.2.0",
       "_model_name": "LayoutModel",
       "_view_count": null,
       "_view_module": "@jupyter-widgets/base",
       "_view_module_version": "1.2.0",
       "_view_name": "LayoutView",
       "align_content": null,
       "align_items": null,
       "align_self": null,
       "border": null,
       "bottom": null,
       "display": null,
       "flex": null,
       "flex_flow": null,
       "grid_area": null,
       "grid_auto_columns": null,
       "grid_auto_flow": null,
       "grid_auto_rows": null,
       "grid_column": null,
       "grid_gap": null,
       "grid_row": null,
       "grid_template_areas": null,
       "grid_template_columns": null,
       "grid_template_rows": null,
       "height": null,
       "justify_content": null,
       "justify_items": null,
       "left": null,
       "margin": null,
       "max_height": null,
       "max_width": null,
       "min_height": null,
       "min_width": null,
       "object_fit": null,
       "object_position": null,
       "order": null,
       "overflow": null,
       "overflow_x": null,
       "overflow_y": null,
       "padding": null,
       "right": null,
       "top": null,
       "visibility": null,
       "width": null
      }
     },
     "106eae2b317b41b7a2c2a7aaa0d74824": {
      "model_module": "@jupyter-widgets/controls",
      "model_module_version": "1.5.0",
      "model_name": "DescriptionStyleModel",
      "state": {
       "_model_module": "@jupyter-widgets/controls",
       "_model_module_version": "1.5.0",
       "_model_name": "DescriptionStyleModel",
       "_view_count": null,
       "_view_module": "@jupyter-widgets/base",
       "_view_module_version": "1.2.0",
       "_view_name": "StyleView",
       "description_width": ""
      }
     },
     "121af6f4e3d04715b7ac5492e7617b7a": {
      "model_module": "@jupyter-widgets/controls",
      "model_module_version": "1.5.0",
      "model_name": "DescriptionStyleModel",
      "state": {
       "_model_module": "@jupyter-widgets/controls",
       "_model_module_version": "1.5.0",
       "_model_name": "DescriptionStyleModel",
       "_view_count": null,
       "_view_module": "@jupyter-widgets/base",
       "_view_module_version": "1.2.0",
       "_view_name": "StyleView",
       "description_width": ""
      }
     },
     "122c7b3c424c4552abad437001b06119": {
      "model_module": "@jupyter-widgets/base",
      "model_module_version": "1.2.0",
      "model_name": "LayoutModel",
      "state": {
       "_model_module": "@jupyter-widgets/base",
       "_model_module_version": "1.2.0",
       "_model_name": "LayoutModel",
       "_view_count": null,
       "_view_module": "@jupyter-widgets/base",
       "_view_module_version": "1.2.0",
       "_view_name": "LayoutView",
       "align_content": null,
       "align_items": null,
       "align_self": null,
       "border": null,
       "bottom": null,
       "display": null,
       "flex": null,
       "flex_flow": null,
       "grid_area": null,
       "grid_auto_columns": null,
       "grid_auto_flow": null,
       "grid_auto_rows": null,
       "grid_column": null,
       "grid_gap": null,
       "grid_row": null,
       "grid_template_areas": null,
       "grid_template_columns": null,
       "grid_template_rows": null,
       "height": null,
       "justify_content": null,
       "justify_items": null,
       "left": null,
       "margin": null,
       "max_height": null,
       "max_width": null,
       "min_height": null,
       "min_width": null,
       "object_fit": null,
       "object_position": null,
       "order": null,
       "overflow": null,
       "overflow_x": null,
       "overflow_y": null,
       "padding": null,
       "right": null,
       "top": null,
       "visibility": null,
       "width": null
      }
     },
     "14cc7f7360944eaab7c7496c4e8e9438": {
      "model_module": "@jupyter-widgets/controls",
      "model_module_version": "1.5.0",
      "model_name": "HTMLModel",
      "state": {
       "_dom_classes": [],
       "_model_module": "@jupyter-widgets/controls",
       "_model_module_version": "1.5.0",
       "_model_name": "HTMLModel",
       "_view_count": null,
       "_view_module": "@jupyter-widgets/controls",
       "_view_module_version": "1.5.0",
       "_view_name": "HTMLView",
       "description": "",
       "description_tooltip": null,
       "layout": "IPY_MODEL_e0b72d4e0c694b9eba09deedc7469256",
       "placeholder": "​",
       "style": "IPY_MODEL_55bb217217064fbfb43a2ce5b3601f44",
       "value": "Downloading: 100%"
      }
     },
     "1f69a8dea5f34388b01080df622ae2e2": {
      "model_module": "@jupyter-widgets/controls",
      "model_module_version": "1.5.0",
      "model_name": "FloatProgressModel",
      "state": {
       "_dom_classes": [],
       "_model_module": "@jupyter-widgets/controls",
       "_model_module_version": "1.5.0",
       "_model_name": "FloatProgressModel",
       "_view_count": null,
       "_view_module": "@jupyter-widgets/controls",
       "_view_module_version": "1.5.0",
       "_view_name": "ProgressView",
       "bar_style": "success",
       "description": "",
       "description_tooltip": null,
       "layout": "IPY_MODEL_9a9e5b8a1dcf480ea205cad5ba89ca01",
       "max": 457600984,
       "min": 0,
       "orientation": "horizontal",
       "style": "IPY_MODEL_31954c3abcbc4a9da5d97e4c9560d9ee",
       "value": 457600984
      }
     },
     "24ab2e7cb39344629c7f553667b024b3": {
      "model_module": "@jupyter-widgets/base",
      "model_module_version": "1.2.0",
      "model_name": "LayoutModel",
      "state": {
       "_model_module": "@jupyter-widgets/base",
       "_model_module_version": "1.2.0",
       "_model_name": "LayoutModel",
       "_view_count": null,
       "_view_module": "@jupyter-widgets/base",
       "_view_module_version": "1.2.0",
       "_view_name": "LayoutView",
       "align_content": null,
       "align_items": null,
       "align_self": null,
       "border": null,
       "bottom": null,
       "display": null,
       "flex": null,
       "flex_flow": null,
       "grid_area": null,
       "grid_auto_columns": null,
       "grid_auto_flow": null,
       "grid_auto_rows": null,
       "grid_column": null,
       "grid_gap": null,
       "grid_row": null,
       "grid_template_areas": null,
       "grid_template_columns": null,
       "grid_template_rows": null,
       "height": null,
       "justify_content": null,
       "justify_items": null,
       "left": null,
       "margin": null,
       "max_height": null,
       "max_width": null,
       "min_height": null,
       "min_width": null,
       "object_fit": null,
       "object_position": null,
       "order": null,
       "overflow": null,
       "overflow_x": null,
       "overflow_y": null,
       "padding": null,
       "right": null,
       "top": null,
       "visibility": null,
       "width": null
      }
     },
     "2bb8dea053954704b1c0abd6a1b11043": {
      "model_module": "@jupyter-widgets/controls",
      "model_module_version": "1.5.0",
      "model_name": "HBoxModel",
      "state": {
       "_dom_classes": [],
       "_model_module": "@jupyter-widgets/controls",
       "_model_module_version": "1.5.0",
       "_model_name": "HBoxModel",
       "_view_count": null,
       "_view_module": "@jupyter-widgets/controls",
       "_view_module_version": "1.5.0",
       "_view_name": "HBoxView",
       "box_style": "",
       "children": [
        "IPY_MODEL_e06c87a901c540218940b81abb917c27",
        "IPY_MODEL_6bfed8673aee4ec79a9f59d98878c7d0",
        "IPY_MODEL_f9571d13e34541198ca1b75bc1b10b5b"
       ],
       "layout": "IPY_MODEL_f17d9392da274469a347b8e4d8940a46"
      }
     },
     "2e929e5a68994fdc88fae13c1c0fecd1": {
      "model_module": "@jupyter-widgets/base",
      "model_module_version": "1.2.0",
      "model_name": "LayoutModel",
      "state": {
       "_model_module": "@jupyter-widgets/base",
       "_model_module_version": "1.2.0",
       "_model_name": "LayoutModel",
       "_view_count": null,
       "_view_module": "@jupyter-widgets/base",
       "_view_module_version": "1.2.0",
       "_view_name": "LayoutView",
       "align_content": null,
       "align_items": null,
       "align_self": null,
       "border": null,
       "bottom": null,
       "display": null,
       "flex": null,
       "flex_flow": null,
       "grid_area": null,
       "grid_auto_columns": null,
       "grid_auto_flow": null,
       "grid_auto_rows": null,
       "grid_column": null,
       "grid_gap": null,
       "grid_row": null,
       "grid_template_areas": null,
       "grid_template_columns": null,
       "grid_template_rows": null,
       "height": null,
       "justify_content": null,
       "justify_items": null,
       "left": null,
       "margin": null,
       "max_height": null,
       "max_width": null,
       "min_height": null,
       "min_width": null,
       "object_fit": null,
       "object_position": null,
       "order": null,
       "overflow": null,
       "overflow_x": null,
       "overflow_y": null,
       "padding": null,
       "right": null,
       "top": null,
       "visibility": null,
       "width": null
      }
     },
     "2f0055fcb9634f69a4c0aa30af7fd8fd": {
      "model_module": "@jupyter-widgets/controls",
      "model_module_version": "1.5.0",
      "model_name": "FloatProgressModel",
      "state": {
       "_dom_classes": [],
       "_model_module": "@jupyter-widgets/controls",
       "_model_module_version": "1.5.0",
       "_model_name": "FloatProgressModel",
       "_view_count": null,
       "_view_module": "@jupyter-widgets/controls",
       "_view_module_version": "1.5.0",
       "_view_name": "ProgressView",
       "bar_style": "success",
       "description": "",
       "description_tooltip": null,
       "layout": "IPY_MODEL_c6852b9a3c43432ca229208909e498c4",
       "max": 870,
       "min": 0,
       "orientation": "horizontal",
       "style": "IPY_MODEL_7697b114b89a40ba85e6faaa718836d1",
       "value": 870
      }
     },
     "31954c3abcbc4a9da5d97e4c9560d9ee": {
      "model_module": "@jupyter-widgets/controls",
      "model_module_version": "1.5.0",
      "model_name": "ProgressStyleModel",
      "state": {
       "_model_module": "@jupyter-widgets/controls",
       "_model_module_version": "1.5.0",
       "_model_name": "ProgressStyleModel",
       "_view_count": null,
       "_view_module": "@jupyter-widgets/base",
       "_view_module_version": "1.2.0",
       "_view_name": "StyleView",
       "bar_color": null,
       "description_width": ""
      }
     },
     "3dfbe275e1ad440f81d5fbd7df7ba1e7": {
      "model_module": "@jupyter-widgets/controls",
      "model_module_version": "1.5.0",
      "model_name": "ProgressStyleModel",
      "state": {
       "_model_module": "@jupyter-widgets/controls",
       "_model_module_version": "1.5.0",
       "_model_name": "ProgressStyleModel",
       "_view_count": null,
       "_view_module": "@jupyter-widgets/base",
       "_view_module_version": "1.2.0",
       "_view_name": "StyleView",
       "bar_color": null,
       "description_width": ""
      }
     },
     "3f0612f8a5bd4c9c8bd3bd09bd6a355c": {
      "model_module": "@jupyter-widgets/base",
      "model_module_version": "1.2.0",
      "model_name": "LayoutModel",
      "state": {
       "_model_module": "@jupyter-widgets/base",
       "_model_module_version": "1.2.0",
       "_model_name": "LayoutModel",
       "_view_count": null,
       "_view_module": "@jupyter-widgets/base",
       "_view_module_version": "1.2.0",
       "_view_name": "LayoutView",
       "align_content": null,
       "align_items": null,
       "align_self": null,
       "border": null,
       "bottom": null,
       "display": null,
       "flex": null,
       "flex_flow": null,
       "grid_area": null,
       "grid_auto_columns": null,
       "grid_auto_flow": null,
       "grid_auto_rows": null,
       "grid_column": null,
       "grid_gap": null,
       "grid_row": null,
       "grid_template_areas": null,
       "grid_template_columns": null,
       "grid_template_rows": null,
       "height": null,
       "justify_content": null,
       "justify_items": null,
       "left": null,
       "margin": null,
       "max_height": null,
       "max_width": null,
       "min_height": null,
       "min_width": null,
       "object_fit": null,
       "object_position": null,
       "order": null,
       "overflow": null,
       "overflow_x": null,
       "overflow_y": null,
       "padding": null,
       "right": null,
       "top": null,
       "visibility": null,
       "width": null
      }
     },
     "4120e55127eb44d49f5bf9d2af53b6ce": {
      "model_module": "@jupyter-widgets/controls",
      "model_module_version": "1.5.0",
      "model_name": "ProgressStyleModel",
      "state": {
       "_model_module": "@jupyter-widgets/controls",
       "_model_module_version": "1.5.0",
       "_model_name": "ProgressStyleModel",
       "_view_count": null,
       "_view_module": "@jupyter-widgets/base",
       "_view_module_version": "1.2.0",
       "_view_name": "StyleView",
       "bar_color": null,
       "description_width": ""
      }
     },
     "4479ef9d346e4b90906b0eb1440241cc": {
      "model_module": "@jupyter-widgets/base",
      "model_module_version": "1.2.0",
      "model_name": "LayoutModel",
      "state": {
       "_model_module": "@jupyter-widgets/base",
       "_model_module_version": "1.2.0",
       "_model_name": "LayoutModel",
       "_view_count": null,
       "_view_module": "@jupyter-widgets/base",
       "_view_module_version": "1.2.0",
       "_view_name": "LayoutView",
       "align_content": null,
       "align_items": null,
       "align_self": null,
       "border": null,
       "bottom": null,
       "display": null,
       "flex": null,
       "flex_flow": null,
       "grid_area": null,
       "grid_auto_columns": null,
       "grid_auto_flow": null,
       "grid_auto_rows": null,
       "grid_column": null,
       "grid_gap": null,
       "grid_row": null,
       "grid_template_areas": null,
       "grid_template_columns": null,
       "grid_template_rows": null,
       "height": null,
       "justify_content": null,
       "justify_items": null,
       "left": null,
       "margin": null,
       "max_height": null,
       "max_width": null,
       "min_height": null,
       "min_width": null,
       "object_fit": null,
       "object_position": null,
       "order": null,
       "overflow": null,
       "overflow_x": null,
       "overflow_y": null,
       "padding": null,
       "right": null,
       "top": null,
       "visibility": null,
       "width": null
      }
     },
     "4a23f1b570a74eaaa27085609759c14d": {
      "model_module": "@jupyter-widgets/base",
      "model_module_version": "1.2.0",
      "model_name": "LayoutModel",
      "state": {
       "_model_module": "@jupyter-widgets/base",
       "_model_module_version": "1.2.0",
       "_model_name": "LayoutModel",
       "_view_count": null,
       "_view_module": "@jupyter-widgets/base",
       "_view_module_version": "1.2.0",
       "_view_name": "LayoutView",
       "align_content": null,
       "align_items": null,
       "align_self": null,
       "border": null,
       "bottom": null,
       "display": null,
       "flex": null,
       "flex_flow": null,
       "grid_area": null,
       "grid_auto_columns": null,
       "grid_auto_flow": null,
       "grid_auto_rows": null,
       "grid_column": null,
       "grid_gap": null,
       "grid_row": null,
       "grid_template_areas": null,
       "grid_template_columns": null,
       "grid_template_rows": null,
       "height": null,
       "justify_content": null,
       "justify_items": null,
       "left": null,
       "margin": null,
       "max_height": null,
       "max_width": null,
       "min_height": null,
       "min_width": null,
       "object_fit": null,
       "object_position": null,
       "order": null,
       "overflow": null,
       "overflow_x": null,
       "overflow_y": null,
       "padding": null,
       "right": null,
       "top": null,
       "visibility": null,
       "width": null
      }
     },
     "4b4a92342f2c487696dba9bcdcf631a6": {
      "model_module": "@jupyter-widgets/base",
      "model_module_version": "1.2.0",
      "model_name": "LayoutModel",
      "state": {
       "_model_module": "@jupyter-widgets/base",
       "_model_module_version": "1.2.0",
       "_model_name": "LayoutModel",
       "_view_count": null,
       "_view_module": "@jupyter-widgets/base",
       "_view_module_version": "1.2.0",
       "_view_name": "LayoutView",
       "align_content": null,
       "align_items": null,
       "align_self": null,
       "border": null,
       "bottom": null,
       "display": null,
       "flex": null,
       "flex_flow": null,
       "grid_area": null,
       "grid_auto_columns": null,
       "grid_auto_flow": null,
       "grid_auto_rows": null,
       "grid_column": null,
       "grid_gap": null,
       "grid_row": null,
       "grid_template_areas": null,
       "grid_template_columns": null,
       "grid_template_rows": null,
       "height": null,
       "justify_content": null,
       "justify_items": null,
       "left": null,
       "margin": null,
       "max_height": null,
       "max_width": null,
       "min_height": null,
       "min_width": null,
       "object_fit": null,
       "object_position": null,
       "order": null,
       "overflow": null,
       "overflow_x": null,
       "overflow_y": null,
       "padding": null,
       "right": null,
       "top": null,
       "visibility": null,
       "width": null
      }
     },
     "55bb217217064fbfb43a2ce5b3601f44": {
      "model_module": "@jupyter-widgets/controls",
      "model_module_version": "1.5.0",
      "model_name": "DescriptionStyleModel",
      "state": {
       "_model_module": "@jupyter-widgets/controls",
       "_model_module_version": "1.5.0",
       "_model_name": "DescriptionStyleModel",
       "_view_count": null,
       "_view_module": "@jupyter-widgets/base",
       "_view_module_version": "1.2.0",
       "_view_name": "StyleView",
       "description_width": ""
      }
     },
     "5adb6a45968246b493f250c3e76e187d": {
      "model_module": "@jupyter-widgets/base",
      "model_module_version": "1.2.0",
      "model_name": "LayoutModel",
      "state": {
       "_model_module": "@jupyter-widgets/base",
       "_model_module_version": "1.2.0",
       "_model_name": "LayoutModel",
       "_view_count": null,
       "_view_module": "@jupyter-widgets/base",
       "_view_module_version": "1.2.0",
       "_view_name": "LayoutView",
       "align_content": null,
       "align_items": null,
       "align_self": null,
       "border": null,
       "bottom": null,
       "display": null,
       "flex": null,
       "flex_flow": null,
       "grid_area": null,
       "grid_auto_columns": null,
       "grid_auto_flow": null,
       "grid_auto_rows": null,
       "grid_column": null,
       "grid_gap": null,
       "grid_row": null,
       "grid_template_areas": null,
       "grid_template_columns": null,
       "grid_template_rows": null,
       "height": null,
       "justify_content": null,
       "justify_items": null,
       "left": null,
       "margin": null,
       "max_height": null,
       "max_width": null,
       "min_height": null,
       "min_width": null,
       "object_fit": null,
       "object_position": null,
       "order": null,
       "overflow": null,
       "overflow_x": null,
       "overflow_y": null,
       "padding": null,
       "right": null,
       "top": null,
       "visibility": null,
       "width": null
      }
     },
     "5f97da3ea54b453d8c062d71bd935a94": {
      "model_module": "@jupyter-widgets/controls",
      "model_module_version": "1.5.0",
      "model_name": "HBoxModel",
      "state": {
       "_dom_classes": [],
       "_model_module": "@jupyter-widgets/controls",
       "_model_module_version": "1.5.0",
       "_model_name": "HBoxModel",
       "_view_count": null,
       "_view_module": "@jupyter-widgets/controls",
       "_view_module_version": "1.5.0",
       "_view_name": "HBoxView",
       "box_style": "",
       "children": [
        "IPY_MODEL_b0a406da1c344a0989512b1ae004a5b5",
        "IPY_MODEL_6037f8bbd148428ea97c2196eb121458",
        "IPY_MODEL_9a6e50ac369a4192b39b3cf5ec5c1b04"
       ],
       "layout": "IPY_MODEL_d0342d024fa5470aa0ab9f5461a8f8ba"
      }
     },
     "6037f8bbd148428ea97c2196eb121458": {
      "model_module": "@jupyter-widgets/controls",
      "model_module_version": "1.5.0",
      "model_name": "FloatProgressModel",
      "state": {
       "_dom_classes": [],
       "_model_module": "@jupyter-widgets/controls",
       "_model_module_version": "1.5.0",
       "_model_name": "FloatProgressModel",
       "_view_count": null,
       "_view_module": "@jupyter-widgets/controls",
       "_view_module_version": "1.5.0",
       "_view_name": "ProgressView",
       "bar_style": "success",
       "description": "",
       "description_tooltip": null,
       "layout": "IPY_MODEL_6ba922dd199949d6be98bf5c90332d8e",
       "max": 491774,
       "min": 0,
       "orientation": "horizontal",
       "style": "IPY_MODEL_77bab7f5d84d4d5895fbdd1f0a627147",
       "value": 491774
      }
     },
     "69c72755cd0b4b6fb1b6079d16a2a58f": {
      "model_module": "@jupyter-widgets/base",
      "model_module_version": "1.2.0",
      "model_name": "LayoutModel",
      "state": {
       "_model_module": "@jupyter-widgets/base",
       "_model_module_version": "1.2.0",
       "_model_name": "LayoutModel",
       "_view_count": null,
       "_view_module": "@jupyter-widgets/base",
       "_view_module_version": "1.2.0",
       "_view_name": "LayoutView",
       "align_content": null,
       "align_items": null,
       "align_self": null,
       "border": null,
       "bottom": null,
       "display": null,
       "flex": null,
       "flex_flow": null,
       "grid_area": null,
       "grid_auto_columns": null,
       "grid_auto_flow": null,
       "grid_auto_rows": null,
       "grid_column": null,
       "grid_gap": null,
       "grid_row": null,
       "grid_template_areas": null,
       "grid_template_columns": null,
       "grid_template_rows": null,
       "height": null,
       "justify_content": null,
       "justify_items": null,
       "left": null,
       "margin": null,
       "max_height": null,
       "max_width": null,
       "min_height": null,
       "min_width": null,
       "object_fit": null,
       "object_position": null,
       "order": null,
       "overflow": null,
       "overflow_x": null,
       "overflow_y": null,
       "padding": null,
       "right": null,
       "top": null,
       "visibility": null,
       "width": null
      }
     },
     "6ba922dd199949d6be98bf5c90332d8e": {
      "model_module": "@jupyter-widgets/base",
      "model_module_version": "1.2.0",
      "model_name": "LayoutModel",
      "state": {
       "_model_module": "@jupyter-widgets/base",
       "_model_module_version": "1.2.0",
       "_model_name": "LayoutModel",
       "_view_count": null,
       "_view_module": "@jupyter-widgets/base",
       "_view_module_version": "1.2.0",
       "_view_name": "LayoutView",
       "align_content": null,
       "align_items": null,
       "align_self": null,
       "border": null,
       "bottom": null,
       "display": null,
       "flex": null,
       "flex_flow": null,
       "grid_area": null,
       "grid_auto_columns": null,
       "grid_auto_flow": null,
       "grid_auto_rows": null,
       "grid_column": null,
       "grid_gap": null,
       "grid_row": null,
       "grid_template_areas": null,
       "grid_template_columns": null,
       "grid_template_rows": null,
       "height": null,
       "justify_content": null,
       "justify_items": null,
       "left": null,
       "margin": null,
       "max_height": null,
       "max_width": null,
       "min_height": null,
       "min_width": null,
       "object_fit": null,
       "object_position": null,
       "order": null,
       "overflow": null,
       "overflow_x": null,
       "overflow_y": null,
       "padding": null,
       "right": null,
       "top": null,
       "visibility": null,
       "width": null
      }
     },
     "6bfed8673aee4ec79a9f59d98878c7d0": {
      "model_module": "@jupyter-widgets/controls",
      "model_module_version": "1.5.0",
      "model_name": "FloatProgressModel",
      "state": {
       "_dom_classes": [],
       "_model_module": "@jupyter-widgets/controls",
       "_model_module_version": "1.5.0",
       "_model_name": "FloatProgressModel",
       "_view_count": null,
       "_view_module": "@jupyter-widgets/controls",
       "_view_module_version": "1.5.0",
       "_view_name": "ProgressView",
       "bar_style": "success",
       "description": "",
       "description_tooltip": null,
       "layout": "IPY_MODEL_b90e6e57d90740d0926727abb9023631",
       "max": 169,
       "min": 0,
       "orientation": "horizontal",
       "style": "IPY_MODEL_3dfbe275e1ad440f81d5fbd7df7ba1e7",
       "value": 169
      }
     },
     "705c9fd52c0940fead86342e177171c3": {
      "model_module": "@jupyter-widgets/controls",
      "model_module_version": "1.5.0",
      "model_name": "HBoxModel",
      "state": {
       "_dom_classes": [],
       "_model_module": "@jupyter-widgets/controls",
       "_model_module_version": "1.5.0",
       "_model_name": "HBoxModel",
       "_view_count": null,
       "_view_module": "@jupyter-widgets/controls",
       "_view_module_version": "1.5.0",
       "_view_name": "HBoxView",
       "box_style": "",
       "children": [
        "IPY_MODEL_14cc7f7360944eaab7c7496c4e8e9438",
        "IPY_MODEL_f6f50cdaaf70400da0209a75db04b4bd",
        "IPY_MODEL_730898c80a37496db52645cfd812eea0"
       ],
       "layout": "IPY_MODEL_8bf1ebf30f814326870fca1fa8eb054b"
      }
     },
     "71eb0f522bbb48a6a1af2a0b19aca1d6": {
      "model_module": "@jupyter-widgets/controls",
      "model_module_version": "1.5.0",
      "model_name": "DescriptionStyleModel",
      "state": {
       "_model_module": "@jupyter-widgets/controls",
       "_model_module_version": "1.5.0",
       "_model_name": "DescriptionStyleModel",
       "_view_count": null,
       "_view_module": "@jupyter-widgets/base",
       "_view_module_version": "1.2.0",
       "_view_name": "StyleView",
       "description_width": ""
      }
     },
     "730898c80a37496db52645cfd812eea0": {
      "model_module": "@jupyter-widgets/controls",
      "model_module_version": "1.5.0",
      "model_name": "HTMLModel",
      "state": {
       "_dom_classes": [],
       "_model_module": "@jupyter-widgets/controls",
       "_model_module_version": "1.5.0",
       "_model_name": "HTMLModel",
       "_view_count": null,
       "_view_module": "@jupyter-widgets/controls",
       "_view_module_version": "1.5.0",
       "_view_name": "HTMLView",
       "description": "",
       "description_tooltip": null,
       "layout": "IPY_MODEL_0fbc2b570eab4ec8ba42f47b40682696",
       "placeholder": "​",
       "style": "IPY_MODEL_71eb0f522bbb48a6a1af2a0b19aca1d6",
       "value": " 373/373 [00:00&lt;00:00, 12.5kB/s]"
      }
     },
     "7697b114b89a40ba85e6faaa718836d1": {
      "model_module": "@jupyter-widgets/controls",
      "model_module_version": "1.5.0",
      "model_name": "ProgressStyleModel",
      "state": {
       "_model_module": "@jupyter-widgets/controls",
       "_model_module_version": "1.5.0",
       "_model_name": "ProgressStyleModel",
       "_view_count": null,
       "_view_module": "@jupyter-widgets/base",
       "_view_module_version": "1.2.0",
       "_view_name": "StyleView",
       "bar_color": null,
       "description_width": ""
      }
     },
     "775b236b78ee422a96878b0f1623b56b": {
      "model_module": "@jupyter-widgets/base",
      "model_module_version": "1.2.0",
      "model_name": "LayoutModel",
      "state": {
       "_model_module": "@jupyter-widgets/base",
       "_model_module_version": "1.2.0",
       "_model_name": "LayoutModel",
       "_view_count": null,
       "_view_module": "@jupyter-widgets/base",
       "_view_module_version": "1.2.0",
       "_view_name": "LayoutView",
       "align_content": null,
       "align_items": null,
       "align_self": null,
       "border": null,
       "bottom": null,
       "display": null,
       "flex": null,
       "flex_flow": null,
       "grid_area": null,
       "grid_auto_columns": null,
       "grid_auto_flow": null,
       "grid_auto_rows": null,
       "grid_column": null,
       "grid_gap": null,
       "grid_row": null,
       "grid_template_areas": null,
       "grid_template_columns": null,
       "grid_template_rows": null,
       "height": null,
       "justify_content": null,
       "justify_items": null,
       "left": null,
       "margin": null,
       "max_height": null,
       "max_width": null,
       "min_height": null,
       "min_width": null,
       "object_fit": null,
       "object_position": null,
       "order": null,
       "overflow": null,
       "overflow_x": null,
       "overflow_y": null,
       "padding": null,
       "right": null,
       "top": null,
       "visibility": null,
       "width": null
      }
     },
     "77bab7f5d84d4d5895fbdd1f0a627147": {
      "model_module": "@jupyter-widgets/controls",
      "model_module_version": "1.5.0",
      "model_name": "ProgressStyleModel",
      "state": {
       "_model_module": "@jupyter-widgets/controls",
       "_model_module_version": "1.5.0",
       "_model_name": "ProgressStyleModel",
       "_view_count": null,
       "_view_module": "@jupyter-widgets/base",
       "_view_module_version": "1.2.0",
       "_view_name": "StyleView",
       "bar_color": null,
       "description_width": ""
      }
     },
     "782ee1108bd545eeaac918f9c6bdb9ff": {
      "model_module": "@jupyter-widgets/controls",
      "model_module_version": "1.5.0",
      "model_name": "HTMLModel",
      "state": {
       "_dom_classes": [],
       "_model_module": "@jupyter-widgets/controls",
       "_model_module_version": "1.5.0",
       "_model_name": "HTMLModel",
       "_view_count": null,
       "_view_module": "@jupyter-widgets/controls",
       "_view_module_version": "1.5.0",
       "_view_name": "HTMLView",
       "description": "",
       "description_tooltip": null,
       "layout": "IPY_MODEL_4a23f1b570a74eaaa27085609759c14d",
       "placeholder": "​",
       "style": "IPY_MODEL_121af6f4e3d04715b7ac5492e7617b7a",
       "value": " 436M/436M [00:09&lt;00:00, 31.9MB/s]"
      }
     },
     "8168c10b83f642dab88887d55c999825": {
      "model_module": "@jupyter-widgets/controls",
      "model_module_version": "1.5.0",
      "model_name": "HTMLModel",
      "state": {
       "_dom_classes": [],
       "_model_module": "@jupyter-widgets/controls",
       "_model_module_version": "1.5.0",
       "_model_name": "HTMLModel",
       "_view_count": null,
       "_view_module": "@jupyter-widgets/controls",
       "_view_module_version": "1.5.0",
       "_view_name": "HTMLView",
       "description": "",
       "description_tooltip": null,
       "layout": "IPY_MODEL_122c7b3c424c4552abad437001b06119",
       "placeholder": "​",
       "style": "IPY_MODEL_106eae2b317b41b7a2c2a7aaa0d74824",
       "value": " 870/870 [00:00&lt;00:00, 32.6kB/s]"
      }
     },
     "85aa5a29f81447d7a4447bcfd8fc0a52": {
      "model_module": "@jupyter-widgets/base",
      "model_module_version": "1.2.0",
      "model_name": "LayoutModel",
      "state": {
       "_model_module": "@jupyter-widgets/base",
       "_model_module_version": "1.2.0",
       "_model_name": "LayoutModel",
       "_view_count": null,
       "_view_module": "@jupyter-widgets/base",
       "_view_module_version": "1.2.0",
       "_view_name": "LayoutView",
       "align_content": null,
       "align_items": null,
       "align_self": null,
       "border": null,
       "bottom": null,
       "display": null,
       "flex": null,
       "flex_flow": null,
       "grid_area": null,
       "grid_auto_columns": null,
       "grid_auto_flow": null,
       "grid_auto_rows": null,
       "grid_column": null,
       "grid_gap": null,
       "grid_row": null,
       "grid_template_areas": null,
       "grid_template_columns": null,
       "grid_template_rows": null,
       "height": null,
       "justify_content": null,
       "justify_items": null,
       "left": null,
       "margin": null,
       "max_height": null,
       "max_width": null,
       "min_height": null,
       "min_width": null,
       "object_fit": null,
       "object_position": null,
       "order": null,
       "overflow": null,
       "overflow_x": null,
       "overflow_y": null,
       "padding": null,
       "right": null,
       "top": null,
       "visibility": null,
       "width": null
      }
     },
     "88d5c33d199a4a56a477afb410b17c79": {
      "model_module": "@jupyter-widgets/controls",
      "model_module_version": "1.5.0",
      "model_name": "DescriptionStyleModel",
      "state": {
       "_model_module": "@jupyter-widgets/controls",
       "_model_module_version": "1.5.0",
       "_model_name": "DescriptionStyleModel",
       "_view_count": null,
       "_view_module": "@jupyter-widgets/base",
       "_view_module_version": "1.2.0",
       "_view_name": "StyleView",
       "description_width": ""
      }
     },
     "89d782f574d04d8696116274371a8005": {
      "model_module": "@jupyter-widgets/controls",
      "model_module_version": "1.5.0",
      "model_name": "DescriptionStyleModel",
      "state": {
       "_model_module": "@jupyter-widgets/controls",
       "_model_module_version": "1.5.0",
       "_model_name": "DescriptionStyleModel",
       "_view_count": null,
       "_view_module": "@jupyter-widgets/base",
       "_view_module_version": "1.2.0",
       "_view_name": "StyleView",
       "description_width": ""
      }
     },
     "8bf1ebf30f814326870fca1fa8eb054b": {
      "model_module": "@jupyter-widgets/base",
      "model_module_version": "1.2.0",
      "model_name": "LayoutModel",
      "state": {
       "_model_module": "@jupyter-widgets/base",
       "_model_module_version": "1.2.0",
       "_model_name": "LayoutModel",
       "_view_count": null,
       "_view_module": "@jupyter-widgets/base",
       "_view_module_version": "1.2.0",
       "_view_name": "LayoutView",
       "align_content": null,
       "align_items": null,
       "align_self": null,
       "border": null,
       "bottom": null,
       "display": null,
       "flex": null,
       "flex_flow": null,
       "grid_area": null,
       "grid_auto_columns": null,
       "grid_auto_flow": null,
       "grid_auto_rows": null,
       "grid_column": null,
       "grid_gap": null,
       "grid_row": null,
       "grid_template_areas": null,
       "grid_template_columns": null,
       "grid_template_rows": null,
       "height": null,
       "justify_content": null,
       "justify_items": null,
       "left": null,
       "margin": null,
       "max_height": null,
       "max_width": null,
       "min_height": null,
       "min_width": null,
       "object_fit": null,
       "object_position": null,
       "order": null,
       "overflow": null,
       "overflow_x": null,
       "overflow_y": null,
       "padding": null,
       "right": null,
       "top": null,
       "visibility": null,
       "width": null
      }
     },
     "8d46c285a76546c1999a3110a0e63db0": {
      "model_module": "@jupyter-widgets/controls",
      "model_module_version": "1.5.0",
      "model_name": "HBoxModel",
      "state": {
       "_dom_classes": [],
       "_model_module": "@jupyter-widgets/controls",
       "_model_module_version": "1.5.0",
       "_model_name": "HBoxModel",
       "_view_count": null,
       "_view_module": "@jupyter-widgets/controls",
       "_view_module_version": "1.5.0",
       "_view_name": "HBoxView",
       "box_style": "",
       "children": [
        "IPY_MODEL_ddf60cf23e284cf7b81be546441dd7cc",
        "IPY_MODEL_1f69a8dea5f34388b01080df622ae2e2",
        "IPY_MODEL_782ee1108bd545eeaac918f9c6bdb9ff"
       ],
       "layout": "IPY_MODEL_2e929e5a68994fdc88fae13c1c0fecd1"
      }
     },
     "93440522beab415790df70b1339fe641": {
      "model_module": "@jupyter-widgets/controls",
      "model_module_version": "1.5.0",
      "model_name": "HTMLModel",
      "state": {
       "_dom_classes": [],
       "_model_module": "@jupyter-widgets/controls",
       "_model_module_version": "1.5.0",
       "_model_name": "HTMLModel",
       "_view_count": null,
       "_view_module": "@jupyter-widgets/controls",
       "_view_module_version": "1.5.0",
       "_view_name": "HTMLView",
       "description": "",
       "description_tooltip": null,
       "layout": "IPY_MODEL_4479ef9d346e4b90906b0eb1440241cc",
       "placeholder": "​",
       "style": "IPY_MODEL_88d5c33d199a4a56a477afb410b17c79",
       "value": "Downloading: 100%"
      }
     },
     "9a6e50ac369a4192b39b3cf5ec5c1b04": {
      "model_module": "@jupyter-widgets/controls",
      "model_module_version": "1.5.0",
      "model_name": "HTMLModel",
      "state": {
       "_dom_classes": [],
       "_model_module": "@jupyter-widgets/controls",
       "_model_module_version": "1.5.0",
       "_model_name": "HTMLModel",
       "_view_count": null,
       "_view_module": "@jupyter-widgets/controls",
       "_view_module_version": "1.5.0",
       "_view_name": "HTMLView",
       "description": "",
       "description_tooltip": null,
       "layout": "IPY_MODEL_f3cb00434f6041798bcb104b773e4b42",
       "placeholder": "​",
       "style": "IPY_MODEL_89d782f574d04d8696116274371a8005",
       "value": " 480k/480k [00:00&lt;00:00, 1.60MB/s]"
      }
     },
     "9a9e5b8a1dcf480ea205cad5ba89ca01": {
      "model_module": "@jupyter-widgets/base",
      "model_module_version": "1.2.0",
      "model_name": "LayoutModel",
      "state": {
       "_model_module": "@jupyter-widgets/base",
       "_model_module_version": "1.2.0",
       "_model_name": "LayoutModel",
       "_view_count": null,
       "_view_module": "@jupyter-widgets/base",
       "_view_module_version": "1.2.0",
       "_view_name": "LayoutView",
       "align_content": null,
       "align_items": null,
       "align_self": null,
       "border": null,
       "bottom": null,
       "display": null,
       "flex": null,
       "flex_flow": null,
       "grid_area": null,
       "grid_auto_columns": null,
       "grid_auto_flow": null,
       "grid_auto_rows": null,
       "grid_column": null,
       "grid_gap": null,
       "grid_row": null,
       "grid_template_areas": null,
       "grid_template_columns": null,
       "grid_template_rows": null,
       "height": null,
       "justify_content": null,
       "justify_items": null,
       "left": null,
       "margin": null,
       "max_height": null,
       "max_width": null,
       "min_height": null,
       "min_width": null,
       "object_fit": null,
       "object_position": null,
       "order": null,
       "overflow": null,
       "overflow_x": null,
       "overflow_y": null,
       "padding": null,
       "right": null,
       "top": null,
       "visibility": null,
       "width": null
      }
     },
     "9e780b8c1f42419fac31f8da2512e503": {
      "model_module": "@jupyter-widgets/controls",
      "model_module_version": "1.5.0",
      "model_name": "DescriptionStyleModel",
      "state": {
       "_model_module": "@jupyter-widgets/controls",
       "_model_module_version": "1.5.0",
       "_model_name": "DescriptionStyleModel",
       "_view_count": null,
       "_view_module": "@jupyter-widgets/base",
       "_view_module_version": "1.2.0",
       "_view_name": "StyleView",
       "description_width": ""
      }
     },
     "9ed5f9e5113f40e3943644fd7267ecfd": {
      "model_module": "@jupyter-widgets/controls",
      "model_module_version": "1.5.0",
      "model_name": "DescriptionStyleModel",
      "state": {
       "_model_module": "@jupyter-widgets/controls",
       "_model_module_version": "1.5.0",
       "_model_name": "DescriptionStyleModel",
       "_view_count": null,
       "_view_module": "@jupyter-widgets/base",
       "_view_module_version": "1.2.0",
       "_view_name": "StyleView",
       "description_width": ""
      }
     },
     "a0a066545f5c45b89da3fec10425c0b6": {
      "model_module": "@jupyter-widgets/controls",
      "model_module_version": "1.5.0",
      "model_name": "DescriptionStyleModel",
      "state": {
       "_model_module": "@jupyter-widgets/controls",
       "_model_module_version": "1.5.0",
       "_model_name": "DescriptionStyleModel",
       "_view_count": null,
       "_view_module": "@jupyter-widgets/base",
       "_view_module_version": "1.2.0",
       "_view_name": "StyleView",
       "description_width": ""
      }
     },
     "a99721bbce0d461e938d59201e37ce9a": {
      "model_module": "@jupyter-widgets/controls",
      "model_module_version": "1.5.0",
      "model_name": "DescriptionStyleModel",
      "state": {
       "_model_module": "@jupyter-widgets/controls",
       "_model_module_version": "1.5.0",
       "_model_name": "DescriptionStyleModel",
       "_view_count": null,
       "_view_module": "@jupyter-widgets/base",
       "_view_module_version": "1.2.0",
       "_view_name": "StyleView",
       "description_width": ""
      }
     },
     "ac98cbbf81974b79a23f017ff99f7eec": {
      "model_module": "@jupyter-widgets/controls",
      "model_module_version": "1.5.0",
      "model_name": "HTMLModel",
      "state": {
       "_dom_classes": [],
       "_model_module": "@jupyter-widgets/controls",
       "_model_module_version": "1.5.0",
       "_model_name": "HTMLModel",
       "_view_count": null,
       "_view_module": "@jupyter-widgets/controls",
       "_view_module_version": "1.5.0",
       "_view_name": "HTMLView",
       "description": "",
       "description_tooltip": null,
       "layout": "IPY_MODEL_85aa5a29f81447d7a4447bcfd8fc0a52",
       "placeholder": "​",
       "style": "IPY_MODEL_a99721bbce0d461e938d59201e37ce9a",
       "value": "Downloading: 100%"
      }
     },
     "acfcd58b395d4f14863daab6a09c7e21": {
      "model_module": "@jupyter-widgets/base",
      "model_module_version": "1.2.0",
      "model_name": "LayoutModel",
      "state": {
       "_model_module": "@jupyter-widgets/base",
       "_model_module_version": "1.2.0",
       "_model_name": "LayoutModel",
       "_view_count": null,
       "_view_module": "@jupyter-widgets/base",
       "_view_module_version": "1.2.0",
       "_view_name": "LayoutView",
       "align_content": null,
       "align_items": null,
       "align_self": null,
       "border": null,
       "bottom": null,
       "display": null,
       "flex": null,
       "flex_flow": null,
       "grid_area": null,
       "grid_auto_columns": null,
       "grid_auto_flow": null,
       "grid_auto_rows": null,
       "grid_column": null,
       "grid_gap": null,
       "grid_row": null,
       "grid_template_areas": null,
       "grid_template_columns": null,
       "grid_template_rows": null,
       "height": null,
       "justify_content": null,
       "justify_items": null,
       "left": null,
       "margin": null,
       "max_height": null,
       "max_width": null,
       "min_height": null,
       "min_width": null,
       "object_fit": null,
       "object_position": null,
       "order": null,
       "overflow": null,
       "overflow_x": null,
       "overflow_y": null,
       "padding": null,
       "right": null,
       "top": null,
       "visibility": null,
       "width": null
      }
     },
     "afbba6a4ec7747bea2009cc769ab61c3": {
      "model_module": "@jupyter-widgets/controls",
      "model_module_version": "1.5.0",
      "model_name": "DescriptionStyleModel",
      "state": {
       "_model_module": "@jupyter-widgets/controls",
       "_model_module_version": "1.5.0",
       "_model_name": "DescriptionStyleModel",
       "_view_count": null,
       "_view_module": "@jupyter-widgets/base",
       "_view_module_version": "1.2.0",
       "_view_name": "StyleView",
       "description_width": ""
      }
     },
     "b0a406da1c344a0989512b1ae004a5b5": {
      "model_module": "@jupyter-widgets/controls",
      "model_module_version": "1.5.0",
      "model_name": "HTMLModel",
      "state": {
       "_dom_classes": [],
       "_model_module": "@jupyter-widgets/controls",
       "_model_module_version": "1.5.0",
       "_model_name": "HTMLModel",
       "_view_count": null,
       "_view_module": "@jupyter-widgets/controls",
       "_view_module_version": "1.5.0",
       "_view_name": "HTMLView",
       "description": "",
       "description_tooltip": null,
       "layout": "IPY_MODEL_775b236b78ee422a96878b0f1623b56b",
       "placeholder": "​",
       "style": "IPY_MODEL_e70e1bb25412464a96b7c554c7c83886",
       "value": "Downloading: 100%"
      }
     },
     "b2e1e5c169c341eba5359cd6cf7d23ff": {
      "model_module": "@jupyter-widgets/controls",
      "model_module_version": "1.5.0",
      "model_name": "HTMLModel",
      "state": {
       "_dom_classes": [],
       "_model_module": "@jupyter-widgets/controls",
       "_model_module_version": "1.5.0",
       "_model_name": "HTMLModel",
       "_view_count": null,
       "_view_module": "@jupyter-widgets/controls",
       "_view_module_version": "1.5.0",
       "_view_name": "HTMLView",
       "description": "",
       "description_tooltip": null,
       "layout": "IPY_MODEL_3f0612f8a5bd4c9c8bd3bd09bd6a355c",
       "placeholder": "​",
       "style": "IPY_MODEL_a0a066545f5c45b89da3fec10425c0b6",
       "value": " 236k/236k [00:00&lt;00:00, 1.21MB/s]"
      }
     },
     "b90e6e57d90740d0926727abb9023631": {
      "model_module": "@jupyter-widgets/base",
      "model_module_version": "1.2.0",
      "model_name": "LayoutModel",
      "state": {
       "_model_module": "@jupyter-widgets/base",
       "_model_module_version": "1.2.0",
       "_model_name": "LayoutModel",
       "_view_count": null,
       "_view_module": "@jupyter-widgets/base",
       "_view_module_version": "1.2.0",
       "_view_name": "LayoutView",
       "align_content": null,
       "align_items": null,
       "align_self": null,
       "border": null,
       "bottom": null,
       "display": null,
       "flex": null,
       "flex_flow": null,
       "grid_area": null,
       "grid_auto_columns": null,
       "grid_auto_flow": null,
       "grid_auto_rows": null,
       "grid_column": null,
       "grid_gap": null,
       "grid_row": null,
       "grid_template_areas": null,
       "grid_template_columns": null,
       "grid_template_rows": null,
       "height": null,
       "justify_content": null,
       "justify_items": null,
       "left": null,
       "margin": null,
       "max_height": null,
       "max_width": null,
       "min_height": null,
       "min_width": null,
       "object_fit": null,
       "object_position": null,
       "order": null,
       "overflow": null,
       "overflow_x": null,
       "overflow_y": null,
       "padding": null,
       "right": null,
       "top": null,
       "visibility": null,
       "width": null
      }
     },
     "bcf02ecc7fff4ada9b6337a293c841b9": {
      "model_module": "@jupyter-widgets/controls",
      "model_module_version": "1.5.0",
      "model_name": "HBoxModel",
      "state": {
       "_dom_classes": [],
       "_model_module": "@jupyter-widgets/controls",
       "_model_module_version": "1.5.0",
       "_model_name": "HBoxModel",
       "_view_count": null,
       "_view_module": "@jupyter-widgets/controls",
       "_view_module_version": "1.5.0",
       "_view_name": "HBoxView",
       "box_style": "",
       "children": [
        "IPY_MODEL_93440522beab415790df70b1339fe641",
        "IPY_MODEL_2f0055fcb9634f69a4c0aa30af7fd8fd",
        "IPY_MODEL_8168c10b83f642dab88887d55c999825"
       ],
       "layout": "IPY_MODEL_69c72755cd0b4b6fb1b6079d16a2a58f"
      }
     },
     "c6852b9a3c43432ca229208909e498c4": {
      "model_module": "@jupyter-widgets/base",
      "model_module_version": "1.2.0",
      "model_name": "LayoutModel",
      "state": {
       "_model_module": "@jupyter-widgets/base",
       "_model_module_version": "1.2.0",
       "_model_name": "LayoutModel",
       "_view_count": null,
       "_view_module": "@jupyter-widgets/base",
       "_view_module_version": "1.2.0",
       "_view_name": "LayoutView",
       "align_content": null,
       "align_items": null,
       "align_self": null,
       "border": null,
       "bottom": null,
       "display": null,
       "flex": null,
       "flex_flow": null,
       "grid_area": null,
       "grid_auto_columns": null,
       "grid_auto_flow": null,
       "grid_auto_rows": null,
       "grid_column": null,
       "grid_gap": null,
       "grid_row": null,
       "grid_template_areas": null,
       "grid_template_columns": null,
       "grid_template_rows": null,
       "height": null,
       "justify_content": null,
       "justify_items": null,
       "left": null,
       "margin": null,
       "max_height": null,
       "max_width": null,
       "min_height": null,
       "min_width": null,
       "object_fit": null,
       "object_position": null,
       "order": null,
       "overflow": null,
       "overflow_x": null,
       "overflow_y": null,
       "padding": null,
       "right": null,
       "top": null,
       "visibility": null,
       "width": null
      }
     },
     "c8e471e463824922a91bc9bc59db069a": {
      "model_module": "@jupyter-widgets/base",
      "model_module_version": "1.2.0",
      "model_name": "LayoutModel",
      "state": {
       "_model_module": "@jupyter-widgets/base",
       "_model_module_version": "1.2.0",
       "_model_name": "LayoutModel",
       "_view_count": null,
       "_view_module": "@jupyter-widgets/base",
       "_view_module_version": "1.2.0",
       "_view_name": "LayoutView",
       "align_content": null,
       "align_items": null,
       "align_self": null,
       "border": null,
       "bottom": null,
       "display": null,
       "flex": null,
       "flex_flow": null,
       "grid_area": null,
       "grid_auto_columns": null,
       "grid_auto_flow": null,
       "grid_auto_rows": null,
       "grid_column": null,
       "grid_gap": null,
       "grid_row": null,
       "grid_template_areas": null,
       "grid_template_columns": null,
       "grid_template_rows": null,
       "height": null,
       "justify_content": null,
       "justify_items": null,
       "left": null,
       "margin": null,
       "max_height": null,
       "max_width": null,
       "min_height": null,
       "min_width": null,
       "object_fit": null,
       "object_position": null,
       "order": null,
       "overflow": null,
       "overflow_x": null,
       "overflow_y": null,
       "padding": null,
       "right": null,
       "top": null,
       "visibility": null,
       "width": null
      }
     },
     "cd2c36ed4661457f9d8213aeefcbf728": {
      "model_module": "@jupyter-widgets/controls",
      "model_module_version": "1.5.0",
      "model_name": "FloatProgressModel",
      "state": {
       "_dom_classes": [],
       "_model_module": "@jupyter-widgets/controls",
       "_model_module_version": "1.5.0",
       "_model_name": "FloatProgressModel",
       "_view_count": null,
       "_view_module": "@jupyter-widgets/controls",
       "_view_module_version": "1.5.0",
       "_view_name": "ProgressView",
       "bar_style": "success",
       "description": "",
       "description_tooltip": null,
       "layout": "IPY_MODEL_acfcd58b395d4f14863daab6a09c7e21",
       "max": 241171,
       "min": 0,
       "orientation": "horizontal",
       "style": "IPY_MODEL_4120e55127eb44d49f5bf9d2af53b6ce",
       "value": 241171
      }
     },
     "d0342d024fa5470aa0ab9f5461a8f8ba": {
      "model_module": "@jupyter-widgets/base",
      "model_module_version": "1.2.0",
      "model_name": "LayoutModel",
      "state": {
       "_model_module": "@jupyter-widgets/base",
       "_model_module_version": "1.2.0",
       "_model_name": "LayoutModel",
       "_view_count": null,
       "_view_module": "@jupyter-widgets/base",
       "_view_module_version": "1.2.0",
       "_view_name": "LayoutView",
       "align_content": null,
       "align_items": null,
       "align_self": null,
       "border": null,
       "bottom": null,
       "display": null,
       "flex": null,
       "flex_flow": null,
       "grid_area": null,
       "grid_auto_columns": null,
       "grid_auto_flow": null,
       "grid_auto_rows": null,
       "grid_column": null,
       "grid_gap": null,
       "grid_row": null,
       "grid_template_areas": null,
       "grid_template_columns": null,
       "grid_template_rows": null,
       "height": null,
       "justify_content": null,
       "justify_items": null,
       "left": null,
       "margin": null,
       "max_height": null,
       "max_width": null,
       "min_height": null,
       "min_width": null,
       "object_fit": null,
       "object_position": null,
       "order": null,
       "overflow": null,
       "overflow_x": null,
       "overflow_y": null,
       "padding": null,
       "right": null,
       "top": null,
       "visibility": null,
       "width": null
      }
     },
     "dd2a59525e3e4eb7bb565db6f590c4de": {
      "model_module": "@jupyter-widgets/controls",
      "model_module_version": "1.5.0",
      "model_name": "ProgressStyleModel",
      "state": {
       "_model_module": "@jupyter-widgets/controls",
       "_model_module_version": "1.5.0",
       "_model_name": "ProgressStyleModel",
       "_view_count": null,
       "_view_module": "@jupyter-widgets/base",
       "_view_module_version": "1.2.0",
       "_view_name": "StyleView",
       "bar_color": null,
       "description_width": ""
      }
     },
     "ddf60cf23e284cf7b81be546441dd7cc": {
      "model_module": "@jupyter-widgets/controls",
      "model_module_version": "1.5.0",
      "model_name": "HTMLModel",
      "state": {
       "_dom_classes": [],
       "_model_module": "@jupyter-widgets/controls",
       "_model_module_version": "1.5.0",
       "_model_name": "HTMLModel",
       "_view_count": null,
       "_view_module": "@jupyter-widgets/controls",
       "_view_module_version": "1.5.0",
       "_view_name": "HTMLView",
       "description": "",
       "description_tooltip": null,
       "layout": "IPY_MODEL_4b4a92342f2c487696dba9bcdcf631a6",
       "placeholder": "​",
       "style": "IPY_MODEL_9e780b8c1f42419fac31f8da2512e503",
       "value": "Downloading: 100%"
      }
     },
     "e06c87a901c540218940b81abb917c27": {
      "model_module": "@jupyter-widgets/controls",
      "model_module_version": "1.5.0",
      "model_name": "HTMLModel",
      "state": {
       "_dom_classes": [],
       "_model_module": "@jupyter-widgets/controls",
       "_model_module_version": "1.5.0",
       "_model_name": "HTMLModel",
       "_view_count": null,
       "_view_module": "@jupyter-widgets/controls",
       "_view_module_version": "1.5.0",
       "_view_name": "HTMLView",
       "description": "",
       "description_tooltip": null,
       "layout": "IPY_MODEL_f541a834b2224337bc8258322154f4c5",
       "placeholder": "​",
       "style": "IPY_MODEL_afbba6a4ec7747bea2009cc769ab61c3",
       "value": "Downloading: 100%"
      }
     },
     "e0b72d4e0c694b9eba09deedc7469256": {
      "model_module": "@jupyter-widgets/base",
      "model_module_version": "1.2.0",
      "model_name": "LayoutModel",
      "state": {
       "_model_module": "@jupyter-widgets/base",
       "_model_module_version": "1.2.0",
       "_model_name": "LayoutModel",
       "_view_count": null,
       "_view_module": "@jupyter-widgets/base",
       "_view_module_version": "1.2.0",
       "_view_name": "LayoutView",
       "align_content": null,
       "align_items": null,
       "align_self": null,
       "border": null,
       "bottom": null,
       "display": null,
       "flex": null,
       "flex_flow": null,
       "grid_area": null,
       "grid_auto_columns": null,
       "grid_auto_flow": null,
       "grid_auto_rows": null,
       "grid_column": null,
       "grid_gap": null,
       "grid_row": null,
       "grid_template_areas": null,
       "grid_template_columns": null,
       "grid_template_rows": null,
       "height": null,
       "justify_content": null,
       "justify_items": null,
       "left": null,
       "margin": null,
       "max_height": null,
       "max_width": null,
       "min_height": null,
       "min_width": null,
       "object_fit": null,
       "object_position": null,
       "order": null,
       "overflow": null,
       "overflow_x": null,
       "overflow_y": null,
       "padding": null,
       "right": null,
       "top": null,
       "visibility": null,
       "width": null
      }
     },
     "e2c8d806b0cd4a1a844856a3ef6faca5": {
      "model_module": "@jupyter-widgets/controls",
      "model_module_version": "1.5.0",
      "model_name": "HBoxModel",
      "state": {
       "_dom_classes": [],
       "_model_module": "@jupyter-widgets/controls",
       "_model_module_version": "1.5.0",
       "_model_name": "HBoxModel",
       "_view_count": null,
       "_view_module": "@jupyter-widgets/controls",
       "_view_module_version": "1.5.0",
       "_view_name": "HBoxView",
       "box_style": "",
       "children": [
        "IPY_MODEL_ac98cbbf81974b79a23f017ff99f7eec",
        "IPY_MODEL_cd2c36ed4661457f9d8213aeefcbf728",
        "IPY_MODEL_b2e1e5c169c341eba5359cd6cf7d23ff"
       ],
       "layout": "IPY_MODEL_24ab2e7cb39344629c7f553667b024b3"
      }
     },
     "e70e1bb25412464a96b7c554c7c83886": {
      "model_module": "@jupyter-widgets/controls",
      "model_module_version": "1.5.0",
      "model_name": "DescriptionStyleModel",
      "state": {
       "_model_module": "@jupyter-widgets/controls",
       "_model_module_version": "1.5.0",
       "_model_name": "DescriptionStyleModel",
       "_view_count": null,
       "_view_module": "@jupyter-widgets/base",
       "_view_module_version": "1.2.0",
       "_view_name": "StyleView",
       "description_width": ""
      }
     },
     "f17d9392da274469a347b8e4d8940a46": {
      "model_module": "@jupyter-widgets/base",
      "model_module_version": "1.2.0",
      "model_name": "LayoutModel",
      "state": {
       "_model_module": "@jupyter-widgets/base",
       "_model_module_version": "1.2.0",
       "_model_name": "LayoutModel",
       "_view_count": null,
       "_view_module": "@jupyter-widgets/base",
       "_view_module_version": "1.2.0",
       "_view_name": "LayoutView",
       "align_content": null,
       "align_items": null,
       "align_self": null,
       "border": null,
       "bottom": null,
       "display": null,
       "flex": null,
       "flex_flow": null,
       "grid_area": null,
       "grid_auto_columns": null,
       "grid_auto_flow": null,
       "grid_auto_rows": null,
       "grid_column": null,
       "grid_gap": null,
       "grid_row": null,
       "grid_template_areas": null,
       "grid_template_columns": null,
       "grid_template_rows": null,
       "height": null,
       "justify_content": null,
       "justify_items": null,
       "left": null,
       "margin": null,
       "max_height": null,
       "max_width": null,
       "min_height": null,
       "min_width": null,
       "object_fit": null,
       "object_position": null,
       "order": null,
       "overflow": null,
       "overflow_x": null,
       "overflow_y": null,
       "padding": null,
       "right": null,
       "top": null,
       "visibility": null,
       "width": null
      }
     },
     "f3cb00434f6041798bcb104b773e4b42": {
      "model_module": "@jupyter-widgets/base",
      "model_module_version": "1.2.0",
      "model_name": "LayoutModel",
      "state": {
       "_model_module": "@jupyter-widgets/base",
       "_model_module_version": "1.2.0",
       "_model_name": "LayoutModel",
       "_view_count": null,
       "_view_module": "@jupyter-widgets/base",
       "_view_module_version": "1.2.0",
       "_view_name": "LayoutView",
       "align_content": null,
       "align_items": null,
       "align_self": null,
       "border": null,
       "bottom": null,
       "display": null,
       "flex": null,
       "flex_flow": null,
       "grid_area": null,
       "grid_auto_columns": null,
       "grid_auto_flow": null,
       "grid_auto_rows": null,
       "grid_column": null,
       "grid_gap": null,
       "grid_row": null,
       "grid_template_areas": null,
       "grid_template_columns": null,
       "grid_template_rows": null,
       "height": null,
       "justify_content": null,
       "justify_items": null,
       "left": null,
       "margin": null,
       "max_height": null,
       "max_width": null,
       "min_height": null,
       "min_width": null,
       "object_fit": null,
       "object_position": null,
       "order": null,
       "overflow": null,
       "overflow_x": null,
       "overflow_y": null,
       "padding": null,
       "right": null,
       "top": null,
       "visibility": null,
       "width": null
      }
     },
     "f541a834b2224337bc8258322154f4c5": {
      "model_module": "@jupyter-widgets/base",
      "model_module_version": "1.2.0",
      "model_name": "LayoutModel",
      "state": {
       "_model_module": "@jupyter-widgets/base",
       "_model_module_version": "1.2.0",
       "_model_name": "LayoutModel",
       "_view_count": null,
       "_view_module": "@jupyter-widgets/base",
       "_view_module_version": "1.2.0",
       "_view_name": "LayoutView",
       "align_content": null,
       "align_items": null,
       "align_self": null,
       "border": null,
       "bottom": null,
       "display": null,
       "flex": null,
       "flex_flow": null,
       "grid_area": null,
       "grid_auto_columns": null,
       "grid_auto_flow": null,
       "grid_auto_rows": null,
       "grid_column": null,
       "grid_gap": null,
       "grid_row": null,
       "grid_template_areas": null,
       "grid_template_columns": null,
       "grid_template_rows": null,
       "height": null,
       "justify_content": null,
       "justify_items": null,
       "left": null,
       "margin": null,
       "max_height": null,
       "max_width": null,
       "min_height": null,
       "min_width": null,
       "object_fit": null,
       "object_position": null,
       "order": null,
       "overflow": null,
       "overflow_x": null,
       "overflow_y": null,
       "padding": null,
       "right": null,
       "top": null,
       "visibility": null,
       "width": null
      }
     },
     "f6f50cdaaf70400da0209a75db04b4bd": {
      "model_module": "@jupyter-widgets/controls",
      "model_module_version": "1.5.0",
      "model_name": "FloatProgressModel",
      "state": {
       "_dom_classes": [],
       "_model_module": "@jupyter-widgets/controls",
       "_model_module_version": "1.5.0",
       "_model_name": "FloatProgressModel",
       "_view_count": null,
       "_view_module": "@jupyter-widgets/controls",
       "_view_module_version": "1.5.0",
       "_view_name": "ProgressView",
       "bar_style": "success",
       "description": "",
       "description_tooltip": null,
       "layout": "IPY_MODEL_5adb6a45968246b493f250c3e76e187d",
       "max": 373,
       "min": 0,
       "orientation": "horizontal",
       "style": "IPY_MODEL_dd2a59525e3e4eb7bb565db6f590c4de",
       "value": 373
      }
     },
     "f9571d13e34541198ca1b75bc1b10b5b": {
      "model_module": "@jupyter-widgets/controls",
      "model_module_version": "1.5.0",
      "model_name": "HTMLModel",
      "state": {
       "_dom_classes": [],
       "_model_module": "@jupyter-widgets/controls",
       "_model_module_version": "1.5.0",
       "_model_name": "HTMLModel",
       "_view_count": null,
       "_view_module": "@jupyter-widgets/controls",
       "_view_module_version": "1.5.0",
       "_view_name": "HTMLView",
       "description": "",
       "description_tooltip": null,
       "layout": "IPY_MODEL_c8e471e463824922a91bc9bc59db069a",
       "placeholder": "​",
       "style": "IPY_MODEL_9ed5f9e5113f40e3943644fd7267ecfd",
       "value": " 169/169 [00:00&lt;00:00, 6.32kB/s]"
      }
     }
    },
    "version_major": 2,
    "version_minor": 0
   }
  }
 },
 "nbformat": 4,
 "nbformat_minor": 5
}
