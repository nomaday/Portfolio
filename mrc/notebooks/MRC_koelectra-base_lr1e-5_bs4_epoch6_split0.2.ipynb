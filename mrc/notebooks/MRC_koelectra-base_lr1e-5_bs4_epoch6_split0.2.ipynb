{
 "cells": [
  {
   "cell_type": "markdown",
   "id": "74d0cf9f-03f5-4446-be51-a96049fa0121",
   "metadata": {
    "id": "74d0cf9f-03f5-4446-be51-a96049fa0121"
   },
   "source": [
    "# 문서 검색 효율화를 위한 기계독해\n",
    "- 1차 모의경진대회(22.11.14 ~ 22.11.25)\n",
    "- 자연어 기계독해(Machine Reading Comprehension) 과제"
   ]
  },
  {
   "cell_type": "markdown",
   "id": "NWNHSk-pSskv",
   "metadata": {
    "id": "NWNHSk-pSskv"
   },
   "source": [
    "## 데이터 구조\n",
    "\n",
    "```\n",
    "$ MRC/\n",
    "├── DATA/\n",
    "│   ├── train.json\n",
    "│   ├── test.json\n",
    "│   └── sample_submission.csv\n",
    "├── prediction.csv (코드 실행 후 생성)\n",
    "├── results/ (코드 실행 후 생성)\n",
    "```"
   ]
  },
  {
   "cell_type": "code",
   "execution_count": 2,
   "id": "44d6d0e6-3f2c-4c26-a1ad-f24009eef4f9",
   "metadata": {},
   "outputs": [
    {
     "name": "stdout",
     "output_type": "stream",
     "text": [
      "Mon Nov 21 23:19:50 2022       \n",
      "+-----------------------------------------------------------------------------+\n",
      "| NVIDIA-SMI 410.72       Driver Version: 410.72       CUDA Version: 10.2     |\n",
      "|-------------------------------+----------------------+----------------------+\n",
      "| GPU  Name        Persistence-M| Bus-Id        Disp.A | Volatile Uncorr. ECC |\n",
      "| Fan  Temp  Perf  Pwr:Usage/Cap|         Memory-Usage | GPU-Util  Compute M. |\n",
      "|===============================+======================+======================|\n",
      "|   0  Tesla V100-PCIE...  Off  | 00000000:3B:00.0 Off |                    0 |\n",
      "| N/A   28C    P0    24W / 250W |      0MiB / 32480MiB |      0%      Default |\n",
      "+-------------------------------+----------------------+----------------------+\n",
      "                                                                               \n",
      "+-----------------------------------------------------------------------------+\n",
      "| Processes:                                                       GPU Memory |\n",
      "|  GPU       PID   Type   Process name                             Usage      |\n",
      "|=============================================================================|\n",
      "|  No running processes found                                                 |\n",
      "+-----------------------------------------------------------------------------+\n"
     ]
    }
   ],
   "source": [
    "!nvidia-smi"
   ]
  },
  {
   "cell_type": "markdown",
   "id": "xidLcL3yK3wm",
   "metadata": {
    "id": "xidLcL3yK3wm"
   },
   "source": [
    "# 0. 사전 준비"
   ]
  },
  {
   "cell_type": "markdown",
   "id": "qPmVS-p6K992",
   "metadata": {
    "id": "qPmVS-p6K992"
   },
   "source": [
    "## 0.1 구글 드라이브 마운트"
   ]
  },
  {
   "cell_type": "code",
   "execution_count": 3,
   "id": "VHgjTjglFXf8",
   "metadata": {
    "colab": {
     "base_uri": "https://localhost:8080/"
    },
    "id": "VHgjTjglFXf8",
    "outputId": "0592eaac-8edc-4380-b149-edcbe11e7efa"
   },
   "outputs": [],
   "source": [
    "# # 구글 Colaboratory 를 사용하기 위해 구글 계정으로 로그인합니다. \n",
    "# from google.colab import drive\n",
    "# drive.mount('/content/drive')"
   ]
  },
  {
   "cell_type": "markdown",
   "id": "bYuiNxj7LQgH",
   "metadata": {
    "id": "bYuiNxj7LQgH"
   },
   "source": [
    "## 0.2 라이브러리 설치"
   ]
  },
  {
   "cell_type": "code",
   "execution_count": 4,
   "id": "OchkeVlBLK_8",
   "metadata": {
    "colab": {
     "base_uri": "https://localhost:8080/"
    },
    "id": "OchkeVlBLK_8",
    "outputId": "06cab17a-662d-473a-bd86-655fa5e5d078"
   },
   "outputs": [
    {
     "name": "stdout",
     "output_type": "stream",
     "text": [
      "Requirement already satisfied: transformers in /opt/conda/lib/python3.8/site-packages (4.24.0)\n",
      "Requirement already satisfied: requests in /opt/conda/lib/python3.8/site-packages (from transformers) (2.28.1)\n",
      "Requirement already satisfied: huggingface-hub<1.0,>=0.10.0 in /opt/conda/lib/python3.8/site-packages (from transformers) (0.11.0)\n",
      "Requirement already satisfied: tqdm>=4.27 in /opt/conda/lib/python3.8/site-packages (from transformers) (4.64.1)\n",
      "Requirement already satisfied: filelock in /opt/conda/lib/python3.8/site-packages (from transformers) (3.8.0)\n",
      "Requirement already satisfied: regex!=2019.12.17 in /opt/conda/lib/python3.8/site-packages (from transformers) (2022.10.31)\n",
      "Requirement already satisfied: packaging>=20.0 in /opt/conda/lib/python3.8/site-packages (from transformers) (21.3)\n",
      "Requirement already satisfied: tokenizers!=0.11.3,<0.14,>=0.11.1 in /opt/conda/lib/python3.8/site-packages (from transformers) (0.13.2)\n",
      "Requirement already satisfied: pyyaml>=5.1 in /opt/conda/lib/python3.8/site-packages (from transformers) (6.0)\n",
      "Requirement already satisfied: numpy>=1.17 in /opt/conda/lib/python3.8/site-packages (from transformers) (1.23.3)\n",
      "Requirement already satisfied: typing-extensions>=3.7.4.3 in /opt/conda/lib/python3.8/site-packages (from huggingface-hub<1.0,>=0.10.0->transformers) (4.3.0)\n",
      "Requirement already satisfied: pyparsing!=3.0.5,>=2.0.2 in /opt/conda/lib/python3.8/site-packages (from packaging>=20.0->transformers) (3.0.9)\n",
      "Requirement already satisfied: urllib3<1.27,>=1.21.1 in /opt/conda/lib/python3.8/site-packages (from requests->transformers) (1.26.11)\n",
      "Requirement already satisfied: charset-normalizer<3,>=2 in /opt/conda/lib/python3.8/site-packages (from requests->transformers) (2.1.1)\n",
      "Requirement already satisfied: idna<4,>=2.5 in /opt/conda/lib/python3.8/site-packages (from requests->transformers) (3.4)\n",
      "Requirement already satisfied: certifi>=2017.4.17 in /opt/conda/lib/python3.8/site-packages (from requests->transformers) (2022.9.14)\n"
     ]
    }
   ],
   "source": [
    "!pip install transformers"
   ]
  },
  {
   "cell_type": "markdown",
   "id": "420e527f-ff52-4bb3-a260-565fe2f91e2d",
   "metadata": {
    "id": "420e527f-ff52-4bb3-a260-565fe2f91e2d"
   },
   "source": [
    "## 1. 라이브러리 불러오기"
   ]
  },
  {
   "cell_type": "code",
   "execution_count": 5,
   "id": "5b80416a-1082-4ae9-8057-18eb163dfc15",
   "metadata": {
    "id": "5b80416a-1082-4ae9-8057-18eb163dfc15"
   },
   "outputs": [],
   "source": [
    "import os\n",
    "import sys\n",
    "import csv\n",
    "import copy\n",
    "import json\n",
    "import random\n",
    "import shutil\n",
    "import numpy as np\n",
    "import pandas as pd\n",
    "from time import time\n",
    "from tqdm import tqdm\n",
    "from sklearn.metrics import accuracy_score\n",
    "from datetime import datetime, timezone, timedelta\n",
    "\n",
    "from transformers import ElectraTokenizerFast, ElectraTokenizer\n",
    "from transformers import ElectraForQuestionAnswering\n",
    "\n",
    "###\n",
    "from transformers import ElectraModel\n",
    "from tokenizers import Encoding\n",
    "###\n",
    "\n",
    "\n",
    "import torch\n",
    "import torch.nn as nn\n",
    "import torch.optim as optim\n",
    "from torch.nn import functional as F\n",
    "from torch.utils.data import Dataset\n",
    "from torch.utils.data import DataLoader"
   ]
  },
  {
   "cell_type": "markdown",
   "id": "e031838b-d5ad-4887-ae60-07ff98a71a0a",
   "metadata": {
    "id": "e031838b-d5ad-4887-ae60-07ff98a71a0a"
   },
   "source": [
    "## 2. 하이퍼파라미터 및 기타 인자 설정"
   ]
  },
  {
   "cell_type": "markdown",
   "id": "9e7be91e-9928-453e-8aeb-a6af032b7dcb",
   "metadata": {
    "id": "9e7be91e-9928-453e-8aeb-a6af032b7dcb"
   },
   "source": [
    "### 2.1 데이터 경로"
   ]
  },
  {
   "cell_type": "code",
   "execution_count": 6,
   "id": "2bee580a-4c2a-42b4-9f1d-78b8d5e63981",
   "metadata": {
    "id": "2bee580a-4c2a-42b4-9f1d-78b8d5e63981"
   },
   "outputs": [],
   "source": [
    "PROJECT_DIR = './MRC'\n",
    "DATA_DIR= './MRC/DATA'"
   ]
  },
  {
   "cell_type": "markdown",
   "id": "f923389a-631d-4a17-8542-382fa0d6e68b",
   "metadata": {
    "id": "f923389a-631d-4a17-8542-382fa0d6e68b"
   },
   "source": [
    "### 2.2 시드 설정"
   ]
  },
  {
   "cell_type": "code",
   "execution_count": 7,
   "id": "97cb0fc4-cce7-45b7-876d-84d00a32f68c",
   "metadata": {
    "id": "97cb0fc4-cce7-45b7-876d-84d00a32f68c"
   },
   "outputs": [],
   "source": [
    "# 난수 생성기가 항상 일정한 값을 출력하게 하기 위해 seed 고정\n",
    "RANDOM_SEED = 42\n",
    "\n",
    "torch.manual_seed(RANDOM_SEED)\n",
    "torch.backends.cudnn.deterministic = True\n",
    "torch.backends.cudnn.benchmark = False\n",
    "np.random.seed(RANDOM_SEED)\n",
    "random.seed(RANDOM_SEED)"
   ]
  },
  {
   "cell_type": "markdown",
   "id": "88051bcc-8a4e-4552-af85-4fb62d9e2658",
   "metadata": {
    "id": "88051bcc-8a4e-4552-af85-4fb62d9e2658"
   },
   "source": [
    "### 2.3 하이퍼파라미터 설정"
   ]
  },
  {
   "cell_type": "code",
   "execution_count": 8,
   "id": "42d42463-8bf9-4ea7-a42a-72f763adb515",
   "metadata": {},
   "outputs": [],
   "source": [
    "LEARNING_RATE = 1e-5     # 학습률(learning rate)은 경사하강법(gradient descent)을 통해 내리막길을 내려갈 때의 보폭\n",
    "BATCH_SIZE = 4     # 배치(batch)는 모델의 가중치(weights)를 업데이트하는 학습 데이터의 단위. 여기서는 16개를 학습할 때마다 모델의 가중치(weights)를 업데이트한다는 것\n",
    "PIN_MEMORY = True\n",
    "NUM_WORKERS = 0\n",
    "EPOCHS = 6     # 에폭은 전체 학습 데이터를 학습에 사용하는 횟수. 주어진 학습 데이터를 여러번 학습할 수 있음\n",
    "DROP_LAST = False\n",
    "EARLY_STOPPING_MODE = min\n",
    "EARLY_STOPPING_PATIENCE = 10\n",
    "EARLY_STOPPING_TARGET = 'val_loss'     # validation set의 loss를 기준으로 early_stopping 여부를 결정할 것\n",
    "LOGGING_INTERVAL = 200"
   ]
  },
  {
   "cell_type": "markdown",
   "id": "01a3191b-b482-4f9f-85e0-be96c5f09824",
   "metadata": {
    "id": "01a3191b-b482-4f9f-85e0-be96c5f09824"
   },
   "source": [
    "### 2.4 디바이스 설정"
   ]
  },
  {
   "cell_type": "code",
   "execution_count": 9,
   "id": "626e7afa-2a56-4094-9e75-cfb3bec09606",
   "metadata": {
    "id": "626e7afa-2a56-4094-9e75-cfb3bec09606"
   },
   "outputs": [],
   "source": [
    "os.environ['CUDA_VISIBLE_DEVICES'] = \"0\"\n",
    "device = torch.device('cuda' if torch.cuda.is_available() else 'cpu')"
   ]
  },
  {
   "cell_type": "markdown",
   "id": "863de192-3f18-421f-a06f-a5964bdbeb87",
   "metadata": {
    "id": "863de192-3f18-421f-a06f-a5964bdbeb87"
   },
   "source": [
    "## 3. Dataset 정의"
   ]
  },
  {
   "cell_type": "code",
   "execution_count": 10,
   "id": "2c5fa64b-a355-43d2-95dc-94bb8605cc15",
   "metadata": {
    "id": "2c5fa64b-a355-43d2-95dc-94bb8605cc15"
   },
   "outputs": [],
   "source": [
    "class QADataset(Dataset):     # 데이터를 input으로 변환해주는 Dataset 클래스를 상속하여, QA(Question Answering) 과제에 맞게 커스터마이징한다\n",
    "    \n",
    "    def __init__ (self, data_dir: str, tokenizer, max_seq_len: int, mode = 'train'):     # Dataset 클래스는 기본적으로 __init__, __len__, __getitem__를 정의해 주어야 한다\n",
    "        self.mode = mode\n",
    "        self.data = json.load(open(data_dir, 'r', encoding='utf8'))\n",
    "        \n",
    "        self.tokenizer = tokenizer\n",
    "        self.max_seq_len = max_seq_len\n",
    "        \n",
    "        if mode == 'test':\n",
    "            self.encodings, self.question_ids = self.preprocess()\n",
    "        else:\n",
    "            self.encodings, self.answers = self.preprocess()\n",
    "        \n",
    "    def __len__(self):     # index를 통해 input을 순차적으로 읽어오기 위해서는 데이터의 길이가 먼저 확인되어야 한다. __len__ 함수는 input의 길이를 반환해주는 함수\n",
    "        return len(self.encodings.input_ids)\n",
    "\n",
    "    def __getitem__(self, index: int):     # input의 길이가 확인되면 index를 통해 데이터를 불러올 수 있다. __getitem__ 함수는 index에 해당하는 input 데이터를 반환해주는 함수\n",
    "        return {key: torch.tensor(val[index]) for key, val in self.encodings.items()}\n",
    "\n",
    "    \n",
    "    def preprocess(self):\n",
    "        contexts, questions, answers, question_ids = self.read_squad()     # SQuAD(Stanford Question Answering Dataset) 형식의 데이터에서 contexts, questions, answers, question_ids를 읽어오는 함수\n",
    "        if self.mode == 'test':\n",
    "            encodings = self.tokenizer(contexts, questions, truncation=True, max_length = self.max_seq_len, padding=True)\n",
    "            return encodings, question_ids\n",
    "        else: # train or val\n",
    "            self.add_end_idx(answers, contexts)     # train.json에는 질문에 대한 답이 context 내에서 시작되는 index인 'answer_srart'만 있기 때문에, 추가로 'answer_end'를 찾아주는 함수\n",
    "            encodings = self.tokenizer(contexts, questions, truncation=True, max_length = self.max_seq_len, padding=True)\n",
    "            self.add_token_positions(encodings, answers)\n",
    "        \n",
    "            return encodings, answers\n",
    "        \n",
    "    \n",
    "    def read_squad(self):     # SQuAD(Stanford Question Answering Dataset) 형식의 데이터에서 contexts, questions, answers, question_ids를 읽어오는 함수\n",
    "        contexts = []\n",
    "        questions = []\n",
    "        question_ids = []\n",
    "        answers = []\n",
    "        \n",
    "        # train - val split\n",
    "        if self.mode == 'train':\n",
    "            self.data['data'] = self.data['data'][:-1*int(len(self.data['data'])*0.2)]\n",
    "        elif self.mode == 'val':\n",
    "            self.data['data'] = self.data['data'][-1*int(len(self.data['data'])*0.2):]\n",
    "        \n",
    "        \n",
    "        till = len(self.data['data'])\n",
    "        \n",
    "\n",
    "        for group in self.data['data'][:till]:\n",
    "            for passage in group['paragraphs']:\n",
    "                context = passage['context']\n",
    "                for qa in passage['qas']:\n",
    "                    question = qa['question']\n",
    "                    if self.mode == 'test':\n",
    "                        contexts.append(context)\n",
    "                        questions.append(question)\n",
    "                        question_ids.append(qa['question_id'])\n",
    "                    else: # train or val\n",
    "                        for ans in qa['answers']:\n",
    "                            contexts.append(context)\n",
    "                            questions.append(question)\n",
    "\n",
    "                            if qa['is_impossible']:\n",
    "                                answers.append({'text':'','answer_start':-1})\n",
    "                            else:\n",
    "                                answers.append(ans)\n",
    "                \n",
    "        # return formatted data lists\n",
    "        return contexts, questions, answers, question_ids\n",
    "    \n",
    "    \n",
    "    def add_end_idx(self, answers, contexts):     # train.json에는 질문에 대한 답이 context 내에서 시작되는 index인 'answer_srart'만 있기 때문에, 추가로 'answer_end'를 찾아주는 함수\n",
    "        for answer, context in zip(answers, contexts):\n",
    "            gold_text = answer['text']\n",
    "            start_idx = answer['answer_start']\n",
    "            end_idx = start_idx + len(gold_text)\n",
    "\n",
    "            # in case the indices are off 1-2 idxs\n",
    "            if context[start_idx:end_idx] == gold_text:\n",
    "                answer['answer_end'] = end_idx\n",
    "            else:\n",
    "                for n in [1, 2]:\n",
    "                    if context[start_idx-n:end_idx-n] == gold_text:\n",
    "                        answer['answer_start'] = start_idx - n\n",
    "                        answer['answer_end'] = end_idx - n\n",
    "                    elif context[start_idx+n:end_idx+n] == gold_text:\n",
    "                        answer['answer_start'] = start_idx + n\n",
    "                        answer['answer_end'] = end_idx + n\n",
    "                        \n",
    "\n",
    "    def add_token_positions(self, encodings, answers):\n",
    "        # should use Fast tokenizer\n",
    "        start_positions = []\n",
    "        end_positions = []\n",
    "        for i in range(len(answers)):\n",
    "            if answers[i]['answer_start'] == -1:\n",
    "                # set [CLS] token as answer if is_impossible\n",
    "                start_positions.append(0)\n",
    "                end_positions.append(1)\n",
    "            else:\n",
    "                start_positions.append(encodings.char_to_token(i, answers[i]['answer_start']))\n",
    "\n",
    "                assert 'answer_end' in answers[i].keys(), f'no answer_end at {i}'\n",
    "                end_positions.append(encodings.char_to_token(i, answers[i]['answer_end']))\n",
    "\n",
    "            # answer passage truncated\n",
    "            if start_positions[-1] is None:\n",
    "                start_positions[-1] = tokenizer.model_max_length                \n",
    "            # end position cannot be found, shift until found\n",
    "            shift = 1\n",
    "            while end_positions[-1] is None:\n",
    "                end_positions[-1] = encodings.char_to_token(i, answers[i]['answer_end'] - shift)\n",
    "                shift += 1\n",
    "                \n",
    "        # char-based -> token based\n",
    "        encodings.update({'start_positions': start_positions, 'end_positions': end_positions})"
   ]
  },
  {
   "cell_type": "markdown",
   "id": "c5842a98-c4d9-477c-bfbb-db93a1bdca32",
   "metadata": {
    "id": "c5842a98-c4d9-477c-bfbb-db93a1bdca32"
   },
   "source": [
    "## 4. 모델 정의"
   ]
  },
  {
   "cell_type": "code",
   "execution_count": 11,
   "id": "69904ef0-ec62-4eb2-8540-9f44a112fc1c",
   "metadata": {
    "id": "69904ef0-ec62-4eb2-8540-9f44a112fc1c"
   },
   "outputs": [],
   "source": [
    "class electra(nn.Module):     # pytorch의 모든 neural network 모델들은 torch.nn.Module 클래스를 상속해야 한다. 기본적으로 __init__()과 forward 함수가 override(재정의)되어야 하며, forward 함수는 모델의 계산을 실행하는 것을 뜻한다.\n",
    "\n",
    "    def __init__(self, pretrained, **kwargs):\n",
    "        super(electra, self).__init__()\n",
    "\n",
    "        self.model = ElectraForQuestionAnswering.from_pretrained(pretrained)     # Hugging Face에서 pretrain된 모델을 가져와서 model 변수에 저장한다.\n",
    "\n",
    "\n",
    "    def forward(self, input_ids, attention_mask, start_positions=None, end_positions=None):\n",
    "        \n",
    "        outputs = self.model(input_ids = input_ids, \n",
    "                             attention_mask = attention_mask,\n",
    "                             start_positions = start_positions,\n",
    "                             end_positions = end_positions)\n",
    "        \n",
    "        return outputs"
   ]
  },
  {
   "cell_type": "markdown",
   "id": "9615d17d-1f80-45e9-8583-e4b3f3a84f44",
   "metadata": {
    "id": "9615d17d-1f80-45e9-8583-e4b3f3a84f44"
   },
   "source": [
    "## 5. Utils 정의\n",
    "### 5.1 EarlyStopper"
   ]
  },
  {
   "cell_type": "code",
   "execution_count": 12,
   "id": "e9ea7473-7a39-48d9-a0c7-5ef197c99547",
   "metadata": {
    "id": "e9ea7473-7a39-48d9-a0c7-5ef197c99547"
   },
   "outputs": [],
   "source": [
    "class EarlyStopper():     # 일정 기간 모델 성능에 개선이 없으면, 학습을 중단하는 기능\n",
    "\n",
    "    def __init__(self, patience: int, mode:str)-> None:\n",
    "        self.patience = patience\n",
    "        self.mode = mode\n",
    "\n",
    "        # Initiate\n",
    "        self.patience_counter = 0\n",
    "        self.stop = False\n",
    "        self.best_loss = np.inf\n",
    "\n",
    "        print(f\"Initiated early stopper, mode: {self.mode}, best score: {self.best_loss}, patience: {self.patience}\")\n",
    "\n",
    "        \n",
    "    def check_early_stopping(self, loss: float)-> None:\n",
    "        loss = -loss if self.mode == 'max' else loss  # get max value if mode set to max\n",
    "\n",
    "        if loss > self.best_loss:\n",
    "            # got worse score\n",
    "            self.patience_counter += 1\n",
    "\n",
    "            print(f\"Early stopper, counter {self.patience_counter}/{self.patience}, best:{abs(self.best_loss)} -> now:{abs(loss)}\")\n",
    "            \n",
    "            if self.patience_counter == self.patience:\n",
    "                print(f\"Early stopper, stop\")\n",
    "                self.stop = True  # end\n",
    "\n",
    "        elif loss <= self.best_loss:\n",
    "            # got better score\n",
    "            self.patience_counter = 0\n",
    "            \n",
    "            print(f\"Early stopper, counter {self.patience_counter}/{self.patience}, best:{abs(self.best_loss)} -> now:{abs(loss)}\")\n",
    "            print(f\"Set counter as {self.patience_counter}\")\n",
    "            print(f\"Update best score as {abs(loss)}\")\n",
    "            \n",
    "            self.best_loss = loss\n",
    "            \n",
    "        else:\n",
    "            print('debug')"
   ]
  },
  {
   "cell_type": "markdown",
   "id": "c53b4cda-5607-4a52-ad4b-a0ae33940004",
   "metadata": {
    "id": "c53b4cda-5607-4a52-ad4b-a0ae33940004"
   },
   "source": [
    "### 5.2 Trainer"
   ]
  },
  {
   "cell_type": "code",
   "execution_count": 13,
   "id": "636e914f-d8cb-47b4-8fa0-3f6918653ae0",
   "metadata": {
    "id": "636e914f-d8cb-47b4-8fa0-3f6918653ae0"
   },
   "outputs": [],
   "source": [
    "class Trainer():     # 학습을 위한 Trainer 클래스 정의\n",
    "\n",
    "    def __init__(self,\n",
    "                 model,\n",
    "                 optimizer,\n",
    "                 loss,\n",
    "                 metrics,\n",
    "                 device,\n",
    "                 tokenizer,\n",
    "                 interval=100):\n",
    "        \n",
    "        self.model = model\n",
    "        self.optimizer = optimizer\n",
    "        self.loss = loss\n",
    "        self.metrics = metrics\n",
    "        self.device = device\n",
    "        self.interval = interval\n",
    "        self.tokenizer = tokenizer\n",
    "\n",
    "        # History\n",
    "        self.loss_sum = 0  # Epoch loss sum\n",
    "        self.loss_mean = 0 # Epoch loss mean\n",
    "        self.y = list()\n",
    "        self.y_preds = list()\n",
    "        self.score_dict = dict()  # metric score\n",
    "        self.elapsed_time = 0\n",
    "        \n",
    "\n",
    "    def train(self, mode, dataloader, tokenizer, epoch_index=0):\n",
    "        \n",
    "        start_timestamp = time()\n",
    "        self.model.train() if mode == 'train' else self.model.eval()     # 모델을 train(eval) mode로 전환.  train(eval) mode에서는 dropout, batchnorm이 적용된다(적용되지 않는다)\n",
    " \n",
    "        for batch_index, batch in enumerate(tqdm(dataloader, leave=True)):\n",
    "            \n",
    "            self.optimizer.zero_grad()     # 파라미터 업데이트는 batch 단위로 이루어지고, 매 batch마다 이전 스템에서 계산된 gradient를 초기화해주어야 함\n",
    "            # pull all the tensor batches required for training\n",
    "            input_ids = batch['input_ids'].to(self.device)\n",
    "            attention_mask = batch['attention_mask'].to(self.device)\n",
    "            start_positions = batch['start_positions'].to(self.device)\n",
    "            end_positions = batch['end_positions'].to(self.device)\n",
    "            \n",
    "            # train model on batch and return outputs (incl. loss)\n",
    "            # Inference\n",
    "            outputs = self.model(input_ids, attention_mask=attention_mask,\n",
    "                            start_positions=start_positions,\n",
    "                            end_positions=end_positions)\n",
    "            \n",
    "            loss = outputs.loss\n",
    "            start_score = outputs.start_logits\n",
    "            end_score = outputs.end_logits\n",
    "            \n",
    "            \n",
    "            start_idx = torch.argmax(start_score, dim=1).cpu().tolist()\n",
    "            end_idx = torch.argmax(end_score, dim=1).cpu().tolist()\n",
    "            \n",
    "            # Update\n",
    "            if mode == 'train':\n",
    "                loss.backward()     # backpropagation\n",
    "                self.optimizer.step()     # 파라미터 업데이트\n",
    "                \n",
    "            elif mode in ['val', 'test']:\n",
    "                pass\n",
    "            \n",
    "            # History\n",
    "            self.loss_sum += loss.item()\n",
    "            \n",
    "            # create answer; list of strings\n",
    "            for i in range(len(input_ids)):\n",
    "                if start_idx[i] > end_idx[i]:\n",
    "                    output = ''\n",
    "                \n",
    "                self.y_preds.append(self.tokenizer.decode(input_ids[i][start_idx[i]:end_idx[i]]))\n",
    "                self.y.append(self.tokenizer.decode(input_ids[i][start_positions[i]:end_positions[i]]))\n",
    "\n",
    "\n",
    "            # Logging\n",
    "            if batch_index % self.interval == 0:\n",
    "                print(f\"batch: {batch_index}/{len(dataloader)} loss: {loss.item()}\")\n",
    "                \n",
    "        # Epoch history\n",
    "        self.loss_mean = self.loss_sum / len(dataloader)  # Epoch loss mean\n",
    "\n",
    "        # Metric\n",
    "        score = self.metrics(self.y, self.y_preds)\n",
    "        self.score_dict['metric_name'] = score\n",
    "\n",
    "        # Elapsed time\n",
    "        end_timestamp = time()\n",
    "        self.elapsed_time = end_timestamp - start_timestamp\n",
    "\n",
    "    def clear_history(self):\n",
    "        self.loss_sum = 0\n",
    "        self.loss_mean = 0\n",
    "        self.y_preds = list()\n",
    "        self.y = list()\n",
    "        self.score_dict = dict()\n",
    "        self.elapsed_time = 0"
   ]
  },
  {
   "cell_type": "markdown",
   "id": "1f530fc6-25e7-4b9c-9431-7a5ea267c348",
   "metadata": {
    "id": "1f530fc6-25e7-4b9c-9431-7a5ea267c348"
   },
   "source": [
    "### 5.3 Recorder"
   ]
  },
  {
   "cell_type": "code",
   "execution_count": 14,
   "id": "89b61d3c-858b-4213-a1c1-8f32bed3698a",
   "metadata": {
    "id": "89b61d3c-858b-4213-a1c1-8f32bed3698a"
   },
   "outputs": [],
   "source": [
    "class Recorder():\n",
    "\n",
    "    def __init__(self,\n",
    "                 record_dir: str,\n",
    "                 model: object,\n",
    "                 optimizer: object):\n",
    "        \n",
    "        self.record_dir = record_dir\n",
    "        self.record_filepath = os.path.join(self.record_dir, 'record.csv')\n",
    "        self.weight_path = os.path.join(record_dir, 'model.pt')\n",
    "\n",
    "        self.model = model\n",
    "        self.optimizer = optimizer\n",
    "\n",
    "        \n",
    "    def set_model(self, model: 'model'):\n",
    "        self.model = model\n",
    "\n",
    "\n",
    "    def add_row(self, row_dict: dict):\n",
    "\n",
    "        fieldnames = list(row_dict.keys())\n",
    "\n",
    "        with open(self.record_filepath, newline='', mode='a') as f:\n",
    "            writer = csv.DictWriter(f, fieldnames=fieldnames)\n",
    "\n",
    "            if f.tell() == 0:\n",
    "                writer.writeheader()\n",
    "\n",
    "            writer.writerow(row_dict)\n",
    "            print(f\"Write row {row_dict['epoch_index']}\")\n",
    "\n",
    "            \n",
    "    def save_weight(self, epoch: int)-> None:\n",
    "        check_point = {\n",
    "            'epoch': epoch + 1,\n",
    "            'model': self.model.state_dict(),\n",
    "            'optimizer': self.optimizer.state_dict(),\n",
    "        }\n",
    "        \n",
    "        torch.save(check_point, self.weight_path)\n",
    "        print(f\"Recorder, epoch {epoch} Model saved: {self.weight_path}\")"
   ]
  },
  {
   "cell_type": "markdown",
   "id": "66c1c276-2264-43b9-aa62-44cfd81ee395",
   "metadata": {
    "id": "66c1c276-2264-43b9-aa62-44cfd81ee395"
   },
   "source": [
    "## 6. 모델 학습"
   ]
  },
  {
   "cell_type": "markdown",
   "id": "aa925da6-d006-4fb9-a763-021ffe9bc8e4",
   "metadata": {
    "id": "aa925da6-d006-4fb9-a763-021ffe9bc8e4"
   },
   "source": [
    "### 6.1 모델과 기타 utils 설정"
   ]
  },
  {
   "cell_type": "code",
   "execution_count": null,
   "id": "714f8a41-c14f-4fc5-84ae-b04f0452a952",
   "metadata": {
    "colab": {
     "base_uri": "https://localhost:8080/",
     "height": 272,
     "referenced_widgets": [
      "07a1b88fc0744160a5f9270e98e3e706",
      "161332144d924a61a7515383c6edd540",
      "39c14310d60249039a8409bd85b75267",
      "5e97f4acb8b741aea13183627653f128",
      "05f560853d7c48d582f3b4bae156bccb",
      "5942d59477e14f03bc8680778ca3d3f2",
      "51b8367db8f04f56a2c8e337d3d27bea",
      "81543e0c8f6544d3ad21208d03ef08ee",
      "8b2803498ada496caddbf97aeaf66290",
      "0d9c3cc6bd7f470ab2cdab5fcca03e7e",
      "f70eadc13bb84b3481e841171d9a67cd",
      "064ae4dc92514ab09f07a981fe76f45b",
      "eecf1189bae246218bcdb1aea47a2e6b",
      "7fd0cdd8a8d54535a8ff21ed929cd12b",
      "6e6eae06bc204195932fdb7824437208",
      "60cb2c5179c8468bb21a882187c18668",
      "08ee9d6f3dd0443d86dc7823f849fff3",
      "290439a9e1fa4398b942301ff3cf9073",
      "d20ab71215bd490a9195b88672b34d73",
      "c31b0268d040473580028b48ca5d3ca1",
      "0a2a083213af400eb6c7e5cd8794718a",
      "4323366ba6bb4bc981d4e53d8a8a1ad9",
      "14c0d2d437484e00ab22eb95495b29bb",
      "3f197383619f4572b39c7855a74deb38",
      "34f5e1f1681b468c8bb5b9b58b20ec2c",
      "eeb724142ed54b5c8be68d21c7de2edd",
      "134b951ddb8143208e82126dc908c7d5",
      "22ea3a212bd94f5fa940e03b409e847f",
      "8396802b9d8d4483b4d6895362090a05",
      "8b6378a7f04b4d85b9c4f85dcce505cd",
      "9aa9f4996d12404c9b9ec0c34370799c",
      "39138a27042043d6aff2ab98ebf33e97",
      "53b43632876542999522828e483470ee",
      "214e71dcd63341c0be77304543c059bd",
      "3968f950c4e14012a785f6d8cbe792bd",
      "977123c1649f41308495329b5619f40d",
      "71f8178d73854fedb409808f76779266",
      "1c378f4832a44aceac6fe7222eeedeb1",
      "cb10d11749bc495db5798a5353e28de5",
      "24a2790aebab4f16a005d3d89d0ba51f",
      "5de0df8070be4664b5db0f590e64910b",
      "295deda2cf5b415280f5c63164584c5e",
      "85bdf45301a241ac9a891762f1b9287d",
      "2b471ba391ed4914af31fe7849688dff"
     ]
    },
    "id": "714f8a41-c14f-4fc5-84ae-b04f0452a952",
    "outputId": "04b94b7f-2286-49bd-bec2-2c4f62fe4fad"
   },
   "outputs": [
    {
     "name": "stderr",
     "output_type": "stream",
     "text": [
      "Some weights of the model checkpoint at monologg/koelectra-base-v3-discriminator were not used when initializing ElectraForQuestionAnswering: ['discriminator_predictions.dense_prediction.weight', 'discriminator_predictions.dense_prediction.bias', 'discriminator_predictions.dense.weight', 'discriminator_predictions.dense.bias']\n",
      "- This IS expected if you are initializing ElectraForQuestionAnswering from the checkpoint of a model trained on another task or with another architecture (e.g. initializing a BertForSequenceClassification model from a BertForPreTraining model).\n",
      "- This IS NOT expected if you are initializing ElectraForQuestionAnswering from the checkpoint of a model that you expect to be exactly identical (initializing a BertForSequenceClassification model from a BertForSequenceClassification model).\n",
      "Some weights of ElectraForQuestionAnswering were not initialized from the model checkpoint at monologg/koelectra-base-v3-discriminator and are newly initialized: ['qa_outputs.bias', 'qa_outputs.weight']\n",
      "You should probably TRAIN this model on a down-stream task to be able to use it for predictions and inference.\n"
     ]
    },
    {
     "name": "stdout",
     "output_type": "stream",
     "text": [
      "Initiated early stopper, mode: <built-in function min>, best score: inf, patience: 10\n"
     ]
    }
   ],
   "source": [
    "# Load model\n",
    "model = electra(pretrained=\"monologg/koelectra-base-v3-discriminator\").to(device)\n",
    "\n",
    "# Set optimizer, loss function, metric function\n",
    "optimizer = optim.Adam(params=model.parameters(), lr=LEARNING_RATE)\n",
    "loss = F.cross_entropy\n",
    "metrics = accuracy_score\n",
    "\n",
    "# Set tokenizer\n",
    "tokenizer = ElectraTokenizerFast.from_pretrained(\"monologg/koelectra-base-v3-discriminator\")\n",
    "\n",
    "# Set Trainer\n",
    "trainer = Trainer(model=model,\n",
    "                  optimizer=optimizer,\n",
    "                  loss=loss,\n",
    "                  metrics=metrics,\n",
    "                  device=device,\n",
    "                  tokenizer=tokenizer,\n",
    "                  interval=LOGGING_INTERVAL)\n",
    "\n",
    "# Set earlystopper\n",
    "early_stopper = EarlyStopper(patience=EARLY_STOPPING_PATIENCE,\n",
    "                            mode=min)\n",
    "\n",
    "# Set train serial\n",
    "kst = timezone(timedelta(hours=9))\n",
    "train_serial = datetime.now(tz=kst).strftime(\"%Y%m%d_%H%M%S\")\n",
    "\n",
    "\n",
    "# Set recorder \n",
    "RECORDER_DIR = os.path.join(PROJECT_DIR, 'results', 'train', train_serial)\n",
    "os.makedirs(RECORDER_DIR, exist_ok=True)\n",
    "\n",
    "recorder = Recorder(record_dir=RECORDER_DIR,\n",
    "                    model=model,\n",
    "                    optimizer=optimizer)"
   ]
  },
  {
   "cell_type": "markdown",
   "id": "c715ceb0-4555-431a-ab9d-8f6f99dd783f",
   "metadata": {
    "id": "c715ceb0-4555-431a-ab9d-8f6f99dd783f"
   },
   "source": [
    "### 6.2 Dataset & Dataloader 설정"
   ]
  },
  {
   "cell_type": "code",
   "execution_count": null,
   "id": "d504be1e-67c8-4de5-b8d0-225ac0b8fd65",
   "metadata": {
    "colab": {
     "base_uri": "https://localhost:8080/"
    },
    "id": "d504be1e-67c8-4de5-b8d0-225ac0b8fd65",
    "outputId": "6a49e516-6159-404f-9a72-302d9b39510a"
   },
   "outputs": [
    {
     "name": "stdout",
     "output_type": "stream",
     "text": [
      "Load data, train:22387 val:5637\n"
     ]
    }
   ],
   "source": [
    "# torch.utils.data.Dataset : 데이터를 input으로 변환\n",
    "train_dataset = QADataset(data_dir=os.path.join(DATA_DIR, 'train.json'), tokenizer = tokenizer, max_seq_len = 512, mode = 'train')\n",
    "val_dataset = QADataset(data_dir=os.path.join(DATA_DIR, 'train.json'), tokenizer = tokenizer, max_seq_len = 512, mode = 'val')\n",
    "\n",
    "# torch.utils.data.DataLoader : input을 배치 단위로 리턴해주는 기능\n",
    "train_dataloader = DataLoader(dataset=train_dataset,\n",
    "                              batch_size=BATCH_SIZE,\n",
    "                              num_workers=NUM_WORKERS, \n",
    "                              shuffle=True,\n",
    "                              pin_memory=PIN_MEMORY,\n",
    "                              drop_last=DROP_LAST)\n",
    "\n",
    "val_dataloader = DataLoader(dataset=val_dataset,\n",
    "                            batch_size=BATCH_SIZE,\n",
    "                            num_workers=NUM_WORKERS, \n",
    "                            shuffle=False,\n",
    "                            pin_memory=PIN_MEMORY,\n",
    "                            drop_last=DROP_LAST)\n",
    "\n",
    "print(f\"Load data, train:{len(train_dataset)} val:{len(val_dataset)}\")"
   ]
  },
  {
   "cell_type": "markdown",
   "id": "3e685537-7c8b-439c-8258-00c658bb360a",
   "metadata": {
    "id": "3e685537-7c8b-439c-8258-00c658bb360a"
   },
   "source": [
    "### 6.3 Epoch 단위 학습 진행"
   ]
  },
  {
   "cell_type": "code",
   "execution_count": 17,
   "id": "661bf57c-20d2-4e14-bffb-e7db7eb85f78",
   "metadata": {
    "colab": {
     "base_uri": "https://localhost:8080/"
    },
    "id": "661bf57c-20d2-4e14-bffb-e7db7eb85f78",
    "outputId": "efd71bc2-35ac-4f89-d2ce-a94d9eecff83"
   },
   "outputs": [
    {
     "name": "stdout",
     "output_type": "stream",
     "text": [
      "Train 0/6\n",
      "--Train 0/6\n"
     ]
    },
    {
     "name": "stderr",
     "output_type": "stream",
     "text": [
      "  0%|          | 2/5597 [00:00<24:15,  3.85it/s]"
     ]
    },
    {
     "name": "stdout",
     "output_type": "stream",
     "text": [
      "batch: 0/5597 loss: 6.099382400512695\n"
     ]
    },
    {
     "name": "stderr",
     "output_type": "stream",
     "text": [
      "  4%|▎         | 202/5597 [00:27<12:07,  7.41it/s]"
     ]
    },
    {
     "name": "stdout",
     "output_type": "stream",
     "text": [
      "batch: 200/5597 loss: 2.3963546752929688\n"
     ]
    },
    {
     "name": "stderr",
     "output_type": "stream",
     "text": [
      "  7%|▋         | 402/5597 [00:54<11:40,  7.42it/s]"
     ]
    },
    {
     "name": "stdout",
     "output_type": "stream",
     "text": [
      "batch: 400/5597 loss: 1.1598236560821533\n"
     ]
    },
    {
     "name": "stderr",
     "output_type": "stream",
     "text": [
      " 11%|█         | 602/5597 [01:21<11:12,  7.42it/s]"
     ]
    },
    {
     "name": "stdout",
     "output_type": "stream",
     "text": [
      "batch: 600/5597 loss: 1.0227819681167603\n"
     ]
    },
    {
     "name": "stderr",
     "output_type": "stream",
     "text": [
      " 14%|█▍        | 802/5597 [01:48<10:47,  7.40it/s]"
     ]
    },
    {
     "name": "stdout",
     "output_type": "stream",
     "text": [
      "batch: 800/5597 loss: 1.4500176906585693\n"
     ]
    },
    {
     "name": "stderr",
     "output_type": "stream",
     "text": [
      " 18%|█▊        | 1002/5597 [02:15<10:18,  7.43it/s]"
     ]
    },
    {
     "name": "stdout",
     "output_type": "stream",
     "text": [
      "batch: 1000/5597 loss: 1.1187474727630615\n"
     ]
    },
    {
     "name": "stderr",
     "output_type": "stream",
     "text": [
      " 21%|██▏       | 1202/5597 [02:42<09:53,  7.41it/s]"
     ]
    },
    {
     "name": "stdout",
     "output_type": "stream",
     "text": [
      "batch: 1200/5597 loss: 2.6995301246643066\n"
     ]
    },
    {
     "name": "stderr",
     "output_type": "stream",
     "text": [
      " 25%|██▌       | 1402/5597 [03:09<09:23,  7.44it/s]"
     ]
    },
    {
     "name": "stdout",
     "output_type": "stream",
     "text": [
      "batch: 1400/5597 loss: 0.64496248960495\n"
     ]
    },
    {
     "name": "stderr",
     "output_type": "stream",
     "text": [
      " 29%|██▊       | 1602/5597 [03:36<09:04,  7.33it/s]"
     ]
    },
    {
     "name": "stdout",
     "output_type": "stream",
     "text": [
      "batch: 1600/5597 loss: 1.6376339197158813\n"
     ]
    },
    {
     "name": "stderr",
     "output_type": "stream",
     "text": [
      " 32%|███▏      | 1802/5597 [04:03<08:31,  7.42it/s]"
     ]
    },
    {
     "name": "stdout",
     "output_type": "stream",
     "text": [
      "batch: 1800/5597 loss: 1.7765495777130127\n"
     ]
    },
    {
     "name": "stderr",
     "output_type": "stream",
     "text": [
      " 36%|███▌      | 2002/5597 [04:30<08:04,  7.42it/s]"
     ]
    },
    {
     "name": "stdout",
     "output_type": "stream",
     "text": [
      "batch: 2000/5597 loss: 0.893886923789978\n"
     ]
    },
    {
     "name": "stderr",
     "output_type": "stream",
     "text": [
      " 39%|███▉      | 2202/5597 [04:57<07:38,  7.41it/s]"
     ]
    },
    {
     "name": "stdout",
     "output_type": "stream",
     "text": [
      "batch: 2200/5597 loss: 0.5850663781166077\n"
     ]
    },
    {
     "name": "stderr",
     "output_type": "stream",
     "text": [
      " 43%|████▎     | 2402/5597 [05:24<07:09,  7.44it/s]"
     ]
    },
    {
     "name": "stdout",
     "output_type": "stream",
     "text": [
      "batch: 2400/5597 loss: 1.3873870372772217\n"
     ]
    },
    {
     "name": "stderr",
     "output_type": "stream",
     "text": [
      " 46%|████▋     | 2602/5597 [05:51<06:43,  7.42it/s]"
     ]
    },
    {
     "name": "stdout",
     "output_type": "stream",
     "text": [
      "batch: 2600/5597 loss: 1.3489704132080078\n"
     ]
    },
    {
     "name": "stderr",
     "output_type": "stream",
     "text": [
      " 50%|█████     | 2802/5597 [06:18<06:17,  7.41it/s]"
     ]
    },
    {
     "name": "stdout",
     "output_type": "stream",
     "text": [
      "batch: 2800/5597 loss: 0.3923242688179016\n"
     ]
    },
    {
     "name": "stderr",
     "output_type": "stream",
     "text": [
      " 54%|█████▎    | 3002/5597 [06:45<05:49,  7.43it/s]"
     ]
    },
    {
     "name": "stdout",
     "output_type": "stream",
     "text": [
      "batch: 3000/5597 loss: 0.8188754916191101\n"
     ]
    },
    {
     "name": "stderr",
     "output_type": "stream",
     "text": [
      " 57%|█████▋    | 3202/5597 [07:12<05:22,  7.43it/s]"
     ]
    },
    {
     "name": "stdout",
     "output_type": "stream",
     "text": [
      "batch: 3200/5597 loss: 0.4350345730781555\n"
     ]
    },
    {
     "name": "stderr",
     "output_type": "stream",
     "text": [
      " 61%|██████    | 3402/5597 [07:39<04:55,  7.42it/s]"
     ]
    },
    {
     "name": "stdout",
     "output_type": "stream",
     "text": [
      "batch: 3400/5597 loss: 0.2894554138183594\n"
     ]
    },
    {
     "name": "stderr",
     "output_type": "stream",
     "text": [
      " 64%|██████▍   | 3602/5597 [08:06<04:29,  7.41it/s]"
     ]
    },
    {
     "name": "stdout",
     "output_type": "stream",
     "text": [
      "batch: 3600/5597 loss: 1.010141134262085\n"
     ]
    },
    {
     "name": "stderr",
     "output_type": "stream",
     "text": [
      " 68%|██████▊   | 3802/5597 [08:33<04:02,  7.39it/s]"
     ]
    },
    {
     "name": "stdout",
     "output_type": "stream",
     "text": [
      "batch: 3800/5597 loss: 0.33209922909736633\n"
     ]
    },
    {
     "name": "stderr",
     "output_type": "stream",
     "text": [
      " 72%|███████▏  | 4002/5597 [09:00<03:35,  7.41it/s]"
     ]
    },
    {
     "name": "stdout",
     "output_type": "stream",
     "text": [
      "batch: 4000/5597 loss: 0.77495276927948\n"
     ]
    },
    {
     "name": "stderr",
     "output_type": "stream",
     "text": [
      " 75%|███████▌  | 4202/5597 [09:27<03:07,  7.43it/s]"
     ]
    },
    {
     "name": "stdout",
     "output_type": "stream",
     "text": [
      "batch: 4200/5597 loss: 0.22682581841945648\n"
     ]
    },
    {
     "name": "stderr",
     "output_type": "stream",
     "text": [
      " 79%|███████▊  | 4402/5597 [09:54<02:40,  7.43it/s]"
     ]
    },
    {
     "name": "stdout",
     "output_type": "stream",
     "text": [
      "batch: 4400/5597 loss: 1.677100419998169\n"
     ]
    },
    {
     "name": "stderr",
     "output_type": "stream",
     "text": [
      " 82%|████████▏ | 4602/5597 [10:20<02:14,  7.41it/s]"
     ]
    },
    {
     "name": "stdout",
     "output_type": "stream",
     "text": [
      "batch: 4600/5597 loss: 0.3210865557193756\n"
     ]
    },
    {
     "name": "stderr",
     "output_type": "stream",
     "text": [
      " 86%|████████▌ | 4802/5597 [10:47<01:47,  7.41it/s]"
     ]
    },
    {
     "name": "stdout",
     "output_type": "stream",
     "text": [
      "batch: 4800/5597 loss: 1.4620288610458374\n"
     ]
    },
    {
     "name": "stderr",
     "output_type": "stream",
     "text": [
      " 89%|████████▉ | 5002/5597 [11:14<01:20,  7.43it/s]"
     ]
    },
    {
     "name": "stdout",
     "output_type": "stream",
     "text": [
      "batch: 5000/5597 loss: 0.902995228767395\n"
     ]
    },
    {
     "name": "stderr",
     "output_type": "stream",
     "text": [
      " 93%|█████████▎| 5202/5597 [11:41<00:53,  7.43it/s]"
     ]
    },
    {
     "name": "stdout",
     "output_type": "stream",
     "text": [
      "batch: 5200/5597 loss: 0.16519169509410858\n"
     ]
    },
    {
     "name": "stderr",
     "output_type": "stream",
     "text": [
      " 97%|█████████▋| 5402/5597 [12:08<00:26,  7.42it/s]"
     ]
    },
    {
     "name": "stdout",
     "output_type": "stream",
     "text": [
      "batch: 5400/5597 loss: 0.9855315089225769\n"
     ]
    },
    {
     "name": "stderr",
     "output_type": "stream",
     "text": [
      "100%|██████████| 5597/5597 [12:35<00:00,  7.41it/s]\n"
     ]
    },
    {
     "name": "stdout",
     "output_type": "stream",
     "text": [
      "Val 0/6\n",
      "--Val 0/6\n"
     ]
    },
    {
     "name": "stderr",
     "output_type": "stream",
     "text": [
      "  0%|          | 3/1410 [00:00<01:02, 22.37it/s]"
     ]
    },
    {
     "name": "stdout",
     "output_type": "stream",
     "text": [
      "batch: 0/1410 loss: 0.030173731967806816\n"
     ]
    },
    {
     "name": "stderr",
     "output_type": "stream",
     "text": [
      " 14%|█▍        | 204/1410 [00:08<00:53, 22.74it/s]"
     ]
    },
    {
     "name": "stdout",
     "output_type": "stream",
     "text": [
      "batch: 200/1410 loss: 0.03921408951282501\n"
     ]
    },
    {
     "name": "stderr",
     "output_type": "stream",
     "text": [
      " 29%|██▊       | 405/1410 [00:17<00:44, 22.72it/s]"
     ]
    },
    {
     "name": "stdout",
     "output_type": "stream",
     "text": [
      "batch: 400/1410 loss: 0.941118061542511\n"
     ]
    },
    {
     "name": "stderr",
     "output_type": "stream",
     "text": [
      " 43%|████▎     | 603/1410 [00:26<00:35, 22.68it/s]"
     ]
    },
    {
     "name": "stdout",
     "output_type": "stream",
     "text": [
      "batch: 600/1410 loss: 0.30977416038513184\n"
     ]
    },
    {
     "name": "stderr",
     "output_type": "stream",
     "text": [
      " 57%|█████▋    | 804/1410 [00:35<00:26, 22.73it/s]"
     ]
    },
    {
     "name": "stdout",
     "output_type": "stream",
     "text": [
      "batch: 800/1410 loss: 1.2776985168457031\n"
     ]
    },
    {
     "name": "stderr",
     "output_type": "stream",
     "text": [
      " 71%|███████▏  | 1005/1410 [00:44<00:17, 22.71it/s]"
     ]
    },
    {
     "name": "stdout",
     "output_type": "stream",
     "text": [
      "batch: 1000/1410 loss: 0.9613958597183228\n"
     ]
    },
    {
     "name": "stderr",
     "output_type": "stream",
     "text": [
      " 85%|████████▌ | 1203/1410 [00:53<00:09, 22.68it/s]"
     ]
    },
    {
     "name": "stdout",
     "output_type": "stream",
     "text": [
      "batch: 1200/1410 loss: 1.3843533992767334\n"
     ]
    },
    {
     "name": "stderr",
     "output_type": "stream",
     "text": [
      "100%|█████████▉| 1404/1410 [01:01<00:00, 22.76it/s]"
     ]
    },
    {
     "name": "stdout",
     "output_type": "stream",
     "text": [
      "batch: 1400/1410 loss: 1.3358421325683594\n"
     ]
    },
    {
     "name": "stderr",
     "output_type": "stream",
     "text": [
      "100%|██████████| 1410/1410 [01:02<00:00, 22.70it/s]\n"
     ]
    },
    {
     "name": "stdout",
     "output_type": "stream",
     "text": [
      "Write row 0\n",
      "Early stopper, counter 0/10, best:inf -> now:0.5520814343547145\n",
      "Set counter as 0\n",
      "Update best score as 0.5520814343547145\n",
      "Recorder, epoch 0 Model saved: /mnt/workspace/MyFiles/MNC_mock_1/MRC/results/train/20221121_232000/model.pt\n",
      "Train 1/6\n",
      "--Train 1/6\n"
     ]
    },
    {
     "name": "stderr",
     "output_type": "stream",
     "text": [
      "  0%|          | 1/5597 [00:00<14:17,  6.53it/s]"
     ]
    },
    {
     "name": "stdout",
     "output_type": "stream",
     "text": [
      "batch: 0/5597 loss: 0.6606749296188354\n"
     ]
    },
    {
     "name": "stderr",
     "output_type": "stream",
     "text": [
      "  4%|▎         | 202/5597 [00:27<12:06,  7.42it/s]"
     ]
    },
    {
     "name": "stdout",
     "output_type": "stream",
     "text": [
      "batch: 200/5597 loss: 0.12557905912399292\n"
     ]
    },
    {
     "name": "stderr",
     "output_type": "stream",
     "text": [
      "  7%|▋         | 402/5597 [00:54<11:39,  7.43it/s]"
     ]
    },
    {
     "name": "stdout",
     "output_type": "stream",
     "text": [
      "batch: 400/5597 loss: 0.14774075150489807\n"
     ]
    },
    {
     "name": "stderr",
     "output_type": "stream",
     "text": [
      " 11%|█         | 602/5597 [01:21<11:13,  7.42it/s]"
     ]
    },
    {
     "name": "stdout",
     "output_type": "stream",
     "text": [
      "batch: 600/5597 loss: 0.044682301580905914\n"
     ]
    },
    {
     "name": "stderr",
     "output_type": "stream",
     "text": [
      " 14%|█▍        | 802/5597 [01:48<10:46,  7.42it/s]"
     ]
    },
    {
     "name": "stdout",
     "output_type": "stream",
     "text": [
      "batch: 800/5597 loss: 0.18094158172607422\n"
     ]
    },
    {
     "name": "stderr",
     "output_type": "stream",
     "text": [
      " 18%|█▊        | 1002/5597 [02:14<10:19,  7.42it/s]"
     ]
    },
    {
     "name": "stdout",
     "output_type": "stream",
     "text": [
      "batch: 1000/5597 loss: 0.0399436391890049\n"
     ]
    },
    {
     "name": "stderr",
     "output_type": "stream",
     "text": [
      " 21%|██▏       | 1202/5597 [02:41<09:52,  7.42it/s]"
     ]
    },
    {
     "name": "stdout",
     "output_type": "stream",
     "text": [
      "batch: 1200/5597 loss: 0.019183646887540817\n"
     ]
    },
    {
     "name": "stderr",
     "output_type": "stream",
     "text": [
      " 25%|██▌       | 1402/5597 [03:08<09:26,  7.41it/s]"
     ]
    },
    {
     "name": "stdout",
     "output_type": "stream",
     "text": [
      "batch: 1400/5597 loss: 0.24356701970100403\n"
     ]
    },
    {
     "name": "stderr",
     "output_type": "stream",
     "text": [
      " 29%|██▊       | 1602/5597 [03:35<08:58,  7.42it/s]"
     ]
    },
    {
     "name": "stdout",
     "output_type": "stream",
     "text": [
      "batch: 1600/5597 loss: 0.5347874164581299\n"
     ]
    },
    {
     "name": "stderr",
     "output_type": "stream",
     "text": [
      " 32%|███▏      | 1802/5597 [04:02<08:32,  7.41it/s]"
     ]
    },
    {
     "name": "stdout",
     "output_type": "stream",
     "text": [
      "batch: 1800/5597 loss: 1.7758004665374756\n"
     ]
    },
    {
     "name": "stderr",
     "output_type": "stream",
     "text": [
      " 36%|███▌      | 2002/5597 [04:29<08:04,  7.41it/s]"
     ]
    },
    {
     "name": "stdout",
     "output_type": "stream",
     "text": [
      "batch: 2000/5597 loss: 0.07695814967155457\n"
     ]
    },
    {
     "name": "stderr",
     "output_type": "stream",
     "text": [
      " 39%|███▉      | 2202/5597 [04:56<07:37,  7.43it/s]"
     ]
    },
    {
     "name": "stdout",
     "output_type": "stream",
     "text": [
      "batch: 2200/5597 loss: 0.03789898753166199\n"
     ]
    },
    {
     "name": "stderr",
     "output_type": "stream",
     "text": [
      " 43%|████▎     | 2402/5597 [05:23<07:10,  7.42it/s]"
     ]
    },
    {
     "name": "stdout",
     "output_type": "stream",
     "text": [
      "batch: 2400/5597 loss: 0.49385398626327515\n"
     ]
    },
    {
     "name": "stderr",
     "output_type": "stream",
     "text": [
      " 46%|████▋     | 2602/5597 [05:50<06:43,  7.42it/s]"
     ]
    },
    {
     "name": "stdout",
     "output_type": "stream",
     "text": [
      "batch: 2600/5597 loss: 0.08574932813644409\n"
     ]
    },
    {
     "name": "stderr",
     "output_type": "stream",
     "text": [
      " 50%|█████     | 2802/5597 [06:17<06:16,  7.43it/s]"
     ]
    },
    {
     "name": "stdout",
     "output_type": "stream",
     "text": [
      "batch: 2800/5597 loss: 0.2706417739391327\n"
     ]
    },
    {
     "name": "stderr",
     "output_type": "stream",
     "text": [
      " 54%|█████▎    | 3002/5597 [06:44<05:49,  7.42it/s]"
     ]
    },
    {
     "name": "stdout",
     "output_type": "stream",
     "text": [
      "batch: 3000/5597 loss: 0.5588668584823608\n"
     ]
    },
    {
     "name": "stderr",
     "output_type": "stream",
     "text": [
      " 57%|█████▋    | 3202/5597 [07:11<05:22,  7.42it/s]"
     ]
    },
    {
     "name": "stdout",
     "output_type": "stream",
     "text": [
      "batch: 3200/5597 loss: 1.0734269618988037\n"
     ]
    },
    {
     "name": "stderr",
     "output_type": "stream",
     "text": [
      " 61%|██████    | 3402/5597 [07:38<04:55,  7.42it/s]"
     ]
    },
    {
     "name": "stdout",
     "output_type": "stream",
     "text": [
      "batch: 3400/5597 loss: 0.112637460231781\n"
     ]
    },
    {
     "name": "stderr",
     "output_type": "stream",
     "text": [
      " 64%|██████▍   | 3602/5597 [08:05<04:29,  7.41it/s]"
     ]
    },
    {
     "name": "stdout",
     "output_type": "stream",
     "text": [
      "batch: 3600/5597 loss: 0.6777994632720947\n"
     ]
    },
    {
     "name": "stderr",
     "output_type": "stream",
     "text": [
      " 68%|██████▊   | 3802/5597 [08:32<04:01,  7.43it/s]"
     ]
    },
    {
     "name": "stdout",
     "output_type": "stream",
     "text": [
      "batch: 3800/5597 loss: 0.2619664669036865\n"
     ]
    },
    {
     "name": "stderr",
     "output_type": "stream",
     "text": [
      " 72%|███████▏  | 4002/5597 [08:59<03:34,  7.44it/s]"
     ]
    },
    {
     "name": "stdout",
     "output_type": "stream",
     "text": [
      "batch: 4000/5597 loss: 0.8584862351417542\n"
     ]
    },
    {
     "name": "stderr",
     "output_type": "stream",
     "text": [
      " 75%|███████▌  | 4202/5597 [09:26<03:07,  7.43it/s]"
     ]
    },
    {
     "name": "stdout",
     "output_type": "stream",
     "text": [
      "batch: 4200/5597 loss: 0.6141237616539001\n"
     ]
    },
    {
     "name": "stderr",
     "output_type": "stream",
     "text": [
      " 79%|███████▊  | 4402/5597 [09:53<02:40,  7.44it/s]"
     ]
    },
    {
     "name": "stdout",
     "output_type": "stream",
     "text": [
      "batch: 4400/5597 loss: 0.21087639033794403\n"
     ]
    },
    {
     "name": "stderr",
     "output_type": "stream",
     "text": [
      " 82%|████████▏ | 4602/5597 [10:20<02:14,  7.42it/s]"
     ]
    },
    {
     "name": "stdout",
     "output_type": "stream",
     "text": [
      "batch: 4600/5597 loss: 0.6751890182495117\n"
     ]
    },
    {
     "name": "stderr",
     "output_type": "stream",
     "text": [
      " 86%|████████▌ | 4802/5597 [10:46<01:46,  7.43it/s]"
     ]
    },
    {
     "name": "stdout",
     "output_type": "stream",
     "text": [
      "batch: 4800/5597 loss: 0.6205365657806396\n"
     ]
    },
    {
     "name": "stderr",
     "output_type": "stream",
     "text": [
      " 89%|████████▉ | 5002/5597 [11:13<01:20,  7.42it/s]"
     ]
    },
    {
     "name": "stdout",
     "output_type": "stream",
     "text": [
      "batch: 5000/5597 loss: 0.37785813212394714\n"
     ]
    },
    {
     "name": "stderr",
     "output_type": "stream",
     "text": [
      " 93%|█████████▎| 5202/5597 [11:40<00:53,  7.43it/s]"
     ]
    },
    {
     "name": "stdout",
     "output_type": "stream",
     "text": [
      "batch: 5200/5597 loss: 0.06858767569065094\n"
     ]
    },
    {
     "name": "stderr",
     "output_type": "stream",
     "text": [
      " 97%|█████████▋| 5402/5597 [12:07<00:26,  7.42it/s]"
     ]
    },
    {
     "name": "stdout",
     "output_type": "stream",
     "text": [
      "batch: 5400/5597 loss: 0.1741677075624466\n"
     ]
    },
    {
     "name": "stderr",
     "output_type": "stream",
     "text": [
      "100%|██████████| 5597/5597 [12:34<00:00,  7.42it/s]\n"
     ]
    },
    {
     "name": "stdout",
     "output_type": "stream",
     "text": [
      "Val 1/6\n",
      "--Val 1/6\n"
     ]
    },
    {
     "name": "stderr",
     "output_type": "stream",
     "text": [
      "  0%|          | 3/1410 [00:00<01:02, 22.47it/s]"
     ]
    },
    {
     "name": "stdout",
     "output_type": "stream",
     "text": [
      "batch: 0/1410 loss: 0.01928095333278179\n"
     ]
    },
    {
     "name": "stderr",
     "output_type": "stream",
     "text": [
      " 14%|█▍        | 204/1410 [00:08<00:53, 22.75it/s]"
     ]
    },
    {
     "name": "stdout",
     "output_type": "stream",
     "text": [
      "batch: 200/1410 loss: 0.0732903927564621\n"
     ]
    },
    {
     "name": "stderr",
     "output_type": "stream",
     "text": [
      " 29%|██▊       | 405/1410 [00:17<00:44, 22.76it/s]"
     ]
    },
    {
     "name": "stdout",
     "output_type": "stream",
     "text": [
      "batch: 400/1410 loss: 0.8134999871253967\n"
     ]
    },
    {
     "name": "stderr",
     "output_type": "stream",
     "text": [
      " 43%|████▎     | 603/1410 [00:26<00:35, 22.74it/s]"
     ]
    },
    {
     "name": "stdout",
     "output_type": "stream",
     "text": [
      "batch: 600/1410 loss: 0.34397825598716736\n"
     ]
    },
    {
     "name": "stderr",
     "output_type": "stream",
     "text": [
      " 57%|█████▋    | 804/1410 [00:35<00:27, 22.19it/s]"
     ]
    },
    {
     "name": "stdout",
     "output_type": "stream",
     "text": [
      "batch: 800/1410 loss: 1.2447720766067505\n"
     ]
    },
    {
     "name": "stderr",
     "output_type": "stream",
     "text": [
      " 71%|███████▏  | 1005/1410 [00:44<00:17, 22.77it/s]"
     ]
    },
    {
     "name": "stdout",
     "output_type": "stream",
     "text": [
      "batch: 1000/1410 loss: 0.9514705538749695\n"
     ]
    },
    {
     "name": "stderr",
     "output_type": "stream",
     "text": [
      " 85%|████████▌ | 1203/1410 [00:52<00:09, 22.78it/s]"
     ]
    },
    {
     "name": "stdout",
     "output_type": "stream",
     "text": [
      "batch: 1200/1410 loss: 1.558793544769287\n"
     ]
    },
    {
     "name": "stderr",
     "output_type": "stream",
     "text": [
      "100%|█████████▉| 1404/1410 [01:01<00:00, 22.76it/s]"
     ]
    },
    {
     "name": "stdout",
     "output_type": "stream",
     "text": [
      "batch: 1400/1410 loss: 1.223635196685791\n"
     ]
    },
    {
     "name": "stderr",
     "output_type": "stream",
     "text": [
      "100%|██████████| 1410/1410 [01:01<00:00, 22.74it/s]\n"
     ]
    },
    {
     "name": "stdout",
     "output_type": "stream",
     "text": [
      "Write row 1\n",
      "Early stopper, counter 0/10, best:0.5520814343547145 -> now:0.5513570183278755\n",
      "Set counter as 0\n",
      "Update best score as 0.5513570183278755\n",
      "Recorder, epoch 1 Model saved: /mnt/workspace/MyFiles/MNC_mock_1/MRC/results/train/20221121_232000/model.pt\n",
      "Train 2/6\n",
      "--Train 2/6\n"
     ]
    },
    {
     "name": "stderr",
     "output_type": "stream",
     "text": [
      "  0%|          | 1/5597 [00:00<14:16,  6.54it/s]"
     ]
    },
    {
     "name": "stdout",
     "output_type": "stream",
     "text": [
      "batch: 0/5597 loss: 0.16415813565254211\n"
     ]
    },
    {
     "name": "stderr",
     "output_type": "stream",
     "text": [
      "  4%|▎         | 202/5597 [00:27<12:07,  7.41it/s]"
     ]
    },
    {
     "name": "stdout",
     "output_type": "stream",
     "text": [
      "batch: 200/5597 loss: 0.25571101903915405\n"
     ]
    },
    {
     "name": "stderr",
     "output_type": "stream",
     "text": [
      "  7%|▋         | 402/5597 [00:54<11:40,  7.41it/s]"
     ]
    },
    {
     "name": "stdout",
     "output_type": "stream",
     "text": [
      "batch: 400/5597 loss: 0.19540303945541382\n"
     ]
    },
    {
     "name": "stderr",
     "output_type": "stream",
     "text": [
      " 11%|█         | 602/5597 [01:21<11:12,  7.42it/s]"
     ]
    },
    {
     "name": "stdout",
     "output_type": "stream",
     "text": [
      "batch: 600/5597 loss: 0.025437548756599426\n"
     ]
    },
    {
     "name": "stderr",
     "output_type": "stream",
     "text": [
      " 14%|█▍        | 802/5597 [01:48<10:47,  7.41it/s]"
     ]
    },
    {
     "name": "stdout",
     "output_type": "stream",
     "text": [
      "batch: 800/5597 loss: 0.03639456629753113\n"
     ]
    },
    {
     "name": "stderr",
     "output_type": "stream",
     "text": [
      " 18%|█▊        | 1002/5597 [02:15<10:18,  7.43it/s]"
     ]
    },
    {
     "name": "stdout",
     "output_type": "stream",
     "text": [
      "batch: 1000/5597 loss: 0.04662257432937622\n"
     ]
    },
    {
     "name": "stderr",
     "output_type": "stream",
     "text": [
      " 21%|██▏       | 1202/5597 [02:41<09:52,  7.42it/s]"
     ]
    },
    {
     "name": "stdout",
     "output_type": "stream",
     "text": [
      "batch: 1200/5597 loss: 0.5285959243774414\n"
     ]
    },
    {
     "name": "stderr",
     "output_type": "stream",
     "text": [
      " 25%|██▌       | 1402/5597 [03:08<09:25,  7.42it/s]"
     ]
    },
    {
     "name": "stdout",
     "output_type": "stream",
     "text": [
      "batch: 1400/5597 loss: 0.16054858267307281\n"
     ]
    },
    {
     "name": "stderr",
     "output_type": "stream",
     "text": [
      " 29%|██▊       | 1602/5597 [03:35<08:58,  7.41it/s]"
     ]
    },
    {
     "name": "stdout",
     "output_type": "stream",
     "text": [
      "batch: 1600/5597 loss: 0.5972471237182617\n"
     ]
    },
    {
     "name": "stderr",
     "output_type": "stream",
     "text": [
      " 32%|███▏      | 1802/5597 [04:02<08:30,  7.44it/s]"
     ]
    },
    {
     "name": "stdout",
     "output_type": "stream",
     "text": [
      "batch: 1800/5597 loss: 0.06714729219675064\n"
     ]
    },
    {
     "name": "stderr",
     "output_type": "stream",
     "text": [
      " 36%|███▌      | 2002/5597 [04:29<08:03,  7.43it/s]"
     ]
    },
    {
     "name": "stdout",
     "output_type": "stream",
     "text": [
      "batch: 2000/5597 loss: 0.17344066500663757\n"
     ]
    },
    {
     "name": "stderr",
     "output_type": "stream",
     "text": [
      " 39%|███▉      | 2202/5597 [04:56<07:36,  7.43it/s]"
     ]
    },
    {
     "name": "stdout",
     "output_type": "stream",
     "text": [
      "batch: 2200/5597 loss: 0.11941918730735779\n"
     ]
    },
    {
     "name": "stderr",
     "output_type": "stream",
     "text": [
      " 43%|████▎     | 2402/5597 [05:23<07:09,  7.44it/s]"
     ]
    },
    {
     "name": "stdout",
     "output_type": "stream",
     "text": [
      "batch: 2400/5597 loss: 0.01480952836573124\n"
     ]
    },
    {
     "name": "stderr",
     "output_type": "stream",
     "text": [
      " 46%|████▋     | 2602/5597 [05:50<06:43,  7.42it/s]"
     ]
    },
    {
     "name": "stdout",
     "output_type": "stream",
     "text": [
      "batch: 2600/5597 loss: 0.03693780303001404\n"
     ]
    },
    {
     "name": "stderr",
     "output_type": "stream",
     "text": [
      " 50%|█████     | 2802/5597 [06:17<06:17,  7.41it/s]"
     ]
    },
    {
     "name": "stdout",
     "output_type": "stream",
     "text": [
      "batch: 2800/5597 loss: 0.0316411592066288\n"
     ]
    },
    {
     "name": "stderr",
     "output_type": "stream",
     "text": [
      " 54%|█████▎    | 3002/5597 [06:44<05:48,  7.44it/s]"
     ]
    },
    {
     "name": "stdout",
     "output_type": "stream",
     "text": [
      "batch: 3000/5597 loss: 0.22977706789970398\n"
     ]
    },
    {
     "name": "stderr",
     "output_type": "stream",
     "text": [
      " 57%|█████▋    | 3202/5597 [07:11<05:22,  7.44it/s]"
     ]
    },
    {
     "name": "stdout",
     "output_type": "stream",
     "text": [
      "batch: 3200/5597 loss: 0.1890258938074112\n"
     ]
    },
    {
     "name": "stderr",
     "output_type": "stream",
     "text": [
      " 61%|██████    | 3402/5597 [07:38<04:54,  7.45it/s]"
     ]
    },
    {
     "name": "stdout",
     "output_type": "stream",
     "text": [
      "batch: 3400/5597 loss: 0.053979720920324326\n"
     ]
    },
    {
     "name": "stderr",
     "output_type": "stream",
     "text": [
      " 64%|██████▍   | 3602/5597 [08:04<04:28,  7.43it/s]"
     ]
    },
    {
     "name": "stdout",
     "output_type": "stream",
     "text": [
      "batch: 3600/5597 loss: 0.043595943599939346\n"
     ]
    },
    {
     "name": "stderr",
     "output_type": "stream",
     "text": [
      " 68%|██████▊   | 3802/5597 [08:31<04:01,  7.43it/s]"
     ]
    },
    {
     "name": "stdout",
     "output_type": "stream",
     "text": [
      "batch: 3800/5597 loss: 0.4566221237182617\n"
     ]
    },
    {
     "name": "stderr",
     "output_type": "stream",
     "text": [
      " 72%|███████▏  | 4002/5597 [08:58<03:35,  7.41it/s]"
     ]
    },
    {
     "name": "stdout",
     "output_type": "stream",
     "text": [
      "batch: 4000/5597 loss: 0.0333266481757164\n"
     ]
    },
    {
     "name": "stderr",
     "output_type": "stream",
     "text": [
      " 75%|███████▌  | 4202/5597 [09:25<03:07,  7.43it/s]"
     ]
    },
    {
     "name": "stdout",
     "output_type": "stream",
     "text": [
      "batch: 4200/5597 loss: 0.9961682558059692\n"
     ]
    },
    {
     "name": "stderr",
     "output_type": "stream",
     "text": [
      " 79%|███████▊  | 4402/5597 [09:52<02:40,  7.44it/s]"
     ]
    },
    {
     "name": "stdout",
     "output_type": "stream",
     "text": [
      "batch: 4400/5597 loss: 0.430366188287735\n"
     ]
    },
    {
     "name": "stderr",
     "output_type": "stream",
     "text": [
      " 82%|████████▏ | 4602/5597 [10:19<02:14,  7.42it/s]"
     ]
    },
    {
     "name": "stdout",
     "output_type": "stream",
     "text": [
      "batch: 4600/5597 loss: 0.6579272747039795\n"
     ]
    },
    {
     "name": "stderr",
     "output_type": "stream",
     "text": [
      " 86%|████████▌ | 4802/5597 [10:46<01:46,  7.44it/s]"
     ]
    },
    {
     "name": "stdout",
     "output_type": "stream",
     "text": [
      "batch: 4800/5597 loss: 0.255258709192276\n"
     ]
    },
    {
     "name": "stderr",
     "output_type": "stream",
     "text": [
      " 89%|████████▉ | 5002/5597 [11:13<01:19,  7.44it/s]"
     ]
    },
    {
     "name": "stdout",
     "output_type": "stream",
     "text": [
      "batch: 5000/5597 loss: 0.1446191668510437\n"
     ]
    },
    {
     "name": "stderr",
     "output_type": "stream",
     "text": [
      " 93%|█████████▎| 5202/5597 [11:40<00:53,  7.44it/s]"
     ]
    },
    {
     "name": "stdout",
     "output_type": "stream",
     "text": [
      "batch: 5200/5597 loss: 0.32307955622673035\n"
     ]
    },
    {
     "name": "stderr",
     "output_type": "stream",
     "text": [
      " 97%|█████████▋| 5402/5597 [12:07<00:26,  7.41it/s]"
     ]
    },
    {
     "name": "stdout",
     "output_type": "stream",
     "text": [
      "batch: 5400/5597 loss: 2.087002754211426\n"
     ]
    },
    {
     "name": "stderr",
     "output_type": "stream",
     "text": [
      "100%|██████████| 5597/5597 [12:33<00:00,  7.43it/s]\n"
     ]
    },
    {
     "name": "stdout",
     "output_type": "stream",
     "text": [
      "Val 2/6\n",
      "--Val 2/6\n"
     ]
    },
    {
     "name": "stderr",
     "output_type": "stream",
     "text": [
      "  0%|          | 3/1410 [00:00<01:02, 22.44it/s]"
     ]
    },
    {
     "name": "stdout",
     "output_type": "stream",
     "text": [
      "batch: 0/1410 loss: 0.04072363302111626\n"
     ]
    },
    {
     "name": "stderr",
     "output_type": "stream",
     "text": [
      " 14%|█▍        | 204/1410 [00:08<00:52, 22.76it/s]"
     ]
    },
    {
     "name": "stdout",
     "output_type": "stream",
     "text": [
      "batch: 200/1410 loss: 0.05190373584628105\n"
     ]
    },
    {
     "name": "stderr",
     "output_type": "stream",
     "text": [
      " 29%|██▊       | 405/1410 [00:17<00:44, 22.76it/s]"
     ]
    },
    {
     "name": "stdout",
     "output_type": "stream",
     "text": [
      "batch: 400/1410 loss: 0.7623479962348938\n"
     ]
    },
    {
     "name": "stderr",
     "output_type": "stream",
     "text": [
      " 43%|████▎     | 603/1410 [00:26<00:35, 22.63it/s]"
     ]
    },
    {
     "name": "stdout",
     "output_type": "stream",
     "text": [
      "batch: 600/1410 loss: 0.5124049782752991\n"
     ]
    },
    {
     "name": "stderr",
     "output_type": "stream",
     "text": [
      " 57%|█████▋    | 804/1410 [00:35<00:26, 22.74it/s]"
     ]
    },
    {
     "name": "stdout",
     "output_type": "stream",
     "text": [
      "batch: 800/1410 loss: 1.3397879600524902\n"
     ]
    },
    {
     "name": "stderr",
     "output_type": "stream",
     "text": [
      " 71%|███████▏  | 1005/1410 [00:44<00:17, 22.87it/s]"
     ]
    },
    {
     "name": "stdout",
     "output_type": "stream",
     "text": [
      "batch: 1000/1410 loss: 0.3710503578186035\n"
     ]
    },
    {
     "name": "stderr",
     "output_type": "stream",
     "text": [
      " 85%|████████▌ | 1203/1410 [00:52<00:09, 22.77it/s]"
     ]
    },
    {
     "name": "stdout",
     "output_type": "stream",
     "text": [
      "batch: 1200/1410 loss: 2.204555034637451\n"
     ]
    },
    {
     "name": "stderr",
     "output_type": "stream",
     "text": [
      "100%|█████████▉| 1404/1410 [01:01<00:00, 22.77it/s]"
     ]
    },
    {
     "name": "stdout",
     "output_type": "stream",
     "text": [
      "batch: 1400/1410 loss: 1.4163835048675537\n"
     ]
    },
    {
     "name": "stderr",
     "output_type": "stream",
     "text": [
      "100%|██████████| 1410/1410 [01:01<00:00, 22.77it/s]\n"
     ]
    },
    {
     "name": "stdout",
     "output_type": "stream",
     "text": [
      "Write row 2\n",
      "Early stopper, counter 1/10, best:0.5513570183278755 -> now:0.5908287504033173\n",
      "Train 3/6\n",
      "--Train 3/6\n"
     ]
    },
    {
     "name": "stderr",
     "output_type": "stream",
     "text": [
      "  0%|          | 1/5597 [00:00<13:18,  7.01it/s]"
     ]
    },
    {
     "name": "stdout",
     "output_type": "stream",
     "text": [
      "batch: 0/5597 loss: 0.22266031801700592\n"
     ]
    },
    {
     "name": "stderr",
     "output_type": "stream",
     "text": [
      "  4%|▎         | 202/5597 [00:27<12:05,  7.44it/s]"
     ]
    },
    {
     "name": "stdout",
     "output_type": "stream",
     "text": [
      "batch: 200/5597 loss: 0.008087143301963806\n"
     ]
    },
    {
     "name": "stderr",
     "output_type": "stream",
     "text": [
      "  7%|▋         | 402/5597 [00:54<11:39,  7.42it/s]"
     ]
    },
    {
     "name": "stdout",
     "output_type": "stream",
     "text": [
      "batch: 400/5597 loss: 0.02184927836060524\n"
     ]
    },
    {
     "name": "stderr",
     "output_type": "stream",
     "text": [
      " 11%|█         | 602/5597 [01:21<11:13,  7.42it/s]"
     ]
    },
    {
     "name": "stdout",
     "output_type": "stream",
     "text": [
      "batch: 600/5597 loss: 0.01968090794980526\n"
     ]
    },
    {
     "name": "stderr",
     "output_type": "stream",
     "text": [
      " 14%|█▍        | 802/5597 [01:47<10:46,  7.42it/s]"
     ]
    },
    {
     "name": "stdout",
     "output_type": "stream",
     "text": [
      "batch: 800/5597 loss: 0.06398677080869675\n"
     ]
    },
    {
     "name": "stderr",
     "output_type": "stream",
     "text": [
      " 18%|█▊        | 1002/5597 [02:14<10:17,  7.44it/s]"
     ]
    },
    {
     "name": "stdout",
     "output_type": "stream",
     "text": [
      "batch: 1000/5597 loss: 0.05801818147301674\n"
     ]
    },
    {
     "name": "stderr",
     "output_type": "stream",
     "text": [
      " 21%|██▏       | 1202/5597 [02:41<09:51,  7.42it/s]"
     ]
    },
    {
     "name": "stdout",
     "output_type": "stream",
     "text": [
      "batch: 1200/5597 loss: 0.005153208505362272\n"
     ]
    },
    {
     "name": "stderr",
     "output_type": "stream",
     "text": [
      " 25%|██▌       | 1402/5597 [03:08<09:25,  7.41it/s]"
     ]
    },
    {
     "name": "stdout",
     "output_type": "stream",
     "text": [
      "batch: 1400/5597 loss: 0.017806751653552055\n"
     ]
    },
    {
     "name": "stderr",
     "output_type": "stream",
     "text": [
      " 29%|██▊       | 1602/5597 [03:35<08:57,  7.43it/s]"
     ]
    },
    {
     "name": "stdout",
     "output_type": "stream",
     "text": [
      "batch: 1600/5597 loss: 0.24843212962150574\n"
     ]
    },
    {
     "name": "stderr",
     "output_type": "stream",
     "text": [
      " 32%|███▏      | 1802/5597 [04:02<08:31,  7.42it/s]"
     ]
    },
    {
     "name": "stdout",
     "output_type": "stream",
     "text": [
      "batch: 1800/5597 loss: 0.15924052894115448\n"
     ]
    },
    {
     "name": "stderr",
     "output_type": "stream",
     "text": [
      " 36%|███▌      | 2002/5597 [04:29<08:05,  7.41it/s]"
     ]
    },
    {
     "name": "stdout",
     "output_type": "stream",
     "text": [
      "batch: 2000/5597 loss: 0.03827677294611931\n"
     ]
    },
    {
     "name": "stderr",
     "output_type": "stream",
     "text": [
      " 39%|███▉      | 2202/5597 [04:56<07:36,  7.43it/s]"
     ]
    },
    {
     "name": "stdout",
     "output_type": "stream",
     "text": [
      "batch: 2200/5597 loss: 0.0017451568273827434\n"
     ]
    },
    {
     "name": "stderr",
     "output_type": "stream",
     "text": [
      " 43%|████▎     | 2402/5597 [05:23<07:10,  7.42it/s]"
     ]
    },
    {
     "name": "stdout",
     "output_type": "stream",
     "text": [
      "batch: 2400/5597 loss: 0.13704583048820496\n"
     ]
    },
    {
     "name": "stderr",
     "output_type": "stream",
     "text": [
      " 46%|████▋     | 2602/5597 [05:50<06:43,  7.42it/s]"
     ]
    },
    {
     "name": "stdout",
     "output_type": "stream",
     "text": [
      "batch: 2600/5597 loss: 0.049942854791879654\n"
     ]
    },
    {
     "name": "stderr",
     "output_type": "stream",
     "text": [
      " 50%|█████     | 2802/5597 [06:17<06:16,  7.43it/s]"
     ]
    },
    {
     "name": "stdout",
     "output_type": "stream",
     "text": [
      "batch: 2800/5597 loss: 0.06177420914173126\n"
     ]
    },
    {
     "name": "stderr",
     "output_type": "stream",
     "text": [
      " 54%|█████▎    | 3002/5597 [06:44<05:49,  7.42it/s]"
     ]
    },
    {
     "name": "stdout",
     "output_type": "stream",
     "text": [
      "batch: 3000/5597 loss: 0.10000923275947571\n"
     ]
    },
    {
     "name": "stderr",
     "output_type": "stream",
     "text": [
      " 57%|█████▋    | 3202/5597 [07:11<05:22,  7.43it/s]"
     ]
    },
    {
     "name": "stdout",
     "output_type": "stream",
     "text": [
      "batch: 3200/5597 loss: 0.014871936291456223\n"
     ]
    },
    {
     "name": "stderr",
     "output_type": "stream",
     "text": [
      " 61%|██████    | 3402/5597 [07:37<04:55,  7.43it/s]"
     ]
    },
    {
     "name": "stdout",
     "output_type": "stream",
     "text": [
      "batch: 3400/5597 loss: 0.21977342665195465\n"
     ]
    },
    {
     "name": "stderr",
     "output_type": "stream",
     "text": [
      " 64%|██████▍   | 3602/5597 [08:04<04:28,  7.44it/s]"
     ]
    },
    {
     "name": "stdout",
     "output_type": "stream",
     "text": [
      "batch: 3600/5597 loss: 0.009331803768873215\n"
     ]
    },
    {
     "name": "stderr",
     "output_type": "stream",
     "text": [
      " 68%|██████▊   | 3802/5597 [08:31<04:01,  7.42it/s]"
     ]
    },
    {
     "name": "stdout",
     "output_type": "stream",
     "text": [
      "batch: 3800/5597 loss: 0.19751819968223572\n"
     ]
    },
    {
     "name": "stderr",
     "output_type": "stream",
     "text": [
      " 72%|███████▏  | 4002/5597 [08:58<03:34,  7.43it/s]"
     ]
    },
    {
     "name": "stdout",
     "output_type": "stream",
     "text": [
      "batch: 4000/5597 loss: 0.9501153826713562\n"
     ]
    },
    {
     "name": "stderr",
     "output_type": "stream",
     "text": [
      " 75%|███████▌  | 4202/5597 [09:25<03:07,  7.43it/s]"
     ]
    },
    {
     "name": "stdout",
     "output_type": "stream",
     "text": [
      "batch: 4200/5597 loss: 0.01040003914386034\n"
     ]
    },
    {
     "name": "stderr",
     "output_type": "stream",
     "text": [
      " 79%|███████▊  | 4402/5597 [09:52<02:40,  7.44it/s]"
     ]
    },
    {
     "name": "stdout",
     "output_type": "stream",
     "text": [
      "batch: 4400/5597 loss: 2.817898988723755\n"
     ]
    },
    {
     "name": "stderr",
     "output_type": "stream",
     "text": [
      " 82%|████████▏ | 4602/5597 [10:19<02:14,  7.42it/s]"
     ]
    },
    {
     "name": "stdout",
     "output_type": "stream",
     "text": [
      "batch: 4600/5597 loss: 0.22259685397148132\n"
     ]
    },
    {
     "name": "stderr",
     "output_type": "stream",
     "text": [
      " 86%|████████▌ | 4802/5597 [10:46<01:46,  7.43it/s]"
     ]
    },
    {
     "name": "stdout",
     "output_type": "stream",
     "text": [
      "batch: 4800/5597 loss: 0.03551427274942398\n"
     ]
    },
    {
     "name": "stderr",
     "output_type": "stream",
     "text": [
      " 89%|████████▉ | 5002/5597 [11:13<01:19,  7.45it/s]"
     ]
    },
    {
     "name": "stdout",
     "output_type": "stream",
     "text": [
      "batch: 5000/5597 loss: 0.3166767358779907\n"
     ]
    },
    {
     "name": "stderr",
     "output_type": "stream",
     "text": [
      " 93%|█████████▎| 5202/5597 [11:40<00:53,  7.43it/s]"
     ]
    },
    {
     "name": "stdout",
     "output_type": "stream",
     "text": [
      "batch: 5200/5597 loss: 0.5629870891571045\n"
     ]
    },
    {
     "name": "stderr",
     "output_type": "stream",
     "text": [
      " 97%|█████████▋| 5402/5597 [12:07<00:26,  7.45it/s]"
     ]
    },
    {
     "name": "stdout",
     "output_type": "stream",
     "text": [
      "batch: 5400/5597 loss: 0.0673878937959671\n"
     ]
    },
    {
     "name": "stderr",
     "output_type": "stream",
     "text": [
      "100%|██████████| 5597/5597 [12:33<00:00,  7.43it/s]\n"
     ]
    },
    {
     "name": "stdout",
     "output_type": "stream",
     "text": [
      "Val 3/6\n",
      "--Val 3/6\n"
     ]
    },
    {
     "name": "stderr",
     "output_type": "stream",
     "text": [
      "  0%|          | 3/1410 [00:00<01:02, 22.48it/s]"
     ]
    },
    {
     "name": "stdout",
     "output_type": "stream",
     "text": [
      "batch: 0/1410 loss: 0.04154177010059357\n"
     ]
    },
    {
     "name": "stderr",
     "output_type": "stream",
     "text": [
      " 14%|█▍        | 204/1410 [00:09<00:53, 22.74it/s]"
     ]
    },
    {
     "name": "stdout",
     "output_type": "stream",
     "text": [
      "batch: 200/1410 loss: 0.04320785775780678\n"
     ]
    },
    {
     "name": "stderr",
     "output_type": "stream",
     "text": [
      " 29%|██▊       | 405/1410 [00:17<00:44, 22.76it/s]"
     ]
    },
    {
     "name": "stdout",
     "output_type": "stream",
     "text": [
      "batch: 400/1410 loss: 0.41224366426467896\n"
     ]
    },
    {
     "name": "stderr",
     "output_type": "stream",
     "text": [
      " 43%|████▎     | 603/1410 [00:26<00:35, 22.74it/s]"
     ]
    },
    {
     "name": "stdout",
     "output_type": "stream",
     "text": [
      "batch: 600/1410 loss: 0.48059529066085815\n"
     ]
    },
    {
     "name": "stderr",
     "output_type": "stream",
     "text": [
      " 57%|█████▋    | 804/1410 [00:35<00:26, 22.75it/s]"
     ]
    },
    {
     "name": "stdout",
     "output_type": "stream",
     "text": [
      "batch: 800/1410 loss: 1.460432767868042\n"
     ]
    },
    {
     "name": "stderr",
     "output_type": "stream",
     "text": [
      " 71%|███████▏  | 1005/1410 [00:44<00:17, 22.74it/s]"
     ]
    },
    {
     "name": "stdout",
     "output_type": "stream",
     "text": [
      "batch: 1000/1410 loss: 0.8606706857681274\n"
     ]
    },
    {
     "name": "stderr",
     "output_type": "stream",
     "text": [
      " 85%|████████▌ | 1203/1410 [00:52<00:09, 22.71it/s]"
     ]
    },
    {
     "name": "stdout",
     "output_type": "stream",
     "text": [
      "batch: 1200/1410 loss: 2.283640146255493\n"
     ]
    },
    {
     "name": "stderr",
     "output_type": "stream",
     "text": [
      "100%|█████████▉| 1404/1410 [01:01<00:00, 22.77it/s]"
     ]
    },
    {
     "name": "stdout",
     "output_type": "stream",
     "text": [
      "batch: 1400/1410 loss: 1.7065534591674805\n"
     ]
    },
    {
     "name": "stderr",
     "output_type": "stream",
     "text": [
      "100%|██████████| 1410/1410 [01:02<00:00, 22.73it/s]\n"
     ]
    },
    {
     "name": "stdout",
     "output_type": "stream",
     "text": [
      "Write row 3\n",
      "Early stopper, counter 2/10, best:0.5513570183278755 -> now:0.7430412789309688\n",
      "Train 4/6\n",
      "--Train 4/6\n"
     ]
    },
    {
     "name": "stderr",
     "output_type": "stream",
     "text": [
      "  0%|          | 1/5597 [00:00<13:08,  7.09it/s]"
     ]
    },
    {
     "name": "stdout",
     "output_type": "stream",
     "text": [
      "batch: 0/5597 loss: 0.019549306482076645\n"
     ]
    },
    {
     "name": "stderr",
     "output_type": "stream",
     "text": [
      "  4%|▎         | 202/5597 [00:27<12:05,  7.44it/s]"
     ]
    },
    {
     "name": "stdout",
     "output_type": "stream",
     "text": [
      "batch: 200/5597 loss: 0.0782378613948822\n"
     ]
    },
    {
     "name": "stderr",
     "output_type": "stream",
     "text": [
      "  7%|▋         | 402/5597 [00:54<11:40,  7.41it/s]"
     ]
    },
    {
     "name": "stdout",
     "output_type": "stream",
     "text": [
      "batch: 400/5597 loss: 0.002892290009185672\n"
     ]
    },
    {
     "name": "stderr",
     "output_type": "stream",
     "text": [
      " 11%|█         | 602/5597 [01:20<11:12,  7.43it/s]"
     ]
    },
    {
     "name": "stdout",
     "output_type": "stream",
     "text": [
      "batch: 600/5597 loss: 0.02972836047410965\n"
     ]
    },
    {
     "name": "stderr",
     "output_type": "stream",
     "text": [
      " 14%|█▍        | 802/5597 [01:47<10:44,  7.44it/s]"
     ]
    },
    {
     "name": "stdout",
     "output_type": "stream",
     "text": [
      "batch: 800/5597 loss: 0.4186243414878845\n"
     ]
    },
    {
     "name": "stderr",
     "output_type": "stream",
     "text": [
      " 18%|█▊        | 1002/5597 [02:14<10:19,  7.42it/s]"
     ]
    },
    {
     "name": "stdout",
     "output_type": "stream",
     "text": [
      "batch: 1000/5597 loss: 0.01977718248963356\n"
     ]
    },
    {
     "name": "stderr",
     "output_type": "stream",
     "text": [
      " 21%|██▏       | 1202/5597 [02:41<09:51,  7.43it/s]"
     ]
    },
    {
     "name": "stdout",
     "output_type": "stream",
     "text": [
      "batch: 1200/5597 loss: 0.000887631787918508\n"
     ]
    },
    {
     "name": "stderr",
     "output_type": "stream",
     "text": [
      " 25%|██▌       | 1402/5597 [03:08<09:23,  7.44it/s]"
     ]
    },
    {
     "name": "stdout",
     "output_type": "stream",
     "text": [
      "batch: 1400/5597 loss: 0.036192815750837326\n"
     ]
    },
    {
     "name": "stderr",
     "output_type": "stream",
     "text": [
      " 29%|██▊       | 1602/5597 [03:35<08:56,  7.44it/s]"
     ]
    },
    {
     "name": "stdout",
     "output_type": "stream",
     "text": [
      "batch: 1600/5597 loss: 0.07057259231805801\n"
     ]
    },
    {
     "name": "stderr",
     "output_type": "stream",
     "text": [
      " 32%|███▏      | 1802/5597 [04:02<08:30,  7.44it/s]"
     ]
    },
    {
     "name": "stdout",
     "output_type": "stream",
     "text": [
      "batch: 1800/5597 loss: 0.007580433040857315\n"
     ]
    },
    {
     "name": "stderr",
     "output_type": "stream",
     "text": [
      " 36%|███▌      | 2002/5597 [04:29<08:03,  7.44it/s]"
     ]
    },
    {
     "name": "stdout",
     "output_type": "stream",
     "text": [
      "batch: 2000/5597 loss: 0.08660005033016205\n"
     ]
    },
    {
     "name": "stderr",
     "output_type": "stream",
     "text": [
      " 39%|███▉      | 2202/5597 [04:56<07:36,  7.43it/s]"
     ]
    },
    {
     "name": "stdout",
     "output_type": "stream",
     "text": [
      "batch: 2200/5597 loss: 0.0983383059501648\n"
     ]
    },
    {
     "name": "stderr",
     "output_type": "stream",
     "text": [
      " 43%|████▎     | 2402/5597 [05:23<07:10,  7.43it/s]"
     ]
    },
    {
     "name": "stdout",
     "output_type": "stream",
     "text": [
      "batch: 2400/5597 loss: 0.0022531135473400354\n"
     ]
    },
    {
     "name": "stderr",
     "output_type": "stream",
     "text": [
      " 46%|████▋     | 2602/5597 [05:50<06:43,  7.43it/s]"
     ]
    },
    {
     "name": "stdout",
     "output_type": "stream",
     "text": [
      "batch: 2600/5597 loss: 0.004814408253878355\n"
     ]
    },
    {
     "name": "stderr",
     "output_type": "stream",
     "text": [
      " 50%|█████     | 2802/5597 [06:16<06:17,  7.39it/s]"
     ]
    },
    {
     "name": "stdout",
     "output_type": "stream",
     "text": [
      "batch: 2800/5597 loss: 0.4307619631290436\n"
     ]
    },
    {
     "name": "stderr",
     "output_type": "stream",
     "text": [
      " 54%|█████▎    | 3002/5597 [06:43<05:49,  7.43it/s]"
     ]
    },
    {
     "name": "stdout",
     "output_type": "stream",
     "text": [
      "batch: 3000/5597 loss: 0.14180482923984528\n"
     ]
    },
    {
     "name": "stderr",
     "output_type": "stream",
     "text": [
      " 57%|█████▋    | 3202/5597 [07:10<05:22,  7.42it/s]"
     ]
    },
    {
     "name": "stdout",
     "output_type": "stream",
     "text": [
      "batch: 3200/5597 loss: 0.11608348041772842\n"
     ]
    },
    {
     "name": "stderr",
     "output_type": "stream",
     "text": [
      " 61%|██████    | 3402/5597 [07:37<04:55,  7.43it/s]"
     ]
    },
    {
     "name": "stdout",
     "output_type": "stream",
     "text": [
      "batch: 3400/5597 loss: 0.023807989433407784\n"
     ]
    },
    {
     "name": "stderr",
     "output_type": "stream",
     "text": [
      " 64%|██████▍   | 3602/5597 [08:04<04:28,  7.42it/s]"
     ]
    },
    {
     "name": "stdout",
     "output_type": "stream",
     "text": [
      "batch: 3600/5597 loss: 0.012799790129065514\n"
     ]
    },
    {
     "name": "stderr",
     "output_type": "stream",
     "text": [
      " 68%|██████▊   | 3802/5597 [08:31<04:02,  7.41it/s]"
     ]
    },
    {
     "name": "stdout",
     "output_type": "stream",
     "text": [
      "batch: 3800/5597 loss: 0.026168158277869225\n"
     ]
    },
    {
     "name": "stderr",
     "output_type": "stream",
     "text": [
      " 72%|███████▏  | 4002/5597 [08:58<03:35,  7.42it/s]"
     ]
    },
    {
     "name": "stdout",
     "output_type": "stream",
     "text": [
      "batch: 4000/5597 loss: 0.041159488260746\n"
     ]
    },
    {
     "name": "stderr",
     "output_type": "stream",
     "text": [
      " 75%|███████▌  | 4202/5597 [09:25<03:08,  7.42it/s]"
     ]
    },
    {
     "name": "stdout",
     "output_type": "stream",
     "text": [
      "batch: 4200/5597 loss: 0.005180174484848976\n"
     ]
    },
    {
     "name": "stderr",
     "output_type": "stream",
     "text": [
      " 79%|███████▊  | 4402/5597 [09:52<02:40,  7.43it/s]"
     ]
    },
    {
     "name": "stdout",
     "output_type": "stream",
     "text": [
      "batch: 4400/5597 loss: 0.03316684439778328\n"
     ]
    },
    {
     "name": "stderr",
     "output_type": "stream",
     "text": [
      " 82%|████████▏ | 4602/5597 [10:19<02:14,  7.42it/s]"
     ]
    },
    {
     "name": "stdout",
     "output_type": "stream",
     "text": [
      "batch: 4600/5597 loss: 0.08463942259550095\n"
     ]
    },
    {
     "name": "stderr",
     "output_type": "stream",
     "text": [
      " 86%|████████▌ | 4802/5597 [10:46<01:46,  7.47it/s]"
     ]
    },
    {
     "name": "stdout",
     "output_type": "stream",
     "text": [
      "batch: 4800/5597 loss: 0.04799894616007805\n"
     ]
    },
    {
     "name": "stderr",
     "output_type": "stream",
     "text": [
      " 89%|████████▉ | 5002/5597 [11:13<01:20,  7.43it/s]"
     ]
    },
    {
     "name": "stdout",
     "output_type": "stream",
     "text": [
      "batch: 5000/5597 loss: 0.0018439748091623187\n"
     ]
    },
    {
     "name": "stderr",
     "output_type": "stream",
     "text": [
      " 93%|█████████▎| 5202/5597 [11:40<00:53,  7.43it/s]"
     ]
    },
    {
     "name": "stdout",
     "output_type": "stream",
     "text": [
      "batch: 5200/5597 loss: 0.013001699000597\n"
     ]
    },
    {
     "name": "stderr",
     "output_type": "stream",
     "text": [
      " 97%|█████████▋| 5402/5597 [12:06<00:26,  7.41it/s]"
     ]
    },
    {
     "name": "stdout",
     "output_type": "stream",
     "text": [
      "batch: 5400/5597 loss: 0.08430808037519455\n"
     ]
    },
    {
     "name": "stderr",
     "output_type": "stream",
     "text": [
      "100%|██████████| 5597/5597 [12:33<00:00,  7.43it/s]\n"
     ]
    },
    {
     "name": "stdout",
     "output_type": "stream",
     "text": [
      "Val 4/6\n",
      "--Val 4/6\n"
     ]
    },
    {
     "name": "stderr",
     "output_type": "stream",
     "text": [
      "  0%|          | 3/1410 [00:00<01:02, 22.47it/s]"
     ]
    },
    {
     "name": "stdout",
     "output_type": "stream",
     "text": [
      "batch: 0/1410 loss: 0.020247017964720726\n"
     ]
    },
    {
     "name": "stderr",
     "output_type": "stream",
     "text": [
      " 14%|█▍        | 204/1410 [00:08<00:52, 22.78it/s]"
     ]
    },
    {
     "name": "stdout",
     "output_type": "stream",
     "text": [
      "batch: 200/1410 loss: 0.01469478104263544\n"
     ]
    },
    {
     "name": "stderr",
     "output_type": "stream",
     "text": [
      " 29%|██▊       | 405/1410 [00:17<00:43, 22.84it/s]"
     ]
    },
    {
     "name": "stdout",
     "output_type": "stream",
     "text": [
      "batch: 400/1410 loss: 0.7775681018829346\n"
     ]
    },
    {
     "name": "stderr",
     "output_type": "stream",
     "text": [
      " 43%|████▎     | 603/1410 [00:26<00:35, 22.75it/s]"
     ]
    },
    {
     "name": "stdout",
     "output_type": "stream",
     "text": [
      "batch: 600/1410 loss: 0.34227824211120605\n"
     ]
    },
    {
     "name": "stderr",
     "output_type": "stream",
     "text": [
      " 57%|█████▋    | 804/1410 [00:35<00:27, 22.26it/s]"
     ]
    },
    {
     "name": "stdout",
     "output_type": "stream",
     "text": [
      "batch: 800/1410 loss: 1.6497870683670044\n"
     ]
    },
    {
     "name": "stderr",
     "output_type": "stream",
     "text": [
      " 71%|███████▏  | 1005/1410 [00:44<00:17, 22.79it/s]"
     ]
    },
    {
     "name": "stdout",
     "output_type": "stream",
     "text": [
      "batch: 1000/1410 loss: 0.453810453414917\n"
     ]
    },
    {
     "name": "stderr",
     "output_type": "stream",
     "text": [
      " 85%|████████▌ | 1203/1410 [00:53<00:09, 22.21it/s]"
     ]
    },
    {
     "name": "stdout",
     "output_type": "stream",
     "text": [
      "batch: 1200/1410 loss: 2.6626596450805664\n"
     ]
    },
    {
     "name": "stderr",
     "output_type": "stream",
     "text": [
      "100%|█████████▉| 1404/1410 [01:01<00:00, 22.79it/s]"
     ]
    },
    {
     "name": "stdout",
     "output_type": "stream",
     "text": [
      "batch: 1400/1410 loss: 2.5939292907714844\n"
     ]
    },
    {
     "name": "stderr",
     "output_type": "stream",
     "text": [
      "100%|██████████| 1410/1410 [01:02<00:00, 22.69it/s]\n"
     ]
    },
    {
     "name": "stdout",
     "output_type": "stream",
     "text": [
      "Write row 4\n",
      "Early stopper, counter 3/10, best:0.5513570183278755 -> now:0.8604683457891513\n",
      "Train 5/6\n",
      "--Train 5/6\n"
     ]
    },
    {
     "name": "stderr",
     "output_type": "stream",
     "text": [
      "  0%|          | 1/5597 [00:00<13:18,  7.01it/s]"
     ]
    },
    {
     "name": "stdout",
     "output_type": "stream",
     "text": [
      "batch: 0/5597 loss: 0.0027956380508840084\n"
     ]
    },
    {
     "name": "stderr",
     "output_type": "stream",
     "text": [
      "  4%|▎         | 202/5597 [00:27<12:06,  7.43it/s]"
     ]
    },
    {
     "name": "stdout",
     "output_type": "stream",
     "text": [
      "batch: 200/5597 loss: 0.0054092505015432835\n"
     ]
    },
    {
     "name": "stderr",
     "output_type": "stream",
     "text": [
      "  7%|▋         | 402/5597 [00:54<11:40,  7.42it/s]"
     ]
    },
    {
     "name": "stdout",
     "output_type": "stream",
     "text": [
      "batch: 400/5597 loss: 0.0032815535087138414\n"
     ]
    },
    {
     "name": "stderr",
     "output_type": "stream",
     "text": [
      " 11%|█         | 602/5597 [01:21<11:12,  7.42it/s]"
     ]
    },
    {
     "name": "stdout",
     "output_type": "stream",
     "text": [
      "batch: 600/5597 loss: 0.11841163784265518\n"
     ]
    },
    {
     "name": "stderr",
     "output_type": "stream",
     "text": [
      " 14%|█▍        | 802/5597 [01:48<10:54,  7.32it/s]"
     ]
    },
    {
     "name": "stdout",
     "output_type": "stream",
     "text": [
      "batch: 800/5597 loss: 0.004421435762196779\n"
     ]
    },
    {
     "name": "stderr",
     "output_type": "stream",
     "text": [
      " 18%|█▊        | 1002/5597 [02:14<10:26,  7.34it/s]"
     ]
    },
    {
     "name": "stdout",
     "output_type": "stream",
     "text": [
      "batch: 1000/5597 loss: 0.3419729173183441\n"
     ]
    },
    {
     "name": "stderr",
     "output_type": "stream",
     "text": [
      " 21%|██▏       | 1202/5597 [02:41<09:52,  7.41it/s]"
     ]
    },
    {
     "name": "stdout",
     "output_type": "stream",
     "text": [
      "batch: 1200/5597 loss: 0.029678191989660263\n"
     ]
    },
    {
     "name": "stderr",
     "output_type": "stream",
     "text": [
      " 25%|██▌       | 1402/5597 [03:08<09:25,  7.42it/s]"
     ]
    },
    {
     "name": "stdout",
     "output_type": "stream",
     "text": [
      "batch: 1400/5597 loss: 0.003717989893630147\n"
     ]
    },
    {
     "name": "stderr",
     "output_type": "stream",
     "text": [
      " 29%|██▊       | 1602/5597 [03:35<08:57,  7.44it/s]"
     ]
    },
    {
     "name": "stdout",
     "output_type": "stream",
     "text": [
      "batch: 1600/5597 loss: 0.04394116625189781\n"
     ]
    },
    {
     "name": "stderr",
     "output_type": "stream",
     "text": [
      " 32%|███▏      | 1802/5597 [04:02<08:29,  7.44it/s]"
     ]
    },
    {
     "name": "stdout",
     "output_type": "stream",
     "text": [
      "batch: 1800/5597 loss: 0.07196684181690216\n"
     ]
    },
    {
     "name": "stderr",
     "output_type": "stream",
     "text": [
      " 36%|███▌      | 2002/5597 [04:29<08:03,  7.43it/s]"
     ]
    },
    {
     "name": "stdout",
     "output_type": "stream",
     "text": [
      "batch: 2000/5597 loss: 0.006018024869263172\n"
     ]
    },
    {
     "name": "stderr",
     "output_type": "stream",
     "text": [
      " 39%|███▉      | 2202/5597 [04:56<07:37,  7.42it/s]"
     ]
    },
    {
     "name": "stdout",
     "output_type": "stream",
     "text": [
      "batch: 2200/5597 loss: 0.01637290045619011\n"
     ]
    },
    {
     "name": "stderr",
     "output_type": "stream",
     "text": [
      " 43%|████▎     | 2402/5597 [05:23<07:09,  7.44it/s]"
     ]
    },
    {
     "name": "stdout",
     "output_type": "stream",
     "text": [
      "batch: 2400/5597 loss: 0.02709820121526718\n"
     ]
    },
    {
     "name": "stderr",
     "output_type": "stream",
     "text": [
      " 46%|████▋     | 2602/5597 [05:50<06:43,  7.42it/s]"
     ]
    },
    {
     "name": "stdout",
     "output_type": "stream",
     "text": [
      "batch: 2600/5597 loss: 0.5464973449707031\n"
     ]
    },
    {
     "name": "stderr",
     "output_type": "stream",
     "text": [
      " 50%|█████     | 2802/5597 [06:17<06:16,  7.43it/s]"
     ]
    },
    {
     "name": "stdout",
     "output_type": "stream",
     "text": [
      "batch: 2800/5597 loss: 0.03224257379770279\n"
     ]
    },
    {
     "name": "stderr",
     "output_type": "stream",
     "text": [
      " 54%|█████▎    | 3002/5597 [06:44<05:49,  7.42it/s]"
     ]
    },
    {
     "name": "stdout",
     "output_type": "stream",
     "text": [
      "batch: 3000/5597 loss: 0.004559419117867947\n"
     ]
    },
    {
     "name": "stderr",
     "output_type": "stream",
     "text": [
      " 57%|█████▋    | 3202/5597 [07:11<05:22,  7.43it/s]"
     ]
    },
    {
     "name": "stdout",
     "output_type": "stream",
     "text": [
      "batch: 3200/5597 loss: 0.27574265003204346\n"
     ]
    },
    {
     "name": "stderr",
     "output_type": "stream",
     "text": [
      " 61%|██████    | 3402/5597 [07:37<04:55,  7.42it/s]"
     ]
    },
    {
     "name": "stdout",
     "output_type": "stream",
     "text": [
      "batch: 3400/5597 loss: 0.019435517489910126\n"
     ]
    },
    {
     "name": "stderr",
     "output_type": "stream",
     "text": [
      " 64%|██████▍   | 3602/5597 [08:04<04:28,  7.42it/s]"
     ]
    },
    {
     "name": "stdout",
     "output_type": "stream",
     "text": [
      "batch: 3600/5597 loss: 0.017246749252080917\n"
     ]
    },
    {
     "name": "stderr",
     "output_type": "stream",
     "text": [
      " 68%|██████▊   | 3802/5597 [08:31<04:01,  7.42it/s]"
     ]
    },
    {
     "name": "stdout",
     "output_type": "stream",
     "text": [
      "batch: 3800/5597 loss: 0.015549279749393463\n"
     ]
    },
    {
     "name": "stderr",
     "output_type": "stream",
     "text": [
      " 72%|███████▏  | 4002/5597 [08:58<03:35,  7.41it/s]"
     ]
    },
    {
     "name": "stdout",
     "output_type": "stream",
     "text": [
      "batch: 4000/5597 loss: 0.06339015066623688\n"
     ]
    },
    {
     "name": "stderr",
     "output_type": "stream",
     "text": [
      " 75%|███████▌  | 4202/5597 [09:25<03:08,  7.42it/s]"
     ]
    },
    {
     "name": "stdout",
     "output_type": "stream",
     "text": [
      "batch: 4200/5597 loss: 0.0014892916660755873\n"
     ]
    },
    {
     "name": "stderr",
     "output_type": "stream",
     "text": [
      " 79%|███████▊  | 4402/5597 [09:52<02:41,  7.42it/s]"
     ]
    },
    {
     "name": "stdout",
     "output_type": "stream",
     "text": [
      "batch: 4400/5597 loss: 0.0008502982091158628\n"
     ]
    },
    {
     "name": "stderr",
     "output_type": "stream",
     "text": [
      " 82%|████████▏ | 4602/5597 [10:19<02:14,  7.42it/s]"
     ]
    },
    {
     "name": "stdout",
     "output_type": "stream",
     "text": [
      "batch: 4600/5597 loss: 0.6702120900154114\n"
     ]
    },
    {
     "name": "stderr",
     "output_type": "stream",
     "text": [
      " 86%|████████▌ | 4802/5597 [10:46<01:47,  7.42it/s]"
     ]
    },
    {
     "name": "stdout",
     "output_type": "stream",
     "text": [
      "batch: 4800/5597 loss: 0.0022065737284719944\n"
     ]
    },
    {
     "name": "stderr",
     "output_type": "stream",
     "text": [
      " 89%|████████▉ | 5002/5597 [11:13<01:20,  7.42it/s]"
     ]
    },
    {
     "name": "stdout",
     "output_type": "stream",
     "text": [
      "batch: 5000/5597 loss: 0.7002713084220886\n"
     ]
    },
    {
     "name": "stderr",
     "output_type": "stream",
     "text": [
      " 93%|█████████▎| 5202/5597 [11:40<00:53,  7.43it/s]"
     ]
    },
    {
     "name": "stdout",
     "output_type": "stream",
     "text": [
      "batch: 5200/5597 loss: 0.015437686815857887\n"
     ]
    },
    {
     "name": "stderr",
     "output_type": "stream",
     "text": [
      " 97%|█████████▋| 5402/5597 [12:07<00:26,  7.42it/s]"
     ]
    },
    {
     "name": "stdout",
     "output_type": "stream",
     "text": [
      "batch: 5400/5597 loss: 0.004249596036970615\n"
     ]
    },
    {
     "name": "stderr",
     "output_type": "stream",
     "text": [
      "100%|██████████| 5597/5597 [12:33<00:00,  7.43it/s]\n"
     ]
    },
    {
     "name": "stdout",
     "output_type": "stream",
     "text": [
      "Val 5/6\n",
      "--Val 5/6\n"
     ]
    },
    {
     "name": "stderr",
     "output_type": "stream",
     "text": [
      "  0%|          | 3/1410 [00:00<01:02, 22.47it/s]"
     ]
    },
    {
     "name": "stdout",
     "output_type": "stream",
     "text": [
      "batch: 0/1410 loss: 0.042583294212818146\n"
     ]
    },
    {
     "name": "stderr",
     "output_type": "stream",
     "text": [
      " 14%|█▍        | 204/1410 [00:08<00:52, 22.78it/s]"
     ]
    },
    {
     "name": "stdout",
     "output_type": "stream",
     "text": [
      "batch: 200/1410 loss: 0.0014824550598859787\n"
     ]
    },
    {
     "name": "stderr",
     "output_type": "stream",
     "text": [
      " 29%|██▊       | 405/1410 [00:17<00:44, 22.75it/s]"
     ]
    },
    {
     "name": "stdout",
     "output_type": "stream",
     "text": [
      "batch: 400/1410 loss: 0.7681834697723389\n"
     ]
    },
    {
     "name": "stderr",
     "output_type": "stream",
     "text": [
      " 43%|████▎     | 603/1410 [00:26<00:35, 22.77it/s]"
     ]
    },
    {
     "name": "stdout",
     "output_type": "stream",
     "text": [
      "batch: 600/1410 loss: 0.2529301345348358\n"
     ]
    },
    {
     "name": "stderr",
     "output_type": "stream",
     "text": [
      " 57%|█████▋    | 804/1410 [00:35<00:26, 22.78it/s]"
     ]
    },
    {
     "name": "stdout",
     "output_type": "stream",
     "text": [
      "batch: 800/1410 loss: 1.7780925035476685\n"
     ]
    },
    {
     "name": "stderr",
     "output_type": "stream",
     "text": [
      " 71%|███████▏  | 1005/1410 [00:44<00:17, 22.77it/s]"
     ]
    },
    {
     "name": "stdout",
     "output_type": "stream",
     "text": [
      "batch: 1000/1410 loss: 0.9703247547149658\n"
     ]
    },
    {
     "name": "stderr",
     "output_type": "stream",
     "text": [
      " 85%|████████▌ | 1203/1410 [00:52<00:09, 22.76it/s]"
     ]
    },
    {
     "name": "stdout",
     "output_type": "stream",
     "text": [
      "batch: 1200/1410 loss: 2.6980364322662354\n"
     ]
    },
    {
     "name": "stderr",
     "output_type": "stream",
     "text": [
      "100%|█████████▉| 1404/1410 [01:01<00:00, 22.77it/s]"
     ]
    },
    {
     "name": "stdout",
     "output_type": "stream",
     "text": [
      "batch: 1400/1410 loss: 2.6678555011749268\n"
     ]
    },
    {
     "name": "stderr",
     "output_type": "stream",
     "text": [
      "100%|██████████| 1410/1410 [01:01<00:00, 22.77it/s]"
     ]
    },
    {
     "name": "stdout",
     "output_type": "stream",
     "text": [
      "Write row 5\n",
      "Early stopper, counter 4/10, best:0.5513570183278755 -> now:0.9161958823309102\n"
     ]
    },
    {
     "name": "stderr",
     "output_type": "stream",
     "text": [
      "\n"
     ]
    }
   ],
   "source": [
    "# Train\n",
    "for epoch_index in range(EPOCHS):\n",
    "\n",
    "    # Set Recorder row\n",
    "    row_dict = dict()\n",
    "    row_dict['epoch_index'] = epoch_index\n",
    "    row_dict['train_serial'] = train_serial\n",
    "\n",
    "    \"\"\"\n",
    "    Train\n",
    "    \"\"\"\n",
    "    print(f\"Train {epoch_index}/{EPOCHS}\")\n",
    "    print(f\"--Train {epoch_index}/{EPOCHS}\")\n",
    "    trainer.train(dataloader=train_dataloader, epoch_index=epoch_index, tokenizer=tokenizer, mode='train')\n",
    "\n",
    "    row_dict['train_loss'] = trainer.loss_mean\n",
    "    row_dict['train_elapsed_time'] = trainer.elapsed_time \n",
    "\n",
    "    for metric_str, score in trainer.score_dict.items():\n",
    "        row_dict[f\"train_{metric_str}\"] = score\n",
    "    trainer.clear_history()\n",
    "\n",
    "    \"\"\"\n",
    "    Validation\n",
    "    \"\"\"\n",
    "    print(f\"Val {epoch_index}/{EPOCHS}\")\n",
    "    print(f\"--Val {epoch_index}/{EPOCHS}\")\n",
    "    trainer.train(dataloader=val_dataloader, epoch_index=epoch_index, tokenizer=tokenizer, mode='val')\n",
    "\n",
    "    row_dict['val_loss'] = trainer.loss_mean\n",
    "    row_dict['val_elapsed_time'] = trainer.elapsed_time \n",
    "\n",
    "    for metric_str, score in trainer.score_dict.items():\n",
    "        row_dict[f\"val_{metric_str}\"] = score\n",
    "    trainer.clear_history()\n",
    "\n",
    "    \"\"\"\n",
    "    Record\n",
    "    \"\"\"\n",
    "    recorder.add_row(row_dict)\n",
    "\n",
    "    \"\"\"\n",
    "    Early stopper\n",
    "    \"\"\"\n",
    "    early_stopping_target = EARLY_STOPPING_TARGET\n",
    "    early_stopper.check_early_stopping(loss=row_dict[early_stopping_target])\n",
    "\n",
    "    if early_stopper.patience_counter == 0:\n",
    "        recorder.save_weight(epoch=epoch_index)\n",
    "        best_row_dict = copy.deepcopy(row_dict)\n",
    "\n",
    "    if early_stopper.stop == True:\n",
    "        print(f\"Early stopped, counter {early_stopper.patience_counter}/{EARLY_STOPPING_PATIENCE}\")\n",
    "\n",
    "        break"
   ]
  },
  {
   "cell_type": "markdown",
   "id": "ed9d2987-378c-45df-84bf-ee4589ac61d4",
   "metadata": {
    "id": "ed9d2987-378c-45df-84bf-ee4589ac61d4"
   },
   "source": [
    "## 7. 추론"
   ]
  },
  {
   "cell_type": "markdown",
   "id": "0dee7dae-24d0-4cf3-b641-c3938ceda233",
   "metadata": {
    "id": "0dee7dae-24d0-4cf3-b641-c3938ceda233"
   },
   "source": [
    "### 7.1 테스트 Dataset & Dataloader 설정"
   ]
  },
  {
   "cell_type": "code",
   "execution_count": 18,
   "id": "a67fcd63-de84-41fe-a620-8771d799722b",
   "metadata": {
    "id": "a67fcd63-de84-41fe-a620-8771d799722b"
   },
   "outputs": [],
   "source": [
    "# Load data\n",
    "test_dataset = QADataset(data_dir=os.path.join(DATA_DIR, 'test.json'), tokenizer = tokenizer, max_seq_len = 512, mode = 'test')\n",
    "\n",
    "question_ids = test_dataset.question_ids\n",
    "\n",
    "test_dataloader = DataLoader(dataset=test_dataset,\n",
    "                            batch_size=BATCH_SIZE,\n",
    "                            num_workers=NUM_WORKERS, \n",
    "                            shuffle=False,\n",
    "                            pin_memory=PIN_MEMORY,\n",
    "                            drop_last=DROP_LAST)"
   ]
  },
  {
   "cell_type": "markdown",
   "id": "733f8fc5-d1e8-4027-b8c7-ed87ec409246",
   "metadata": {
    "id": "733f8fc5-d1e8-4027-b8c7-ed87ec409246"
   },
   "source": [
    "### 7.2 모델 로드"
   ]
  },
  {
   "cell_type": "code",
   "execution_count": 19,
   "id": "86cc6eeb-6f7c-4765-9478-83cb9ce62954",
   "metadata": {
    "colab": {
     "base_uri": "https://localhost:8080/"
    },
    "id": "86cc6eeb-6f7c-4765-9478-83cb9ce62954",
    "outputId": "3606c194-6e58-4330-bfdb-9ada28dc551b"
   },
   "outputs": [
    {
     "name": "stderr",
     "output_type": "stream",
     "text": [
      "Some weights of the model checkpoint at monologg/koelectra-base-v3-discriminator were not used when initializing ElectraForQuestionAnswering: ['discriminator_predictions.dense_prediction.weight', 'discriminator_predictions.dense_prediction.bias', 'discriminator_predictions.dense.weight', 'discriminator_predictions.dense.bias']\n",
      "- This IS expected if you are initializing ElectraForQuestionAnswering from the checkpoint of a model trained on another task or with another architecture (e.g. initializing a BertForSequenceClassification model from a BertForPreTraining model).\n",
      "- This IS NOT expected if you are initializing ElectraForQuestionAnswering from the checkpoint of a model that you expect to be exactly identical (initializing a BertForSequenceClassification model from a BertForSequenceClassification model).\n",
      "Some weights of ElectraForQuestionAnswering were not initialized from the model checkpoint at monologg/koelectra-base-v3-discriminator and are newly initialized: ['qa_outputs.bias', 'qa_outputs.weight']\n",
      "You should probably TRAIN this model on a down-stream task to be able to use it for predictions and inference.\n"
     ]
    },
    {
     "data": {
      "text/plain": [
       "<All keys matched successfully>"
      ]
     },
     "execution_count": 19,
     "metadata": {},
     "output_type": "execute_result"
    }
   ],
   "source": [
    "# Load model\n",
    "\n",
    "model = electra(pretrained=\"monologg/koelectra-base-v3-discriminator\").to(device)\n",
    "\n",
    "checkpoint = torch.load(os.path.join(RECORDER_DIR, 'model.pt'))\n",
    "\n",
    "model.load_state_dict(checkpoint['model'])"
   ]
  },
  {
   "cell_type": "markdown",
   "id": "ea6e2ce2-c11a-42b0-baaa-107251e077a3",
   "metadata": {
    "id": "ea6e2ce2-c11a-42b0-baaa-107251e077a3"
   },
   "source": [
    "### 7.3 추론 진행"
   ]
  },
  {
   "cell_type": "code",
   "execution_count": 20,
   "id": "6876e75d-f3ba-4007-a548-062d4b1ce681",
   "metadata": {
    "colab": {
     "base_uri": "https://localhost:8080/"
    },
    "id": "6876e75d-f3ba-4007-a548-062d4b1ce681",
    "outputId": "f96c4d59-fee2-4332-df71-6b60682f234c"
   },
   "outputs": [
    {
     "name": "stderr",
     "output_type": "stream",
     "text": [
      "100%|██████████| 407/407 [00:14<00:00, 27.90it/s]\n"
     ]
    }
   ],
   "source": [
    "model.eval()     # 모델을 eval mode로 전환. train mode와 달리 eval mode에서는 dropout, batchnorm이 적용되지 않는다\n",
    "\n",
    "pred_df = pd.read_csv(os.path.join(DATA_DIR, 'sample_submission.csv'))\n",
    "\n",
    "for batch_index, batch in enumerate(tqdm(test_dataloader, leave=True)):\n",
    "    input_ids = batch['input_ids'].to(device)\n",
    "    attention_mask = batch['attention_mask'].to(device)\n",
    "\n",
    "    # Inference\n",
    "    outputs = model(input_ids, attention_mask=attention_mask)\n",
    "\n",
    "    start_score = outputs.start_logits\n",
    "    end_score = outputs.end_logits\n",
    "\n",
    "    start_idx = torch.argmax(start_score, dim=1).cpu().tolist()\n",
    "    end_idx = torch.argmax(end_score, dim=1).cpu().tolist()\n",
    "\n",
    "    y_pred = []\n",
    "    for i in range(len(input_ids)):\n",
    "        if start_idx[i] > end_idx[i]:\n",
    "            output = ''\n",
    "\n",
    "        ans_txt = tokenizer.decode(input_ids[i][start_idx[i]:end_idx[i]]).replace('#','')\n",
    "\n",
    "        if ans_txt == '[CLS]':\n",
    "            ans_txt == ''\n",
    "\n",
    "        y_pred.append(ans_txt)\n",
    "\n",
    "\n",
    "    q_end_idx = BATCH_SIZE*batch_index + len(y_pred)\n",
    "    for q_id, pred in zip(question_ids[BATCH_SIZE*batch_index:q_end_idx], y_pred):\n",
    "        pred_df.loc[pred_df['question_id'] == q_id,'answer_text'] = pred"
   ]
  },
  {
   "cell_type": "markdown",
   "id": "2860d018-7dda-434f-97ef-cd59a0572c92",
   "metadata": {
    "id": "2860d018-7dda-434f-97ef-cd59a0572c92"
   },
   "source": [
    "### 7.4 결과 저장"
   ]
  },
  {
   "cell_type": "code",
   "execution_count": 21,
   "id": "8f98cd03-5a99-4911-a72e-bc81e49c18be",
   "metadata": {
    "id": "8f98cd03-5a99-4911-a72e-bc81e49c18be"
   },
   "outputs": [],
   "source": [
    "# Set predict serial\n",
    "kst = timezone(timedelta(hours=9))\n",
    "predict_timestamp = datetime.now(tz=kst).strftime(\"%Y%m%d_%H%M%S\")\n",
    "predict_serial = predict_timestamp\n",
    "predict_serial\n",
    "\n",
    "PREDICT_DIR = os.path.join(PROJECT_DIR, 'results', 'predict', predict_serial)\n",
    "os.makedirs(PREDICT_DIR, exist_ok=True)\n",
    "\n",
    "pred_df.to_csv(os.path.join(PREDICT_DIR, f'prediction_lr{LEARNING_RATE}_bs{BATCH_SIZE}_epoch{EPOCHS}_split0.2_koelectra-base.csv'), index=False)"
   ]
  }
 ],
 "metadata": {
  "accelerator": "GPU",
  "colab": {
   "provenance": []
  },
  "gpuClass": "standard",
  "kernelspec": {
   "display_name": "ray",
   "language": "python",
   "name": "python3"
  },
  "language_info": {
   "codemirror_mode": {
    "name": "ipython",
    "version": 3
   },
   "file_extension": ".py",
   "mimetype": "text/x-python",
   "name": "python",
   "nbconvert_exporter": "python",
   "pygments_lexer": "ipython3",
   "version": "3.8.13"
  },
  "vscode": {
   "interpreter": {
    "hash": "175f0a38a62dc0beb1e17a90921ab8d7bbf773d127689593e2caaacc63115b32"
   }
  },
  "widgets": {
   "application/vnd.jupyter.widget-state+json": {
    "05f560853d7c48d582f3b4bae156bccb": {
     "model_module": "@jupyter-widgets/base",
     "model_module_version": "1.2.0",
     "model_name": "LayoutModel",
     "state": {
      "_model_module": "@jupyter-widgets/base",
      "_model_module_version": "1.2.0",
      "_model_name": "LayoutModel",
      "_view_count": null,
      "_view_module": "@jupyter-widgets/base",
      "_view_module_version": "1.2.0",
      "_view_name": "LayoutView",
      "align_content": null,
      "align_items": null,
      "align_self": null,
      "border": null,
      "bottom": null,
      "display": null,
      "flex": null,
      "flex_flow": null,
      "grid_area": null,
      "grid_auto_columns": null,
      "grid_auto_flow": null,
      "grid_auto_rows": null,
      "grid_column": null,
      "grid_gap": null,
      "grid_row": null,
      "grid_template_areas": null,
      "grid_template_columns": null,
      "grid_template_rows": null,
      "height": null,
      "justify_content": null,
      "justify_items": null,
      "left": null,
      "margin": null,
      "max_height": null,
      "max_width": null,
      "min_height": null,
      "min_width": null,
      "object_fit": null,
      "object_position": null,
      "order": null,
      "overflow": null,
      "overflow_x": null,
      "overflow_y": null,
      "padding": null,
      "right": null,
      "top": null,
      "visibility": null,
      "width": null
     }
    },
    "064ae4dc92514ab09f07a981fe76f45b": {
     "model_module": "@jupyter-widgets/controls",
     "model_module_version": "1.5.0",
     "model_name": "HBoxModel",
     "state": {
      "_dom_classes": [],
      "_model_module": "@jupyter-widgets/controls",
      "_model_module_version": "1.5.0",
      "_model_name": "HBoxModel",
      "_view_count": null,
      "_view_module": "@jupyter-widgets/controls",
      "_view_module_version": "1.5.0",
      "_view_name": "HBoxView",
      "box_style": "",
      "children": [
       "IPY_MODEL_eecf1189bae246218bcdb1aea47a2e6b",
       "IPY_MODEL_7fd0cdd8a8d54535a8ff21ed929cd12b",
       "IPY_MODEL_6e6eae06bc204195932fdb7824437208"
      ],
      "layout": "IPY_MODEL_60cb2c5179c8468bb21a882187c18668"
     }
    },
    "07a1b88fc0744160a5f9270e98e3e706": {
     "model_module": "@jupyter-widgets/controls",
     "model_module_version": "1.5.0",
     "model_name": "HBoxModel",
     "state": {
      "_dom_classes": [],
      "_model_module": "@jupyter-widgets/controls",
      "_model_module_version": "1.5.0",
      "_model_name": "HBoxModel",
      "_view_count": null,
      "_view_module": "@jupyter-widgets/controls",
      "_view_module_version": "1.5.0",
      "_view_name": "HBoxView",
      "box_style": "",
      "children": [
       "IPY_MODEL_161332144d924a61a7515383c6edd540",
       "IPY_MODEL_39c14310d60249039a8409bd85b75267",
       "IPY_MODEL_5e97f4acb8b741aea13183627653f128"
      ],
      "layout": "IPY_MODEL_05f560853d7c48d582f3b4bae156bccb"
     }
    },
    "08ee9d6f3dd0443d86dc7823f849fff3": {
     "model_module": "@jupyter-widgets/base",
     "model_module_version": "1.2.0",
     "model_name": "LayoutModel",
     "state": {
      "_model_module": "@jupyter-widgets/base",
      "_model_module_version": "1.2.0",
      "_model_name": "LayoutModel",
      "_view_count": null,
      "_view_module": "@jupyter-widgets/base",
      "_view_module_version": "1.2.0",
      "_view_name": "LayoutView",
      "align_content": null,
      "align_items": null,
      "align_self": null,
      "border": null,
      "bottom": null,
      "display": null,
      "flex": null,
      "flex_flow": null,
      "grid_area": null,
      "grid_auto_columns": null,
      "grid_auto_flow": null,
      "grid_auto_rows": null,
      "grid_column": null,
      "grid_gap": null,
      "grid_row": null,
      "grid_template_areas": null,
      "grid_template_columns": null,
      "grid_template_rows": null,
      "height": null,
      "justify_content": null,
      "justify_items": null,
      "left": null,
      "margin": null,
      "max_height": null,
      "max_width": null,
      "min_height": null,
      "min_width": null,
      "object_fit": null,
      "object_position": null,
      "order": null,
      "overflow": null,
      "overflow_x": null,
      "overflow_y": null,
      "padding": null,
      "right": null,
      "top": null,
      "visibility": null,
      "width": null
     }
    },
    "0a2a083213af400eb6c7e5cd8794718a": {
     "model_module": "@jupyter-widgets/base",
     "model_module_version": "1.2.0",
     "model_name": "LayoutModel",
     "state": {
      "_model_module": "@jupyter-widgets/base",
      "_model_module_version": "1.2.0",
      "_model_name": "LayoutModel",
      "_view_count": null,
      "_view_module": "@jupyter-widgets/base",
      "_view_module_version": "1.2.0",
      "_view_name": "LayoutView",
      "align_content": null,
      "align_items": null,
      "align_self": null,
      "border": null,
      "bottom": null,
      "display": null,
      "flex": null,
      "flex_flow": null,
      "grid_area": null,
      "grid_auto_columns": null,
      "grid_auto_flow": null,
      "grid_auto_rows": null,
      "grid_column": null,
      "grid_gap": null,
      "grid_row": null,
      "grid_template_areas": null,
      "grid_template_columns": null,
      "grid_template_rows": null,
      "height": null,
      "justify_content": null,
      "justify_items": null,
      "left": null,
      "margin": null,
      "max_height": null,
      "max_width": null,
      "min_height": null,
      "min_width": null,
      "object_fit": null,
      "object_position": null,
      "order": null,
      "overflow": null,
      "overflow_x": null,
      "overflow_y": null,
      "padding": null,
      "right": null,
      "top": null,
      "visibility": null,
      "width": null
     }
    },
    "0d9c3cc6bd7f470ab2cdab5fcca03e7e": {
     "model_module": "@jupyter-widgets/base",
     "model_module_version": "1.2.0",
     "model_name": "LayoutModel",
     "state": {
      "_model_module": "@jupyter-widgets/base",
      "_model_module_version": "1.2.0",
      "_model_name": "LayoutModel",
      "_view_count": null,
      "_view_module": "@jupyter-widgets/base",
      "_view_module_version": "1.2.0",
      "_view_name": "LayoutView",
      "align_content": null,
      "align_items": null,
      "align_self": null,
      "border": null,
      "bottom": null,
      "display": null,
      "flex": null,
      "flex_flow": null,
      "grid_area": null,
      "grid_auto_columns": null,
      "grid_auto_flow": null,
      "grid_auto_rows": null,
      "grid_column": null,
      "grid_gap": null,
      "grid_row": null,
      "grid_template_areas": null,
      "grid_template_columns": null,
      "grid_template_rows": null,
      "height": null,
      "justify_content": null,
      "justify_items": null,
      "left": null,
      "margin": null,
      "max_height": null,
      "max_width": null,
      "min_height": null,
      "min_width": null,
      "object_fit": null,
      "object_position": null,
      "order": null,
      "overflow": null,
      "overflow_x": null,
      "overflow_y": null,
      "padding": null,
      "right": null,
      "top": null,
      "visibility": null,
      "width": null
     }
    },
    "134b951ddb8143208e82126dc908c7d5": {
     "model_module": "@jupyter-widgets/base",
     "model_module_version": "1.2.0",
     "model_name": "LayoutModel",
     "state": {
      "_model_module": "@jupyter-widgets/base",
      "_model_module_version": "1.2.0",
      "_model_name": "LayoutModel",
      "_view_count": null,
      "_view_module": "@jupyter-widgets/base",
      "_view_module_version": "1.2.0",
      "_view_name": "LayoutView",
      "align_content": null,
      "align_items": null,
      "align_self": null,
      "border": null,
      "bottom": null,
      "display": null,
      "flex": null,
      "flex_flow": null,
      "grid_area": null,
      "grid_auto_columns": null,
      "grid_auto_flow": null,
      "grid_auto_rows": null,
      "grid_column": null,
      "grid_gap": null,
      "grid_row": null,
      "grid_template_areas": null,
      "grid_template_columns": null,
      "grid_template_rows": null,
      "height": null,
      "justify_content": null,
      "justify_items": null,
      "left": null,
      "margin": null,
      "max_height": null,
      "max_width": null,
      "min_height": null,
      "min_width": null,
      "object_fit": null,
      "object_position": null,
      "order": null,
      "overflow": null,
      "overflow_x": null,
      "overflow_y": null,
      "padding": null,
      "right": null,
      "top": null,
      "visibility": null,
      "width": null
     }
    },
    "14c0d2d437484e00ab22eb95495b29bb": {
     "model_module": "@jupyter-widgets/controls",
     "model_module_version": "1.5.0",
     "model_name": "HBoxModel",
     "state": {
      "_dom_classes": [],
      "_model_module": "@jupyter-widgets/controls",
      "_model_module_version": "1.5.0",
      "_model_name": "HBoxModel",
      "_view_count": null,
      "_view_module": "@jupyter-widgets/controls",
      "_view_module_version": "1.5.0",
      "_view_name": "HBoxView",
      "box_style": "",
      "children": [
       "IPY_MODEL_3f197383619f4572b39c7855a74deb38",
       "IPY_MODEL_34f5e1f1681b468c8bb5b9b58b20ec2c",
       "IPY_MODEL_eeb724142ed54b5c8be68d21c7de2edd"
      ],
      "layout": "IPY_MODEL_134b951ddb8143208e82126dc908c7d5"
     }
    },
    "161332144d924a61a7515383c6edd540": {
     "model_module": "@jupyter-widgets/controls",
     "model_module_version": "1.5.0",
     "model_name": "HTMLModel",
     "state": {
      "_dom_classes": [],
      "_model_module": "@jupyter-widgets/controls",
      "_model_module_version": "1.5.0",
      "_model_name": "HTMLModel",
      "_view_count": null,
      "_view_module": "@jupyter-widgets/controls",
      "_view_module_version": "1.5.0",
      "_view_name": "HTMLView",
      "description": "",
      "description_tooltip": null,
      "layout": "IPY_MODEL_5942d59477e14f03bc8680778ca3d3f2",
      "placeholder": "​",
      "style": "IPY_MODEL_51b8367db8f04f56a2c8e337d3d27bea",
      "value": "Downloading: 100%"
     }
    },
    "1c378f4832a44aceac6fe7222eeedeb1": {
     "model_module": "@jupyter-widgets/base",
     "model_module_version": "1.2.0",
     "model_name": "LayoutModel",
     "state": {
      "_model_module": "@jupyter-widgets/base",
      "_model_module_version": "1.2.0",
      "_model_name": "LayoutModel",
      "_view_count": null,
      "_view_module": "@jupyter-widgets/base",
      "_view_module_version": "1.2.0",
      "_view_name": "LayoutView",
      "align_content": null,
      "align_items": null,
      "align_self": null,
      "border": null,
      "bottom": null,
      "display": null,
      "flex": null,
      "flex_flow": null,
      "grid_area": null,
      "grid_auto_columns": null,
      "grid_auto_flow": null,
      "grid_auto_rows": null,
      "grid_column": null,
      "grid_gap": null,
      "grid_row": null,
      "grid_template_areas": null,
      "grid_template_columns": null,
      "grid_template_rows": null,
      "height": null,
      "justify_content": null,
      "justify_items": null,
      "left": null,
      "margin": null,
      "max_height": null,
      "max_width": null,
      "min_height": null,
      "min_width": null,
      "object_fit": null,
      "object_position": null,
      "order": null,
      "overflow": null,
      "overflow_x": null,
      "overflow_y": null,
      "padding": null,
      "right": null,
      "top": null,
      "visibility": null,
      "width": null
     }
    },
    "214e71dcd63341c0be77304543c059bd": {
     "model_module": "@jupyter-widgets/controls",
     "model_module_version": "1.5.0",
     "model_name": "HBoxModel",
     "state": {
      "_dom_classes": [],
      "_model_module": "@jupyter-widgets/controls",
      "_model_module_version": "1.5.0",
      "_model_name": "HBoxModel",
      "_view_count": null,
      "_view_module": "@jupyter-widgets/controls",
      "_view_module_version": "1.5.0",
      "_view_name": "HBoxView",
      "box_style": "",
      "children": [
       "IPY_MODEL_3968f950c4e14012a785f6d8cbe792bd",
       "IPY_MODEL_977123c1649f41308495329b5619f40d",
       "IPY_MODEL_71f8178d73854fedb409808f76779266"
      ],
      "layout": "IPY_MODEL_1c378f4832a44aceac6fe7222eeedeb1"
     }
    },
    "22ea3a212bd94f5fa940e03b409e847f": {
     "model_module": "@jupyter-widgets/base",
     "model_module_version": "1.2.0",
     "model_name": "LayoutModel",
     "state": {
      "_model_module": "@jupyter-widgets/base",
      "_model_module_version": "1.2.0",
      "_model_name": "LayoutModel",
      "_view_count": null,
      "_view_module": "@jupyter-widgets/base",
      "_view_module_version": "1.2.0",
      "_view_name": "LayoutView",
      "align_content": null,
      "align_items": null,
      "align_self": null,
      "border": null,
      "bottom": null,
      "display": null,
      "flex": null,
      "flex_flow": null,
      "grid_area": null,
      "grid_auto_columns": null,
      "grid_auto_flow": null,
      "grid_auto_rows": null,
      "grid_column": null,
      "grid_gap": null,
      "grid_row": null,
      "grid_template_areas": null,
      "grid_template_columns": null,
      "grid_template_rows": null,
      "height": null,
      "justify_content": null,
      "justify_items": null,
      "left": null,
      "margin": null,
      "max_height": null,
      "max_width": null,
      "min_height": null,
      "min_width": null,
      "object_fit": null,
      "object_position": null,
      "order": null,
      "overflow": null,
      "overflow_x": null,
      "overflow_y": null,
      "padding": null,
      "right": null,
      "top": null,
      "visibility": null,
      "width": null
     }
    },
    "24a2790aebab4f16a005d3d89d0ba51f": {
     "model_module": "@jupyter-widgets/controls",
     "model_module_version": "1.5.0",
     "model_name": "DescriptionStyleModel",
     "state": {
      "_model_module": "@jupyter-widgets/controls",
      "_model_module_version": "1.5.0",
      "_model_name": "DescriptionStyleModel",
      "_view_count": null,
      "_view_module": "@jupyter-widgets/base",
      "_view_module_version": "1.2.0",
      "_view_name": "StyleView",
      "description_width": ""
     }
    },
    "290439a9e1fa4398b942301ff3cf9073": {
     "model_module": "@jupyter-widgets/controls",
     "model_module_version": "1.5.0",
     "model_name": "DescriptionStyleModel",
     "state": {
      "_model_module": "@jupyter-widgets/controls",
      "_model_module_version": "1.5.0",
      "_model_name": "DescriptionStyleModel",
      "_view_count": null,
      "_view_module": "@jupyter-widgets/base",
      "_view_module_version": "1.2.0",
      "_view_name": "StyleView",
      "description_width": ""
     }
    },
    "295deda2cf5b415280f5c63164584c5e": {
     "model_module": "@jupyter-widgets/controls",
     "model_module_version": "1.5.0",
     "model_name": "ProgressStyleModel",
     "state": {
      "_model_module": "@jupyter-widgets/controls",
      "_model_module_version": "1.5.0",
      "_model_name": "ProgressStyleModel",
      "_view_count": null,
      "_view_module": "@jupyter-widgets/base",
      "_view_module_version": "1.2.0",
      "_view_name": "StyleView",
      "bar_color": null,
      "description_width": ""
     }
    },
    "2b471ba391ed4914af31fe7849688dff": {
     "model_module": "@jupyter-widgets/controls",
     "model_module_version": "1.5.0",
     "model_name": "DescriptionStyleModel",
     "state": {
      "_model_module": "@jupyter-widgets/controls",
      "_model_module_version": "1.5.0",
      "_model_name": "DescriptionStyleModel",
      "_view_count": null,
      "_view_module": "@jupyter-widgets/base",
      "_view_module_version": "1.2.0",
      "_view_name": "StyleView",
      "description_width": ""
     }
    },
    "34f5e1f1681b468c8bb5b9b58b20ec2c": {
     "model_module": "@jupyter-widgets/controls",
     "model_module_version": "1.5.0",
     "model_name": "FloatProgressModel",
     "state": {
      "_dom_classes": [],
      "_model_module": "@jupyter-widgets/controls",
      "_model_module_version": "1.5.0",
      "_model_name": "FloatProgressModel",
      "_view_count": null,
      "_view_module": "@jupyter-widgets/controls",
      "_view_module_version": "1.5.0",
      "_view_name": "ProgressView",
      "bar_style": "success",
      "description": "",
      "description_tooltip": null,
      "layout": "IPY_MODEL_8b6378a7f04b4d85b9c4f85dcce505cd",
      "max": 61,
      "min": 0,
      "orientation": "horizontal",
      "style": "IPY_MODEL_9aa9f4996d12404c9b9ec0c34370799c",
      "value": 61
     }
    },
    "39138a27042043d6aff2ab98ebf33e97": {
     "model_module": "@jupyter-widgets/base",
     "model_module_version": "1.2.0",
     "model_name": "LayoutModel",
     "state": {
      "_model_module": "@jupyter-widgets/base",
      "_model_module_version": "1.2.0",
      "_model_name": "LayoutModel",
      "_view_count": null,
      "_view_module": "@jupyter-widgets/base",
      "_view_module_version": "1.2.0",
      "_view_name": "LayoutView",
      "align_content": null,
      "align_items": null,
      "align_self": null,
      "border": null,
      "bottom": null,
      "display": null,
      "flex": null,
      "flex_flow": null,
      "grid_area": null,
      "grid_auto_columns": null,
      "grid_auto_flow": null,
      "grid_auto_rows": null,
      "grid_column": null,
      "grid_gap": null,
      "grid_row": null,
      "grid_template_areas": null,
      "grid_template_columns": null,
      "grid_template_rows": null,
      "height": null,
      "justify_content": null,
      "justify_items": null,
      "left": null,
      "margin": null,
      "max_height": null,
      "max_width": null,
      "min_height": null,
      "min_width": null,
      "object_fit": null,
      "object_position": null,
      "order": null,
      "overflow": null,
      "overflow_x": null,
      "overflow_y": null,
      "padding": null,
      "right": null,
      "top": null,
      "visibility": null,
      "width": null
     }
    },
    "3968f950c4e14012a785f6d8cbe792bd": {
     "model_module": "@jupyter-widgets/controls",
     "model_module_version": "1.5.0",
     "model_name": "HTMLModel",
     "state": {
      "_dom_classes": [],
      "_model_module": "@jupyter-widgets/controls",
      "_model_module_version": "1.5.0",
      "_model_name": "HTMLModel",
      "_view_count": null,
      "_view_module": "@jupyter-widgets/controls",
      "_view_module_version": "1.5.0",
      "_view_name": "HTMLView",
      "description": "",
      "description_tooltip": null,
      "layout": "IPY_MODEL_cb10d11749bc495db5798a5353e28de5",
      "placeholder": "​",
      "style": "IPY_MODEL_24a2790aebab4f16a005d3d89d0ba51f",
      "value": "Downloading: 100%"
     }
    },
    "39c14310d60249039a8409bd85b75267": {
     "model_module": "@jupyter-widgets/controls",
     "model_module_version": "1.5.0",
     "model_name": "FloatProgressModel",
     "state": {
      "_dom_classes": [],
      "_model_module": "@jupyter-widgets/controls",
      "_model_module_version": "1.5.0",
      "_model_name": "FloatProgressModel",
      "_view_count": null,
      "_view_module": "@jupyter-widgets/controls",
      "_view_module_version": "1.5.0",
      "_view_name": "ProgressView",
      "bar_style": "success",
      "description": "",
      "description_tooltip": null,
      "layout": "IPY_MODEL_81543e0c8f6544d3ad21208d03ef08ee",
      "max": 458,
      "min": 0,
      "orientation": "horizontal",
      "style": "IPY_MODEL_8b2803498ada496caddbf97aeaf66290",
      "value": 458
     }
    },
    "3f197383619f4572b39c7855a74deb38": {
     "model_module": "@jupyter-widgets/controls",
     "model_module_version": "1.5.0",
     "model_name": "HTMLModel",
     "state": {
      "_dom_classes": [],
      "_model_module": "@jupyter-widgets/controls",
      "_model_module_version": "1.5.0",
      "_model_name": "HTMLModel",
      "_view_count": null,
      "_view_module": "@jupyter-widgets/controls",
      "_view_module_version": "1.5.0",
      "_view_name": "HTMLView",
      "description": "",
      "description_tooltip": null,
      "layout": "IPY_MODEL_22ea3a212bd94f5fa940e03b409e847f",
      "placeholder": "​",
      "style": "IPY_MODEL_8396802b9d8d4483b4d6895362090a05",
      "value": "Downloading: 100%"
     }
    },
    "4323366ba6bb4bc981d4e53d8a8a1ad9": {
     "model_module": "@jupyter-widgets/controls",
     "model_module_version": "1.5.0",
     "model_name": "DescriptionStyleModel",
     "state": {
      "_model_module": "@jupyter-widgets/controls",
      "_model_module_version": "1.5.0",
      "_model_name": "DescriptionStyleModel",
      "_view_count": null,
      "_view_module": "@jupyter-widgets/base",
      "_view_module_version": "1.2.0",
      "_view_name": "StyleView",
      "description_width": ""
     }
    },
    "51b8367db8f04f56a2c8e337d3d27bea": {
     "model_module": "@jupyter-widgets/controls",
     "model_module_version": "1.5.0",
     "model_name": "DescriptionStyleModel",
     "state": {
      "_model_module": "@jupyter-widgets/controls",
      "_model_module_version": "1.5.0",
      "_model_name": "DescriptionStyleModel",
      "_view_count": null,
      "_view_module": "@jupyter-widgets/base",
      "_view_module_version": "1.2.0",
      "_view_name": "StyleView",
      "description_width": ""
     }
    },
    "53b43632876542999522828e483470ee": {
     "model_module": "@jupyter-widgets/controls",
     "model_module_version": "1.5.0",
     "model_name": "DescriptionStyleModel",
     "state": {
      "_model_module": "@jupyter-widgets/controls",
      "_model_module_version": "1.5.0",
      "_model_name": "DescriptionStyleModel",
      "_view_count": null,
      "_view_module": "@jupyter-widgets/base",
      "_view_module_version": "1.2.0",
      "_view_name": "StyleView",
      "description_width": ""
     }
    },
    "5942d59477e14f03bc8680778ca3d3f2": {
     "model_module": "@jupyter-widgets/base",
     "model_module_version": "1.2.0",
     "model_name": "LayoutModel",
     "state": {
      "_model_module": "@jupyter-widgets/base",
      "_model_module_version": "1.2.0",
      "_model_name": "LayoutModel",
      "_view_count": null,
      "_view_module": "@jupyter-widgets/base",
      "_view_module_version": "1.2.0",
      "_view_name": "LayoutView",
      "align_content": null,
      "align_items": null,
      "align_self": null,
      "border": null,
      "bottom": null,
      "display": null,
      "flex": null,
      "flex_flow": null,
      "grid_area": null,
      "grid_auto_columns": null,
      "grid_auto_flow": null,
      "grid_auto_rows": null,
      "grid_column": null,
      "grid_gap": null,
      "grid_row": null,
      "grid_template_areas": null,
      "grid_template_columns": null,
      "grid_template_rows": null,
      "height": null,
      "justify_content": null,
      "justify_items": null,
      "left": null,
      "margin": null,
      "max_height": null,
      "max_width": null,
      "min_height": null,
      "min_width": null,
      "object_fit": null,
      "object_position": null,
      "order": null,
      "overflow": null,
      "overflow_x": null,
      "overflow_y": null,
      "padding": null,
      "right": null,
      "top": null,
      "visibility": null,
      "width": null
     }
    },
    "5de0df8070be4664b5db0f590e64910b": {
     "model_module": "@jupyter-widgets/base",
     "model_module_version": "1.2.0",
     "model_name": "LayoutModel",
     "state": {
      "_model_module": "@jupyter-widgets/base",
      "_model_module_version": "1.2.0",
      "_model_name": "LayoutModel",
      "_view_count": null,
      "_view_module": "@jupyter-widgets/base",
      "_view_module_version": "1.2.0",
      "_view_name": "LayoutView",
      "align_content": null,
      "align_items": null,
      "align_self": null,
      "border": null,
      "bottom": null,
      "display": null,
      "flex": null,
      "flex_flow": null,
      "grid_area": null,
      "grid_auto_columns": null,
      "grid_auto_flow": null,
      "grid_auto_rows": null,
      "grid_column": null,
      "grid_gap": null,
      "grid_row": null,
      "grid_template_areas": null,
      "grid_template_columns": null,
      "grid_template_rows": null,
      "height": null,
      "justify_content": null,
      "justify_items": null,
      "left": null,
      "margin": null,
      "max_height": null,
      "max_width": null,
      "min_height": null,
      "min_width": null,
      "object_fit": null,
      "object_position": null,
      "order": null,
      "overflow": null,
      "overflow_x": null,
      "overflow_y": null,
      "padding": null,
      "right": null,
      "top": null,
      "visibility": null,
      "width": null
     }
    },
    "5e97f4acb8b741aea13183627653f128": {
     "model_module": "@jupyter-widgets/controls",
     "model_module_version": "1.5.0",
     "model_name": "HTMLModel",
     "state": {
      "_dom_classes": [],
      "_model_module": "@jupyter-widgets/controls",
      "_model_module_version": "1.5.0",
      "_model_name": "HTMLModel",
      "_view_count": null,
      "_view_module": "@jupyter-widgets/controls",
      "_view_module_version": "1.5.0",
      "_view_name": "HTMLView",
      "description": "",
      "description_tooltip": null,
      "layout": "IPY_MODEL_0d9c3cc6bd7f470ab2cdab5fcca03e7e",
      "placeholder": "​",
      "style": "IPY_MODEL_f70eadc13bb84b3481e841171d9a67cd",
      "value": " 458/458 [00:00&lt;00:00, 7.36kB/s]"
     }
    },
    "60cb2c5179c8468bb21a882187c18668": {
     "model_module": "@jupyter-widgets/base",
     "model_module_version": "1.2.0",
     "model_name": "LayoutModel",
     "state": {
      "_model_module": "@jupyter-widgets/base",
      "_model_module_version": "1.2.0",
      "_model_name": "LayoutModel",
      "_view_count": null,
      "_view_module": "@jupyter-widgets/base",
      "_view_module_version": "1.2.0",
      "_view_name": "LayoutView",
      "align_content": null,
      "align_items": null,
      "align_self": null,
      "border": null,
      "bottom": null,
      "display": null,
      "flex": null,
      "flex_flow": null,
      "grid_area": null,
      "grid_auto_columns": null,
      "grid_auto_flow": null,
      "grid_auto_rows": null,
      "grid_column": null,
      "grid_gap": null,
      "grid_row": null,
      "grid_template_areas": null,
      "grid_template_columns": null,
      "grid_template_rows": null,
      "height": null,
      "justify_content": null,
      "justify_items": null,
      "left": null,
      "margin": null,
      "max_height": null,
      "max_width": null,
      "min_height": null,
      "min_width": null,
      "object_fit": null,
      "object_position": null,
      "order": null,
      "overflow": null,
      "overflow_x": null,
      "overflow_y": null,
      "padding": null,
      "right": null,
      "top": null,
      "visibility": null,
      "width": null
     }
    },
    "6e6eae06bc204195932fdb7824437208": {
     "model_module": "@jupyter-widgets/controls",
     "model_module_version": "1.5.0",
     "model_name": "HTMLModel",
     "state": {
      "_dom_classes": [],
      "_model_module": "@jupyter-widgets/controls",
      "_model_module_version": "1.5.0",
      "_model_name": "HTMLModel",
      "_view_count": null,
      "_view_module": "@jupyter-widgets/controls",
      "_view_module_version": "1.5.0",
      "_view_name": "HTMLView",
      "description": "",
      "description_tooltip": null,
      "layout": "IPY_MODEL_0a2a083213af400eb6c7e5cd8794718a",
      "placeholder": "​",
      "style": "IPY_MODEL_4323366ba6bb4bc981d4e53d8a8a1ad9",
      "value": " 56.6M/56.6M [00:01&lt;00:00, 42.1MB/s]"
     }
    },
    "71f8178d73854fedb409808f76779266": {
     "model_module": "@jupyter-widgets/controls",
     "model_module_version": "1.5.0",
     "model_name": "HTMLModel",
     "state": {
      "_dom_classes": [],
      "_model_module": "@jupyter-widgets/controls",
      "_model_module_version": "1.5.0",
      "_model_name": "HTMLModel",
      "_view_count": null,
      "_view_module": "@jupyter-widgets/controls",
      "_view_module_version": "1.5.0",
      "_view_name": "HTMLView",
      "description": "",
      "description_tooltip": null,
      "layout": "IPY_MODEL_85bdf45301a241ac9a891762f1b9287d",
      "placeholder": "​",
      "style": "IPY_MODEL_2b471ba391ed4914af31fe7849688dff",
      "value": " 263k/263k [00:00&lt;00:00, 288kB/s]"
     }
    },
    "7fd0cdd8a8d54535a8ff21ed929cd12b": {
     "model_module": "@jupyter-widgets/controls",
     "model_module_version": "1.5.0",
     "model_name": "FloatProgressModel",
     "state": {
      "_dom_classes": [],
      "_model_module": "@jupyter-widgets/controls",
      "_model_module_version": "1.5.0",
      "_model_name": "FloatProgressModel",
      "_view_count": null,
      "_view_module": "@jupyter-widgets/controls",
      "_view_module_version": "1.5.0",
      "_view_name": "ProgressView",
      "bar_style": "success",
      "description": "",
      "description_tooltip": null,
      "layout": "IPY_MODEL_d20ab71215bd490a9195b88672b34d73",
      "max": 56577499,
      "min": 0,
      "orientation": "horizontal",
      "style": "IPY_MODEL_c31b0268d040473580028b48ca5d3ca1",
      "value": 56577499
     }
    },
    "81543e0c8f6544d3ad21208d03ef08ee": {
     "model_module": "@jupyter-widgets/base",
     "model_module_version": "1.2.0",
     "model_name": "LayoutModel",
     "state": {
      "_model_module": "@jupyter-widgets/base",
      "_model_module_version": "1.2.0",
      "_model_name": "LayoutModel",
      "_view_count": null,
      "_view_module": "@jupyter-widgets/base",
      "_view_module_version": "1.2.0",
      "_view_name": "LayoutView",
      "align_content": null,
      "align_items": null,
      "align_self": null,
      "border": null,
      "bottom": null,
      "display": null,
      "flex": null,
      "flex_flow": null,
      "grid_area": null,
      "grid_auto_columns": null,
      "grid_auto_flow": null,
      "grid_auto_rows": null,
      "grid_column": null,
      "grid_gap": null,
      "grid_row": null,
      "grid_template_areas": null,
      "grid_template_columns": null,
      "grid_template_rows": null,
      "height": null,
      "justify_content": null,
      "justify_items": null,
      "left": null,
      "margin": null,
      "max_height": null,
      "max_width": null,
      "min_height": null,
      "min_width": null,
      "object_fit": null,
      "object_position": null,
      "order": null,
      "overflow": null,
      "overflow_x": null,
      "overflow_y": null,
      "padding": null,
      "right": null,
      "top": null,
      "visibility": null,
      "width": null
     }
    },
    "8396802b9d8d4483b4d6895362090a05": {
     "model_module": "@jupyter-widgets/controls",
     "model_module_version": "1.5.0",
     "model_name": "DescriptionStyleModel",
     "state": {
      "_model_module": "@jupyter-widgets/controls",
      "_model_module_version": "1.5.0",
      "_model_name": "DescriptionStyleModel",
      "_view_count": null,
      "_view_module": "@jupyter-widgets/base",
      "_view_module_version": "1.2.0",
      "_view_name": "StyleView",
      "description_width": ""
     }
    },
    "85bdf45301a241ac9a891762f1b9287d": {
     "model_module": "@jupyter-widgets/base",
     "model_module_version": "1.2.0",
     "model_name": "LayoutModel",
     "state": {
      "_model_module": "@jupyter-widgets/base",
      "_model_module_version": "1.2.0",
      "_model_name": "LayoutModel",
      "_view_count": null,
      "_view_module": "@jupyter-widgets/base",
      "_view_module_version": "1.2.0",
      "_view_name": "LayoutView",
      "align_content": null,
      "align_items": null,
      "align_self": null,
      "border": null,
      "bottom": null,
      "display": null,
      "flex": null,
      "flex_flow": null,
      "grid_area": null,
      "grid_auto_columns": null,
      "grid_auto_flow": null,
      "grid_auto_rows": null,
      "grid_column": null,
      "grid_gap": null,
      "grid_row": null,
      "grid_template_areas": null,
      "grid_template_columns": null,
      "grid_template_rows": null,
      "height": null,
      "justify_content": null,
      "justify_items": null,
      "left": null,
      "margin": null,
      "max_height": null,
      "max_width": null,
      "min_height": null,
      "min_width": null,
      "object_fit": null,
      "object_position": null,
      "order": null,
      "overflow": null,
      "overflow_x": null,
      "overflow_y": null,
      "padding": null,
      "right": null,
      "top": null,
      "visibility": null,
      "width": null
     }
    },
    "8b2803498ada496caddbf97aeaf66290": {
     "model_module": "@jupyter-widgets/controls",
     "model_module_version": "1.5.0",
     "model_name": "ProgressStyleModel",
     "state": {
      "_model_module": "@jupyter-widgets/controls",
      "_model_module_version": "1.5.0",
      "_model_name": "ProgressStyleModel",
      "_view_count": null,
      "_view_module": "@jupyter-widgets/base",
      "_view_module_version": "1.2.0",
      "_view_name": "StyleView",
      "bar_color": null,
      "description_width": ""
     }
    },
    "8b6378a7f04b4d85b9c4f85dcce505cd": {
     "model_module": "@jupyter-widgets/base",
     "model_module_version": "1.2.0",
     "model_name": "LayoutModel",
     "state": {
      "_model_module": "@jupyter-widgets/base",
      "_model_module_version": "1.2.0",
      "_model_name": "LayoutModel",
      "_view_count": null,
      "_view_module": "@jupyter-widgets/base",
      "_view_module_version": "1.2.0",
      "_view_name": "LayoutView",
      "align_content": null,
      "align_items": null,
      "align_self": null,
      "border": null,
      "bottom": null,
      "display": null,
      "flex": null,
      "flex_flow": null,
      "grid_area": null,
      "grid_auto_columns": null,
      "grid_auto_flow": null,
      "grid_auto_rows": null,
      "grid_column": null,
      "grid_gap": null,
      "grid_row": null,
      "grid_template_areas": null,
      "grid_template_columns": null,
      "grid_template_rows": null,
      "height": null,
      "justify_content": null,
      "justify_items": null,
      "left": null,
      "margin": null,
      "max_height": null,
      "max_width": null,
      "min_height": null,
      "min_width": null,
      "object_fit": null,
      "object_position": null,
      "order": null,
      "overflow": null,
      "overflow_x": null,
      "overflow_y": null,
      "padding": null,
      "right": null,
      "top": null,
      "visibility": null,
      "width": null
     }
    },
    "977123c1649f41308495329b5619f40d": {
     "model_module": "@jupyter-widgets/controls",
     "model_module_version": "1.5.0",
     "model_name": "FloatProgressModel",
     "state": {
      "_dom_classes": [],
      "_model_module": "@jupyter-widgets/controls",
      "_model_module_version": "1.5.0",
      "_model_name": "FloatProgressModel",
      "_view_count": null,
      "_view_module": "@jupyter-widgets/controls",
      "_view_module_version": "1.5.0",
      "_view_name": "ProgressView",
      "bar_style": "success",
      "description": "",
      "description_tooltip": null,
      "layout": "IPY_MODEL_5de0df8070be4664b5db0f590e64910b",
      "max": 263326,
      "min": 0,
      "orientation": "horizontal",
      "style": "IPY_MODEL_295deda2cf5b415280f5c63164584c5e",
      "value": 263326
     }
    },
    "9aa9f4996d12404c9b9ec0c34370799c": {
     "model_module": "@jupyter-widgets/controls",
     "model_module_version": "1.5.0",
     "model_name": "ProgressStyleModel",
     "state": {
      "_model_module": "@jupyter-widgets/controls",
      "_model_module_version": "1.5.0",
      "_model_name": "ProgressStyleModel",
      "_view_count": null,
      "_view_module": "@jupyter-widgets/base",
      "_view_module_version": "1.2.0",
      "_view_name": "StyleView",
      "bar_color": null,
      "description_width": ""
     }
    },
    "c31b0268d040473580028b48ca5d3ca1": {
     "model_module": "@jupyter-widgets/controls",
     "model_module_version": "1.5.0",
     "model_name": "ProgressStyleModel",
     "state": {
      "_model_module": "@jupyter-widgets/controls",
      "_model_module_version": "1.5.0",
      "_model_name": "ProgressStyleModel",
      "_view_count": null,
      "_view_module": "@jupyter-widgets/base",
      "_view_module_version": "1.2.0",
      "_view_name": "StyleView",
      "bar_color": null,
      "description_width": ""
     }
    },
    "cb10d11749bc495db5798a5353e28de5": {
     "model_module": "@jupyter-widgets/base",
     "model_module_version": "1.2.0",
     "model_name": "LayoutModel",
     "state": {
      "_model_module": "@jupyter-widgets/base",
      "_model_module_version": "1.2.0",
      "_model_name": "LayoutModel",
      "_view_count": null,
      "_view_module": "@jupyter-widgets/base",
      "_view_module_version": "1.2.0",
      "_view_name": "LayoutView",
      "align_content": null,
      "align_items": null,
      "align_self": null,
      "border": null,
      "bottom": null,
      "display": null,
      "flex": null,
      "flex_flow": null,
      "grid_area": null,
      "grid_auto_columns": null,
      "grid_auto_flow": null,
      "grid_auto_rows": null,
      "grid_column": null,
      "grid_gap": null,
      "grid_row": null,
      "grid_template_areas": null,
      "grid_template_columns": null,
      "grid_template_rows": null,
      "height": null,
      "justify_content": null,
      "justify_items": null,
      "left": null,
      "margin": null,
      "max_height": null,
      "max_width": null,
      "min_height": null,
      "min_width": null,
      "object_fit": null,
      "object_position": null,
      "order": null,
      "overflow": null,
      "overflow_x": null,
      "overflow_y": null,
      "padding": null,
      "right": null,
      "top": null,
      "visibility": null,
      "width": null
     }
    },
    "d20ab71215bd490a9195b88672b34d73": {
     "model_module": "@jupyter-widgets/base",
     "model_module_version": "1.2.0",
     "model_name": "LayoutModel",
     "state": {
      "_model_module": "@jupyter-widgets/base",
      "_model_module_version": "1.2.0",
      "_model_name": "LayoutModel",
      "_view_count": null,
      "_view_module": "@jupyter-widgets/base",
      "_view_module_version": "1.2.0",
      "_view_name": "LayoutView",
      "align_content": null,
      "align_items": null,
      "align_self": null,
      "border": null,
      "bottom": null,
      "display": null,
      "flex": null,
      "flex_flow": null,
      "grid_area": null,
      "grid_auto_columns": null,
      "grid_auto_flow": null,
      "grid_auto_rows": null,
      "grid_column": null,
      "grid_gap": null,
      "grid_row": null,
      "grid_template_areas": null,
      "grid_template_columns": null,
      "grid_template_rows": null,
      "height": null,
      "justify_content": null,
      "justify_items": null,
      "left": null,
      "margin": null,
      "max_height": null,
      "max_width": null,
      "min_height": null,
      "min_width": null,
      "object_fit": null,
      "object_position": null,
      "order": null,
      "overflow": null,
      "overflow_x": null,
      "overflow_y": null,
      "padding": null,
      "right": null,
      "top": null,
      "visibility": null,
      "width": null
     }
    },
    "eeb724142ed54b5c8be68d21c7de2edd": {
     "model_module": "@jupyter-widgets/controls",
     "model_module_version": "1.5.0",
     "model_name": "HTMLModel",
     "state": {
      "_dom_classes": [],
      "_model_module": "@jupyter-widgets/controls",
      "_model_module_version": "1.5.0",
      "_model_name": "HTMLModel",
      "_view_count": null,
      "_view_module": "@jupyter-widgets/controls",
      "_view_module_version": "1.5.0",
      "_view_name": "HTMLView",
      "description": "",
      "description_tooltip": null,
      "layout": "IPY_MODEL_39138a27042043d6aff2ab98ebf33e97",
      "placeholder": "​",
      "style": "IPY_MODEL_53b43632876542999522828e483470ee",
      "value": " 61.0/61.0 [00:00&lt;00:00, 515B/s]"
     }
    },
    "eecf1189bae246218bcdb1aea47a2e6b": {
     "model_module": "@jupyter-widgets/controls",
     "model_module_version": "1.5.0",
     "model_name": "HTMLModel",
     "state": {
      "_dom_classes": [],
      "_model_module": "@jupyter-widgets/controls",
      "_model_module_version": "1.5.0",
      "_model_name": "HTMLModel",
      "_view_count": null,
      "_view_module": "@jupyter-widgets/controls",
      "_view_module_version": "1.5.0",
      "_view_name": "HTMLView",
      "description": "",
      "description_tooltip": null,
      "layout": "IPY_MODEL_08ee9d6f3dd0443d86dc7823f849fff3",
      "placeholder": "​",
      "style": "IPY_MODEL_290439a9e1fa4398b942301ff3cf9073",
      "value": "Downloading: 100%"
     }
    },
    "f70eadc13bb84b3481e841171d9a67cd": {
     "model_module": "@jupyter-widgets/controls",
     "model_module_version": "1.5.0",
     "model_name": "DescriptionStyleModel",
     "state": {
      "_model_module": "@jupyter-widgets/controls",
      "_model_module_version": "1.5.0",
      "_model_name": "DescriptionStyleModel",
      "_view_count": null,
      "_view_module": "@jupyter-widgets/base",
      "_view_module_version": "1.2.0",
      "_view_name": "StyleView",
      "description_width": ""
     }
    }
   }
  }
 },
 "nbformat": 4,
 "nbformat_minor": 5
}
